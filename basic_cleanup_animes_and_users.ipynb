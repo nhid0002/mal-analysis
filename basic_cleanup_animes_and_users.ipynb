{
 "cells": [
  {
   "cell_type": "code",
   "execution_count": 188,
   "metadata": {
    "pycharm": {
     "is_executing": false
    }
   },
   "outputs": [],
   "source": [
    "import pandas as pd\n",
    "import numpy as np\n",
    "import matplotlib as mpl\n",
    "import matplotlib.pyplot as plt\n",
    "import seaborn as sns\n",
    "import re\n",
    "import ast\n",
    "from cleaning import *"
   ]
  },
  {
   "cell_type": "code",
   "execution_count": 102,
   "metadata": {
    "pycharm": {
     "is_executing": false
    }
   },
   "outputs": [
    {
     "data": {
      "text/plain": "<IPython.core.display.HTML object>",
      "text/html": "<style>.container { width:70% !important; }</style>"
     },
     "metadata": {},
     "output_type": "display_data"
    }
   ],
   "source": [
    "# use this to keep the cells wider, very nice on wide screens, set the percentage as you like it\n",
    "from IPython.core.display import display, HTML\n",
    "display(HTML(\"<style>.container { width:70% !important; }</style>\"))"
   ]
  },
  {
   "cell_type": "code",
   "execution_count": 189,
   "metadata": {
    "pycharm": {
     "is_executing": false
    }
   },
   "outputs": [
    {
     "name": "stdout",
     "text": [
      "The autoreload extension is already loaded. To reload it, use:\n  %reload_ext autoreload\n"
     ],
     "output_type": "stream"
    }
   ],
   "source": [
    "%load_ext autoreload\n",
    "\n",
    "%autoreload 2"
   ]
  },
  {
   "cell_type": "code",
   "execution_count": 104,
   "metadata": {
    "pycharm": {
     "is_executing": false
    }
   },
   "outputs": [],
   "source": [
    "from pandas.io.common import _NA_VALUES\n",
    "na_values = _NA_VALUES - {'NULL', 'null', 'nan', 'NaN'}\n",
    "\n",
    "animes = pd.read_csv('anime_filtered.csv')\n",
    "users = pd.read_csv('users_filtered.csv', na_values=na_values, keep_default_na=False)"
   ]
  },
  {
   "cell_type": "code",
   "execution_count": 105,
   "metadata": {
    "pycharm": {
     "is_executing": false
    }
   },
   "outputs": [],
   "source": [
    "plt.rcParams.update(mpl.rcParamsDefault)  # for recovering from xkcd\n",
    "\n",
    "# taken from https://github.com/ctokheim/matplotlibrc\n",
    "#plt.style.use('seaborn')\n",
    "plt.style.use('seaborn-talk')\n",
    "#plt.style.use('ggplot')\n",
    "#plt.xkcd()\n",
    "\n",
    "conf = {\n",
    "    'font.size': 14.0,\n",
    "    'axes.grid': True,\n",
    "    'axes.axisbelow': True,\n",
    "    'axes.edgecolor': 'black',\n",
    "#    'axes.facecolor': '#E5E5EF',\n",
    "#    'axes.facecolor': '#E0E0EF',\n",
    "    'axes.labelcolor': 'black',\n",
    "    'axes.titlesize': 15.6,\n",
    "    'axes.labelsize': 'large',    \n",
    "    'figure.figsize': (12, 7),\n",
    "    'figure.titlesize': 'x-large',\n",
    "    'grid.linewidth': 1.3,\n",
    "    'xtick.labelsize': 'large',\n",
    "    'ytick.labelsize': 'large',\n",
    "    'xtick.color': 'black',\n",
    "    'ytick.color': 'black',\n",
    "    'legend.fontsize': 'large',\n",
    "}\n",
    "\n",
    "plt.rcParams.update(conf)\n"
   ]
  },
  {
   "cell_type": "code",
   "execution_count": 106,
   "metadata": {
    "pycharm": {
     "is_executing": false
    },
    "scrolled": true
   },
   "outputs": [
    {
     "name": "stderr",
     "text": [
      "C:\\ProgramData\\Anaconda3\\lib\\site-packages\\matplotlib\\__init__.py:886: MatplotlibDeprecationWarning: \nexamples.directory is deprecated; in the future, examples will be found relative to the 'datapath' directory.\n  \"found relative to the 'datapath' directory.\".format(key))\n"
     ],
     "output_type": "stream"
    },
    {
     "data": {
      "text/plain": "RcParams({'_internal.classic_mode': False,\n          'agg.path.chunksize': 0,\n          'animation.avconv_args': [],\n          'animation.avconv_path': 'avconv',\n          'animation.bitrate': -1,\n          'animation.codec': 'h264',\n          'animation.convert_args': [],\n          'animation.convert_path': 'convert',\n          'animation.embed_limit': 20.0,\n          'animation.ffmpeg_args': [],\n          'animation.ffmpeg_path': 'ffmpeg',\n          'animation.frame_format': 'png',\n          'animation.html': 'none',\n          'animation.html_args': [],\n          'animation.writer': 'ffmpeg',\n          'axes.autolimit_mode': 'data',\n          'axes.axisbelow': True,\n          'axes.edgecolor': 'black',\n          'axes.facecolor': 'white',\n          'axes.formatter.limits': [-7, 7],\n          'axes.formatter.min_exponent': 0,\n          'axes.formatter.offset_threshold': 4,\n          'axes.formatter.use_locale': False,\n          'axes.formatter.use_mathtext': False,\n          'axes.formatter.useoffset': True,\n          'axes.grid': True,\n          'axes.grid.axis': 'both',\n          'axes.grid.which': 'major',\n          'axes.labelcolor': 'black',\n          'axes.labelpad': 4.0,\n          'axes.labelsize': 'large',\n          'axes.labelweight': 'normal',\n          'axes.linewidth': 0.8,\n          'axes.prop_cycle': cycler('color', ['#1f77b4', '#ff7f0e', '#2ca02c', '#d62728', '#9467bd', '#8c564b', '#e377c2', '#7f7f7f', '#bcbd22', '#17becf']),\n          'axes.spines.bottom': True,\n          'axes.spines.left': True,\n          'axes.spines.right': True,\n          'axes.spines.top': True,\n          'axes.titlepad': 6.0,\n          'axes.titlesize': 15.6,\n          'axes.titleweight': 'normal',\n          'axes.unicode_minus': True,\n          'axes.xmargin': 0.05,\n          'axes.ymargin': 0.05,\n          'axes3d.grid': True,\n          'backend': 'module://ipykernel.pylab.backend_inline',\n          'backend.qt4': None,\n          'backend.qt5': None,\n          'backend_fallback': True,\n          'boxplot.bootstrap': None,\n          'boxplot.boxprops.color': 'black',\n          'boxplot.boxprops.linestyle': '-',\n          'boxplot.boxprops.linewidth': 1.0,\n          'boxplot.capprops.color': 'black',\n          'boxplot.capprops.linestyle': '-',\n          'boxplot.capprops.linewidth': 1.0,\n          'boxplot.flierprops.color': 'black',\n          'boxplot.flierprops.linestyle': 'none',\n          'boxplot.flierprops.linewidth': 1.0,\n          'boxplot.flierprops.marker': 'o',\n          'boxplot.flierprops.markeredgecolor': 'black',\n          'boxplot.flierprops.markerfacecolor': 'none',\n          'boxplot.flierprops.markersize': 6.0,\n          'boxplot.meanline': False,\n          'boxplot.meanprops.color': 'C2',\n          'boxplot.meanprops.linestyle': '--',\n          'boxplot.meanprops.linewidth': 1.0,\n          'boxplot.meanprops.marker': '^',\n          'boxplot.meanprops.markeredgecolor': 'C2',\n          'boxplot.meanprops.markerfacecolor': 'C2',\n          'boxplot.meanprops.markersize': 6.0,\n          'boxplot.medianprops.color': 'C1',\n          'boxplot.medianprops.linestyle': '-',\n          'boxplot.medianprops.linewidth': 1.0,\n          'boxplot.notch': False,\n          'boxplot.patchartist': False,\n          'boxplot.showbox': True,\n          'boxplot.showcaps': True,\n          'boxplot.showfliers': True,\n          'boxplot.showmeans': False,\n          'boxplot.vertical': True,\n          'boxplot.whiskerprops.color': 'black',\n          'boxplot.whiskerprops.linestyle': '-',\n          'boxplot.whiskerprops.linewidth': 1.0,\n          'boxplot.whiskers': 1.5,\n          'contour.corner_mask': True,\n          'contour.negative_linestyle': 'dashed',\n          'datapath': 'C:\\\\ProgramData\\\\Anaconda3\\\\lib\\\\site-packages\\\\matplotlib\\\\mpl-data',\n          'date.autoformatter.day': '%Y-%m-%d',\n          'date.autoformatter.hour': '%m-%d %H',\n          'date.autoformatter.microsecond': '%M:%S.%f',\n          'date.autoformatter.minute': '%d %H:%M',\n          'date.autoformatter.month': '%Y-%m',\n          'date.autoformatter.second': '%H:%M:%S',\n          'date.autoformatter.year': '%Y',\n          'docstring.hardcopy': False,\n          'errorbar.capsize': 0.0,\n          'examples.directory': '',\n          'figure.autolayout': False,\n          'figure.constrained_layout.h_pad': 0.04167,\n          'figure.constrained_layout.hspace': 0.02,\n          'figure.constrained_layout.use': False,\n          'figure.constrained_layout.w_pad': 0.04167,\n          'figure.constrained_layout.wspace': 0.02,\n          'figure.dpi': 100.0,\n          'figure.edgecolor': 'white',\n          'figure.facecolor': 'white',\n          'figure.figsize': [12.0, 7.0],\n          'figure.frameon': True,\n          'figure.max_open_warning': 20,\n          'figure.subplot.bottom': 0.11,\n          'figure.subplot.hspace': 0.2,\n          'figure.subplot.left': 0.125,\n          'figure.subplot.right': 0.9,\n          'figure.subplot.top': 0.88,\n          'figure.subplot.wspace': 0.2,\n          'figure.titlesize': 'x-large',\n          'figure.titleweight': 'normal',\n          'font.cursive': ['Apple Chancery',\n                           'Textile',\n                           'Zapf Chancery',\n                           'Sand',\n                           'Script MT',\n                           'Felipa',\n                           'cursive'],\n          'font.family': ['sans-serif'],\n          'font.fantasy': ['Comic Sans MS',\n                           'Chicago',\n                           'Charcoal',\n                           'Impact',\n                           'Western',\n                           'Humor Sans',\n                           'xkcd',\n                           'fantasy'],\n          'font.monospace': ['DejaVu Sans Mono',\n                             'Bitstream Vera Sans Mono',\n                             'Computer Modern Typewriter',\n                             'Andale Mono',\n                             'Nimbus Mono L',\n                             'Courier New',\n                             'Courier',\n                             'Fixed',\n                             'Terminal',\n                             'monospace'],\n          'font.sans-serif': ['DejaVu Sans',\n                              'Bitstream Vera Sans',\n                              'Computer Modern Sans Serif',\n                              'Lucida Grande',\n                              'Verdana',\n                              'Geneva',\n                              'Lucid',\n                              'Arial',\n                              'Helvetica',\n                              'Avant Garde',\n                              'sans-serif'],\n          'font.serif': ['DejaVu Serif',\n                         'Bitstream Vera Serif',\n                         'Computer Modern Roman',\n                         'New Century Schoolbook',\n                         'Century Schoolbook L',\n                         'Utopia',\n                         'ITC Bookman',\n                         'Bookman',\n                         'Nimbus Roman No9 L',\n                         'Times New Roman',\n                         'Times',\n                         'Palatino',\n                         'Charter',\n                         'serif'],\n          'font.size': 14.0,\n          'font.stretch': 'normal',\n          'font.style': 'normal',\n          'font.variant': 'normal',\n          'font.weight': 'normal',\n          'grid.alpha': 1.0,\n          'grid.color': '#b0b0b0',\n          'grid.linestyle': '-',\n          'grid.linewidth': 1.3,\n          'hatch.color': 'black',\n          'hatch.linewidth': 1.0,\n          'hist.bins': 10,\n          'image.aspect': 'equal',\n          'image.cmap': 'viridis',\n          'image.composite_image': True,\n          'image.interpolation': 'nearest',\n          'image.lut': 256,\n          'image.origin': 'upper',\n          'image.resample': True,\n          'interactive': False,\n          'keymap.all_axes': ['a'],\n          'keymap.back': ['left', 'c', 'backspace'],\n          'keymap.copy': ['ctrl+c', 'cmd+c'],\n          'keymap.forward': ['right', 'v'],\n          'keymap.fullscreen': ['f', 'ctrl+f'],\n          'keymap.grid': ['g'],\n          'keymap.grid_minor': ['G'],\n          'keymap.help': ['f1'],\n          'keymap.home': ['h', 'r', 'home'],\n          'keymap.pan': ['p'],\n          'keymap.quit': ['ctrl+w', 'cmd+w', 'q'],\n          'keymap.quit_all': ['W', 'cmd+W', 'Q'],\n          'keymap.save': ['s', 'ctrl+s'],\n          'keymap.xscale': ['k', 'L'],\n          'keymap.yscale': ['l'],\n          'keymap.zoom': ['o'],\n          'legend.borderaxespad': 0.5,\n          'legend.borderpad': 0.4,\n          'legend.columnspacing': 2.0,\n          'legend.edgecolor': '0.8',\n          'legend.facecolor': 'inherit',\n          'legend.fancybox': True,\n          'legend.fontsize': 'large',\n          'legend.framealpha': 0.8,\n          'legend.frameon': True,\n          'legend.handleheight': 0.7,\n          'legend.handlelength': 2.0,\n          'legend.handletextpad': 0.8,\n          'legend.labelspacing': 0.5,\n          'legend.loc': 'best',\n          'legend.markerscale': 1.0,\n          'legend.numpoints': 1,\n          'legend.scatterpoints': 1,\n          'legend.shadow': False,\n          'legend.title_fontsize': None,\n          'lines.antialiased': True,\n          'lines.color': 'C0',\n          'lines.dash_capstyle': 'butt',\n          'lines.dash_joinstyle': 'round',\n          'lines.dashdot_pattern': [6.4, 1.6, 1.0, 1.6],\n          'lines.dashed_pattern': [3.7, 1.6],\n          'lines.dotted_pattern': [1.0, 1.65],\n          'lines.linestyle': '-',\n          'lines.linewidth': 2.275,\n          'lines.marker': 'None',\n          'lines.markeredgecolor': 'auto',\n          'lines.markeredgewidth': 0.0,\n          'lines.markerfacecolor': 'auto',\n          'lines.markersize': 9.1,\n          'lines.scale_dashes': True,\n          'lines.solid_capstyle': 'projecting',\n          'lines.solid_joinstyle': 'round',\n          'markers.fillstyle': 'full',\n          'mathtext.bf': 'sans:bold',\n          'mathtext.cal': 'cursive',\n          'mathtext.default': 'it',\n          'mathtext.fallback_to_cm': True,\n          'mathtext.fontset': 'dejavusans',\n          'mathtext.it': 'sans:italic',\n          'mathtext.rm': 'sans',\n          'mathtext.sf': 'sans',\n          'mathtext.tt': 'monospace',\n          'patch.antialiased': True,\n          'patch.edgecolor': 'black',\n          'patch.facecolor': 'C0',\n          'patch.force_edgecolor': False,\n          'patch.linewidth': 0.39,\n          'path.effects': [],\n          'path.simplify': True,\n          'path.simplify_threshold': 0.1111111111111111,\n          'path.sketch': None,\n          'path.snap': True,\n          'pdf.compression': 6,\n          'pdf.fonttype': 3,\n          'pdf.inheritcolor': False,\n          'pdf.use14corefonts': False,\n          'pgf.preamble': [],\n          'pgf.rcfonts': True,\n          'pgf.texsystem': 'xelatex',\n          'polaraxes.grid': True,\n          'ps.distiller.res': 6000,\n          'ps.fonttype': 3,\n          'ps.papersize': 'letter',\n          'ps.useafm': False,\n          'ps.usedistiller': False,\n          'savefig.bbox': None,\n          'savefig.directory': '~',\n          'savefig.dpi': 'figure',\n          'savefig.edgecolor': 'white',\n          'savefig.facecolor': 'white',\n          'savefig.format': 'png',\n          'savefig.frameon': True,\n          'savefig.jpeg_quality': 95,\n          'savefig.orientation': 'portrait',\n          'savefig.pad_inches': 0.1,\n          'savefig.transparent': False,\n          'scatter.marker': 'o',\n          'svg.fonttype': 'path',\n          'svg.hashsalt': None,\n          'svg.image_inline': True,\n          'text.antialiased': True,\n          'text.color': 'black',\n          'text.hinting': 'auto',\n          'text.hinting_factor': 8,\n          'text.latex.preamble': [],\n          'text.latex.preview': False,\n          'text.latex.unicode': True,\n          'text.usetex': False,\n          'timezone': 'UTC',\n          'tk.window_focus': False,\n          'toolbar': 'toolbar2',\n          'verbose.fileo': 'sys.stdout',\n          'verbose.level': 'silent',\n          'webagg.address': '127.0.0.1',\n          'webagg.open_in_browser': True,\n          'webagg.port': 8988,\n          'webagg.port_retries': 50,\n          'xtick.alignment': 'center',\n          'xtick.bottom': True,\n          'xtick.color': 'black',\n          'xtick.direction': 'out',\n          'xtick.labelbottom': True,\n          'xtick.labelsize': 'large',\n          'xtick.labeltop': False,\n          'xtick.major.bottom': True,\n          'xtick.major.pad': 9.1,\n          'xtick.major.size': 3.5,\n          'xtick.major.top': True,\n          'xtick.major.width': 1.3,\n          'xtick.minor.bottom': True,\n          'xtick.minor.pad': 3.4,\n          'xtick.minor.size': 2.0,\n          'xtick.minor.top': True,\n          'xtick.minor.visible': False,\n          'xtick.minor.width': 0.65,\n          'xtick.top': False,\n          'ytick.alignment': 'center_baseline',\n          'ytick.color': 'black',\n          'ytick.direction': 'out',\n          'ytick.labelleft': True,\n          'ytick.labelright': False,\n          'ytick.labelsize': 'large',\n          'ytick.left': True,\n          'ytick.major.left': True,\n          'ytick.major.pad': 9.1,\n          'ytick.major.right': True,\n          'ytick.major.size': 3.5,\n          'ytick.major.width': 1.3,\n          'ytick.minor.left': True,\n          'ytick.minor.pad': 3.4,\n          'ytick.minor.right': True,\n          'ytick.minor.size': 2.0,\n          'ytick.minor.visible': False,\n          'ytick.minor.width': 0.65,\n          'ytick.right': False})"
     },
     "metadata": {},
     "output_type": "execute_result",
     "execution_count": 106
    }
   ],
   "source": [
    "plt.rcParams"
   ]
  },
  {
   "cell_type": "code",
   "execution_count": 107,
   "metadata": {
    "pycharm": {
     "is_executing": false
    }
   },
   "outputs": [
    {
     "data": {
      "text/plain": "['bmh',\n 'classic',\n 'dark_background',\n 'fast',\n 'fivethirtyeight',\n 'ggplot',\n 'grayscale',\n 'seaborn-bright',\n 'seaborn-colorblind',\n 'seaborn-dark-palette',\n 'seaborn-dark',\n 'seaborn-darkgrid',\n 'seaborn-deep',\n 'seaborn-muted',\n 'seaborn-notebook',\n 'seaborn-paper',\n 'seaborn-pastel',\n 'seaborn-poster',\n 'seaborn-talk',\n 'seaborn-ticks',\n 'seaborn-white',\n 'seaborn-whitegrid',\n 'seaborn',\n 'Solarize_Light2',\n 'tableau-colorblind10',\n '_classic_test']"
     },
     "metadata": {},
     "output_type": "execute_result",
     "execution_count": 107
    }
   ],
   "source": [
    "plt.style.available"
   ]
  },
  {
   "cell_type": "code",
   "execution_count": 108,
   "metadata": {
    "pycharm": {
     "is_executing": false
    }
   },
   "outputs": [
    {
     "data": {
      "text/plain": "            user_id  user_watching  user_completed    user_onhold  \\\ncount  1.161330e+05  116133.000000   116133.000000  116133.000000   \nmean   1.810832e+06      14.610283      195.498807      11.338018   \nstd    1.996139e+06      32.459424      256.533148      31.622640   \nmin    1.000000e+00       0.000000        0.000000       0.000000   \n25%    1.990980e+05       3.000000       47.000000       0.000000   \n50%    5.615770e+05       7.000000      121.000000       4.000000   \n75%    3.464591e+06      16.000000      253.000000      12.000000   \nmax    7.251737e+06    2934.000000    11536.000000    2562.000000   \n\n        user_dropped  user_plantowatch  user_days_spent_watching  access_rank  \\\ncount  116133.000000     116133.000000              1.161330e+05          0.0   \nmean       11.818518         74.936332              9.329691e+01          NaN   \nstd        31.117077        177.889249              7.636053e+03          NaN   \nmin         0.000000          0.000000              0.000000e+00          NaN   \n25%         0.000000          5.000000              2.246000e+01          NaN   \n50%         3.000000         27.000000              4.990000e+01          NaN   \n75%        12.000000         80.000000              9.277000e+01          NaN   \nmax      2457.000000      12051.000000              2.601351e+06          NaN   \n\n       stats_mean_score  stats_rewatched  stats_episodes  \ncount     116133.000000    116133.000000    1.161330e+05  \nmean           7.713389        13.991079    6.611762e+03  \nstd            1.538595        54.731186    7.155270e+05  \nmin            0.000000         0.000000    0.000000e+00  \n25%            7.310000         0.000000    1.349000e+03  \n50%            7.880000         1.000000    3.017000e+03  \n75%            8.460000        10.000000    5.642000e+03  \nmax           10.000000      9404.000000    2.437949e+08  ",
      "text/html": "<div>\n<style scoped>\n    .dataframe tbody tr th:only-of-type {\n        vertical-align: middle;\n    }\n\n    .dataframe tbody tr th {\n        vertical-align: top;\n    }\n\n    .dataframe thead th {\n        text-align: right;\n    }\n</style>\n<table border=\"1\" class=\"dataframe\">\n  <thead>\n    <tr style=\"text-align: right;\">\n      <th></th>\n      <th>user_id</th>\n      <th>user_watching</th>\n      <th>user_completed</th>\n      <th>user_onhold</th>\n      <th>user_dropped</th>\n      <th>user_plantowatch</th>\n      <th>user_days_spent_watching</th>\n      <th>access_rank</th>\n      <th>stats_mean_score</th>\n      <th>stats_rewatched</th>\n      <th>stats_episodes</th>\n    </tr>\n  </thead>\n  <tbody>\n    <tr>\n      <th>count</th>\n      <td>1.161330e+05</td>\n      <td>116133.000000</td>\n      <td>116133.000000</td>\n      <td>116133.000000</td>\n      <td>116133.000000</td>\n      <td>116133.000000</td>\n      <td>1.161330e+05</td>\n      <td>0.0</td>\n      <td>116133.000000</td>\n      <td>116133.000000</td>\n      <td>1.161330e+05</td>\n    </tr>\n    <tr>\n      <th>mean</th>\n      <td>1.810832e+06</td>\n      <td>14.610283</td>\n      <td>195.498807</td>\n      <td>11.338018</td>\n      <td>11.818518</td>\n      <td>74.936332</td>\n      <td>9.329691e+01</td>\n      <td>NaN</td>\n      <td>7.713389</td>\n      <td>13.991079</td>\n      <td>6.611762e+03</td>\n    </tr>\n    <tr>\n      <th>std</th>\n      <td>1.996139e+06</td>\n      <td>32.459424</td>\n      <td>256.533148</td>\n      <td>31.622640</td>\n      <td>31.117077</td>\n      <td>177.889249</td>\n      <td>7.636053e+03</td>\n      <td>NaN</td>\n      <td>1.538595</td>\n      <td>54.731186</td>\n      <td>7.155270e+05</td>\n    </tr>\n    <tr>\n      <th>min</th>\n      <td>1.000000e+00</td>\n      <td>0.000000</td>\n      <td>0.000000</td>\n      <td>0.000000</td>\n      <td>0.000000</td>\n      <td>0.000000</td>\n      <td>0.000000e+00</td>\n      <td>NaN</td>\n      <td>0.000000</td>\n      <td>0.000000</td>\n      <td>0.000000e+00</td>\n    </tr>\n    <tr>\n      <th>25%</th>\n      <td>1.990980e+05</td>\n      <td>3.000000</td>\n      <td>47.000000</td>\n      <td>0.000000</td>\n      <td>0.000000</td>\n      <td>5.000000</td>\n      <td>2.246000e+01</td>\n      <td>NaN</td>\n      <td>7.310000</td>\n      <td>0.000000</td>\n      <td>1.349000e+03</td>\n    </tr>\n    <tr>\n      <th>50%</th>\n      <td>5.615770e+05</td>\n      <td>7.000000</td>\n      <td>121.000000</td>\n      <td>4.000000</td>\n      <td>3.000000</td>\n      <td>27.000000</td>\n      <td>4.990000e+01</td>\n      <td>NaN</td>\n      <td>7.880000</td>\n      <td>1.000000</td>\n      <td>3.017000e+03</td>\n    </tr>\n    <tr>\n      <th>75%</th>\n      <td>3.464591e+06</td>\n      <td>16.000000</td>\n      <td>253.000000</td>\n      <td>12.000000</td>\n      <td>12.000000</td>\n      <td>80.000000</td>\n      <td>9.277000e+01</td>\n      <td>NaN</td>\n      <td>8.460000</td>\n      <td>10.000000</td>\n      <td>5.642000e+03</td>\n    </tr>\n    <tr>\n      <th>max</th>\n      <td>7.251737e+06</td>\n      <td>2934.000000</td>\n      <td>11536.000000</td>\n      <td>2562.000000</td>\n      <td>2457.000000</td>\n      <td>12051.000000</td>\n      <td>2.601351e+06</td>\n      <td>NaN</td>\n      <td>10.000000</td>\n      <td>9404.000000</td>\n      <td>2.437949e+08</td>\n    </tr>\n  </tbody>\n</table>\n</div>"
     },
     "metadata": {},
     "output_type": "execute_result",
     "execution_count": 108
    }
   ],
   "source": [
    "users.describe()"
   ]
  },
  {
   "cell_type": "code",
   "execution_count": 109,
   "metadata": {
    "pycharm": {
     "is_executing": false
    }
   },
   "outputs": [],
   "source": [
    "# dropping users with invalid and obviously incorrect dates\n",
    "users['birth_date'] = pd.to_datetime(users['birth_date'], errors='coerce')\n",
    "users['last_online'] = pd.to_datetime(users['last_online'], errors='coerce')\n",
    "users['join_date'] = pd.to_datetime(users['join_date'], errors='coerce')\n",
    "users = users.dropna(subset=['birth_date', 'last_online', 'join_date'])\n",
    "#users = users[users['last_online'].dt.year > 1950]"
   ]
  },
  {
   "cell_type": "code",
   "execution_count": 110,
   "metadata": {
    "pycharm": {
     "is_executing": false
    }
   },
   "outputs": [
    {
     "data": {
      "text/plain": "            user_id  user_watching  user_completed    user_onhold  \\\ncount  1.161310e+05  116131.000000    116131.00000  116131.000000   \nmean   1.810839e+06      14.610259       195.49259      11.338084   \nstd    1.996147e+06      32.459676       256.52762      31.622901   \nmin    1.000000e+00       0.000000         0.00000       0.000000   \n25%    1.991000e+05       3.000000        47.00000       0.000000   \n50%    5.615770e+05       7.000000       121.00000       4.000000   \n75%    3.464671e+06      16.000000       253.00000      12.000000   \nmax    7.251737e+06    2934.000000     11536.00000    2562.000000   \n\n        user_dropped  user_plantowatch  user_days_spent_watching  access_rank  \\\ncount  116131.000000     116131.000000              1.161310e+05          0.0   \nmean       11.818429         74.935771              9.329698e+01          NaN   \nstd        31.117304        177.890713              7.636119e+03          NaN   \nmin         0.000000          0.000000              0.000000e+00          NaN   \n25%         0.000000          5.000000              2.246000e+01          NaN   \n50%         3.000000         27.000000              4.990000e+01          NaN   \n75%        12.000000         80.000000              9.277000e+01          NaN   \nmax      2457.000000      12051.000000              2.601351e+06          NaN   \n\n       stats_mean_score  stats_rewatched  stats_episodes  \ncount     116131.000000    116131.000000    1.161310e+05  \nmean           7.713378        13.991286    6.611773e+03  \nstd            1.538603        54.731634    7.155332e+05  \nmin            0.000000         0.000000    0.000000e+00  \n25%            7.310000         0.000000    1.349000e+03  \n50%            7.880000         1.000000    3.017000e+03  \n75%            8.460000        10.000000    5.642000e+03  \nmax           10.000000      9404.000000    2.437949e+08  ",
      "text/html": "<div>\n<style scoped>\n    .dataframe tbody tr th:only-of-type {\n        vertical-align: middle;\n    }\n\n    .dataframe tbody tr th {\n        vertical-align: top;\n    }\n\n    .dataframe thead th {\n        text-align: right;\n    }\n</style>\n<table border=\"1\" class=\"dataframe\">\n  <thead>\n    <tr style=\"text-align: right;\">\n      <th></th>\n      <th>user_id</th>\n      <th>user_watching</th>\n      <th>user_completed</th>\n      <th>user_onhold</th>\n      <th>user_dropped</th>\n      <th>user_plantowatch</th>\n      <th>user_days_spent_watching</th>\n      <th>access_rank</th>\n      <th>stats_mean_score</th>\n      <th>stats_rewatched</th>\n      <th>stats_episodes</th>\n    </tr>\n  </thead>\n  <tbody>\n    <tr>\n      <th>count</th>\n      <td>1.161310e+05</td>\n      <td>116131.000000</td>\n      <td>116131.00000</td>\n      <td>116131.000000</td>\n      <td>116131.000000</td>\n      <td>116131.000000</td>\n      <td>1.161310e+05</td>\n      <td>0.0</td>\n      <td>116131.000000</td>\n      <td>116131.000000</td>\n      <td>1.161310e+05</td>\n    </tr>\n    <tr>\n      <th>mean</th>\n      <td>1.810839e+06</td>\n      <td>14.610259</td>\n      <td>195.49259</td>\n      <td>11.338084</td>\n      <td>11.818429</td>\n      <td>74.935771</td>\n      <td>9.329698e+01</td>\n      <td>NaN</td>\n      <td>7.713378</td>\n      <td>13.991286</td>\n      <td>6.611773e+03</td>\n    </tr>\n    <tr>\n      <th>std</th>\n      <td>1.996147e+06</td>\n      <td>32.459676</td>\n      <td>256.52762</td>\n      <td>31.622901</td>\n      <td>31.117304</td>\n      <td>177.890713</td>\n      <td>7.636119e+03</td>\n      <td>NaN</td>\n      <td>1.538603</td>\n      <td>54.731634</td>\n      <td>7.155332e+05</td>\n    </tr>\n    <tr>\n      <th>min</th>\n      <td>1.000000e+00</td>\n      <td>0.000000</td>\n      <td>0.00000</td>\n      <td>0.000000</td>\n      <td>0.000000</td>\n      <td>0.000000</td>\n      <td>0.000000e+00</td>\n      <td>NaN</td>\n      <td>0.000000</td>\n      <td>0.000000</td>\n      <td>0.000000e+00</td>\n    </tr>\n    <tr>\n      <th>25%</th>\n      <td>1.991000e+05</td>\n      <td>3.000000</td>\n      <td>47.00000</td>\n      <td>0.000000</td>\n      <td>0.000000</td>\n      <td>5.000000</td>\n      <td>2.246000e+01</td>\n      <td>NaN</td>\n      <td>7.310000</td>\n      <td>0.000000</td>\n      <td>1.349000e+03</td>\n    </tr>\n    <tr>\n      <th>50%</th>\n      <td>5.615770e+05</td>\n      <td>7.000000</td>\n      <td>121.00000</td>\n      <td>4.000000</td>\n      <td>3.000000</td>\n      <td>27.000000</td>\n      <td>4.990000e+01</td>\n      <td>NaN</td>\n      <td>7.880000</td>\n      <td>1.000000</td>\n      <td>3.017000e+03</td>\n    </tr>\n    <tr>\n      <th>75%</th>\n      <td>3.464671e+06</td>\n      <td>16.000000</td>\n      <td>253.00000</td>\n      <td>12.000000</td>\n      <td>12.000000</td>\n      <td>80.000000</td>\n      <td>9.277000e+01</td>\n      <td>NaN</td>\n      <td>8.460000</td>\n      <td>10.000000</td>\n      <td>5.642000e+03</td>\n    </tr>\n    <tr>\n      <th>max</th>\n      <td>7.251737e+06</td>\n      <td>2934.000000</td>\n      <td>11536.00000</td>\n      <td>2562.000000</td>\n      <td>2457.000000</td>\n      <td>12051.000000</td>\n      <td>2.601351e+06</td>\n      <td>NaN</td>\n      <td>10.000000</td>\n      <td>9404.000000</td>\n      <td>2.437949e+08</td>\n    </tr>\n  </tbody>\n</table>\n</div>"
     },
     "metadata": {},
     "output_type": "execute_result",
     "execution_count": 110
    }
   ],
   "source": [
    "users.describe()"
   ]
  },
  {
   "cell_type": "code",
   "execution_count": 111,
   "metadata": {
    "pycharm": {
     "is_executing": false
    }
   },
   "outputs": [
    {
     "data": {
      "text/plain": "           username  user_id  user_watching  user_completed  user_onhold  \\\n0          karthiga  2255153              3              49            1   \n1  RedvelvetDaisuki  1897606             61             396           39   \n2         Damonashu    37326             45             195           27   \n3             bskai   228342             25             414            2   \n4    terune_uzumaki   327311              5               5            0   \n\n   user_dropped  user_plantowatch  user_days_spent_watching  gender  \\\n0             0                 0                     55.31  Female   \n1             0               206                    118.07  Female   \n2            25                59                     83.70    Male   \n3             5                11                    167.16    Male   \n4             0                 0                     15.20  Female   \n\n            location birth_date  access_rank  join_date         last_online  \\\n0    Chennai, India  1990-04-29          NaN 2013-03-03 2014-02-04 01:32:00   \n1             Manila 1995-01-01          NaN 2012-12-13 1900-05-13 02:47:00   \n2   Detroit,Michigan 1991-08-01          NaN 2008-02-13 1900-03-24 12:48:00   \n3    Nayarit, Mexico 1990-12-14          NaN 2009-08-31 2014-05-12 16:35:00   \n4  Malaysia, Kuantan 1998-08-24          NaN 2010-05-10 2012-10-18 19:06:00   \n\n   stats_mean_score  stats_rewatched  stats_episodes  \n0              7.43              0.0          3391.0  \n1              6.78             80.0          7094.0  \n2              6.15              6.0          4936.0  \n3              8.27              1.0         10081.0  \n4              9.70              6.0           920.0  ",
      "text/html": "<div>\n<style scoped>\n    .dataframe tbody tr th:only-of-type {\n        vertical-align: middle;\n    }\n\n    .dataframe tbody tr th {\n        vertical-align: top;\n    }\n\n    .dataframe thead th {\n        text-align: right;\n    }\n</style>\n<table border=\"1\" class=\"dataframe\">\n  <thead>\n    <tr style=\"text-align: right;\">\n      <th></th>\n      <th>username</th>\n      <th>user_id</th>\n      <th>user_watching</th>\n      <th>user_completed</th>\n      <th>user_onhold</th>\n      <th>user_dropped</th>\n      <th>user_plantowatch</th>\n      <th>user_days_spent_watching</th>\n      <th>gender</th>\n      <th>location</th>\n      <th>birth_date</th>\n      <th>access_rank</th>\n      <th>join_date</th>\n      <th>last_online</th>\n      <th>stats_mean_score</th>\n      <th>stats_rewatched</th>\n      <th>stats_episodes</th>\n    </tr>\n  </thead>\n  <tbody>\n    <tr>\n      <th>0</th>\n      <td>karthiga</td>\n      <td>2255153</td>\n      <td>3</td>\n      <td>49</td>\n      <td>1</td>\n      <td>0</td>\n      <td>0</td>\n      <td>55.31</td>\n      <td>Female</td>\n      <td>Chennai, India</td>\n      <td>1990-04-29</td>\n      <td>NaN</td>\n      <td>2013-03-03</td>\n      <td>2014-02-04 01:32:00</td>\n      <td>7.43</td>\n      <td>0.0</td>\n      <td>3391.0</td>\n    </tr>\n    <tr>\n      <th>1</th>\n      <td>RedvelvetDaisuki</td>\n      <td>1897606</td>\n      <td>61</td>\n      <td>396</td>\n      <td>39</td>\n      <td>0</td>\n      <td>206</td>\n      <td>118.07</td>\n      <td>Female</td>\n      <td>Manila</td>\n      <td>1995-01-01</td>\n      <td>NaN</td>\n      <td>2012-12-13</td>\n      <td>1900-05-13 02:47:00</td>\n      <td>6.78</td>\n      <td>80.0</td>\n      <td>7094.0</td>\n    </tr>\n    <tr>\n      <th>2</th>\n      <td>Damonashu</td>\n      <td>37326</td>\n      <td>45</td>\n      <td>195</td>\n      <td>27</td>\n      <td>25</td>\n      <td>59</td>\n      <td>83.70</td>\n      <td>Male</td>\n      <td>Detroit,Michigan</td>\n      <td>1991-08-01</td>\n      <td>NaN</td>\n      <td>2008-02-13</td>\n      <td>1900-03-24 12:48:00</td>\n      <td>6.15</td>\n      <td>6.0</td>\n      <td>4936.0</td>\n    </tr>\n    <tr>\n      <th>3</th>\n      <td>bskai</td>\n      <td>228342</td>\n      <td>25</td>\n      <td>414</td>\n      <td>2</td>\n      <td>5</td>\n      <td>11</td>\n      <td>167.16</td>\n      <td>Male</td>\n      <td>Nayarit, Mexico</td>\n      <td>1990-12-14</td>\n      <td>NaN</td>\n      <td>2009-08-31</td>\n      <td>2014-05-12 16:35:00</td>\n      <td>8.27</td>\n      <td>1.0</td>\n      <td>10081.0</td>\n    </tr>\n    <tr>\n      <th>4</th>\n      <td>terune_uzumaki</td>\n      <td>327311</td>\n      <td>5</td>\n      <td>5</td>\n      <td>0</td>\n      <td>0</td>\n      <td>0</td>\n      <td>15.20</td>\n      <td>Female</td>\n      <td>Malaysia, Kuantan</td>\n      <td>1998-08-24</td>\n      <td>NaN</td>\n      <td>2010-05-10</td>\n      <td>2012-10-18 19:06:00</td>\n      <td>9.70</td>\n      <td>6.0</td>\n      <td>920.0</td>\n    </tr>\n  </tbody>\n</table>\n</div>"
     },
     "metadata": {},
     "output_type": "execute_result",
     "execution_count": 111
    }
   ],
   "source": [
    "users.head()"
   ]
  },
  {
   "cell_type": "code",
   "execution_count": 112,
   "metadata": {
    "pycharm": {
     "is_executing": false
    }
   },
   "outputs": [
    {
     "name": "stderr",
     "text": [
      "C:\\ProgramData\\Anaconda3\\lib\\site-packages\\matplotlib\\axes\\_base.py:848: UserWarning: aspect is not supported for Axes with xscale=linear, yscale=log\n  self.apply_aspect()\n"
     ],
     "output_type": "stream"
    },
    {
     "data": {
      "text/plain": "<matplotlib.axes._subplots.AxesSubplot at 0x1129f3146a0>"
     },
     "metadata": {},
     "output_type": "execute_result",
     "execution_count": 112
    }
   ],
   "source": [
    "users['gender'].value_counts().plot.bar()"
   ]
  },
  {
   "cell_type": "code",
   "execution_count": 113,
   "metadata": {
    "pycharm": {
     "is_executing": false
    }
   },
   "outputs": [
    {
     "name": "stderr",
     "text": [
      "C:\\ProgramData\\Anaconda3\\lib\\site-packages\\matplotlib\\axes\\_axes.py:2913: UserWarning: Attempted to set non-positive bottom ylim on a log-scaled axis.\nInvalid limit will be ignored.\n  1.25 + center[1]))\nC:\\ProgramData\\Anaconda3\\lib\\site-packages\\matplotlib\\axes\\_base.py:848: UserWarning: aspect is not supported for Axes with xscale=linear, yscale=log\n  self.apply_aspect()\n"
     ],
     "output_type": "stream"
    },
    {
     "data": {
      "text/plain": "<matplotlib.axes._subplots.AxesSubplot at 0x1129f3146a0>"
     },
     "metadata": {},
     "output_type": "execute_result",
     "execution_count": 113
    }
   ],
   "source": [
    "users['gender'].value_counts().plot.pie()"
   ]
  },
  {
   "cell_type": "code",
   "execution_count": 114,
   "metadata": {
    "pycharm": {
     "is_executing": false
    }
   },
   "outputs": [
    {
     "data": {
      "text/plain": "username                            object\nuser_id                              int64\nuser_watching                        int64\nuser_completed                       int64\nuser_onhold                          int64\nuser_dropped                         int64\nuser_plantowatch                     int64\nuser_days_spent_watching           float64\ngender                              object\nlocation                            object\nbirth_date                  datetime64[ns]\naccess_rank                        float64\njoin_date                   datetime64[ns]\nlast_online                 datetime64[ns]\nstats_mean_score                   float64\nstats_rewatched                    float64\nstats_episodes                     float64\ndtype: object"
     },
     "metadata": {},
     "output_type": "execute_result",
     "execution_count": 114
    }
   ],
   "source": [
    "users.dtypes"
   ]
  },
  {
   "cell_type": "code",
   "execution_count": 115,
   "metadata": {
    "pycharm": {
     "is_executing": false
    }
   },
   "outputs": [
    {
     "data": {
      "text/plain": "<matplotlib.axes._subplots.AxesSubplot at 0x1129f3146a0>"
     },
     "metadata": {},
     "output_type": "execute_result",
     "execution_count": 115
    }
   ],
   "source": [
    "users['birth_date'].dt.year.hist(bins=50, figsize=(16, 8))"
   ]
  },
  {
   "cell_type": "code",
   "execution_count": 116,
   "metadata": {
    "pycharm": {
     "is_executing": false
    }
   },
   "outputs": [
    {
     "data": {
      "text/plain": "<matplotlib.axes._subplots.AxesSubplot at 0x1129f3146a0>"
     },
     "metadata": {},
     "output_type": "execute_result",
     "execution_count": 116
    }
   ],
   "source": [
    "users['last_online'].dt.year.hist(bins=50, figsize=(16, 8))"
   ]
  },
  {
   "cell_type": "code",
   "execution_count": 117,
   "metadata": {
    "pycharm": {
     "is_executing": false
    },
    "scrolled": true
   },
   "outputs": [
    {
     "data": {
      "text/plain": "1993-01-01    365\n1991-01-01    362\n1990-01-01    352\n1992-01-01    352\n1994-01-01    335\n1995-01-01    307\n1989-01-01    307\n1996-01-01    242\n1988-01-01    209\n1997-01-01    204\n1987-01-01    173\n1998-01-01    133\n1986-01-01    130\n1985-01-01    107\n1999-01-01     98\n1930-01-01     81\n1983-01-01     79\n1984-01-01     78\n1993-09-01     53\n1994-09-01     51\n1994-03-01     48\n1996-10-10     47\n1994-06-01     47\n1991-11-01     47\n1995-09-01     46\n1993-05-05     45\n1993-03-01     45\n1995-11-01     44\n1994-05-20     43\n1993-09-10     43\n             ... \n1977-12-05      1\n1980-03-18      1\n1977-06-26      1\n1972-10-09      1\n2013-11-15      1\n2013-10-18      1\n1980-11-15      1\n1980-04-13      1\n1973-06-07      1\n1930-01-18      1\n1971-03-22      1\n1978-01-26      1\n1981-12-24      1\n1979-09-12      1\n1963-09-18      1\n1961-06-06      1\n1982-01-18      1\n1982-06-12      1\n1983-09-29      1\n2013-06-05      1\n2017-12-29      1\n1974-01-08      1\n1976-04-21      1\n1932-05-02      1\n1930-01-19      1\n2003-08-19      1\n2003-09-15      1\n2010-07-22      1\n2019-09-10      1\n1944-11-19      1\nName: birth_date, Length: 10310, dtype: int64"
     },
     "metadata": {},
     "output_type": "execute_result",
     "execution_count": 117
    }
   ],
   "source": [
    "users['birth_date'].value_counts()"
   ]
  },
  {
   "cell_type": "code",
   "execution_count": 118,
   "metadata": {
    "pycharm": {
     "is_executing": false
    }
   },
   "outputs": [
    {
     "data": {
      "text/plain": "      username  user_id  user_watching  user_completed  user_onhold  \\\n27130  LulyPie   231964             88             219            1   \n\n       user_dropped  user_plantowatch  user_days_spent_watching  gender  \\\n27130             7               181                    138.56  Female   \n\n            location birth_date  access_rank  join_date         last_online  \\\n27130  SinSendGoodMe 1944-11-19          NaN 2009-09-09 1900-01-13 01:01:00   \n\n       stats_mean_score  stats_rewatched  stats_episodes  \n27130              7.54             23.0          8319.0  ",
      "text/html": "<div>\n<style scoped>\n    .dataframe tbody tr th:only-of-type {\n        vertical-align: middle;\n    }\n\n    .dataframe tbody tr th {\n        vertical-align: top;\n    }\n\n    .dataframe thead th {\n        text-align: right;\n    }\n</style>\n<table border=\"1\" class=\"dataframe\">\n  <thead>\n    <tr style=\"text-align: right;\">\n      <th></th>\n      <th>username</th>\n      <th>user_id</th>\n      <th>user_watching</th>\n      <th>user_completed</th>\n      <th>user_onhold</th>\n      <th>user_dropped</th>\n      <th>user_plantowatch</th>\n      <th>user_days_spent_watching</th>\n      <th>gender</th>\n      <th>location</th>\n      <th>birth_date</th>\n      <th>access_rank</th>\n      <th>join_date</th>\n      <th>last_online</th>\n      <th>stats_mean_score</th>\n      <th>stats_rewatched</th>\n      <th>stats_episodes</th>\n    </tr>\n  </thead>\n  <tbody>\n    <tr>\n      <th>27130</th>\n      <td>LulyPie</td>\n      <td>231964</td>\n      <td>88</td>\n      <td>219</td>\n      <td>1</td>\n      <td>7</td>\n      <td>181</td>\n      <td>138.56</td>\n      <td>Female</td>\n      <td>SinSendGoodMe</td>\n      <td>1944-11-19</td>\n      <td>NaN</td>\n      <td>2009-09-09</td>\n      <td>1900-01-13 01:01:00</td>\n      <td>7.54</td>\n      <td>23.0</td>\n      <td>8319.0</td>\n    </tr>\n  </tbody>\n</table>\n</div>"
     },
     "metadata": {},
     "output_type": "execute_result",
     "execution_count": 118
    }
   ],
   "source": [
    "users[users['birth_date'] == '1944-11-19']"
   ]
  },
  {
   "cell_type": "code",
   "execution_count": 119,
   "metadata": {
    "pycharm": {
     "is_executing": false
    },
    "scrolled": true
   },
   "outputs": [
    {
     "data": {
      "text/plain": "1900-05-13 14:11:00    7\n1900-05-13 16:19:00    7\n2013-09-13 08:34:00    6\n1900-05-11 11:43:00    6\n2018-05-15 12:58:00    6\n2013-09-13 08:29:00    6\n2018-05-14 12:44:00    6\n1900-05-12 10:21:00    5\n1900-05-12 13:21:00    5\n1900-05-13 12:04:00    5\n1900-01-18 13:37:00    5\n2013-09-13 13:00:00    5\n1900-05-09 15:48:00    5\n1900-05-14 12:06:00    5\n1900-05-14 08:57:00    5\n1900-05-12 20:22:00    5\n1900-05-14 08:24:00    5\n1900-05-11 12:52:00    5\n1900-05-13 09:19:00    5\n1900-05-13 17:14:00    5\n1900-05-13 14:01:00    5\n1900-05-13 13:55:00    5\n2013-09-13 08:16:00    5\n1900-05-11 16:30:00    5\n1900-05-16 19:55:00    5\n1900-05-12 17:29:00    5\n1900-05-12 12:10:00    5\n1900-05-13 12:55:00    5\n2018-05-16 12:58:00    5\n1900-05-13 13:31:00    5\n                      ..\n2013-10-26 16:28:00    1\n1900-02-28 10:36:00    1\n1900-01-20 23:01:00    1\n1900-03-27 17:26:00    1\n2016-04-20 17:02:00    1\n2017-01-14 18:32:00    1\n2016-11-02 21:23:00    1\n2009-11-17 23:43:00    1\n2015-08-11 07:31:00    1\n2013-10-02 06:45:00    1\n2015-09-27 13:15:00    1\n2018-05-22 00:29:34    1\n2018-05-23 00:55:46    1\n2018-05-17 09:19:43    1\n2018-05-23 18:02:28    1\n1900-04-24 14:41:00    1\n2015-11-12 23:27:00    1\n2014-05-30 08:14:00    1\n1900-01-22 18:48:00    1\n1900-04-03 20:54:00    1\n2017-12-20 19:43:00    1\n2010-05-18 09:44:00    1\n2011-09-23 13:22:00    1\n1900-04-05 21:09:00    1\n1900-04-29 10:23:00    1\n1900-02-06 10:40:00    1\n1900-05-08 06:10:00    1\n2015-02-25 08:31:00    1\n2018-05-21 18:18:05    1\n2017-09-22 07:58:00    1\nName: last_online, Length: 107611, dtype: int64"
     },
     "metadata": {},
     "output_type": "execute_result",
     "execution_count": 119
    }
   ],
   "source": [
    "users['last_online'].value_counts()"
   ]
  },
  {
   "cell_type": "code",
   "execution_count": 120,
   "metadata": {
    "pycharm": {
     "is_executing": false
    }
   },
   "outputs": [
    {
     "data": {
      "text/plain": "           username  user_id  user_watching  user_completed  user_onhold  \\\n1  RedvelvetDaisuki  1897606             61             396           39   \n2         Damonashu    37326             45             195           27   \n5             Bas_G  5015094             35             114            6   \n6          HimeAria  3129315              2              87            2   \n8            Slimak    61677             79             224            0   \n\n   user_dropped  user_plantowatch  user_days_spent_watching  gender  \\\n1             0               206                    118.07  Female   \n2            25                59                     83.70    Male   \n5            20               175                     30.81    Male   \n6             0                28                     20.12  Female   \n8             3                84                    126.17    Male   \n\n              location birth_date  access_rank  join_date         last_online  \\\n1               Manila 1995-01-01          NaN 2012-12-13 1900-05-13 02:47:00   \n2     Detroit,Michigan 1991-08-01          NaN 2008-02-13 1900-03-24 12:48:00   \n5  Nijmegen, Nederland 1999-10-24          NaN 2015-11-26 1900-05-10 13:53:00   \n6               Poland 1996-09-26          NaN 2013-09-08 1900-04-27 10:52:00   \n8               Poland 1988-02-21          NaN 2008-05-18 1900-05-01 05:04:00   \n\n   stats_mean_score  stats_rewatched  stats_episodes  \n1              6.78             80.0          7094.0  \n2              6.15              6.0          4936.0  \n5              7.86              0.0          1847.0  \n6              8.23              0.0          1314.0  \n8              7.77              2.0          7472.0  ",
      "text/html": "<div>\n<style scoped>\n    .dataframe tbody tr th:only-of-type {\n        vertical-align: middle;\n    }\n\n    .dataframe tbody tr th {\n        vertical-align: top;\n    }\n\n    .dataframe thead th {\n        text-align: right;\n    }\n</style>\n<table border=\"1\" class=\"dataframe\">\n  <thead>\n    <tr style=\"text-align: right;\">\n      <th></th>\n      <th>username</th>\n      <th>user_id</th>\n      <th>user_watching</th>\n      <th>user_completed</th>\n      <th>user_onhold</th>\n      <th>user_dropped</th>\n      <th>user_plantowatch</th>\n      <th>user_days_spent_watching</th>\n      <th>gender</th>\n      <th>location</th>\n      <th>birth_date</th>\n      <th>access_rank</th>\n      <th>join_date</th>\n      <th>last_online</th>\n      <th>stats_mean_score</th>\n      <th>stats_rewatched</th>\n      <th>stats_episodes</th>\n    </tr>\n  </thead>\n  <tbody>\n    <tr>\n      <th>1</th>\n      <td>RedvelvetDaisuki</td>\n      <td>1897606</td>\n      <td>61</td>\n      <td>396</td>\n      <td>39</td>\n      <td>0</td>\n      <td>206</td>\n      <td>118.07</td>\n      <td>Female</td>\n      <td>Manila</td>\n      <td>1995-01-01</td>\n      <td>NaN</td>\n      <td>2012-12-13</td>\n      <td>1900-05-13 02:47:00</td>\n      <td>6.78</td>\n      <td>80.0</td>\n      <td>7094.0</td>\n    </tr>\n    <tr>\n      <th>2</th>\n      <td>Damonashu</td>\n      <td>37326</td>\n      <td>45</td>\n      <td>195</td>\n      <td>27</td>\n      <td>25</td>\n      <td>59</td>\n      <td>83.70</td>\n      <td>Male</td>\n      <td>Detroit,Michigan</td>\n      <td>1991-08-01</td>\n      <td>NaN</td>\n      <td>2008-02-13</td>\n      <td>1900-03-24 12:48:00</td>\n      <td>6.15</td>\n      <td>6.0</td>\n      <td>4936.0</td>\n    </tr>\n    <tr>\n      <th>5</th>\n      <td>Bas_G</td>\n      <td>5015094</td>\n      <td>35</td>\n      <td>114</td>\n      <td>6</td>\n      <td>20</td>\n      <td>175</td>\n      <td>30.81</td>\n      <td>Male</td>\n      <td>Nijmegen, Nederland</td>\n      <td>1999-10-24</td>\n      <td>NaN</td>\n      <td>2015-11-26</td>\n      <td>1900-05-10 13:53:00</td>\n      <td>7.86</td>\n      <td>0.0</td>\n      <td>1847.0</td>\n    </tr>\n    <tr>\n      <th>6</th>\n      <td>HimeAria</td>\n      <td>3129315</td>\n      <td>2</td>\n      <td>87</td>\n      <td>2</td>\n      <td>0</td>\n      <td>28</td>\n      <td>20.12</td>\n      <td>Female</td>\n      <td>Poland</td>\n      <td>1996-09-26</td>\n      <td>NaN</td>\n      <td>2013-09-08</td>\n      <td>1900-04-27 10:52:00</td>\n      <td>8.23</td>\n      <td>0.0</td>\n      <td>1314.0</td>\n    </tr>\n    <tr>\n      <th>8</th>\n      <td>Slimak</td>\n      <td>61677</td>\n      <td>79</td>\n      <td>224</td>\n      <td>0</td>\n      <td>3</td>\n      <td>84</td>\n      <td>126.17</td>\n      <td>Male</td>\n      <td>Poland</td>\n      <td>1988-02-21</td>\n      <td>NaN</td>\n      <td>2008-05-18</td>\n      <td>1900-05-01 05:04:00</td>\n      <td>7.77</td>\n      <td>2.0</td>\n      <td>7472.0</td>\n    </tr>\n  </tbody>\n</table>\n</div>"
     },
     "metadata": {},
     "output_type": "execute_result",
     "execution_count": 120
    }
   ],
   "source": [
    "users[users['last_online'].dt.year == 1900].head()"
   ]
  },
  {
   "cell_type": "code",
   "execution_count": 121,
   "metadata": {
    "pycharm": {
     "is_executing": false
    }
   },
   "outputs": [
    {
     "data": {
      "text/plain": "<matplotlib.axes._subplots.AxesSubplot at 0x1129f3146a0>"
     },
     "metadata": {},
     "output_type": "execute_result",
     "execution_count": 121
    }
   ],
   "source": [
    "users['join_date'].dt.year.hist(bins=14, figsize=(16, 8))"
   ]
  },
  {
   "cell_type": "code",
   "execution_count": 122,
   "metadata": {
    "pycharm": {
     "is_executing": false
    }
   },
   "outputs": [
    {
     "name": "stderr",
     "text": [
      "C:\\ProgramData\\Anaconda3\\lib\\site-packages\\matplotlib\\axes\\_base.py:848: UserWarning: aspect is not supported for Axes with xscale=linear, yscale=log\n  self.apply_aspect()\nC:\\ProgramData\\Anaconda3\\lib\\site-packages\\matplotlib\\cbook\\__init__.py:424: MatplotlibDeprecationWarning: \nPassing one of 'on', 'true', 'off', 'false' as a boolean is deprecated; use an actual boolean (True/False) instead.\n  warn_deprecated(\"2.2\", \"Passing one of 'on', 'true', 'off', 'false' as a \"\n"
     ],
     "output_type": "stream"
    }
   ],
   "source": [
    "(2018 - users['birth_date'].dt.year).plot(kind='hist', bins=80, figsize=(16, 8), title='age')\n",
    "plt.gca().grid('on')"
   ]
  },
  {
   "cell_type": "code",
   "execution_count": 123,
   "metadata": {
    "pycharm": {
     "is_executing": false
    }
   },
   "outputs": [
    {
     "traceback": [
      "\u001b[1;31m---------------------------------------------------------------------------\u001b[0m",
      "\u001b[1;31mKeyError\u001b[0m                                  Traceback (most recent call last)",
      "\u001b[1;32mC:\\ProgramData\\Anaconda3\\lib\\site-packages\\pandas\\core\\indexes\\base.py\u001b[0m in \u001b[0;36mget_loc\u001b[1;34m(self, key, method, tolerance)\u001b[0m\n\u001b[0;32m   2655\u001b[0m             \u001b[1;32mtry\u001b[0m\u001b[1;33m:\u001b[0m\u001b[1;33m\u001b[0m\u001b[1;33m\u001b[0m\u001b[0m\n\u001b[1;32m-> 2656\u001b[1;33m                 \u001b[1;32mreturn\u001b[0m \u001b[0mself\u001b[0m\u001b[1;33m.\u001b[0m\u001b[0m_engine\u001b[0m\u001b[1;33m.\u001b[0m\u001b[0mget_loc\u001b[0m\u001b[1;33m(\u001b[0m\u001b[0mkey\u001b[0m\u001b[1;33m)\u001b[0m\u001b[1;33m\u001b[0m\u001b[1;33m\u001b[0m\u001b[0m\n\u001b[0m\u001b[0;32m   2657\u001b[0m             \u001b[1;32mexcept\u001b[0m \u001b[0mKeyError\u001b[0m\u001b[1;33m:\u001b[0m\u001b[1;33m\u001b[0m\u001b[1;33m\u001b[0m\u001b[0m\n",
      "\u001b[1;32mpandas\\_libs\\index.pyx\u001b[0m in \u001b[0;36mpandas._libs.index.IndexEngine.get_loc\u001b[1;34m()\u001b[0m\n",
      "\u001b[1;32mpandas\\_libs\\index.pyx\u001b[0m in \u001b[0;36mpandas._libs.index.IndexEngine.get_loc\u001b[1;34m()\u001b[0m\n",
      "\u001b[1;32mpandas\\_libs\\hashtable_class_helper.pxi\u001b[0m in \u001b[0;36mpandas._libs.hashtable.PyObjectHashTable.get_item\u001b[1;34m()\u001b[0m\n",
      "\u001b[1;32mpandas\\_libs\\hashtable_class_helper.pxi\u001b[0m in \u001b[0;36mpandas._libs.hashtable.PyObjectHashTable.get_item\u001b[1;34m()\u001b[0m\n",
      "\u001b[1;31mKeyError\u001b[0m: 'last_list_update'",
      "\nDuring handling of the above exception, another exception occurred:\n",
      "\u001b[1;31mKeyError\u001b[0m                                  Traceback (most recent call last)",
      "\u001b[1;32m<ipython-input-123-48bf59906f11>\u001b[0m in \u001b[0;36m<module>\u001b[1;34m()\u001b[0m\n\u001b[0;32m      2\u001b[0m \u001b[1;31m#now really inferring the best estimation of last online\u001b[0m\u001b[1;33m\u001b[0m\u001b[1;33m\u001b[0m\u001b[1;33m\u001b[0m\u001b[0m\n\u001b[0;32m      3\u001b[0m \u001b[0musers_last_list_update\u001b[0m \u001b[1;33m=\u001b[0m \u001b[0mget_users_last_list_update_cached\u001b[0m\u001b[1;33m(\u001b[0m\u001b[1;33m)\u001b[0m\u001b[1;33m\u001b[0m\u001b[1;33m\u001b[0m\u001b[0m\n\u001b[1;32m----> 4\u001b[1;33m \u001b[0musers_last_list_update\u001b[0m\u001b[1;33m[\u001b[0m\u001b[1;34m'last_list_update'\u001b[0m\u001b[1;33m]\u001b[0m \u001b[1;33m=\u001b[0m \u001b[0mpd\u001b[0m\u001b[1;33m.\u001b[0m\u001b[0mto_datetime\u001b[0m\u001b[1;33m(\u001b[0m\u001b[0musers_last_list_update\u001b[0m\u001b[1;33m[\u001b[0m\u001b[1;34m'last_list_update'\u001b[0m\u001b[1;33m]\u001b[0m\u001b[1;33m)\u001b[0m\u001b[1;33m\u001b[0m\u001b[1;33m\u001b[0m\u001b[0m\n\u001b[0m\u001b[0;32m      5\u001b[0m \u001b[0musers_merged\u001b[0m \u001b[1;33m=\u001b[0m \u001b[0mpd\u001b[0m\u001b[1;33m.\u001b[0m\u001b[0mmerge\u001b[0m\u001b[1;33m(\u001b[0m\u001b[0musers\u001b[0m\u001b[1;33m[\u001b[0m\u001b[1;33m[\u001b[0m\u001b[1;34m'username'\u001b[0m\u001b[1;33m,\u001b[0m \u001b[1;34m'last_online'\u001b[0m\u001b[1;33m]\u001b[0m\u001b[1;33m]\u001b[0m\u001b[1;33m,\u001b[0m \u001b[0musers_last_list_update\u001b[0m\u001b[1;33m,\u001b[0m \u001b[0mleft_on\u001b[0m\u001b[1;33m=\u001b[0m\u001b[1;34m'username'\u001b[0m\u001b[1;33m,\u001b[0m \u001b[0mright_index\u001b[0m\u001b[1;33m=\u001b[0m\u001b[1;32mTrue\u001b[0m\u001b[1;33m)\u001b[0m\u001b[1;33m\u001b[0m\u001b[1;33m\u001b[0m\u001b[0m\n\u001b[0;32m      6\u001b[0m \u001b[0musers\u001b[0m\u001b[1;33m.\u001b[0m\u001b[0mloc\u001b[0m\u001b[1;33m[\u001b[0m\u001b[0musers\u001b[0m\u001b[1;33m[\u001b[0m\u001b[1;34m'last_online'\u001b[0m\u001b[1;33m]\u001b[0m\u001b[1;33m.\u001b[0m\u001b[0mdt\u001b[0m\u001b[1;33m.\u001b[0m\u001b[0myear\u001b[0m \u001b[1;33m==\u001b[0m \u001b[1;36m1900\u001b[0m\u001b[1;33m,\u001b[0m \u001b[1;34m'last_online'\u001b[0m\u001b[1;33m]\u001b[0m \u001b[1;33m=\u001b[0m \u001b[0musers_merged\u001b[0m\u001b[1;33m[\u001b[0m\u001b[0musers\u001b[0m\u001b[1;33m[\u001b[0m\u001b[1;34m'last_online'\u001b[0m\u001b[1;33m]\u001b[0m\u001b[1;33m.\u001b[0m\u001b[0mdt\u001b[0m\u001b[1;33m.\u001b[0m\u001b[0myear\u001b[0m \u001b[1;33m==\u001b[0m \u001b[1;36m1900\u001b[0m\u001b[1;33m]\u001b[0m\u001b[1;33m[\u001b[0m\u001b[1;34m'last_list_update'\u001b[0m\u001b[1;33m]\u001b[0m\u001b[1;33m\u001b[0m\u001b[1;33m\u001b[0m\u001b[0m\n",
      "\u001b[1;32mC:\\ProgramData\\Anaconda3\\lib\\site-packages\\pandas\\core\\frame.py\u001b[0m in \u001b[0;36m__getitem__\u001b[1;34m(self, key)\u001b[0m\n\u001b[0;32m   2925\u001b[0m             \u001b[1;32mif\u001b[0m \u001b[0mself\u001b[0m\u001b[1;33m.\u001b[0m\u001b[0mcolumns\u001b[0m\u001b[1;33m.\u001b[0m\u001b[0mnlevels\u001b[0m \u001b[1;33m>\u001b[0m \u001b[1;36m1\u001b[0m\u001b[1;33m:\u001b[0m\u001b[1;33m\u001b[0m\u001b[1;33m\u001b[0m\u001b[0m\n\u001b[0;32m   2926\u001b[0m                 \u001b[1;32mreturn\u001b[0m \u001b[0mself\u001b[0m\u001b[1;33m.\u001b[0m\u001b[0m_getitem_multilevel\u001b[0m\u001b[1;33m(\u001b[0m\u001b[0mkey\u001b[0m\u001b[1;33m)\u001b[0m\u001b[1;33m\u001b[0m\u001b[1;33m\u001b[0m\u001b[0m\n\u001b[1;32m-> 2927\u001b[1;33m             \u001b[0mindexer\u001b[0m \u001b[1;33m=\u001b[0m \u001b[0mself\u001b[0m\u001b[1;33m.\u001b[0m\u001b[0mcolumns\u001b[0m\u001b[1;33m.\u001b[0m\u001b[0mget_loc\u001b[0m\u001b[1;33m(\u001b[0m\u001b[0mkey\u001b[0m\u001b[1;33m)\u001b[0m\u001b[1;33m\u001b[0m\u001b[1;33m\u001b[0m\u001b[0m\n\u001b[0m\u001b[0;32m   2928\u001b[0m             \u001b[1;32mif\u001b[0m \u001b[0mis_integer\u001b[0m\u001b[1;33m(\u001b[0m\u001b[0mindexer\u001b[0m\u001b[1;33m)\u001b[0m\u001b[1;33m:\u001b[0m\u001b[1;33m\u001b[0m\u001b[1;33m\u001b[0m\u001b[0m\n\u001b[0;32m   2929\u001b[0m                 \u001b[0mindexer\u001b[0m \u001b[1;33m=\u001b[0m \u001b[1;33m[\u001b[0m\u001b[0mindexer\u001b[0m\u001b[1;33m]\u001b[0m\u001b[1;33m\u001b[0m\u001b[1;33m\u001b[0m\u001b[0m\n",
      "\u001b[1;32mC:\\ProgramData\\Anaconda3\\lib\\site-packages\\pandas\\core\\indexes\\base.py\u001b[0m in \u001b[0;36mget_loc\u001b[1;34m(self, key, method, tolerance)\u001b[0m\n\u001b[0;32m   2656\u001b[0m                 \u001b[1;32mreturn\u001b[0m \u001b[0mself\u001b[0m\u001b[1;33m.\u001b[0m\u001b[0m_engine\u001b[0m\u001b[1;33m.\u001b[0m\u001b[0mget_loc\u001b[0m\u001b[1;33m(\u001b[0m\u001b[0mkey\u001b[0m\u001b[1;33m)\u001b[0m\u001b[1;33m\u001b[0m\u001b[1;33m\u001b[0m\u001b[0m\n\u001b[0;32m   2657\u001b[0m             \u001b[1;32mexcept\u001b[0m \u001b[0mKeyError\u001b[0m\u001b[1;33m:\u001b[0m\u001b[1;33m\u001b[0m\u001b[1;33m\u001b[0m\u001b[0m\n\u001b[1;32m-> 2658\u001b[1;33m                 \u001b[1;32mreturn\u001b[0m \u001b[0mself\u001b[0m\u001b[1;33m.\u001b[0m\u001b[0m_engine\u001b[0m\u001b[1;33m.\u001b[0m\u001b[0mget_loc\u001b[0m\u001b[1;33m(\u001b[0m\u001b[0mself\u001b[0m\u001b[1;33m.\u001b[0m\u001b[0m_maybe_cast_indexer\u001b[0m\u001b[1;33m(\u001b[0m\u001b[0mkey\u001b[0m\u001b[1;33m)\u001b[0m\u001b[1;33m)\u001b[0m\u001b[1;33m\u001b[0m\u001b[1;33m\u001b[0m\u001b[0m\n\u001b[0m\u001b[0;32m   2659\u001b[0m         \u001b[0mindexer\u001b[0m \u001b[1;33m=\u001b[0m \u001b[0mself\u001b[0m\u001b[1;33m.\u001b[0m\u001b[0mget_indexer\u001b[0m\u001b[1;33m(\u001b[0m\u001b[1;33m[\u001b[0m\u001b[0mkey\u001b[0m\u001b[1;33m]\u001b[0m\u001b[1;33m,\u001b[0m \u001b[0mmethod\u001b[0m\u001b[1;33m=\u001b[0m\u001b[0mmethod\u001b[0m\u001b[1;33m,\u001b[0m \u001b[0mtolerance\u001b[0m\u001b[1;33m=\u001b[0m\u001b[0mtolerance\u001b[0m\u001b[1;33m)\u001b[0m\u001b[1;33m\u001b[0m\u001b[1;33m\u001b[0m\u001b[0m\n\u001b[0;32m   2660\u001b[0m         \u001b[1;32mif\u001b[0m \u001b[0mindexer\u001b[0m\u001b[1;33m.\u001b[0m\u001b[0mndim\u001b[0m \u001b[1;33m>\u001b[0m \u001b[1;36m1\u001b[0m \u001b[1;32mor\u001b[0m \u001b[0mindexer\u001b[0m\u001b[1;33m.\u001b[0m\u001b[0msize\u001b[0m \u001b[1;33m>\u001b[0m \u001b[1;36m1\u001b[0m\u001b[1;33m:\u001b[0m\u001b[1;33m\u001b[0m\u001b[1;33m\u001b[0m\u001b[0m\n",
      "\u001b[1;32mpandas\\_libs\\index.pyx\u001b[0m in \u001b[0;36mpandas._libs.index.IndexEngine.get_loc\u001b[1;34m()\u001b[0m\n",
      "\u001b[1;32mpandas\\_libs\\index.pyx\u001b[0m in \u001b[0;36mpandas._libs.index.IndexEngine.get_loc\u001b[1;34m()\u001b[0m\n",
      "\u001b[1;32mpandas\\_libs\\hashtable_class_helper.pxi\u001b[0m in \u001b[0;36mpandas._libs.hashtable.PyObjectHashTable.get_item\u001b[1;34m()\u001b[0m\n",
      "\u001b[1;32mpandas\\_libs\\hashtable_class_helper.pxi\u001b[0m in \u001b[0;36mpandas._libs.hashtable.PyObjectHashTable.get_item\u001b[1;34m()\u001b[0m\n",
      "\u001b[1;31mKeyError\u001b[0m: 'last_list_update'"
     ],
     "ename": "KeyError",
     "evalue": "'last_list_update'",
     "output_type": "error"
    }
   ],
   "source": [
    "#now really inferring the best estimation of last online\n",
    "users_last_list_update = get_users_last_list_update_cached()\n",
    "users_last_list_update['last_list_update'] = pd.to_datetime(users_last_list_update['last_list_update'])\n",
    "users_merged = pd.merge(users[['username', 'last_online']], users_last_list_update, left_on='username', right_index=True)\n",
    "users.loc[users['last_online'].dt.year == 1900, 'last_online'] = users_merged[users['last_online'].dt.year == 1900]['last_list_update']"
   ]
  },
  {
   "cell_type": "code",
   "execution_count": null,
   "metadata": {
    "pycharm": {
     "is_executing": false
    }
   },
   "outputs": [],
   "source": [
    "users[users['username'].isin(['RedvelvetDaisuki', 'Damonashu', 'Bas_G'])][['username', 'last_online']].head()"
   ]
  },
  {
   "cell_type": "code",
   "execution_count": null,
   "metadata": {
    "pycharm": {
     "is_executing": false
    }
   },
   "outputs": [],
   "source": [
    "users['last_online'].dt.year.hist(bins=11, figsize=(16, 8))"
   ]
  },
  {
   "cell_type": "code",
   "execution_count": null,
   "metadata": {
    "pycharm": {
     "is_executing": false
    }
   },
   "outputs": [],
   "source": [
    "animes.head()"
   ]
  },
  {
   "cell_type": "code",
   "execution_count": null,
   "metadata": {
    "scrolled": true,
    "pycharm": {
     "is_executing": false
    }
   },
   "outputs": [],
   "source": [
    "animes['episodes'].value_counts()"
   ]
  },
  {
   "cell_type": "code",
   "execution_count": null,
   "metadata": {
    "pycharm": {
     "is_executing": false
    }
   },
   "outputs": [],
   "source": [
    "# banning users with 65535 episodes of single anime in their list -> not trustworthy\n",
    "users_for_ban = get_users_for_episode_count_ban_cached()\n",
    "print(users_for_ban)\n",
    "print('num of users for ban:', len(users_for_ban))"
   ]
  },
  {
   "cell_type": "code",
   "execution_count": null,
   "metadata": {
    "pycharm": {
     "is_executing": false
    }
   },
   "outputs": [],
   "source": [
    "users = users[~users['username'].isin(users_for_ban)]"
   ]
  },
  {
   "cell_type": "code",
   "execution_count": null,
   "metadata": {
    "pycharm": {
     "is_executing": false
    }
   },
   "outputs": [],
   "source": [
    "animes.columns"
   ]
  },
  {
   "cell_type": "code",
   "execution_count": 124,
   "metadata": {
    "pycharm": {
     "is_executing": false
    }
   },
   "outputs": [
    {
     "data": {
      "text/plain": "   anime_id                title  episodes         duration\n0     11013        Inu x Boku SS        12  24 min. per ep.\n1      2104     Seto no Hanayome        26  24 min. per ep.\n2      5262   Shugo Chara!! Doki        51  24 min. per ep.\n3       721        Princess Tutu        38  16 min. per ep.\n4     12365  Bakuman. 3rd Season        25  24 min. per ep.",
      "text/html": "<div>\n<style scoped>\n    .dataframe tbody tr th:only-of-type {\n        vertical-align: middle;\n    }\n\n    .dataframe tbody tr th {\n        vertical-align: top;\n    }\n\n    .dataframe thead th {\n        text-align: right;\n    }\n</style>\n<table border=\"1\" class=\"dataframe\">\n  <thead>\n    <tr style=\"text-align: right;\">\n      <th></th>\n      <th>anime_id</th>\n      <th>title</th>\n      <th>episodes</th>\n      <th>duration</th>\n    </tr>\n  </thead>\n  <tbody>\n    <tr>\n      <th>0</th>\n      <td>11013</td>\n      <td>Inu x Boku SS</td>\n      <td>12</td>\n      <td>24 min. per ep.</td>\n    </tr>\n    <tr>\n      <th>1</th>\n      <td>2104</td>\n      <td>Seto no Hanayome</td>\n      <td>26</td>\n      <td>24 min. per ep.</td>\n    </tr>\n    <tr>\n      <th>2</th>\n      <td>5262</td>\n      <td>Shugo Chara!! Doki</td>\n      <td>51</td>\n      <td>24 min. per ep.</td>\n    </tr>\n    <tr>\n      <th>3</th>\n      <td>721</td>\n      <td>Princess Tutu</td>\n      <td>38</td>\n      <td>16 min. per ep.</td>\n    </tr>\n    <tr>\n      <th>4</th>\n      <td>12365</td>\n      <td>Bakuman. 3rd Season</td>\n      <td>25</td>\n      <td>24 min. per ep.</td>\n    </tr>\n  </tbody>\n</table>\n</div>"
     },
     "metadata": {},
     "output_type": "execute_result",
     "execution_count": 124
    }
   ],
   "source": [
    "animes[['anime_id', 'title', 'episodes', 'duration']].head()"
   ]
  },
  {
   "cell_type": "code",
   "execution_count": 125,
   "metadata": {
    "scrolled": true,
    "pycharm": {
     "is_executing": false
    }
   },
   "outputs": [],
   "source": [
    "#animes['duration'].value_counts()"
   ]
  },
  {
   "cell_type": "code",
   "execution_count": 126,
   "metadata": {
    "pycharm": {
     "is_executing": false
    }
   },
   "outputs": [],
   "source": [
    "# calculating watch time in minutes and adding it to new column for anime\n",
    "def str_to_minutes(string):\n",
    "    m = re.search('((\\d+) hr\\.)?( ?(\\d+) min\\.)?( ?(\\d+) sec\\.)?( per ep\\.)?', string)\n",
    "    hours = 0 if m.group(2) is None else int(m.group(2))\n",
    "    minutes = 0 if m.group(4) is None else int(m.group(4))\n",
    "    seconds = 0 if m.group(6) is None else int(m.group(6))\n",
    "    return hours * 60 + minutes + seconds / 60\n",
    "\n",
    "animes['duration_min'] = animes['duration'].apply(str_to_minutes)"
   ]
  },
  {
   "cell_type": "code",
   "execution_count": 127,
   "metadata": {
    "pycharm": {
     "is_executing": false
    }
   },
   "outputs": [
    {
     "data": {
      "text/plain": "   anime_id                title  episodes         duration  duration_min\n0     11013        Inu x Boku SS        12  24 min. per ep.          24.0\n1      2104     Seto no Hanayome        26  24 min. per ep.          24.0\n2      5262   Shugo Chara!! Doki        51  24 min. per ep.          24.0\n3       721        Princess Tutu        38  16 min. per ep.          16.0\n4     12365  Bakuman. 3rd Season        25  24 min. per ep.          24.0",
      "text/html": "<div>\n<style scoped>\n    .dataframe tbody tr th:only-of-type {\n        vertical-align: middle;\n    }\n\n    .dataframe tbody tr th {\n        vertical-align: top;\n    }\n\n    .dataframe thead th {\n        text-align: right;\n    }\n</style>\n<table border=\"1\" class=\"dataframe\">\n  <thead>\n    <tr style=\"text-align: right;\">\n      <th></th>\n      <th>anime_id</th>\n      <th>title</th>\n      <th>episodes</th>\n      <th>duration</th>\n      <th>duration_min</th>\n    </tr>\n  </thead>\n  <tbody>\n    <tr>\n      <th>0</th>\n      <td>11013</td>\n      <td>Inu x Boku SS</td>\n      <td>12</td>\n      <td>24 min. per ep.</td>\n      <td>24.0</td>\n    </tr>\n    <tr>\n      <th>1</th>\n      <td>2104</td>\n      <td>Seto no Hanayome</td>\n      <td>26</td>\n      <td>24 min. per ep.</td>\n      <td>24.0</td>\n    </tr>\n    <tr>\n      <th>2</th>\n      <td>5262</td>\n      <td>Shugo Chara!! Doki</td>\n      <td>51</td>\n      <td>24 min. per ep.</td>\n      <td>24.0</td>\n    </tr>\n    <tr>\n      <th>3</th>\n      <td>721</td>\n      <td>Princess Tutu</td>\n      <td>38</td>\n      <td>16 min. per ep.</td>\n      <td>16.0</td>\n    </tr>\n    <tr>\n      <th>4</th>\n      <td>12365</td>\n      <td>Bakuman. 3rd Season</td>\n      <td>25</td>\n      <td>24 min. per ep.</td>\n      <td>24.0</td>\n    </tr>\n  </tbody>\n</table>\n</div>"
     },
     "metadata": {},
     "output_type": "execute_result",
     "execution_count": 127
    }
   ],
   "source": [
    "animes[['anime_id', 'title', 'episodes', 'duration', 'duration_min']].head()"
   ]
  },
  {
   "cell_type": "code",
   "execution_count": 128,
   "metadata": {
    "pycharm": {
     "is_executing": false
    }
   },
   "outputs": [
    {
     "data": {
      "text/plain": "      username  user_id  user_watching  user_completed  user_onhold  \\\n7528  heeroYuy    20638             18              69            3   \n\n      user_dropped  user_plantowatch  user_days_spent_watching gender  \\\n7528             4                32                     38.51   Male   \n\n                     location birth_date  access_rank  join_date  \\\n7528  Philippines, digos city 1990-12-29          NaN 2007-11-07   \n\n             last_online  stats_mean_score  stats_rewatched  stats_episodes  \n7528 2008-02-16 03:46:00              9.51              0.0          2297.0  ",
      "text/html": "<div>\n<style scoped>\n    .dataframe tbody tr th:only-of-type {\n        vertical-align: middle;\n    }\n\n    .dataframe tbody tr th {\n        vertical-align: top;\n    }\n\n    .dataframe thead th {\n        text-align: right;\n    }\n</style>\n<table border=\"1\" class=\"dataframe\">\n  <thead>\n    <tr style=\"text-align: right;\">\n      <th></th>\n      <th>username</th>\n      <th>user_id</th>\n      <th>user_watching</th>\n      <th>user_completed</th>\n      <th>user_onhold</th>\n      <th>user_dropped</th>\n      <th>user_plantowatch</th>\n      <th>user_days_spent_watching</th>\n      <th>gender</th>\n      <th>location</th>\n      <th>birth_date</th>\n      <th>access_rank</th>\n      <th>join_date</th>\n      <th>last_online</th>\n      <th>stats_mean_score</th>\n      <th>stats_rewatched</th>\n      <th>stats_episodes</th>\n    </tr>\n  </thead>\n  <tbody>\n    <tr>\n      <th>7528</th>\n      <td>heeroYuy</td>\n      <td>20638</td>\n      <td>18</td>\n      <td>69</td>\n      <td>3</td>\n      <td>4</td>\n      <td>32</td>\n      <td>38.51</td>\n      <td>Male</td>\n      <td>Philippines, digos city</td>\n      <td>1990-12-29</td>\n      <td>NaN</td>\n      <td>2007-11-07</td>\n      <td>2008-02-16 03:46:00</td>\n      <td>9.51</td>\n      <td>0.0</td>\n      <td>2297.0</td>\n    </tr>\n  </tbody>\n</table>\n</div>"
     },
     "metadata": {},
     "output_type": "execute_result",
     "execution_count": 128
    }
   ],
   "source": [
    "users[users['username'] == 'heeroYuy']"
   ]
  },
  {
   "cell_type": "code",
   "execution_count": 129,
   "metadata": {
    "pycharm": {
     "is_executing": false
    }
   },
   "outputs": [
    {
     "data": {
      "text/plain": "        username  user_id  user_watching  user_completed  user_onhold  \\\n20197  abystoma2  3336425            180            5121          296   \n\n       user_dropped  user_plantowatch  user_days_spent_watching gender  \\\n20197             0               969                    629.24   Male   \n\n             location birth_date  access_rank  join_date         last_online  \\\n20197  Czech Republic 1997-06-02          NaN 2013-11-14 2018-05-18 01:22:00   \n\n       stats_mean_score  stats_rewatched  stats_episodes  \n20197              4.74            147.0         44151.0  ",
      "text/html": "<div>\n<style scoped>\n    .dataframe tbody tr th:only-of-type {\n        vertical-align: middle;\n    }\n\n    .dataframe tbody tr th {\n        vertical-align: top;\n    }\n\n    .dataframe thead th {\n        text-align: right;\n    }\n</style>\n<table border=\"1\" class=\"dataframe\">\n  <thead>\n    <tr style=\"text-align: right;\">\n      <th></th>\n      <th>username</th>\n      <th>user_id</th>\n      <th>user_watching</th>\n      <th>user_completed</th>\n      <th>user_onhold</th>\n      <th>user_dropped</th>\n      <th>user_plantowatch</th>\n      <th>user_days_spent_watching</th>\n      <th>gender</th>\n      <th>location</th>\n      <th>birth_date</th>\n      <th>access_rank</th>\n      <th>join_date</th>\n      <th>last_online</th>\n      <th>stats_mean_score</th>\n      <th>stats_rewatched</th>\n      <th>stats_episodes</th>\n    </tr>\n  </thead>\n  <tbody>\n    <tr>\n      <th>20197</th>\n      <td>abystoma2</td>\n      <td>3336425</td>\n      <td>180</td>\n      <td>5121</td>\n      <td>296</td>\n      <td>0</td>\n      <td>969</td>\n      <td>629.24</td>\n      <td>Male</td>\n      <td>Czech Republic</td>\n      <td>1997-06-02</td>\n      <td>NaN</td>\n      <td>2013-11-14</td>\n      <td>2018-05-18 01:22:00</td>\n      <td>4.74</td>\n      <td>147.0</td>\n      <td>44151.0</td>\n    </tr>\n  </tbody>\n</table>\n</div>"
     },
     "metadata": {},
     "output_type": "execute_result",
     "execution_count": 129
    }
   ],
   "source": [
    "users[users['username'] == 'abystoma2']"
   ]
  },
  {
   "cell_type": "code",
   "execution_count": 130,
   "metadata": {
    "pycharm": {
     "is_executing": false
    }
   },
   "outputs": [],
   "source": [
    "# one weird user with 2601351.02 days watches ruins the plot, ommiting him by xlim\n",
    "users['user_days_spent_watching'].hist(bins=5000, figsize=(16, 8))\n",
    "plt.gca().set_yscale('log')\n"
   ]
  },
  {
   "cell_type": "code",
   "execution_count": 131,
   "metadata": {
    "pycharm": {
     "is_executing": false
    }
   },
   "outputs": [
    {
     "data": {
      "text/plain": "2601351.02"
     },
     "metadata": {},
     "output_type": "execute_result",
     "execution_count": 131
    }
   ],
   "source": [
    "users['user_days_spent_watching'].max()"
   ]
  },
  {
   "cell_type": "code",
   "execution_count": 184,
   "metadata": {
    "pycharm": {
     "is_executing": false
    }
   },
   "outputs": [
    {
     "data": {
      "text/plain": "Empty DataFrame\nColumns: [username, user_id, user_watching, user_completed, user_onhold, user_dropped, user_plantowatch, user_days_spent_watching, gender, location, birth_date, access_rank, join_date, last_online, stats_mean_score, stats_rewatched, stats_episodes]\nIndex: []",
      "text/html": "<div>\n<style scoped>\n    .dataframe tbody tr th:only-of-type {\n        vertical-align: middle;\n    }\n\n    .dataframe tbody tr th {\n        vertical-align: top;\n    }\n\n    .dataframe thead th {\n        text-align: right;\n    }\n</style>\n<table border=\"1\" class=\"dataframe\">\n  <thead>\n    <tr style=\"text-align: right;\">\n      <th></th>\n      <th>username</th>\n      <th>user_id</th>\n      <th>user_watching</th>\n      <th>user_completed</th>\n      <th>user_onhold</th>\n      <th>user_dropped</th>\n      <th>user_plantowatch</th>\n      <th>user_days_spent_watching</th>\n      <th>gender</th>\n      <th>location</th>\n      <th>birth_date</th>\n      <th>access_rank</th>\n      <th>join_date</th>\n      <th>last_online</th>\n      <th>stats_mean_score</th>\n      <th>stats_rewatched</th>\n      <th>stats_episodes</th>\n    </tr>\n  </thead>\n  <tbody>\n  </tbody>\n</table>\n</div>"
     },
     "metadata": {},
     "output_type": "execute_result",
     "execution_count": 184
    }
   ],
   "source": [
    "users[users['user_days_spent_watching'] == 2601351.02]"
   ]
  },
  {
   "cell_type": "code",
   "execution_count": 133,
   "metadata": {
    "pycharm": {
     "is_executing": false
    }
   },
   "outputs": [],
   "source": [
    "# now finally fixing days watch times\n",
    "user_days_spent_watching = get_user_days_spent_watching_cached()\n",
    "#users['user_days_spent_watching'] = user_days_spent_watching\n",
    "users_merged = pd.merge(users[['username']], user_days_spent_watching, left_on='username', right_index=True)\n",
    "users['user_days_spent_watching'] = users_merged['days_spent_watching']"
   ]
  },
  {
   "cell_type": "code",
   "execution_count": 134,
   "metadata": {
    "pycharm": {
     "is_executing": false
    }
   },
   "outputs": [],
   "source": [
    "users['user_days_spent_watching'].hist(bins=1000, figsize=(16, 8))\n",
    "plt.gca().set_yscale('log')\n"
   ]
  },
  {
   "cell_type": "code",
   "execution_count": 135,
   "metadata": {
    "pycharm": {
     "is_executing": false
    }
   },
   "outputs": [
    {
     "data": {
      "text/plain": "Index(['username', 'user_id', 'user_watching', 'user_completed', 'user_onhold',\n       'user_dropped', 'user_plantowatch', 'user_days_spent_watching',\n       'gender', 'location', 'birth_date', 'access_rank', 'join_date',\n       'last_online', 'stats_mean_score', 'stats_rewatched', 'stats_episodes'],\n      dtype='object')"
     },
     "metadata": {},
     "output_type": "execute_result",
     "execution_count": 135
    }
   ],
   "source": [
    "users.columns"
   ]
  },
  {
   "cell_type": "code",
   "execution_count": 136,
   "metadata": {
    "pycharm": {
     "is_executing": false
    }
   },
   "outputs": [],
   "source": [
    "# so we need also to check number of watched episodes and fix them\n",
    "users['stats_episodes'].hist(bins=5000, figsize=(16, 8))\n",
    "plt.gca().set_yscale('log')\n"
   ]
  },
  {
   "cell_type": "code",
   "execution_count": 137,
   "metadata": {
    "pycharm": {
     "is_executing": false
    }
   },
   "outputs": [],
   "source": [
    "# actually fixing number of episodes\n",
    "user_episodes_cached = get_users_stats_episodes_cached()\n",
    "#users['user_days_spent_watching'] = user_days_spent_watching\n",
    "users_merged = pd.merge(users[['username']], user_episodes_cached, left_on='username', right_index=True)\n",
    "users['stats_episodes'] = users_merged['stats_episodes']"
   ]
  },
  {
   "cell_type": "code",
   "execution_count": 138,
   "metadata": {
    "pycharm": {
     "is_executing": false
    }
   },
   "outputs": [],
   "source": [
    "users['stats_episodes'].hist(bins=500, figsize=(16, 8))\n",
    "plt.gca().set_yscale('log')\n"
   ]
  },
  {
   "cell_type": "code",
   "execution_count": 139,
   "metadata": {
    "pycharm": {
     "is_executing": false
    }
   },
   "outputs": [
    {
     "data": {
      "text/plain": "                username  stats_episodes\n47808          ComfyLoli        120652.0\n101868           Tsutaee        118093.0\n41507         TsukasaKei        100333.0\n30447        spacecowboy         93622.0\n20966         Dedzapadlo         82260.0\n74907            De_Baer         76422.0\n62254   VincentHarkonnen         74422.0\n74013             xbhrjd         74347.0\n8728          dumnorix98         62347.0\n17366             Loomir         61370.0",
      "text/html": "<div>\n<style scoped>\n    .dataframe tbody tr th:only-of-type {\n        vertical-align: middle;\n    }\n\n    .dataframe tbody tr th {\n        vertical-align: top;\n    }\n\n    .dataframe thead th {\n        text-align: right;\n    }\n</style>\n<table border=\"1\" class=\"dataframe\">\n  <thead>\n    <tr style=\"text-align: right;\">\n      <th></th>\n      <th>username</th>\n      <th>stats_episodes</th>\n    </tr>\n  </thead>\n  <tbody>\n    <tr>\n      <th>47808</th>\n      <td>ComfyLoli</td>\n      <td>120652.0</td>\n    </tr>\n    <tr>\n      <th>101868</th>\n      <td>Tsutaee</td>\n      <td>118093.0</td>\n    </tr>\n    <tr>\n      <th>41507</th>\n      <td>TsukasaKei</td>\n      <td>100333.0</td>\n    </tr>\n    <tr>\n      <th>30447</th>\n      <td>spacecowboy</td>\n      <td>93622.0</td>\n    </tr>\n    <tr>\n      <th>20966</th>\n      <td>Dedzapadlo</td>\n      <td>82260.0</td>\n    </tr>\n    <tr>\n      <th>74907</th>\n      <td>De_Baer</td>\n      <td>76422.0</td>\n    </tr>\n    <tr>\n      <th>62254</th>\n      <td>VincentHarkonnen</td>\n      <td>74422.0</td>\n    </tr>\n    <tr>\n      <th>74013</th>\n      <td>xbhrjd</td>\n      <td>74347.0</td>\n    </tr>\n    <tr>\n      <th>8728</th>\n      <td>dumnorix98</td>\n      <td>62347.0</td>\n    </tr>\n    <tr>\n      <th>17366</th>\n      <td>Loomir</td>\n      <td>61370.0</td>\n    </tr>\n  </tbody>\n</table>\n</div>"
     },
     "metadata": {},
     "output_type": "execute_result",
     "execution_count": 139
    }
   ],
   "source": [
    "users.loc[users['stats_episodes'].nlargest(10).index][['username', 'stats_episodes']]"
   ]
  },
  {
   "cell_type": "code",
   "execution_count": 140,
   "metadata": {
    "pycharm": {
     "is_executing": false
    }
   },
   "outputs": [
    {
     "data": {
      "text/plain": "Empty DataFrame\nColumns: [username, user_id, user_watching, user_completed, user_onhold, user_dropped, user_plantowatch, user_days_spent_watching, gender, location, birth_date, access_rank, join_date, last_online, stats_mean_score, stats_rewatched, stats_episodes]\nIndex: []",
      "text/html": "<div>\n<style scoped>\n    .dataframe tbody tr th:only-of-type {\n        vertical-align: middle;\n    }\n\n    .dataframe tbody tr th {\n        vertical-align: top;\n    }\n\n    .dataframe thead th {\n        text-align: right;\n    }\n</style>\n<table border=\"1\" class=\"dataframe\">\n  <thead>\n    <tr style=\"text-align: right;\">\n      <th></th>\n      <th>username</th>\n      <th>user_id</th>\n      <th>user_watching</th>\n      <th>user_completed</th>\n      <th>user_onhold</th>\n      <th>user_dropped</th>\n      <th>user_plantowatch</th>\n      <th>user_days_spent_watching</th>\n      <th>gender</th>\n      <th>location</th>\n      <th>birth_date</th>\n      <th>access_rank</th>\n      <th>join_date</th>\n      <th>last_online</th>\n      <th>stats_mean_score</th>\n      <th>stats_rewatched</th>\n      <th>stats_episodes</th>\n    </tr>\n  </thead>\n  <tbody>\n  </tbody>\n</table>\n</div>"
     },
     "metadata": {},
     "output_type": "execute_result",
     "execution_count": 140
    }
   ],
   "source": [
    "users[users['stats_episodes'] == 133457]"
   ]
  },
  {
   "cell_type": "markdown",
   "metadata": {},
   "source": [
    "## Now I have some basic filtering done and data is fixed, inspecting birth date and age"
   ]
  },
  {
   "cell_type": "code",
   "execution_count": 141,
   "metadata": {
    "pycharm": {
     "is_executing": false
    }
   },
   "outputs": [],
   "source": [
    "users['age'] = 2018 - users['birth_date'].dt.year"
   ]
  },
  {
   "cell_type": "code",
   "execution_count": 142,
   "metadata": {
    "pycharm": {
     "is_executing": false
    }
   },
   "outputs": [
    {
     "name": "stderr",
     "text": [
      "C:\\ProgramData\\Anaconda3\\lib\\site-packages\\matplotlib\\axes\\_base.py:848: UserWarning: aspect is not supported for Axes with xscale=linear, yscale=log\n  self.apply_aspect()\n"
     ],
     "output_type": "stream"
    },
    {
     "data": {
      "text/plain": "<matplotlib.axes._subplots.AxesSubplot at 0x1129f3146a0>"
     },
     "metadata": {},
     "output_type": "execute_result",
     "execution_count": 142
    }
   ],
   "source": [
    "users['age'].value_counts().sort_index().plot.bar(figsize=(16, 10), title='users age')"
   ]
  },
  {
   "cell_type": "code",
   "execution_count": 143,
   "metadata": {
    "pycharm": {
     "is_executing": false
    }
   },
   "outputs": [
    {
     "name": "stderr",
     "text": [
      "C:\\ProgramData\\Anaconda3\\lib\\site-packages\\matplotlib\\axes\\_base.py:848: UserWarning: aspect is not supported for Axes with xscale=linear, yscale=log\n  self.apply_aspect()\n"
     ],
     "output_type": "stream"
    },
    {
     "data": {
      "text/plain": "<matplotlib.axes._subplots.AxesSubplot at 0x1129f3146a0>"
     },
     "metadata": {},
     "output_type": "execute_result",
     "execution_count": 143
    }
   ],
   "source": [
    "users['age'].value_counts().sort_index().plot.bar(figsize=(16, 10), title='users age', logy=True)"
   ]
  },
  {
   "cell_type": "code",
   "execution_count": 144,
   "metadata": {
    "pycharm": {
     "is_executing": false
    }
   },
   "outputs": [
    {
     "name": "stderr",
     "text": [
      "C:\\ProgramData\\Anaconda3\\lib\\site-packages\\matplotlib\\axes\\_base.py:848: UserWarning: aspect is not supported for Axes with xscale=linear, yscale=log\n  self.apply_aspect()\n"
     ],
     "output_type": "stream"
    },
    {
     "data": {
      "text/plain": "<matplotlib.axes._subplots.AxesSubplot at 0x1129f3146a0>"
     },
     "metadata": {},
     "output_type": "execute_result",
     "execution_count": 144
    }
   ],
   "source": [
    "users['birth_date'].dt.dayofyear.value_counts().sort_index().plot.bar(figsize=(16, 10), title='day of year')"
   ]
  },
  {
   "cell_type": "code",
   "execution_count": 145,
   "metadata": {
    "pycharm": {
     "is_executing": false
    }
   },
   "outputs": [
    {
     "name": "stderr",
     "text": [
      "C:\\ProgramData\\Anaconda3\\lib\\site-packages\\matplotlib\\axes\\_base.py:2575: UserWarning: aspect is not supported for Axes with xscale=linear, yscale=log\n  self.apply_aspect()\n",
      "C:\\ProgramData\\Anaconda3\\lib\\site-packages\\matplotlib\\axes\\_base.py:4371: UserWarning: aspect is not supported for Axes with xscale=linear, yscale=log\n  self.apply_aspect()\n",
      "C:\\ProgramData\\Anaconda3\\lib\\site-packages\\matplotlib\\axes\\_base.py:4371: UserWarning: aspect is not supported for Axes with xscale=linear, yscale=log\n  self.apply_aspect()\n",
      "C:\\ProgramData\\Anaconda3\\lib\\site-packages\\matplotlib\\axes\\_base.py:848: UserWarning: aspect is not supported for Axes with xscale=linear, yscale=log\n  self.apply_aspect()\n"
     ],
     "output_type": "stream"
    },
    {
     "traceback": [
      "\u001b[1;31m---------------------------------------------------------------------------\u001b[0m",
      "\u001b[1;31mValueError\u001b[0m                                Traceback (most recent call last)",
      "\u001b[1;32mC:\\ProgramData\\Anaconda3\\lib\\site-packages\\IPython\\core\\formatters.py\u001b[0m in \u001b[0;36m__call__\u001b[1;34m(self, obj)\u001b[0m\n\u001b[0;32m    339\u001b[0m                 \u001b[1;32mpass\u001b[0m\u001b[1;33m\u001b[0m\u001b[1;33m\u001b[0m\u001b[0m\n\u001b[0;32m    340\u001b[0m             \u001b[1;32melse\u001b[0m\u001b[1;33m:\u001b[0m\u001b[1;33m\u001b[0m\u001b[1;33m\u001b[0m\u001b[0m\n\u001b[1;32m--> 341\u001b[1;33m                 \u001b[1;32mreturn\u001b[0m \u001b[0mprinter\u001b[0m\u001b[1;33m(\u001b[0m\u001b[0mobj\u001b[0m\u001b[1;33m)\u001b[0m\u001b[1;33m\u001b[0m\u001b[1;33m\u001b[0m\u001b[0m\n\u001b[0m\u001b[0;32m    342\u001b[0m             \u001b[1;31m# Finally look for special method names\u001b[0m\u001b[1;33m\u001b[0m\u001b[1;33m\u001b[0m\u001b[1;33m\u001b[0m\u001b[0m\n\u001b[0;32m    343\u001b[0m             \u001b[0mmethod\u001b[0m \u001b[1;33m=\u001b[0m \u001b[0mget_real_method\u001b[0m\u001b[1;33m(\u001b[0m\u001b[0mobj\u001b[0m\u001b[1;33m,\u001b[0m \u001b[0mself\u001b[0m\u001b[1;33m.\u001b[0m\u001b[0mprint_method\u001b[0m\u001b[1;33m)\u001b[0m\u001b[1;33m\u001b[0m\u001b[1;33m\u001b[0m\u001b[0m\n",
      "\u001b[1;32mC:\\ProgramData\\Anaconda3\\lib\\site-packages\\IPython\\core\\pylabtools.py\u001b[0m in \u001b[0;36m<lambda>\u001b[1;34m(fig)\u001b[0m\n\u001b[0;32m    239\u001b[0m \u001b[1;33m\u001b[0m\u001b[0m\n\u001b[0;32m    240\u001b[0m     \u001b[1;32mif\u001b[0m \u001b[1;34m'png'\u001b[0m \u001b[1;32min\u001b[0m \u001b[0mformats\u001b[0m\u001b[1;33m:\u001b[0m\u001b[1;33m\u001b[0m\u001b[1;33m\u001b[0m\u001b[0m\n\u001b[1;32m--> 241\u001b[1;33m         \u001b[0mpng_formatter\u001b[0m\u001b[1;33m.\u001b[0m\u001b[0mfor_type\u001b[0m\u001b[1;33m(\u001b[0m\u001b[0mFigure\u001b[0m\u001b[1;33m,\u001b[0m \u001b[1;32mlambda\u001b[0m \u001b[0mfig\u001b[0m\u001b[1;33m:\u001b[0m \u001b[0mprint_figure\u001b[0m\u001b[1;33m(\u001b[0m\u001b[0mfig\u001b[0m\u001b[1;33m,\u001b[0m \u001b[1;34m'png'\u001b[0m\u001b[1;33m,\u001b[0m \u001b[1;33m**\u001b[0m\u001b[0mkwargs\u001b[0m\u001b[1;33m)\u001b[0m\u001b[1;33m)\u001b[0m\u001b[1;33m\u001b[0m\u001b[1;33m\u001b[0m\u001b[0m\n\u001b[0m\u001b[0;32m    242\u001b[0m     \u001b[1;32mif\u001b[0m \u001b[1;34m'retina'\u001b[0m \u001b[1;32min\u001b[0m \u001b[0mformats\u001b[0m \u001b[1;32mor\u001b[0m \u001b[1;34m'png2x'\u001b[0m \u001b[1;32min\u001b[0m \u001b[0mformats\u001b[0m\u001b[1;33m:\u001b[0m\u001b[1;33m\u001b[0m\u001b[1;33m\u001b[0m\u001b[0m\n\u001b[0;32m    243\u001b[0m         \u001b[0mpng_formatter\u001b[0m\u001b[1;33m.\u001b[0m\u001b[0mfor_type\u001b[0m\u001b[1;33m(\u001b[0m\u001b[0mFigure\u001b[0m\u001b[1;33m,\u001b[0m \u001b[1;32mlambda\u001b[0m \u001b[0mfig\u001b[0m\u001b[1;33m:\u001b[0m \u001b[0mretina_figure\u001b[0m\u001b[1;33m(\u001b[0m\u001b[0mfig\u001b[0m\u001b[1;33m,\u001b[0m \u001b[1;33m**\u001b[0m\u001b[0mkwargs\u001b[0m\u001b[1;33m)\u001b[0m\u001b[1;33m)\u001b[0m\u001b[1;33m\u001b[0m\u001b[1;33m\u001b[0m\u001b[0m\n",
      "\u001b[1;32mC:\\ProgramData\\Anaconda3\\lib\\site-packages\\IPython\\core\\pylabtools.py\u001b[0m in \u001b[0;36mprint_figure\u001b[1;34m(fig, fmt, bbox_inches, **kwargs)\u001b[0m\n\u001b[0;32m    123\u001b[0m \u001b[1;33m\u001b[0m\u001b[0m\n\u001b[0;32m    124\u001b[0m     \u001b[0mbytes_io\u001b[0m \u001b[1;33m=\u001b[0m \u001b[0mBytesIO\u001b[0m\u001b[1;33m(\u001b[0m\u001b[1;33m)\u001b[0m\u001b[1;33m\u001b[0m\u001b[1;33m\u001b[0m\u001b[0m\n\u001b[1;32m--> 125\u001b[1;33m     \u001b[0mfig\u001b[0m\u001b[1;33m.\u001b[0m\u001b[0mcanvas\u001b[0m\u001b[1;33m.\u001b[0m\u001b[0mprint_figure\u001b[0m\u001b[1;33m(\u001b[0m\u001b[0mbytes_io\u001b[0m\u001b[1;33m,\u001b[0m \u001b[1;33m**\u001b[0m\u001b[0mkw\u001b[0m\u001b[1;33m)\u001b[0m\u001b[1;33m\u001b[0m\u001b[1;33m\u001b[0m\u001b[0m\n\u001b[0m\u001b[0;32m    126\u001b[0m     \u001b[0mdata\u001b[0m \u001b[1;33m=\u001b[0m \u001b[0mbytes_io\u001b[0m\u001b[1;33m.\u001b[0m\u001b[0mgetvalue\u001b[0m\u001b[1;33m(\u001b[0m\u001b[1;33m)\u001b[0m\u001b[1;33m\u001b[0m\u001b[1;33m\u001b[0m\u001b[0m\n\u001b[0;32m    127\u001b[0m     \u001b[1;32mif\u001b[0m \u001b[0mfmt\u001b[0m \u001b[1;33m==\u001b[0m \u001b[1;34m'svg'\u001b[0m\u001b[1;33m:\u001b[0m\u001b[1;33m\u001b[0m\u001b[1;33m\u001b[0m\u001b[0m\n",
      "\u001b[1;32mC:\\ProgramData\\Anaconda3\\lib\\site-packages\\matplotlib\\backend_bases.py\u001b[0m in \u001b[0;36mprint_figure\u001b[1;34m(self, filename, dpi, facecolor, edgecolor, orientation, format, bbox_inches, **kwargs)\u001b[0m\n\u001b[0;32m   2073\u001b[0m                     \u001b[0morientation\u001b[0m\u001b[1;33m=\u001b[0m\u001b[0morientation\u001b[0m\u001b[1;33m,\u001b[0m\u001b[1;33m\u001b[0m\u001b[1;33m\u001b[0m\u001b[0m\n\u001b[0;32m   2074\u001b[0m                     \u001b[0mbbox_inches_restore\u001b[0m\u001b[1;33m=\u001b[0m\u001b[0m_bbox_inches_restore\u001b[0m\u001b[1;33m,\u001b[0m\u001b[1;33m\u001b[0m\u001b[1;33m\u001b[0m\u001b[0m\n\u001b[1;32m-> 2075\u001b[1;33m                     **kwargs)\n\u001b[0m\u001b[0;32m   2076\u001b[0m             \u001b[1;32mfinally\u001b[0m\u001b[1;33m:\u001b[0m\u001b[1;33m\u001b[0m\u001b[1;33m\u001b[0m\u001b[0m\n\u001b[0;32m   2077\u001b[0m                 \u001b[1;32mif\u001b[0m \u001b[0mbbox_inches\u001b[0m \u001b[1;32mand\u001b[0m \u001b[0mrestore_bbox\u001b[0m\u001b[1;33m:\u001b[0m\u001b[1;33m\u001b[0m\u001b[1;33m\u001b[0m\u001b[0m\n",
      "\u001b[1;32mC:\\ProgramData\\Anaconda3\\lib\\site-packages\\matplotlib\\backends\\backend_agg.py\u001b[0m in \u001b[0;36mprint_png\u001b[1;34m(self, filename_or_obj, *args, **kwargs)\u001b[0m\n\u001b[0;32m    508\u001b[0m \u001b[1;33m\u001b[0m\u001b[0m\n\u001b[0;32m    509\u001b[0m         \"\"\"\n\u001b[1;32m--> 510\u001b[1;33m         \u001b[0mFigureCanvasAgg\u001b[0m\u001b[1;33m.\u001b[0m\u001b[0mdraw\u001b[0m\u001b[1;33m(\u001b[0m\u001b[0mself\u001b[0m\u001b[1;33m)\u001b[0m\u001b[1;33m\u001b[0m\u001b[1;33m\u001b[0m\u001b[0m\n\u001b[0m\u001b[0;32m    511\u001b[0m         \u001b[0mrenderer\u001b[0m \u001b[1;33m=\u001b[0m \u001b[0mself\u001b[0m\u001b[1;33m.\u001b[0m\u001b[0mget_renderer\u001b[0m\u001b[1;33m(\u001b[0m\u001b[1;33m)\u001b[0m\u001b[1;33m\u001b[0m\u001b[1;33m\u001b[0m\u001b[0m\n\u001b[0;32m    512\u001b[0m \u001b[1;33m\u001b[0m\u001b[0m\n",
      "\u001b[1;32mC:\\ProgramData\\Anaconda3\\lib\\site-packages\\matplotlib\\backends\\backend_agg.py\u001b[0m in \u001b[0;36mdraw\u001b[1;34m(self)\u001b[0m\n\u001b[0;32m    394\u001b[0m         \u001b[0mDraw\u001b[0m \u001b[0mthe\u001b[0m \u001b[0mfigure\u001b[0m \u001b[0musing\u001b[0m \u001b[0mthe\u001b[0m \u001b[0mrenderer\u001b[0m\u001b[1;33m.\u001b[0m\u001b[1;33m\u001b[0m\u001b[1;33m\u001b[0m\u001b[0m\n\u001b[0;32m    395\u001b[0m         \"\"\"\n\u001b[1;32m--> 396\u001b[1;33m         \u001b[0mself\u001b[0m\u001b[1;33m.\u001b[0m\u001b[0mrenderer\u001b[0m \u001b[1;33m=\u001b[0m \u001b[0mself\u001b[0m\u001b[1;33m.\u001b[0m\u001b[0mget_renderer\u001b[0m\u001b[1;33m(\u001b[0m\u001b[0mcleared\u001b[0m\u001b[1;33m=\u001b[0m\u001b[1;32mTrue\u001b[0m\u001b[1;33m)\u001b[0m\u001b[1;33m\u001b[0m\u001b[1;33m\u001b[0m\u001b[0m\n\u001b[0m\u001b[0;32m    397\u001b[0m         \u001b[1;31m# acquire a lock on the shared font cache\u001b[0m\u001b[1;33m\u001b[0m\u001b[1;33m\u001b[0m\u001b[1;33m\u001b[0m\u001b[0m\n\u001b[0;32m    398\u001b[0m         \u001b[0mRendererAgg\u001b[0m\u001b[1;33m.\u001b[0m\u001b[0mlock\u001b[0m\u001b[1;33m.\u001b[0m\u001b[0macquire\u001b[0m\u001b[1;33m(\u001b[0m\u001b[1;33m)\u001b[0m\u001b[1;33m\u001b[0m\u001b[1;33m\u001b[0m\u001b[0m\n",
      "\u001b[1;32mC:\\ProgramData\\Anaconda3\\lib\\site-packages\\matplotlib\\backends\\backend_agg.py\u001b[0m in \u001b[0;36mget_renderer\u001b[1;34m(self, cleared)\u001b[0m\n\u001b[0;32m    415\u001b[0m \u001b[1;33m\u001b[0m\u001b[0m\n\u001b[0;32m    416\u001b[0m         \u001b[1;32mif\u001b[0m \u001b[0mneed_new_renderer\u001b[0m\u001b[1;33m:\u001b[0m\u001b[1;33m\u001b[0m\u001b[1;33m\u001b[0m\u001b[0m\n\u001b[1;32m--> 417\u001b[1;33m             \u001b[0mself\u001b[0m\u001b[1;33m.\u001b[0m\u001b[0mrenderer\u001b[0m \u001b[1;33m=\u001b[0m \u001b[0mRendererAgg\u001b[0m\u001b[1;33m(\u001b[0m\u001b[0mw\u001b[0m\u001b[1;33m,\u001b[0m \u001b[0mh\u001b[0m\u001b[1;33m,\u001b[0m \u001b[0mself\u001b[0m\u001b[1;33m.\u001b[0m\u001b[0mfigure\u001b[0m\u001b[1;33m.\u001b[0m\u001b[0mdpi\u001b[0m\u001b[1;33m)\u001b[0m\u001b[1;33m\u001b[0m\u001b[1;33m\u001b[0m\u001b[0m\n\u001b[0m\u001b[0;32m    418\u001b[0m             \u001b[0mself\u001b[0m\u001b[1;33m.\u001b[0m\u001b[0m_lastKey\u001b[0m \u001b[1;33m=\u001b[0m \u001b[0mkey\u001b[0m\u001b[1;33m\u001b[0m\u001b[1;33m\u001b[0m\u001b[0m\n\u001b[0;32m    419\u001b[0m         \u001b[1;32melif\u001b[0m \u001b[0mcleared\u001b[0m\u001b[1;33m:\u001b[0m\u001b[1;33m\u001b[0m\u001b[1;33m\u001b[0m\u001b[0m\n",
      "\u001b[1;32mC:\\ProgramData\\Anaconda3\\lib\\site-packages\\matplotlib\\backends\\backend_agg.py\u001b[0m in \u001b[0;36m__init__\u001b[1;34m(self, width, height, dpi)\u001b[0m\n\u001b[0;32m     85\u001b[0m         \u001b[0mself\u001b[0m\u001b[1;33m.\u001b[0m\u001b[0mwidth\u001b[0m \u001b[1;33m=\u001b[0m \u001b[0mwidth\u001b[0m\u001b[1;33m\u001b[0m\u001b[1;33m\u001b[0m\u001b[0m\n\u001b[0;32m     86\u001b[0m         \u001b[0mself\u001b[0m\u001b[1;33m.\u001b[0m\u001b[0mheight\u001b[0m \u001b[1;33m=\u001b[0m \u001b[0mheight\u001b[0m\u001b[1;33m\u001b[0m\u001b[1;33m\u001b[0m\u001b[0m\n\u001b[1;32m---> 87\u001b[1;33m         \u001b[0mself\u001b[0m\u001b[1;33m.\u001b[0m\u001b[0m_renderer\u001b[0m \u001b[1;33m=\u001b[0m \u001b[0m_RendererAgg\u001b[0m\u001b[1;33m(\u001b[0m\u001b[0mint\u001b[0m\u001b[1;33m(\u001b[0m\u001b[0mwidth\u001b[0m\u001b[1;33m)\u001b[0m\u001b[1;33m,\u001b[0m \u001b[0mint\u001b[0m\u001b[1;33m(\u001b[0m\u001b[0mheight\u001b[0m\u001b[1;33m)\u001b[0m\u001b[1;33m,\u001b[0m \u001b[0mdpi\u001b[0m\u001b[1;33m)\u001b[0m\u001b[1;33m\u001b[0m\u001b[1;33m\u001b[0m\u001b[0m\n\u001b[0m\u001b[0;32m     88\u001b[0m         \u001b[0mself\u001b[0m\u001b[1;33m.\u001b[0m\u001b[0m_filter_renderers\u001b[0m \u001b[1;33m=\u001b[0m \u001b[1;33m[\u001b[0m\u001b[1;33m]\u001b[0m\u001b[1;33m\u001b[0m\u001b[1;33m\u001b[0m\u001b[0m\n\u001b[0;32m     89\u001b[0m \u001b[1;33m\u001b[0m\u001b[0m\n",
      "\u001b[1;31mValueError\u001b[0m: Image size of 1370x110867 pixels is too large. It must be less than 2^16 in each direction."
     ],
     "ename": "ValueError",
     "evalue": "Image size of 1370x110867 pixels is too large. It must be less than 2^16 in each direction.",
     "output_type": "error"
    },
    {
     "data": {
      "text/plain": "<Figure size 1600x1000 with 1 Axes>"
     },
     "metadata": {},
     "output_type": "display_data"
    },
    {
     "data": {
      "text/plain": "<Figure size 1600x1000 with 2 Axes>",
      "image/png": "[encoded data removed]"
     },
     "metadata": {},
     "output_type": "display_data"
    }
   ],
   "source": [
    "# this shows how people born in 1.1. are biased and thus can not be trusted\n",
    "total_count = users['age'].count()\n",
    "first_jan_count = users[users['birth_date'].dt.dayofyear == 1]['age'].count()\n",
    "plt.figure(figsize=(16, 10))\n",
    "ax = plt.gca()\n",
    "\n",
    "users_in_first_jan = users[users['birth_date'].dt.dayofyear == 1]['age'].value_counts()\n",
    "users_in_first_jan = users_in_first_jan.reindex(users['age'].value_counts().index)\n",
    "users['age'].value_counts().sort_index().plot.bar(ax=ax, title='users age all vs 1.1.', color='blue', alpha=0.5)\n",
    "users_in_first_jan.sort_index().plot.bar(ax=ax, color='red', alpha=0.5, secondary_y=True)\n",
    "#ax.set_xlim(users['age'].min(), users['age'].max())\n",
    "#plt.xticks(users['age'].value_counts().index)\n",
    "plt.show()"
   ]
  },
  {
   "cell_type": "code",
   "execution_count": 146,
   "metadata": {
    "pycharm": {
     "is_executing": false
    }
   },
   "outputs": [],
   "source": [
    "import zodiac_sign\n",
    "import matplotlib.dates as mdates"
   ]
  },
  {
   "cell_type": "code",
   "execution_count": 147,
   "metadata": {
    "pycharm": {
     "is_executing": false
    }
   },
   "outputs": [],
   "source": [
    "users['zodiac_sign'] = users['birth_date'].apply(zodiac_sign.get_zodiac_sign)"
   ]
  },
  {
   "cell_type": "code",
   "execution_count": 148,
   "metadata": {
    "pycharm": {
     "is_executing": false
    }
   },
   "outputs": [
    {
     "data": {
      "text/plain": "(array([ 0,  1,  2,  3,  4,  5,  6,  7,  8,  9, 10, 11]),\n <a list of 12 Text xticklabel objects>)"
     },
     "metadata": {},
     "output_type": "execute_result",
     "execution_count": 148
    }
   ],
   "source": [
    "users['zodiac_sign'].value_counts().sort_index().plot.bar(figsize=(16, 10), title='Zodiac sign')\n",
    "plt.xticks(rotation=0)"
   ]
  },
  {
   "cell_type": "code",
   "execution_count": 149,
   "metadata": {
    "pycharm": {
     "is_executing": false
    }
   },
   "outputs": [],
   "source": [
    "# česky:\n",
    "en_cz_zodiac = {\n",
    "    'Aries': 'Beran',\n",
    "    'Taurus': 'Býk',\n",
    "    'Gemini': 'Blíženci',\n",
    "    'Cancer': 'Rak',\n",
    "    'Leo': 'Lev',\n",
    "    'Virgo': 'Panna',\n",
    "    'Libra': 'Váhy',\n",
    "    'Scorpio': 'Štír',\n",
    "    'Sagittarius': 'Střelec',\n",
    "    'Capricorn': 'Kozoroh',\n",
    "    'Aquarius': 'Vodnář',\n",
    "    'Pisces': 'Ryby',\n",
    "}\n",
    "\n",
    "time_ordered_zodiac = ['Kozoroh', 'Vodnář', 'Ryby', 'Beran', 'Býk', 'Blíženci', 'Rak', 'Lev', 'Panna', 'Váhy', 'Štír', 'Střelec']\n",
    "users['zodiac_sign'].apply(lambda x: en_cz_zodiac[x]).value_counts().reindex(time_ordered_zodiac).plot.bar(figsize=(16, 10), title='Znamení zvěrokruhu')\n",
    "plt.xticks(rotation=0)\n",
    "plt.savefig('graphs/znameni-zverokruhu-2.png', bbox_inches=\"tight\")\n",
    "# todo: seřadit zvěrokruh podle data, ne podle abecedy\n",
    "# todo 2: dodat ke všem grafům grid"
   ]
  },
  {
   "cell_type": "code",
   "execution_count": 150,
   "metadata": {
    "pycharm": {
     "is_executing": false
    }
   },
   "outputs": [
    {
     "data": {
      "text/plain": "<matplotlib.axes._subplots.AxesSubplot at 0x112b50cda58>"
     },
     "metadata": {},
     "output_type": "execute_result",
     "execution_count": 150
    }
   ],
   "source": [
    "users['zodiac_sign'].value_counts().sort_index().plot.pie(figsize=(16, 10), title='Zodiac sign') "
   ]
  },
  {
   "cell_type": "code",
   "execution_count": 151,
   "metadata": {
    "pycharm": {
     "is_executing": false
    }
   },
   "outputs": [
    {
     "data": {
      "text/plain": "((22, 12), (19, 1))"
     },
     "metadata": {},
     "output_type": "execute_result",
     "execution_count": 151
    }
   ],
   "source": [
    "capricorn_idx = [(index, name) for index, name in zodiac_sign.en_dict if name == 'Capricorn'][0][0]\n",
    "capri_r = zodiac_sign.sign_dates[capricorn_idx]\n",
    "capri_r"
   ]
  },
  {
   "cell_type": "code",
   "execution_count": 152,
   "metadata": {
    "pycharm": {
     "is_executing": false
    }
   },
   "outputs": [
    {
     "data": {
      "text/plain": "<Figure size 1600x1000 with 1 Axes>",
      "image/png": "[encoded data removed]"
     },
     "metadata": {},
     "output_type": "display_data"
    },
    {
     "data": {
      "text/plain": "<Figure size 1600x1000 with 1 Axes>",
      "image/png": "[encoded data removed]"
     },
     "metadata": {},
     "output_type": "display_data"
    }
   ],
   "source": [
    "capri_range_condition = ((users['birth_date'].dt.day >= capri_r[0][0]) & (users['birth_date'].dt.month >= capri_r[0][1])) | ((users['birth_date'].dt.day <=capri_r[1][0]) & (users['birth_date'].dt.month <=capri_r[1][1]))\n",
    "plt.figure(figsize=(16, 10))\n",
    "#capri_days = users[capri_range_condition]['birth_date'].dt.dayofyear.value_counts()\n",
    "capri_days = users[capri_range_condition].groupby([(users['birth_date'].dt.month),(users['birth_date'].dt.day)]).agg('count') ['birth_date']\n",
    "capri_days_2 = capri_days.rename(index={12: 0}, level=0).sort_index()\n",
    "capri_days_2.plot.bar(ax=plt.gca(), title='day of year')\n",
    "#plt.gca().xaxis.set_major_formatter(mdates.DateFormatter('%m-%d'))\n",
    "plt.gca().get_xaxis().set_major_formatter(\n",
    "    mpl.ticker.FuncFormatter(lambda x, p: '{}.{}.'.format(capri_days_2.index[x][0] if capri_days_2.index[x][0] == 1 else 12, capri_days_2.index[x][1])))\n",
    "plt.show()"
   ]
  },
  {
   "cell_type": "code",
   "execution_count": 153,
   "metadata": {
    "pycharm": {
     "is_executing": false
    }
   },
   "outputs": [],
   "source": [
    "plt.figure(figsize=(16, 10))\n",
    "capri_days_2.plot.bar(ax=plt.gca(), title='Kozoroh-den v roce')\n",
    "plt.gca().get_xaxis().set_major_formatter(\n",
    "    mpl.ticker.FuncFormatter(lambda x, p: '{}.{}.'.format(capri_days_2.index[x][0] if capri_days_2.index[x][0] == 1 else 12, capri_days_2.index[x][1])))\n",
    "plt.xlabel('datum narození')\n",
    "plt.savefig('graphs/zverokruh-dny', bbox_inches=\"tight\")"
   ]
  },
  {
   "cell_type": "code",
   "execution_count": 154,
   "metadata": {
    "pycharm": {
     "is_executing": false
    }
   },
   "outputs": [
    {
     "data": {
      "text/plain": "(array([ 0,  1,  2,  3,  4,  5,  6,  7,  8,  9, 10, 11]),\n <a list of 12 Text xticklabel objects>)"
     },
     "metadata": {},
     "output_type": "execute_result",
     "execution_count": 154
    }
   ],
   "source": [
    "# nyní bez 1.1.\n",
    "users[users['birth_date'].dt.dayofyear != 1]['zodiac_sign'].apply(lambda x: en_cz_zodiac[x]).value_counts().sort_index().plot.bar(figsize=(16, 10), title='Znamení zvěrokruhu')\n",
    "plt.xticks(rotation=0)"
   ]
  },
  {
   "cell_type": "markdown",
   "metadata": {},
   "source": [
    "## now I'll be filtering out all people with too litle watch time"
   ]
  },
  {
   "cell_type": "code",
   "execution_count": 155,
   "metadata": {
    "pycharm": {
     "is_executing": false
    }
   },
   "outputs": [
    {
     "name": "stdout",
     "text": [
      "users with less than hour watching:  2105\n"
     ],
     "output_type": "stream"
    }
   ],
   "source": [
    "print('users with less than hour watching: ', (users['user_days_spent_watching'] <= 1/2).sum())  # 4 hours"
   ]
  },
  {
   "cell_type": "code",
   "execution_count": 156,
   "metadata": {
    "pycharm": {
     "is_executing": false
    }
   },
   "outputs": [
    {
     "data": {
      "text/plain": "<matplotlib.axes._subplots.AxesSubplot at 0x112cdd6ce10>"
     },
     "metadata": {},
     "output_type": "execute_result",
     "execution_count": 156
    }
   ],
   "source": [
    "users['birth_date'].dt.dayofyear.value_counts().sort_index().plot.bar(figsize=(16, 10), title='day of year', color='blue', alpha=0.5)\n",
    "users[users['user_days_spent_watching'] > 1/6]['birth_date'].dt.dayofyear.value_counts().sort_index().plot.bar(figsize=(16, 10), color='red', alpha=0.5)\n"
   ]
  },
  {
   "cell_type": "code",
   "execution_count": 157,
   "metadata": {
    "pycharm": {
     "is_executing": false
    }
   },
   "outputs": [
    {
     "data": {
      "text/plain": "<matplotlib.axes._subplots.AxesSubplot at 0x112cdd6ce10>"
     },
     "metadata": {},
     "output_type": "execute_result",
     "execution_count": 157
    }
   ],
   "source": [
    "users[users['user_days_spent_watching'] <= 1/2]['birth_date'].dt.dayofyear.value_counts().sort_index().plot.bar(figsize=(16, 10))"
   ]
  },
  {
   "cell_type": "code",
   "execution_count": 158,
   "metadata": {
    "pycharm": {
     "is_executing": false
    }
   },
   "outputs": [
    {
     "data": {
      "text/plain": "<matplotlib.axes._subplots.AxesSubplot at 0x112d27161d0>"
     },
     "metadata": {},
     "output_type": "execute_result",
     "execution_count": 158
    }
   ],
   "source": [
    "users_too_few_watch = users[users['user_days_spent_watching'] <= 1/2]['age'].value_counts()\n",
    "users_too_few_watch = users_too_few_watch.reindex(users['age'].value_counts().index)\n",
    "users['age'].value_counts().sort_index().plot.bar(figsize=(16, 10), color='blue', alpha=0.5)\n",
    "users_too_few_watch.sort_index().plot.bar(figsize=(16, 10), color='red', alpha=0.5, secondary_y=True)"
   ]
  },
  {
   "cell_type": "code",
   "execution_count": 159,
   "metadata": {
    "pycharm": {
     "is_executing": false
    }
   },
   "outputs": [],
   "source": [
    "users['user_days_spent_watching'].hist(bins=1000, figsize=(16, 8))\n",
    "plt.gca().set_yscale('log')"
   ]
  },
  {
   "cell_type": "code",
   "execution_count": 160,
   "metadata": {
    "pycharm": {
     "is_executing": false
    }
   },
   "outputs": [],
   "source": [
    "users['stats_episodes'].hist(bins=500, figsize=(16, 8))\n",
    "plt.gca().set_yscale('log')"
   ]
  },
  {
   "cell_type": "code",
   "execution_count": 161,
   "metadata": {
    "pycharm": {
     "is_executing": false
    }
   },
   "outputs": [],
   "source": [
    "# filtering\n",
    "users = users[users['user_days_spent_watching'] > 1/2]"
   ]
  },
  {
   "cell_type": "code",
   "execution_count": 162,
   "metadata": {
    "pycharm": {
     "is_executing": false
    }
   },
   "outputs": [],
   "source": [
    "users['user_days_spent_watching'].hist(bins=1000, figsize=(16, 8))\n",
    "plt.gca().set_yscale('log')"
   ]
  },
  {
   "cell_type": "code",
   "execution_count": 163,
   "metadata": {
    "pycharm": {
     "is_executing": false
    }
   },
   "outputs": [],
   "source": [
    "users['stats_episodes'].hist(bins=500, figsize=(16, 8))\n",
    "plt.gca().set_yscale('log')"
   ]
  },
  {
   "cell_type": "markdown",
   "metadata": {},
   "source": [
    "## filtering by age"
   ]
  },
  {
   "cell_type": "code",
   "execution_count": 164,
   "metadata": {
    "pycharm": {
     "is_executing": false
    }
   },
   "outputs": [
    {
     "data": {
      "text/plain": "<matplotlib.axes._subplots.AxesSubplot at 0x112cdd6ce10>"
     },
     "metadata": {},
     "output_type": "execute_result",
     "execution_count": 164
    }
   ],
   "source": [
    "users['age'].value_counts().sort_index().plot.bar(figsize=(16, 10))"
   ]
  },
  {
   "cell_type": "code",
   "execution_count": 165,
   "metadata": {
    "pycharm": {
     "is_executing": false
    }
   },
   "outputs": [],
   "source": [
    "users = users[(users['age'] > 9) & (users['age'] < 50)]"
   ]
  },
  {
   "cell_type": "code",
   "execution_count": 166,
   "metadata": {
    "pycharm": {
     "is_executing": false
    }
   },
   "outputs": [
    {
     "data": {
      "text/plain": "<matplotlib.axes._subplots.AxesSubplot at 0x112cdd6ce10>"
     },
     "metadata": {},
     "output_type": "execute_result",
     "execution_count": 166
    }
   ],
   "source": [
    "users['age'].value_counts().sort_index().plot.bar(figsize=(16, 10))"
   ]
  },
  {
   "cell_type": "code",
   "execution_count": 167,
   "metadata": {
    "pycharm": {
     "is_executing": false
    }
   },
   "outputs": [],
   "source": [
    "users['user_days_spent_watching'].hist(bins=1000, figsize=(16, 8))\n",
    "plt.gca().set_yscale('log')"
   ]
  },
  {
   "cell_type": "code",
   "execution_count": 168,
   "metadata": {
    "pycharm": {
     "is_executing": false
    }
   },
   "outputs": [],
   "source": [
    "users['stats_episodes'].hist(bins=500, figsize=(16, 8))\n",
    "plt.gca().set_yscale('log')"
   ]
  },
  {
   "cell_type": "code",
   "execution_count": 169,
   "metadata": {
    "pycharm": {
     "is_executing": false
    }
   },
   "outputs": [
    {
     "data": {
      "text/plain": "<matplotlib.axes._subplots.AxesSubplot at 0x112cdd6ce10>"
     },
     "metadata": {},
     "output_type": "execute_result",
     "execution_count": 169
    }
   ],
   "source": [
    "users['birth_date'].dt.dayofyear.value_counts().sort_index().plot.bar(figsize=(16, 10), title='day of year')"
   ]
  },
  {
   "cell_type": "code",
   "execution_count": 170,
   "metadata": {
    "pycharm": {
     "is_executing": false
    }
   },
   "outputs": [],
   "source": [
    "# filtering users born in 1.1., too many false people here\n",
    "users = users[users['birth_date'].dt.dayofyear != 1]"
   ]
  },
  {
   "cell_type": "code",
   "execution_count": 171,
   "metadata": {
    "pycharm": {
     "is_executing": false
    }
   },
   "outputs": [
    {
     "data": {
      "text/plain": "<matplotlib.axes._subplots.AxesSubplot at 0x112cdd6ce10>"
     },
     "metadata": {},
     "output_type": "execute_result",
     "execution_count": 171
    }
   ],
   "source": [
    "users['birth_date'].dt.dayofyear.value_counts().sort_index().plot.bar(figsize=(16, 10), title='day of year')"
   ]
  },
  {
   "cell_type": "code",
   "execution_count": 172,
   "metadata": {
    "pycharm": {
     "is_executing": false
    }
   },
   "outputs": [
    {
     "data": {
      "text/plain": "<matplotlib.axes._subplots.AxesSubplot at 0x112cdd6ce10>"
     },
     "metadata": {},
     "output_type": "execute_result",
     "execution_count": 172
    }
   ],
   "source": [
    "users['age'].value_counts().sort_index().plot.bar(figsize=(16, 10))"
   ]
  },
  {
   "cell_type": "code",
   "execution_count": 173,
   "metadata": {
    "pycharm": {
     "is_executing": false
    }
   },
   "outputs": [],
   "source": [
    "users['user_days_spent_watching'].hist(bins=1000, figsize=(16, 8))\n",
    "plt.gca().set_yscale('log')"
   ]
  },
  {
   "cell_type": "code",
   "execution_count": 174,
   "metadata": {
    "pycharm": {
     "is_executing": false
    }
   },
   "outputs": [],
   "source": [
    "users['stats_episodes'].hist(bins=500, figsize=(16, 8))\n",
    "plt.gca().set_yscale('log')"
   ]
  },
  {
   "cell_type": "code",
   "execution_count": 175,
   "metadata": {
    "pycharm": {
     "is_executing": false
    }
   },
   "outputs": [
    {
     "data": {
      "text/plain": "         username  user_id  user_watching  user_completed  user_onhold  \\\n0        karthiga  2255153              3              49            1   \n2       Damonashu    37326             45             195           27   \n3           bskai   228342             25             414            2   \n4  terune_uzumaki   327311              5               5            0   \n5           Bas_G  5015094             35             114            6   \n\n   user_dropped  user_plantowatch  user_days_spent_watching  gender  \\\n0             0                 0                 55.091667  Female   \n2            25                59                 82.574306    Male   \n3             5                11                159.483333    Male   \n4             0                 0                 11.394444  Female   \n5            20               175                 30.458333    Male   \n\n              location birth_date  access_rank  join_date         last_online  \\\n0      Chennai, India  1990-04-29          NaN 2013-03-03 2014-02-04 01:32:00   \n2     Detroit,Michigan 1991-08-01          NaN 2008-02-13 1900-03-24 12:48:00   \n3      Nayarit, Mexico 1990-12-14          NaN 2009-08-31 2014-05-12 16:35:00   \n4    Malaysia, Kuantan 1998-08-24          NaN 2010-05-10 2012-10-18 19:06:00   \n5  Nijmegen, Nederland 1999-10-24          NaN 2015-11-26 1900-05-10 13:53:00   \n\n   stats_mean_score  stats_rewatched  stats_episodes  age  zodiac_sign  \n0              7.43              0.0          3391.0   28       Taurus  \n2              6.15              6.0          4903.0   27          Leo  \n3              8.27              1.0          9701.0   28  Sagittarius  \n4              9.70              6.0           697.0   20        Virgo  \n5              7.86              0.0          1847.0   19      Scorpio  ",
      "text/html": "<div>\n<style scoped>\n    .dataframe tbody tr th:only-of-type {\n        vertical-align: middle;\n    }\n\n    .dataframe tbody tr th {\n        vertical-align: top;\n    }\n\n    .dataframe thead th {\n        text-align: right;\n    }\n</style>\n<table border=\"1\" class=\"dataframe\">\n  <thead>\n    <tr style=\"text-align: right;\">\n      <th></th>\n      <th>username</th>\n      <th>user_id</th>\n      <th>user_watching</th>\n      <th>user_completed</th>\n      <th>user_onhold</th>\n      <th>user_dropped</th>\n      <th>user_plantowatch</th>\n      <th>user_days_spent_watching</th>\n      <th>gender</th>\n      <th>location</th>\n      <th>birth_date</th>\n      <th>access_rank</th>\n      <th>join_date</th>\n      <th>last_online</th>\n      <th>stats_mean_score</th>\n      <th>stats_rewatched</th>\n      <th>stats_episodes</th>\n      <th>age</th>\n      <th>zodiac_sign</th>\n    </tr>\n  </thead>\n  <tbody>\n    <tr>\n      <th>0</th>\n      <td>karthiga</td>\n      <td>2255153</td>\n      <td>3</td>\n      <td>49</td>\n      <td>1</td>\n      <td>0</td>\n      <td>0</td>\n      <td>55.091667</td>\n      <td>Female</td>\n      <td>Chennai, India</td>\n      <td>1990-04-29</td>\n      <td>NaN</td>\n      <td>2013-03-03</td>\n      <td>2014-02-04 01:32:00</td>\n      <td>7.43</td>\n      <td>0.0</td>\n      <td>3391.0</td>\n      <td>28</td>\n      <td>Taurus</td>\n    </tr>\n    <tr>\n      <th>2</th>\n      <td>Damonashu</td>\n      <td>37326</td>\n      <td>45</td>\n      <td>195</td>\n      <td>27</td>\n      <td>25</td>\n      <td>59</td>\n      <td>82.574306</td>\n      <td>Male</td>\n      <td>Detroit,Michigan</td>\n      <td>1991-08-01</td>\n      <td>NaN</td>\n      <td>2008-02-13</td>\n      <td>1900-03-24 12:48:00</td>\n      <td>6.15</td>\n      <td>6.0</td>\n      <td>4903.0</td>\n      <td>27</td>\n      <td>Leo</td>\n    </tr>\n    <tr>\n      <th>3</th>\n      <td>bskai</td>\n      <td>228342</td>\n      <td>25</td>\n      <td>414</td>\n      <td>2</td>\n      <td>5</td>\n      <td>11</td>\n      <td>159.483333</td>\n      <td>Male</td>\n      <td>Nayarit, Mexico</td>\n      <td>1990-12-14</td>\n      <td>NaN</td>\n      <td>2009-08-31</td>\n      <td>2014-05-12 16:35:00</td>\n      <td>8.27</td>\n      <td>1.0</td>\n      <td>9701.0</td>\n      <td>28</td>\n      <td>Sagittarius</td>\n    </tr>\n    <tr>\n      <th>4</th>\n      <td>terune_uzumaki</td>\n      <td>327311</td>\n      <td>5</td>\n      <td>5</td>\n      <td>0</td>\n      <td>0</td>\n      <td>0</td>\n      <td>11.394444</td>\n      <td>Female</td>\n      <td>Malaysia, Kuantan</td>\n      <td>1998-08-24</td>\n      <td>NaN</td>\n      <td>2010-05-10</td>\n      <td>2012-10-18 19:06:00</td>\n      <td>9.70</td>\n      <td>6.0</td>\n      <td>697.0</td>\n      <td>20</td>\n      <td>Virgo</td>\n    </tr>\n    <tr>\n      <th>5</th>\n      <td>Bas_G</td>\n      <td>5015094</td>\n      <td>35</td>\n      <td>114</td>\n      <td>6</td>\n      <td>20</td>\n      <td>175</td>\n      <td>30.458333</td>\n      <td>Male</td>\n      <td>Nijmegen, Nederland</td>\n      <td>1999-10-24</td>\n      <td>NaN</td>\n      <td>2015-11-26</td>\n      <td>1900-05-10 13:53:00</td>\n      <td>7.86</td>\n      <td>0.0</td>\n      <td>1847.0</td>\n      <td>19</td>\n      <td>Scorpio</td>\n    </tr>\n  </tbody>\n</table>\n</div>"
     },
     "metadata": {},
     "output_type": "execute_result",
     "execution_count": 175
    }
   ],
   "source": [
    "users.head()"
   ]
  },
  {
   "cell_type": "code",
   "execution_count": 176,
   "metadata": {
    "pycharm": {
     "is_executing": false
    }
   },
   "outputs": [],
   "source": [
    "users = users.drop(['zodiac_sign'], axis=1)\n",
    "users = users.drop(['age'], axis=1)  # everyone can easily calculate this column, so there is no need to keep it"
   ]
  },
  {
   "cell_type": "code",
   "execution_count": 177,
   "metadata": {
    "pycharm": {
     "is_executing": false
    }
   },
   "outputs": [
    {
     "data": {
      "text/plain": "<seaborn.axisgrid.PairGrid at 0x112de4b8dd8>"
     },
     "metadata": {},
     "output_type": "execute_result",
     "execution_count": 177
    }
   ],
   "source": [
    "# showing scatterplot before and after dropping few users with very large animelists\n",
    "sns.pairplot(users[['user_days_spent_watching',\n",
    "       'gender', 'birth_date', 'join_date',\n",
    "       'last_online', 'stats_episodes']], hue='gender')"
   ]
  },
  {
   "cell_type": "code",
   "execution_count": 178,
   "metadata": {
    "pycharm": {
     "is_executing": false
    }
   },
   "outputs": [
    {
     "name": "stdout",
     "text": [
      "going to delete 6 users with 70k episodes or more, there is too few of them and they mess with graphs\n"
     ],
     "output_type": "stream"
    }
   ],
   "source": [
    "print('going to delete {} users with 70k episodes or more, there is too few of them and they mess with graphs'.format((users['stats_episodes'] >= 70000).sum()))\n",
    "users_small = users[users['stats_episodes'] < 70000]"
   ]
  },
  {
   "cell_type": "code",
   "execution_count": 179,
   "metadata": {
    "pycharm": {
     "is_executing": false
    }
   },
   "outputs": [
    {
     "data": {
      "text/plain": "<seaborn.axisgrid.PairGrid at 0x112c3a2d7f0>"
     },
     "metadata": {},
     "output_type": "execute_result",
     "execution_count": 179
    }
   ],
   "source": [
    "# showing scatterplot after and after dropping few users with very large animelists\n",
    "sns.pairplot(users_small[['user_days_spent_watching',\n",
    "       'gender', 'birth_date', 'join_date',\n",
    "       'last_online', 'stats_episodes']], hue='gender')"
   ]
  },
  {
   "cell_type": "code",
   "execution_count": 183,
   "metadata": {
    "pycharm": {
     "is_executing": false
    }
   },
   "outputs": [],
   "source": [
    "users_small[['username']].to_csv('cache_usernames_after_filtering.csv', sep=',', encoding='utf-8')\n",
    "users = users_small"
   ]
  },
  {
   "cell_type": "code",
   "execution_count": null,
   "metadata": {},
   "outputs": [],
   "source": [
    "users.head()"
   ]
  },
  {
   "cell_type": "code",
   "execution_count": null,
   "metadata": {},
   "outputs": [],
   "source": [
    "users.describe()"
   ]
  },
  {
   "cell_type": "code",
   "execution_count": 191,
   "outputs": [],
   "source": [
    "anime_ids_to_keep = get_anime_ids_after_username_clear_cached()\n",
    "animes = animes[animes['anime_id'].isin(anime_ids_to_keep['anime_id'])]"
   ],
   "metadata": {
    "collapsed": false,
    "pycharm": {
     "name": "#%%\n",
     "is_executing": false
    }
   }
  },
  {
   "cell_type": "code",
   "execution_count": 192,
   "metadata": {
    "pycharm": {
     "is_executing": false
    }
   },
   "outputs": [
    {
     "data": {
      "text/plain": "           anime_id      episodes         score     scored_by          rank  \\\ncount  14402.000000  14402.000000  14402.000000  1.440200e+04  12830.000000   \nmean   17277.255798     11.345230      6.153981  1.152048e+04   6413.727903   \nstd    13127.312926     43.537058      1.451175  4.321072e+04   3711.461883   \nmin        1.000000      0.000000      0.000000  0.000000e+00      0.000000   \n25%     4356.250000      1.000000      5.560000  4.800000e+01   3202.000000   \n50%    14903.000000      1.000000      6.380000  5.135000e+02   6407.000000   \n75%    31008.750000     12.000000      7.070000  3.995500e+03   9612.750000   \nmax    37916.000000   1818.000000     10.000000  1.009477e+06  12919.000000   \n\n         popularity       members      favorites  duration_min  \ncount  14402.000000  1.440200e+04   14402.000000  14402.000000  \nmean    7185.746632  2.308745e+04     313.293779     25.574998  \nstd     4148.889249  7.516038e+04    2622.348612     25.524690  \nmin        0.000000  0.000000e+00       0.000000      0.000000  \n25%     3595.000000  2.530000e+02       0.000000      5.000000  \n50%     7189.500000  1.707500e+03       2.000000     23.000000  \n75%    10774.250000  1.050800e+04      23.000000     30.000000  \nmax    14484.000000  1.456378e+06  106895.000000    231.000000  ",
      "text/html": "<div>\n<style scoped>\n    .dataframe tbody tr th:only-of-type {\n        vertical-align: middle;\n    }\n\n    .dataframe tbody tr th {\n        vertical-align: top;\n    }\n\n    .dataframe thead th {\n        text-align: right;\n    }\n</style>\n<table border=\"1\" class=\"dataframe\">\n  <thead>\n    <tr style=\"text-align: right;\">\n      <th></th>\n      <th>anime_id</th>\n      <th>episodes</th>\n      <th>score</th>\n      <th>scored_by</th>\n      <th>rank</th>\n      <th>popularity</th>\n      <th>members</th>\n      <th>favorites</th>\n      <th>duration_min</th>\n    </tr>\n  </thead>\n  <tbody>\n    <tr>\n      <th>count</th>\n      <td>14402.000000</td>\n      <td>14402.000000</td>\n      <td>14402.000000</td>\n      <td>1.440200e+04</td>\n      <td>12830.000000</td>\n      <td>14402.000000</td>\n      <td>1.440200e+04</td>\n      <td>14402.000000</td>\n      <td>14402.000000</td>\n    </tr>\n    <tr>\n      <th>mean</th>\n      <td>17277.255798</td>\n      <td>11.345230</td>\n      <td>6.153981</td>\n      <td>1.152048e+04</td>\n      <td>6413.727903</td>\n      <td>7185.746632</td>\n      <td>2.308745e+04</td>\n      <td>313.293779</td>\n      <td>25.574998</td>\n    </tr>\n    <tr>\n      <th>std</th>\n      <td>13127.312926</td>\n      <td>43.537058</td>\n      <td>1.451175</td>\n      <td>4.321072e+04</td>\n      <td>3711.461883</td>\n      <td>4148.889249</td>\n      <td>7.516038e+04</td>\n      <td>2622.348612</td>\n      <td>25.524690</td>\n    </tr>\n    <tr>\n      <th>min</th>\n      <td>1.000000</td>\n      <td>0.000000</td>\n      <td>0.000000</td>\n      <td>0.000000e+00</td>\n      <td>0.000000</td>\n      <td>0.000000</td>\n      <td>0.000000e+00</td>\n      <td>0.000000</td>\n      <td>0.000000</td>\n    </tr>\n    <tr>\n      <th>25%</th>\n      <td>4356.250000</td>\n      <td>1.000000</td>\n      <td>5.560000</td>\n      <td>4.800000e+01</td>\n      <td>3202.000000</td>\n      <td>3595.000000</td>\n      <td>2.530000e+02</td>\n      <td>0.000000</td>\n      <td>5.000000</td>\n    </tr>\n    <tr>\n      <th>50%</th>\n      <td>14903.000000</td>\n      <td>1.000000</td>\n      <td>6.380000</td>\n      <td>5.135000e+02</td>\n      <td>6407.000000</td>\n      <td>7189.500000</td>\n      <td>1.707500e+03</td>\n      <td>2.000000</td>\n      <td>23.000000</td>\n    </tr>\n    <tr>\n      <th>75%</th>\n      <td>31008.750000</td>\n      <td>12.000000</td>\n      <td>7.070000</td>\n      <td>3.995500e+03</td>\n      <td>9612.750000</td>\n      <td>10774.250000</td>\n      <td>1.050800e+04</td>\n      <td>23.000000</td>\n      <td>30.000000</td>\n    </tr>\n    <tr>\n      <th>max</th>\n      <td>37916.000000</td>\n      <td>1818.000000</td>\n      <td>10.000000</td>\n      <td>1.009477e+06</td>\n      <td>12919.000000</td>\n      <td>14484.000000</td>\n      <td>1.456378e+06</td>\n      <td>106895.000000</td>\n      <td>231.000000</td>\n    </tr>\n  </tbody>\n</table>\n</div>"
     },
     "metadata": {},
     "output_type": "execute_result",
     "execution_count": 192
    }
   ],
   "source": [
    "animes.describe()"
   ]
  },
  {
   "cell_type": "markdown",
   "metadata": {},
   "source": [
    "### Filtering anime with lots of missing info"
   ]
  },
  {
   "cell_type": "code",
   "execution_count": 193,
   "metadata": {
    "pycharm": {
     "is_executing": false
    }
   },
   "outputs": [
    {
     "data": {
      "text/plain": "<matplotlib.axes._subplots.AxesSubplot at 0x112e1379240>"
     },
     "metadata": {},
     "output_type": "execute_result",
     "execution_count": 193
    }
   ],
   "source": [
    "animes['source'].value_counts().sort_index().plot.bar(figsize=(16, 10), title='anime sources')"
   ]
  },
  {
   "cell_type": "code",
   "execution_count": 194,
   "metadata": {
    "pycharm": {
     "is_executing": false
    }
   },
   "outputs": [
    {
     "name": "stdout",
     "text": [
      "anime to delete:  (4207, 32)\n"
     ],
     "output_type": "stream"
    }
   ],
   "source": [
    "# now dropping anime with unknown studio and unkown source\n",
    "delete_filter = (animes['source'] == 'Unknown')\n",
    "animes_to_delete = animes[delete_filter]\n",
    "animes_to_remain = animes[~(delete_filter)]\n",
    "anime_ids_to_delete = animes_to_delete['anime_id']\n",
    "print('anime to delete: ', animes_to_delete.shape)"
   ]
  },
  {
   "cell_type": "code",
   "execution_count": 195,
   "metadata": {
    "pycharm": {
     "is_executing": false
    }
   },
   "outputs": [
    {
     "name": "stdout",
     "text": [
      "anime to delete:  (7574, 32)\n"
     ],
     "output_type": "stream"
    }
   ],
   "source": [
    "# now with unkown source\n",
    "delete_filter = (animes['source'] == 'Unknown') | (animes['studio'].isnull())\n",
    "animes_to_delete = animes[delete_filter]\n",
    "animes_to_remain = animes[~(delete_filter)]\n",
    "anime_ids_to_delete = animes_to_delete['anime_id']\n",
    "print('anime to delete: ', animes_to_delete.shape)"
   ]
  },
  {
   "cell_type": "code",
   "execution_count": 196,
   "metadata": {
    "pycharm": {
     "is_executing": false
    }
   },
   "outputs": [
    {
     "name": "stdout",
     "text": [
      "anime to delete:  (7727, 32)\n"
     ],
     "output_type": "stream"
    }
   ],
   "source": [
    "# now not aired anime, because I don't care about them\n",
    "delete_filter = delete_filter | ((animes['status'] == 'Not yet aired'))\n",
    "animes_to_delete = animes[delete_filter]\n",
    "animes_to_remain = animes[~(delete_filter)]\n",
    "anime_ids_to_delete = animes_to_delete['anime_id']\n",
    "print('anime to delete: ', animes_to_delete.shape)"
   ]
  },
  {
   "cell_type": "code",
   "execution_count": 197,
   "metadata": {
    "pycharm": {
     "is_executing": false
    }
   },
   "outputs": [
    {
     "name": "stdout",
     "text": [
      "animes without aired json info (122, 33)\n"
     ],
     "output_type": "stream"
    }
   ],
   "source": [
    "# I need year of airing start, so I will be filtering all anime without that\n",
    "animes['aired_from_year'] = pd.to_datetime(animes['aired'].apply(lambda x: ast.literal_eval(x.replace('\\'', '\"'))['from']), errors='coerce').dt.year\n",
    "print('animes without aired json info', animes[~(delete_filter) & animes['aired_from_year'].isnull()].shape)"
   ]
  },
  {
   "cell_type": "code",
   "execution_count": 198,
   "metadata": {
    "pycharm": {
     "is_executing": false
    }
   },
   "outputs": [
    {
     "data": {
      "text/plain": "       anime_id                                              title     type  \\\n199        5199                          Seto no Hanayome Fan Disc  Special   \n217       35952                                  Devilman Memorial      OVA   \n248        9509                                 Yami no Purple Eye    Music   \n289       31972                                  Tang Lang Bu Chan    Movie   \n435       13373                          Kyoto Animation: Hana-hen  Special   \n577       34037                      Kitakaze no Kureta Table-kake    Movie   \n657       34595                                  \"Parade\" de Satie    Movie   \n794        2616                                   Sora Iro no Tane  Special   \n1044      28119                  Kuma no Minakuro to Kouhei Jiisan      OVA   \n1084       6418              Eyeshield 21: Jump Festa 2005 Special  Special   \n1228      25969                                              Clock  Special   \n1382      23581                         Romeo no Aoi Sora Specials  Special   \n1440      33484                                         Shiroi Zou    Movie   \n1465       4085                       Yonimo Osoroshii Grimm Douwa      OVA   \n1582      11735                                        Coluboccoro      OVA   \n1688       5947  Tengen Toppa Gurren Lagann Movie: Lagann-hen S...      OVA   \n1721      19401                     Kuusou no Sora Tobu Kikaitachi    Movie   \n1783       8626                                       Good Morning    Music   \n1928      10765  Hikaru no Go: Tokubetsu-hen - Sabaki no Ichiky...      OVA   \n1935       2515  Detective Conan OVA 05: The Target is Kogoro! ...      OVA   \n2104      32041                  Mori no Densetsu: Dai Ni Gakushou    Movie   \n2324      17815                          Kyoto Animation: Kasa-hen  Special   \n2643      25973                                      I Love Picnic  Special   \n3178      30663                                     Docchi mo Maid      ONA   \n3192      23643                                  Nezumi no Yomeiri    Movie   \n3307      28377                              Choujikuu Robo Meguru      OVA   \n3315      26019                        Rokujouma no Shinryakusha!?  Special   \n3451      22695             Dragon Ball Z: Summer Vacation Special  Special   \n3718      36760         Detective Conan: The Magician of Starlight    Movie   \n3915      32884          Shounen Ashibe 2: Ashibe no Kanashii Yume      OVA   \n...         ...                                                ...      ...   \n10975     10189                              Hunter x Hunter Pilot      OVA   \n11095     36818                 Chikyuu wa Guruguru Merry-Go-Round    Movie   \n11232     17787  Ouritsu Uchuugun: Honneamise no Tsubasa - Pilo...  Special   \n11294     26015                         Backkom: Jung-gug Gijeogwi  Special   \n11296     32920                                            Yongshi    Movie   \n11434     24681  Kazoku Robinson Hyouryuuki: Fushigi na Shima n...  Special   \n11493     25967                                     Backkom Sports       TV   \n11662      8740             One Piece Film: Strong World Episode 0      OVA   \n11755     21663                                        Last Orders  Special   \n11785     17811                        Kyoto Animation: Hassou-hen  Special   \n11809      2512                Detective Conan OVA 02: 16 Suspects      OVA   \n11813     34719                                      the FLY BanD!  Special   \n11912     25599                            Vampiyan Kids Promotion  Special   \n12190     17791            Kyoto Animation: Ikitaku Naru Omise-hen  Special   \n12649      8815                                            Domo TV       TV   \n12900     10520        Nurse Witch Komugi-chan Magikarte Z Special  Special   \n13048     13375                          Kyoto Animation: Sora-hen  Special   \n13067      3684                                     Dimension Loop      OVA   \n13287     25979                                Sheep in the Island  Special   \n13428     37019                           Komaneko: Hajime no Ippo  Special   \n13651     34187                       Shima no Kuregata no Hanashi      OVA   \n13728     25985                                            Contact  Special   \n13773      2514  Detective Conan OVA 04: Conan and Kid and Crys...      OVA   \n13869     36579                     Fettu to Ccine to Gummi Seijin      ONA   \n13945     37133                     Tenkousei wa Kounin Kaikeishi!      OVA   \n13982     32885                            Magnerobo Ga-Keen Recap      OVA   \n14112     30723                  Midori no Makibao Compilation OVA      OVA   \n14368     37493                              Watashitachi no Mirai      OVA   \n14380     37494                             Chikyuu to no Yakusoku      OVA   \n14466     36315  Mushi Mushi Mura no Nakama-tachi: Minna Ii Tok...      OVA   \n\n             source           status  \\\n199           Manga  Finished Airing   \n217           Manga  Finished Airing   \n248           Manga  Finished Airing   \n289           Other  Finished Airing   \n435        Original  Finished Airing   \n577           Other  Finished Airing   \n657        Original  Finished Airing   \n794    Picture book  Finished Airing   \n1044           Book  Finished Airing   \n1084          Manga  Finished Airing   \n1228       Original  Finished Airing   \n1382          Novel  Finished Airing   \n1440          Other  Finished Airing   \n1465          Other  Finished Airing   \n1582       Original  Finished Airing   \n1688       Original  Finished Airing   \n1721       Original  Finished Airing   \n1783          Music  Finished Airing   \n1928          Manga  Finished Airing   \n1935          Manga  Finished Airing   \n2104       Original  Finished Airing   \n2324       Original  Finished Airing   \n2643       Original  Finished Airing   \n3178       Original  Finished Airing   \n3192       Original  Finished Airing   \n3307       Original  Finished Airing   \n3315    Light novel  Finished Airing   \n3451          Manga  Finished Airing   \n3718          Manga  Finished Airing   \n3915   4-koma manga  Finished Airing   \n...             ...              ...   \n10975         Manga  Finished Airing   \n11095      Original  Finished Airing   \n11232      Original  Finished Airing   \n11294      Original  Finished Airing   \n11296         Other  Finished Airing   \n11434         Novel  Finished Airing   \n11493      Original  Finished Airing   \n11662         Manga  Finished Airing   \n11755      Original  Finished Airing   \n11785      Original  Finished Airing   \n11809         Manga  Finished Airing   \n11813      Original  Finished Airing   \n11912      Original  Finished Airing   \n12190      Original  Finished Airing   \n12649      Original  Finished Airing   \n12900      Original  Finished Airing   \n13048      Original  Finished Airing   \n13067      Original  Finished Airing   \n13287      Original  Finished Airing   \n13428      Original  Finished Airing   \n13651      Original  Finished Airing   \n13728      Original  Finished Airing   \n13773         Manga  Finished Airing   \n13869      Original  Finished Airing   \n13945      Original  Finished Airing   \n13982      Original  Finished Airing   \n14112         Manga  Finished Airing   \n14368      Original  Finished Airing   \n14380      Original  Finished Airing   \n14466      Original  Finished Airing   \n\n                                                   genre   aired_string  \\\n199                               Comedy, Parody, School      Sep, 2008   \n217                 Action, Horror, Demons, Supernatural           1999   \n248    Psychological, Supernatural, Music, Horror, My...           1987   \n289                                           Historical           1988   \n435                                        Slice of Life      Jun, 2010   \n577                                  Fantasy, Historical           1967   \n657                                      Music, Dementia      May, 2016   \n794                                                 Kids      Nov, 1992   \n1044                                         Drama, Kids      Jan, 1999   \n1084                     Action, Comedy, Shounen, Sports           2005   \n1228                                            Dementia           1999   \n1382         Adventure, Drama, Historical, Slice of Life           2001   \n1440                            Action, Historical, Kids           1963   \n1465                     Dementia, Horror, Psychological           2000   \n1582                                     Sci-Fi, Fantasy           2007   \n1688                                              Comedy      Jan, 2009   \n1721                                          Historical           2002   \n1783                                Slice of Life, Music      Apr, 2008   \n1928                 Game, Comedy, Supernatural, Shounen           2002   \n1935         Adventure, Mystery, Comedy, Police, Shounen           2005   \n2104                                             Fantasy           2014   \n2324                                             Fantasy      Jun, 2012   \n2643                                        Kids, Comedy           2003   \n3178             Action, Comedy, Magic, Ecchi, Shoujo Ai           2004   \n3192                                       Kids, Fantasy           1961   \n3307                                       Comedy, Mecha      Nov, 2014   \n3315               Romance, Supernatural, Comedy, School      Jun, 2010   \n3451   Action, Adventure, Comedy, Super Power, Martia...      Jul, 1992   \n3718                                               Space           2012   \n3915                               Comedy, Slice of Life  Not available   \n...                                                  ...            ...   \n10975            Action, Adventure, Shounen, Super Power           1998   \n11095                                        Kids, Space           2017   \n11232                                     Sci-Fi, Seinen           1985   \n11294                                       Comedy, Kids           2013   \n11296                           Historical, Martial Arts           2007   \n11434        Slice of Life, Adventure, Historical, Drama           2001   \n11493                               Comedy, Kids, Sports           2009   \n11662  Action, Adventure, Comedy, Fantasy, Shounen, S...      Apr, 2010   \n11755                            Action, Samurai, Sci-Fi      Oct, 1997   \n11785                                            Fantasy      Apr, 2012   \n11809        Adventure, Mystery, Comedy, Police, Shounen           2002   \n11813                                              Music           1998   \n11912                              Comedy, Fantasy, Kids           1999   \n12190                                             Sci-Fi      Jul, 2012   \n12649                                             Comedy           2008   \n12900                                     Comedy, Parody           2005   \n13048                                      Slice of Life      Jul, 2010   \n13067                                             Sci-Fi           2001   \n13287                                             Comedy           2004   \n13428                                             Comedy           2003   \n13651                                      Fantasy, Kids           2010   \n13728                               Sci-Fi, Comedy, Kids  Not available   \n13773                Adventure, Mystery, Police, Shounen           2004   \n13869                                             Comedy      Mar, 2015   \n13945                              Slice of Life, School      Mar, 2013   \n13982                              Action, Sci-Fi, Mecha  Not available   \n14112                                     Sports, Comedy  Not available   \n14368                                               Kids      Apr, 2018   \n14380                                               Kids      Apr, 2018   \n14466                                               Kids           2017   \n\n                            aired  aired_from_year  popularity  \\\n199    {'from': None, 'to': None}              NaN        4616   \n217    {'from': None, 'to': None}              NaN        9179   \n248    {'from': None, 'to': None}              NaN        8760   \n289    {'from': None, 'to': None}              NaN       11021   \n435    {'from': None, 'to': None}              NaN        5950   \n577    {'from': None, 'to': None}              NaN       13898   \n657    {'from': None, 'to': None}              NaN       13793   \n794    {'from': None, 'to': None}              NaN        6406   \n1044   {'from': None, 'to': None}              NaN       13110   \n1084   {'from': None, 'to': None}              NaN        4971   \n1228   {'from': None, 'to': None}              NaN       12005   \n1382   {'from': None, 'to': None}              NaN        9688   \n1440   {'from': None, 'to': None}              NaN       13510   \n1465   {'from': None, 'to': None}              NaN        8528   \n1582   {'from': None, 'to': None}              NaN        7577   \n1688   {'from': None, 'to': None}              NaN        2535   \n1721   {'from': None, 'to': None}              NaN        8328   \n1783   {'from': None, 'to': None}              NaN        6839   \n1928   {'from': None, 'to': None}              NaN        4848   \n1935   {'from': None, 'to': None}              NaN        3803   \n2104   {'from': None, 'to': None}              NaN        9932   \n2324   {'from': None, 'to': None}              NaN        6079   \n2643   {'from': None, 'to': None}              NaN       11370   \n3178   {'from': None, 'to': None}              NaN        9489   \n3192   {'from': None, 'to': None}              NaN       12052   \n3307   {'from': None, 'to': None}              NaN        8425   \n3315   {'from': None, 'to': None}              NaN        5070   \n3451   {'from': None, 'to': None}              NaN        4409   \n3718   {'from': None, 'to': None}              NaN        7982   \n3915   {'from': None, 'to': None}              NaN       13116   \n...                           ...              ...         ...   \n10975  {'from': None, 'to': None}              NaN        3245   \n11095  {'from': None, 'to': None}              NaN       14119   \n11232  {'from': None, 'to': None}              NaN        8304   \n11294  {'from': None, 'to': None}              NaN       11289   \n11296  {'from': None, 'to': None}              NaN       13044   \n11434  {'from': None, 'to': None}              NaN       11982   \n11493  {'from': None, 'to': None}              NaN       10597   \n11662  {'from': None, 'to': None}              NaN        1647   \n11755  {'from': None, 'to': None}              NaN        8876   \n11785  {'from': None, 'to': None}              NaN        6156   \n11809  {'from': None, 'to': None}              NaN        3616   \n11813  {'from': None, 'to': None}              NaN       13694   \n11912  {'from': None, 'to': None}              NaN       12739   \n12190  {'from': None, 'to': None}              NaN        5661   \n12649  {'from': None, 'to': None}              NaN        8283   \n12900  {'from': None, 'to': None}              NaN        7512   \n13048  {'from': None, 'to': None}              NaN        6118   \n13067  {'from': None, 'to': None}              NaN        6732   \n13287  {'from': None, 'to': None}              NaN       12712   \n13428  {'from': None, 'to': None}              NaN       13159   \n13651  {'from': None, 'to': None}              NaN       14113   \n13728  {'from': None, 'to': None}              NaN       11577   \n13773  {'from': None, 'to': None}              NaN        3535   \n13869  {'from': None, 'to': None}              NaN       13979   \n13945  {'from': None, 'to': None}              NaN       13845   \n13982  {'from': None, 'to': None}              NaN       13366   \n14112  {'from': None, 'to': None}              NaN       13112   \n14368  {'from': None, 'to': None}              NaN       14466   \n14380  {'from': None, 'to': None}              NaN       14468   \n14466  {'from': None, 'to': None}              NaN       14191   \n\n                               rating     rank  \n199         PG-13 - Teens 13 or older   2904.0  \n217    R - 17+ (violence & profanity)   7412.0  \n248         PG-13 - Teens 13 or older   9046.0  \n289                      G - All Ages   7909.0  \n435                      G - All Ages   7803.0  \n577                      G - All Ages  10900.0  \n657                      G - All Ages   9536.0  \n794                     PG - Children   7487.0  \n1044                     G - All Ages  11001.0  \n1084        PG-13 - Teens 13 or older   3988.0  \n1228                     G - All Ages   9900.0  \n1382                     G - All Ages   4601.0  \n1440                     G - All Ages  12106.0  \n1465   R - 17+ (violence & profanity)   6710.0  \n1582                     G - All Ages   7946.0  \n1688        PG-13 - Teens 13 or older   1954.0  \n1721                     G - All Ages   6471.0  \n1783                     G - All Ages   7860.0  \n1928                     G - All Ages   1523.0  \n1935        PG-13 - Teens 13 or older   2177.0  \n2104                     G - All Ages   6585.0  \n2324                     G - All Ages   6870.0  \n2643                     G - All Ages   8452.0  \n3178        PG-13 - Teens 13 or older   9344.0  \n3192                     G - All Ages  11453.0  \n3307                             None   9885.0  \n3315        PG-13 - Teens 13 or older   4549.0  \n3451        PG-13 - Teens 13 or older   3907.0  \n3718                     G - All Ages   3769.0  \n3915                     G - All Ages  12130.0  \n...                               ...      ...  \n10975       PG-13 - Teens 13 or older   2307.0  \n11095                    G - All Ages   9867.0  \n11232       PG-13 - Teens 13 or older   7215.0  \n11294                    G - All Ages   8166.0  \n11296                    G - All Ages  12770.0  \n11434                    G - All Ages  10806.0  \n11493                    G - All Ages   7273.0  \n11662       PG-13 - Teens 13 or older    415.0  \n11755       PG-13 - Teens 13 or older   7949.0  \n11785                    G - All Ages   8125.0  \n11809       PG-13 - Teens 13 or older   1923.0  \n11813                    G - All Ages  12415.0  \n11912                    G - All Ages  12608.0  \n12190                    G - All Ages   6355.0  \n12649                    G - All Ages   5911.0  \n12900                   PG - Children   7932.0  \n13048                    G - All Ages   8216.0  \n13067       PG-13 - Teens 13 or older   8060.0  \n13287                    G - All Ages  12024.0  \n13428                    G - All Ages  10952.0  \n13651                    G - All Ages  12048.0  \n13728                    G - All Ages   8747.0  \n13773       PG-13 - Teens 13 or older   1320.0  \n13869                   PG - Children  10084.0  \n13945       PG-13 - Teens 13 or older  12395.0  \n13982       PG-13 - Teens 13 or older  11124.0  \n14112                    G - All Ages  11240.0  \n14368                    G - All Ages  12704.0  \n14380                    G - All Ages   9913.0  \n14466                    G - All Ages  11396.0  \n\n[122 rows x 12 columns]",
      "text/html": "<div>\n<style scoped>\n    .dataframe tbody tr th:only-of-type {\n        vertical-align: middle;\n    }\n\n    .dataframe tbody tr th {\n        vertical-align: top;\n    }\n\n    .dataframe thead th {\n        text-align: right;\n    }\n</style>\n<table border=\"1\" class=\"dataframe\">\n  <thead>\n    <tr style=\"text-align: right;\">\n      <th></th>\n      <th>anime_id</th>\n      <th>title</th>\n      <th>type</th>\n      <th>source</th>\n      <th>status</th>\n      <th>genre</th>\n      <th>aired_string</th>\n      <th>aired</th>\n      <th>aired_from_year</th>\n      <th>popularity</th>\n      <th>rating</th>\n      <th>rank</th>\n    </tr>\n  </thead>\n  <tbody>\n    <tr>\n      <th>199</th>\n      <td>5199</td>\n      <td>Seto no Hanayome Fan Disc</td>\n      <td>Special</td>\n      <td>Manga</td>\n      <td>Finished Airing</td>\n      <td>Comedy, Parody, School</td>\n      <td>Sep, 2008</td>\n      <td>{'from': None, 'to': None}</td>\n      <td>NaN</td>\n      <td>4616</td>\n      <td>PG-13 - Teens 13 or older</td>\n      <td>2904.0</td>\n    </tr>\n    <tr>\n      <th>217</th>\n      <td>35952</td>\n      <td>Devilman Memorial</td>\n      <td>OVA</td>\n      <td>Manga</td>\n      <td>Finished Airing</td>\n      <td>Action, Horror, Demons, Supernatural</td>\n      <td>1999</td>\n      <td>{'from': None, 'to': None}</td>\n      <td>NaN</td>\n      <td>9179</td>\n      <td>R - 17+ (violence &amp; profanity)</td>\n      <td>7412.0</td>\n    </tr>\n    <tr>\n      <th>248</th>\n      <td>9509</td>\n      <td>Yami no Purple Eye</td>\n      <td>Music</td>\n      <td>Manga</td>\n      <td>Finished Airing</td>\n      <td>Psychological, Supernatural, Music, Horror, My...</td>\n      <td>1987</td>\n      <td>{'from': None, 'to': None}</td>\n      <td>NaN</td>\n      <td>8760</td>\n      <td>PG-13 - Teens 13 or older</td>\n      <td>9046.0</td>\n    </tr>\n    <tr>\n      <th>289</th>\n      <td>31972</td>\n      <td>Tang Lang Bu Chan</td>\n      <td>Movie</td>\n      <td>Other</td>\n      <td>Finished Airing</td>\n      <td>Historical</td>\n      <td>1988</td>\n      <td>{'from': None, 'to': None}</td>\n      <td>NaN</td>\n      <td>11021</td>\n      <td>G - All Ages</td>\n      <td>7909.0</td>\n    </tr>\n    <tr>\n      <th>435</th>\n      <td>13373</td>\n      <td>Kyoto Animation: Hana-hen</td>\n      <td>Special</td>\n      <td>Original</td>\n      <td>Finished Airing</td>\n      <td>Slice of Life</td>\n      <td>Jun, 2010</td>\n      <td>{'from': None, 'to': None}</td>\n      <td>NaN</td>\n      <td>5950</td>\n      <td>G - All Ages</td>\n      <td>7803.0</td>\n    </tr>\n    <tr>\n      <th>577</th>\n      <td>34037</td>\n      <td>Kitakaze no Kureta Table-kake</td>\n      <td>Movie</td>\n      <td>Other</td>\n      <td>Finished Airing</td>\n      <td>Fantasy, Historical</td>\n      <td>1967</td>\n      <td>{'from': None, 'to': None}</td>\n      <td>NaN</td>\n      <td>13898</td>\n      <td>G - All Ages</td>\n      <td>10900.0</td>\n    </tr>\n    <tr>\n      <th>657</th>\n      <td>34595</td>\n      <td>\"Parade\" de Satie</td>\n      <td>Movie</td>\n      <td>Original</td>\n      <td>Finished Airing</td>\n      <td>Music, Dementia</td>\n      <td>May, 2016</td>\n      <td>{'from': None, 'to': None}</td>\n      <td>NaN</td>\n      <td>13793</td>\n      <td>G - All Ages</td>\n      <td>9536.0</td>\n    </tr>\n    <tr>\n      <th>794</th>\n      <td>2616</td>\n      <td>Sora Iro no Tane</td>\n      <td>Special</td>\n      <td>Picture book</td>\n      <td>Finished Airing</td>\n      <td>Kids</td>\n      <td>Nov, 1992</td>\n      <td>{'from': None, 'to': None}</td>\n      <td>NaN</td>\n      <td>6406</td>\n      <td>PG - Children</td>\n      <td>7487.0</td>\n    </tr>\n    <tr>\n      <th>1044</th>\n      <td>28119</td>\n      <td>Kuma no Minakuro to Kouhei Jiisan</td>\n      <td>OVA</td>\n      <td>Book</td>\n      <td>Finished Airing</td>\n      <td>Drama, Kids</td>\n      <td>Jan, 1999</td>\n      <td>{'from': None, 'to': None}</td>\n      <td>NaN</td>\n      <td>13110</td>\n      <td>G - All Ages</td>\n      <td>11001.0</td>\n    </tr>\n    <tr>\n      <th>1084</th>\n      <td>6418</td>\n      <td>Eyeshield 21: Jump Festa 2005 Special</td>\n      <td>Special</td>\n      <td>Manga</td>\n      <td>Finished Airing</td>\n      <td>Action, Comedy, Shounen, Sports</td>\n      <td>2005</td>\n      <td>{'from': None, 'to': None}</td>\n      <td>NaN</td>\n      <td>4971</td>\n      <td>PG-13 - Teens 13 or older</td>\n      <td>3988.0</td>\n    </tr>\n    <tr>\n      <th>1228</th>\n      <td>25969</td>\n      <td>Clock</td>\n      <td>Special</td>\n      <td>Original</td>\n      <td>Finished Airing</td>\n      <td>Dementia</td>\n      <td>1999</td>\n      <td>{'from': None, 'to': None}</td>\n      <td>NaN</td>\n      <td>12005</td>\n      <td>G - All Ages</td>\n      <td>9900.0</td>\n    </tr>\n    <tr>\n      <th>1382</th>\n      <td>23581</td>\n      <td>Romeo no Aoi Sora Specials</td>\n      <td>Special</td>\n      <td>Novel</td>\n      <td>Finished Airing</td>\n      <td>Adventure, Drama, Historical, Slice of Life</td>\n      <td>2001</td>\n      <td>{'from': None, 'to': None}</td>\n      <td>NaN</td>\n      <td>9688</td>\n      <td>G - All Ages</td>\n      <td>4601.0</td>\n    </tr>\n    <tr>\n      <th>1440</th>\n      <td>33484</td>\n      <td>Shiroi Zou</td>\n      <td>Movie</td>\n      <td>Other</td>\n      <td>Finished Airing</td>\n      <td>Action, Historical, Kids</td>\n      <td>1963</td>\n      <td>{'from': None, 'to': None}</td>\n      <td>NaN</td>\n      <td>13510</td>\n      <td>G - All Ages</td>\n      <td>12106.0</td>\n    </tr>\n    <tr>\n      <th>1465</th>\n      <td>4085</td>\n      <td>Yonimo Osoroshii Grimm Douwa</td>\n      <td>OVA</td>\n      <td>Other</td>\n      <td>Finished Airing</td>\n      <td>Dementia, Horror, Psychological</td>\n      <td>2000</td>\n      <td>{'from': None, 'to': None}</td>\n      <td>NaN</td>\n      <td>8528</td>\n      <td>R - 17+ (violence &amp; profanity)</td>\n      <td>6710.0</td>\n    </tr>\n    <tr>\n      <th>1582</th>\n      <td>11735</td>\n      <td>Coluboccoro</td>\n      <td>OVA</td>\n      <td>Original</td>\n      <td>Finished Airing</td>\n      <td>Sci-Fi, Fantasy</td>\n      <td>2007</td>\n      <td>{'from': None, 'to': None}</td>\n      <td>NaN</td>\n      <td>7577</td>\n      <td>G - All Ages</td>\n      <td>7946.0</td>\n    </tr>\n    <tr>\n      <th>1688</th>\n      <td>5947</td>\n      <td>Tengen Toppa Gurren Lagann Movie: Lagann-hen S...</td>\n      <td>OVA</td>\n      <td>Original</td>\n      <td>Finished Airing</td>\n      <td>Comedy</td>\n      <td>Jan, 2009</td>\n      <td>{'from': None, 'to': None}</td>\n      <td>NaN</td>\n      <td>2535</td>\n      <td>PG-13 - Teens 13 or older</td>\n      <td>1954.0</td>\n    </tr>\n    <tr>\n      <th>1721</th>\n      <td>19401</td>\n      <td>Kuusou no Sora Tobu Kikaitachi</td>\n      <td>Movie</td>\n      <td>Original</td>\n      <td>Finished Airing</td>\n      <td>Historical</td>\n      <td>2002</td>\n      <td>{'from': None, 'to': None}</td>\n      <td>NaN</td>\n      <td>8328</td>\n      <td>G - All Ages</td>\n      <td>6471.0</td>\n    </tr>\n    <tr>\n      <th>1783</th>\n      <td>8626</td>\n      <td>Good Morning</td>\n      <td>Music</td>\n      <td>Music</td>\n      <td>Finished Airing</td>\n      <td>Slice of Life, Music</td>\n      <td>Apr, 2008</td>\n      <td>{'from': None, 'to': None}</td>\n      <td>NaN</td>\n      <td>6839</td>\n      <td>G - All Ages</td>\n      <td>7860.0</td>\n    </tr>\n    <tr>\n      <th>1928</th>\n      <td>10765</td>\n      <td>Hikaru no Go: Tokubetsu-hen - Sabaki no Ichiky...</td>\n      <td>OVA</td>\n      <td>Manga</td>\n      <td>Finished Airing</td>\n      <td>Game, Comedy, Supernatural, Shounen</td>\n      <td>2002</td>\n      <td>{'from': None, 'to': None}</td>\n      <td>NaN</td>\n      <td>4848</td>\n      <td>G - All Ages</td>\n      <td>1523.0</td>\n    </tr>\n    <tr>\n      <th>1935</th>\n      <td>2515</td>\n      <td>Detective Conan OVA 05: The Target is Kogoro! ...</td>\n      <td>OVA</td>\n      <td>Manga</td>\n      <td>Finished Airing</td>\n      <td>Adventure, Mystery, Comedy, Police, Shounen</td>\n      <td>2005</td>\n      <td>{'from': None, 'to': None}</td>\n      <td>NaN</td>\n      <td>3803</td>\n      <td>PG-13 - Teens 13 or older</td>\n      <td>2177.0</td>\n    </tr>\n    <tr>\n      <th>2104</th>\n      <td>32041</td>\n      <td>Mori no Densetsu: Dai Ni Gakushou</td>\n      <td>Movie</td>\n      <td>Original</td>\n      <td>Finished Airing</td>\n      <td>Fantasy</td>\n      <td>2014</td>\n      <td>{'from': None, 'to': None}</td>\n      <td>NaN</td>\n      <td>9932</td>\n      <td>G - All Ages</td>\n      <td>6585.0</td>\n    </tr>\n    <tr>\n      <th>2324</th>\n      <td>17815</td>\n      <td>Kyoto Animation: Kasa-hen</td>\n      <td>Special</td>\n      <td>Original</td>\n      <td>Finished Airing</td>\n      <td>Fantasy</td>\n      <td>Jun, 2012</td>\n      <td>{'from': None, 'to': None}</td>\n      <td>NaN</td>\n      <td>6079</td>\n      <td>G - All Ages</td>\n      <td>6870.0</td>\n    </tr>\n    <tr>\n      <th>2643</th>\n      <td>25973</td>\n      <td>I Love Picnic</td>\n      <td>Special</td>\n      <td>Original</td>\n      <td>Finished Airing</td>\n      <td>Kids, Comedy</td>\n      <td>2003</td>\n      <td>{'from': None, 'to': None}</td>\n      <td>NaN</td>\n      <td>11370</td>\n      <td>G - All Ages</td>\n      <td>8452.0</td>\n    </tr>\n    <tr>\n      <th>3178</th>\n      <td>30663</td>\n      <td>Docchi mo Maid</td>\n      <td>ONA</td>\n      <td>Original</td>\n      <td>Finished Airing</td>\n      <td>Action, Comedy, Magic, Ecchi, Shoujo Ai</td>\n      <td>2004</td>\n      <td>{'from': None, 'to': None}</td>\n      <td>NaN</td>\n      <td>9489</td>\n      <td>PG-13 - Teens 13 or older</td>\n      <td>9344.0</td>\n    </tr>\n    <tr>\n      <th>3192</th>\n      <td>23643</td>\n      <td>Nezumi no Yomeiri</td>\n      <td>Movie</td>\n      <td>Original</td>\n      <td>Finished Airing</td>\n      <td>Kids, Fantasy</td>\n      <td>1961</td>\n      <td>{'from': None, 'to': None}</td>\n      <td>NaN</td>\n      <td>12052</td>\n      <td>G - All Ages</td>\n      <td>11453.0</td>\n    </tr>\n    <tr>\n      <th>3307</th>\n      <td>28377</td>\n      <td>Choujikuu Robo Meguru</td>\n      <td>OVA</td>\n      <td>Original</td>\n      <td>Finished Airing</td>\n      <td>Comedy, Mecha</td>\n      <td>Nov, 2014</td>\n      <td>{'from': None, 'to': None}</td>\n      <td>NaN</td>\n      <td>8425</td>\n      <td>None</td>\n      <td>9885.0</td>\n    </tr>\n    <tr>\n      <th>3315</th>\n      <td>26019</td>\n      <td>Rokujouma no Shinryakusha!?</td>\n      <td>Special</td>\n      <td>Light novel</td>\n      <td>Finished Airing</td>\n      <td>Romance, Supernatural, Comedy, School</td>\n      <td>Jun, 2010</td>\n      <td>{'from': None, 'to': None}</td>\n      <td>NaN</td>\n      <td>5070</td>\n      <td>PG-13 - Teens 13 or older</td>\n      <td>4549.0</td>\n    </tr>\n    <tr>\n      <th>3451</th>\n      <td>22695</td>\n      <td>Dragon Ball Z: Summer Vacation Special</td>\n      <td>Special</td>\n      <td>Manga</td>\n      <td>Finished Airing</td>\n      <td>Action, Adventure, Comedy, Super Power, Martia...</td>\n      <td>Jul, 1992</td>\n      <td>{'from': None, 'to': None}</td>\n      <td>NaN</td>\n      <td>4409</td>\n      <td>PG-13 - Teens 13 or older</td>\n      <td>3907.0</td>\n    </tr>\n    <tr>\n      <th>3718</th>\n      <td>36760</td>\n      <td>Detective Conan: The Magician of Starlight</td>\n      <td>Movie</td>\n      <td>Manga</td>\n      <td>Finished Airing</td>\n      <td>Space</td>\n      <td>2012</td>\n      <td>{'from': None, 'to': None}</td>\n      <td>NaN</td>\n      <td>7982</td>\n      <td>G - All Ages</td>\n      <td>3769.0</td>\n    </tr>\n    <tr>\n      <th>3915</th>\n      <td>32884</td>\n      <td>Shounen Ashibe 2: Ashibe no Kanashii Yume</td>\n      <td>OVA</td>\n      <td>4-koma manga</td>\n      <td>Finished Airing</td>\n      <td>Comedy, Slice of Life</td>\n      <td>Not available</td>\n      <td>{'from': None, 'to': None}</td>\n      <td>NaN</td>\n      <td>13116</td>\n      <td>G - All Ages</td>\n      <td>12130.0</td>\n    </tr>\n    <tr>\n      <th>...</th>\n      <td>...</td>\n      <td>...</td>\n      <td>...</td>\n      <td>...</td>\n      <td>...</td>\n      <td>...</td>\n      <td>...</td>\n      <td>...</td>\n      <td>...</td>\n      <td>...</td>\n      <td>...</td>\n      <td>...</td>\n    </tr>\n    <tr>\n      <th>10975</th>\n      <td>10189</td>\n      <td>Hunter x Hunter Pilot</td>\n      <td>OVA</td>\n      <td>Manga</td>\n      <td>Finished Airing</td>\n      <td>Action, Adventure, Shounen, Super Power</td>\n      <td>1998</td>\n      <td>{'from': None, 'to': None}</td>\n      <td>NaN</td>\n      <td>3245</td>\n      <td>PG-13 - Teens 13 or older</td>\n      <td>2307.0</td>\n    </tr>\n    <tr>\n      <th>11095</th>\n      <td>36818</td>\n      <td>Chikyuu wa Guruguru Merry-Go-Round</td>\n      <td>Movie</td>\n      <td>Original</td>\n      <td>Finished Airing</td>\n      <td>Kids, Space</td>\n      <td>2017</td>\n      <td>{'from': None, 'to': None}</td>\n      <td>NaN</td>\n      <td>14119</td>\n      <td>G - All Ages</td>\n      <td>9867.0</td>\n    </tr>\n    <tr>\n      <th>11232</th>\n      <td>17787</td>\n      <td>Ouritsu Uchuugun: Honneamise no Tsubasa - Pilo...</td>\n      <td>Special</td>\n      <td>Original</td>\n      <td>Finished Airing</td>\n      <td>Sci-Fi, Seinen</td>\n      <td>1985</td>\n      <td>{'from': None, 'to': None}</td>\n      <td>NaN</td>\n      <td>8304</td>\n      <td>PG-13 - Teens 13 or older</td>\n      <td>7215.0</td>\n    </tr>\n    <tr>\n      <th>11294</th>\n      <td>26015</td>\n      <td>Backkom: Jung-gug Gijeogwi</td>\n      <td>Special</td>\n      <td>Original</td>\n      <td>Finished Airing</td>\n      <td>Comedy, Kids</td>\n      <td>2013</td>\n      <td>{'from': None, 'to': None}</td>\n      <td>NaN</td>\n      <td>11289</td>\n      <td>G - All Ages</td>\n      <td>8166.0</td>\n    </tr>\n    <tr>\n      <th>11296</th>\n      <td>32920</td>\n      <td>Yongshi</td>\n      <td>Movie</td>\n      <td>Other</td>\n      <td>Finished Airing</td>\n      <td>Historical, Martial Arts</td>\n      <td>2007</td>\n      <td>{'from': None, 'to': None}</td>\n      <td>NaN</td>\n      <td>13044</td>\n      <td>G - All Ages</td>\n      <td>12770.0</td>\n    </tr>\n    <tr>\n      <th>11434</th>\n      <td>24681</td>\n      <td>Kazoku Robinson Hyouryuuki: Fushigi na Shima n...</td>\n      <td>Special</td>\n      <td>Novel</td>\n      <td>Finished Airing</td>\n      <td>Slice of Life, Adventure, Historical, Drama</td>\n      <td>2001</td>\n      <td>{'from': None, 'to': None}</td>\n      <td>NaN</td>\n      <td>11982</td>\n      <td>G - All Ages</td>\n      <td>10806.0</td>\n    </tr>\n    <tr>\n      <th>11493</th>\n      <td>25967</td>\n      <td>Backkom Sports</td>\n      <td>TV</td>\n      <td>Original</td>\n      <td>Finished Airing</td>\n      <td>Comedy, Kids, Sports</td>\n      <td>2009</td>\n      <td>{'from': None, 'to': None}</td>\n      <td>NaN</td>\n      <td>10597</td>\n      <td>G - All Ages</td>\n      <td>7273.0</td>\n    </tr>\n    <tr>\n      <th>11662</th>\n      <td>8740</td>\n      <td>One Piece Film: Strong World Episode 0</td>\n      <td>OVA</td>\n      <td>Manga</td>\n      <td>Finished Airing</td>\n      <td>Action, Adventure, Comedy, Fantasy, Shounen, S...</td>\n      <td>Apr, 2010</td>\n      <td>{'from': None, 'to': None}</td>\n      <td>NaN</td>\n      <td>1647</td>\n      <td>PG-13 - Teens 13 or older</td>\n      <td>415.0</td>\n    </tr>\n    <tr>\n      <th>11755</th>\n      <td>21663</td>\n      <td>Last Orders</td>\n      <td>Special</td>\n      <td>Original</td>\n      <td>Finished Airing</td>\n      <td>Action, Samurai, Sci-Fi</td>\n      <td>Oct, 1997</td>\n      <td>{'from': None, 'to': None}</td>\n      <td>NaN</td>\n      <td>8876</td>\n      <td>PG-13 - Teens 13 or older</td>\n      <td>7949.0</td>\n    </tr>\n    <tr>\n      <th>11785</th>\n      <td>17811</td>\n      <td>Kyoto Animation: Hassou-hen</td>\n      <td>Special</td>\n      <td>Original</td>\n      <td>Finished Airing</td>\n      <td>Fantasy</td>\n      <td>Apr, 2012</td>\n      <td>{'from': None, 'to': None}</td>\n      <td>NaN</td>\n      <td>6156</td>\n      <td>G - All Ages</td>\n      <td>8125.0</td>\n    </tr>\n    <tr>\n      <th>11809</th>\n      <td>2512</td>\n      <td>Detective Conan OVA 02: 16 Suspects</td>\n      <td>OVA</td>\n      <td>Manga</td>\n      <td>Finished Airing</td>\n      <td>Adventure, Mystery, Comedy, Police, Shounen</td>\n      <td>2002</td>\n      <td>{'from': None, 'to': None}</td>\n      <td>NaN</td>\n      <td>3616</td>\n      <td>PG-13 - Teens 13 or older</td>\n      <td>1923.0</td>\n    </tr>\n    <tr>\n      <th>11813</th>\n      <td>34719</td>\n      <td>the FLY BanD!</td>\n      <td>Special</td>\n      <td>Original</td>\n      <td>Finished Airing</td>\n      <td>Music</td>\n      <td>1998</td>\n      <td>{'from': None, 'to': None}</td>\n      <td>NaN</td>\n      <td>13694</td>\n      <td>G - All Ages</td>\n      <td>12415.0</td>\n    </tr>\n    <tr>\n      <th>11912</th>\n      <td>25599</td>\n      <td>Vampiyan Kids Promotion</td>\n      <td>Special</td>\n      <td>Original</td>\n      <td>Finished Airing</td>\n      <td>Comedy, Fantasy, Kids</td>\n      <td>1999</td>\n      <td>{'from': None, 'to': None}</td>\n      <td>NaN</td>\n      <td>12739</td>\n      <td>G - All Ages</td>\n      <td>12608.0</td>\n    </tr>\n    <tr>\n      <th>12190</th>\n      <td>17791</td>\n      <td>Kyoto Animation: Ikitaku Naru Omise-hen</td>\n      <td>Special</td>\n      <td>Original</td>\n      <td>Finished Airing</td>\n      <td>Sci-Fi</td>\n      <td>Jul, 2012</td>\n      <td>{'from': None, 'to': None}</td>\n      <td>NaN</td>\n      <td>5661</td>\n      <td>G - All Ages</td>\n      <td>6355.0</td>\n    </tr>\n    <tr>\n      <th>12649</th>\n      <td>8815</td>\n      <td>Domo TV</td>\n      <td>TV</td>\n      <td>Original</td>\n      <td>Finished Airing</td>\n      <td>Comedy</td>\n      <td>2008</td>\n      <td>{'from': None, 'to': None}</td>\n      <td>NaN</td>\n      <td>8283</td>\n      <td>G - All Ages</td>\n      <td>5911.0</td>\n    </tr>\n    <tr>\n      <th>12900</th>\n      <td>10520</td>\n      <td>Nurse Witch Komugi-chan Magikarte Z Special</td>\n      <td>Special</td>\n      <td>Original</td>\n      <td>Finished Airing</td>\n      <td>Comedy, Parody</td>\n      <td>2005</td>\n      <td>{'from': None, 'to': None}</td>\n      <td>NaN</td>\n      <td>7512</td>\n      <td>PG - Children</td>\n      <td>7932.0</td>\n    </tr>\n    <tr>\n      <th>13048</th>\n      <td>13375</td>\n      <td>Kyoto Animation: Sora-hen</td>\n      <td>Special</td>\n      <td>Original</td>\n      <td>Finished Airing</td>\n      <td>Slice of Life</td>\n      <td>Jul, 2010</td>\n      <td>{'from': None, 'to': None}</td>\n      <td>NaN</td>\n      <td>6118</td>\n      <td>G - All Ages</td>\n      <td>8216.0</td>\n    </tr>\n    <tr>\n      <th>13067</th>\n      <td>3684</td>\n      <td>Dimension Loop</td>\n      <td>OVA</td>\n      <td>Original</td>\n      <td>Finished Airing</td>\n      <td>Sci-Fi</td>\n      <td>2001</td>\n      <td>{'from': None, 'to': None}</td>\n      <td>NaN</td>\n      <td>6732</td>\n      <td>PG-13 - Teens 13 or older</td>\n      <td>8060.0</td>\n    </tr>\n    <tr>\n      <th>13287</th>\n      <td>25979</td>\n      <td>Sheep in the Island</td>\n      <td>Special</td>\n      <td>Original</td>\n      <td>Finished Airing</td>\n      <td>Comedy</td>\n      <td>2004</td>\n      <td>{'from': None, 'to': None}</td>\n      <td>NaN</td>\n      <td>12712</td>\n      <td>G - All Ages</td>\n      <td>12024.0</td>\n    </tr>\n    <tr>\n      <th>13428</th>\n      <td>37019</td>\n      <td>Komaneko: Hajime no Ippo</td>\n      <td>Special</td>\n      <td>Original</td>\n      <td>Finished Airing</td>\n      <td>Comedy</td>\n      <td>2003</td>\n      <td>{'from': None, 'to': None}</td>\n      <td>NaN</td>\n      <td>13159</td>\n      <td>G - All Ages</td>\n      <td>10952.0</td>\n    </tr>\n    <tr>\n      <th>13651</th>\n      <td>34187</td>\n      <td>Shima no Kuregata no Hanashi</td>\n      <td>OVA</td>\n      <td>Original</td>\n      <td>Finished Airing</td>\n      <td>Fantasy, Kids</td>\n      <td>2010</td>\n      <td>{'from': None, 'to': None}</td>\n      <td>NaN</td>\n      <td>14113</td>\n      <td>G - All Ages</td>\n      <td>12048.0</td>\n    </tr>\n    <tr>\n      <th>13728</th>\n      <td>25985</td>\n      <td>Contact</td>\n      <td>Special</td>\n      <td>Original</td>\n      <td>Finished Airing</td>\n      <td>Sci-Fi, Comedy, Kids</td>\n      <td>Not available</td>\n      <td>{'from': None, 'to': None}</td>\n      <td>NaN</td>\n      <td>11577</td>\n      <td>G - All Ages</td>\n      <td>8747.0</td>\n    </tr>\n    <tr>\n      <th>13773</th>\n      <td>2514</td>\n      <td>Detective Conan OVA 04: Conan and Kid and Crys...</td>\n      <td>OVA</td>\n      <td>Manga</td>\n      <td>Finished Airing</td>\n      <td>Adventure, Mystery, Police, Shounen</td>\n      <td>2004</td>\n      <td>{'from': None, 'to': None}</td>\n      <td>NaN</td>\n      <td>3535</td>\n      <td>PG-13 - Teens 13 or older</td>\n      <td>1320.0</td>\n    </tr>\n    <tr>\n      <th>13869</th>\n      <td>36579</td>\n      <td>Fettu to Ccine to Gummi Seijin</td>\n      <td>ONA</td>\n      <td>Original</td>\n      <td>Finished Airing</td>\n      <td>Comedy</td>\n      <td>Mar, 2015</td>\n      <td>{'from': None, 'to': None}</td>\n      <td>NaN</td>\n      <td>13979</td>\n      <td>PG - Children</td>\n      <td>10084.0</td>\n    </tr>\n    <tr>\n      <th>13945</th>\n      <td>37133</td>\n      <td>Tenkousei wa Kounin Kaikeishi!</td>\n      <td>OVA</td>\n      <td>Original</td>\n      <td>Finished Airing</td>\n      <td>Slice of Life, School</td>\n      <td>Mar, 2013</td>\n      <td>{'from': None, 'to': None}</td>\n      <td>NaN</td>\n      <td>13845</td>\n      <td>PG-13 - Teens 13 or older</td>\n      <td>12395.0</td>\n    </tr>\n    <tr>\n      <th>13982</th>\n      <td>32885</td>\n      <td>Magnerobo Ga-Keen Recap</td>\n      <td>OVA</td>\n      <td>Original</td>\n      <td>Finished Airing</td>\n      <td>Action, Sci-Fi, Mecha</td>\n      <td>Not available</td>\n      <td>{'from': None, 'to': None}</td>\n      <td>NaN</td>\n      <td>13366</td>\n      <td>PG-13 - Teens 13 or older</td>\n      <td>11124.0</td>\n    </tr>\n    <tr>\n      <th>14112</th>\n      <td>30723</td>\n      <td>Midori no Makibao Compilation OVA</td>\n      <td>OVA</td>\n      <td>Manga</td>\n      <td>Finished Airing</td>\n      <td>Sports, Comedy</td>\n      <td>Not available</td>\n      <td>{'from': None, 'to': None}</td>\n      <td>NaN</td>\n      <td>13112</td>\n      <td>G - All Ages</td>\n      <td>11240.0</td>\n    </tr>\n    <tr>\n      <th>14368</th>\n      <td>37493</td>\n      <td>Watashitachi no Mirai</td>\n      <td>OVA</td>\n      <td>Original</td>\n      <td>Finished Airing</td>\n      <td>Kids</td>\n      <td>Apr, 2018</td>\n      <td>{'from': None, 'to': None}</td>\n      <td>NaN</td>\n      <td>14466</td>\n      <td>G - All Ages</td>\n      <td>12704.0</td>\n    </tr>\n    <tr>\n      <th>14380</th>\n      <td>37494</td>\n      <td>Chikyuu to no Yakusoku</td>\n      <td>OVA</td>\n      <td>Original</td>\n      <td>Finished Airing</td>\n      <td>Kids</td>\n      <td>Apr, 2018</td>\n      <td>{'from': None, 'to': None}</td>\n      <td>NaN</td>\n      <td>14468</td>\n      <td>G - All Ages</td>\n      <td>9913.0</td>\n    </tr>\n    <tr>\n      <th>14466</th>\n      <td>36315</td>\n      <td>Mushi Mushi Mura no Nakama-tachi: Minna Ii Tok...</td>\n      <td>OVA</td>\n      <td>Original</td>\n      <td>Finished Airing</td>\n      <td>Kids</td>\n      <td>2017</td>\n      <td>{'from': None, 'to': None}</td>\n      <td>NaN</td>\n      <td>14191</td>\n      <td>G - All Ages</td>\n      <td>11396.0</td>\n    </tr>\n  </tbody>\n</table>\n<p>122 rows × 12 columns</p>\n</div>"
     },
     "metadata": {},
     "output_type": "execute_result",
     "execution_count": 198
    }
   ],
   "source": [
    "animes[~(delete_filter) & animes['aired_from_year'].isnull()][['anime_id', 'title', 'type', 'source', 'status', 'genre', 'aired_string', 'aired', 'aired_from_year', 'popularity', 'rating', 'rank']]"
   ]
  },
  {
   "cell_type": "code",
   "execution_count": 199,
   "metadata": {
    "pycharm": {
     "is_executing": false
    }
   },
   "outputs": [],
   "source": [
    "# now, for anime with airing year in aired_string column, I use that year to fill aired_from_year\n",
    "years_from_string = animes['aired_string'].str.extract(r'(\\d{4})')\n",
    "animes.loc[animes['aired_from_year'].isnull(), 'aired_from_year'] = years_from_string[animes['aired_from_year'].isnull()]\n",
    "# after that, I have finally airing year of all anime which were not filtered out"
   ]
  },
  {
   "cell_type": "code",
   "execution_count": 200,
   "metadata": {
    "pycharm": {
     "is_executing": false
    }
   },
   "outputs": [
    {
     "name": "stdout",
     "text": [
      "anime to delete:  (7734, 33)\n"
     ],
     "output_type": "stream"
    }
   ],
   "source": [
    "delete_filter = delete_filter | ((animes['aired_string'] == 'Not available'))\n",
    "animes_to_delete = animes[delete_filter]\n",
    "animes_to_remain = animes[~(delete_filter)]\n",
    "anime_ids_to_delete = animes_to_delete['anime_id']\n",
    "print('anime to delete: ', animes_to_delete.shape)"
   ]
  },
  {
   "cell_type": "code",
   "execution_count": 201,
   "metadata": {
    "pycharm": {
     "is_executing": false
    }
   },
   "outputs": [
    {
     "data": {
      "text/plain": "       anime_id                                              title     type  \\\n199        5199                          Seto no Hanayome Fan Disc  Special   \n217       35952                                  Devilman Memorial      OVA   \n248        9509                                 Yami no Purple Eye    Music   \n289       31972                                  Tang Lang Bu Chan    Movie   \n435       13373                          Kyoto Animation: Hana-hen  Special   \n577       34037                      Kitakaze no Kureta Table-kake    Movie   \n657       34595                                  \"Parade\" de Satie    Movie   \n794        2616                                   Sora Iro no Tane  Special   \n1044      28119                  Kuma no Minakuro to Kouhei Jiisan      OVA   \n1084       6418              Eyeshield 21: Jump Festa 2005 Special  Special   \n1228      25969                                              Clock  Special   \n1382      23581                         Romeo no Aoi Sora Specials  Special   \n1440      33484                                         Shiroi Zou    Movie   \n1465       4085                       Yonimo Osoroshii Grimm Douwa      OVA   \n1582      11735                                        Coluboccoro      OVA   \n1688       5947  Tengen Toppa Gurren Lagann Movie: Lagann-hen S...      OVA   \n1721      19401                     Kuusou no Sora Tobu Kikaitachi    Movie   \n1783       8626                                       Good Morning    Music   \n1928      10765  Hikaru no Go: Tokubetsu-hen - Sabaki no Ichiky...      OVA   \n1935       2515  Detective Conan OVA 05: The Target is Kogoro! ...      OVA   \n2104      32041                  Mori no Densetsu: Dai Ni Gakushou    Movie   \n2324      17815                          Kyoto Animation: Kasa-hen  Special   \n2643      25973                                      I Love Picnic  Special   \n3178      30663                                     Docchi mo Maid      ONA   \n3192      23643                                  Nezumi no Yomeiri    Movie   \n3307      28377                              Choujikuu Robo Meguru      OVA   \n3315      26019                        Rokujouma no Shinryakusha!?  Special   \n3451      22695             Dragon Ball Z: Summer Vacation Special  Special   \n3718      36760         Detective Conan: The Magician of Starlight    Movie   \n4051       3849   The SoulTaker: Tamashii-gari - Komugi Daisakusen  Special   \n...         ...                                                ...      ...   \n10638      8628                                     Chains & Rings    Music   \n10796      6553                           Junjou Romantica Special  Special   \n10844      1369    Detective Conan OVA 01: Conan vs. Kid vs. Yaiba      OVA   \n10975     10189                              Hunter x Hunter Pilot      OVA   \n11095     36818                 Chikyuu wa Guruguru Merry-Go-Round    Movie   \n11232     17787  Ouritsu Uchuugun: Honneamise no Tsubasa - Pilo...  Special   \n11294     26015                         Backkom: Jung-gug Gijeogwi  Special   \n11296     32920                                            Yongshi    Movie   \n11434     24681  Kazoku Robinson Hyouryuuki: Fushigi na Shima n...  Special   \n11493     25967                                     Backkom Sports       TV   \n11662      8740             One Piece Film: Strong World Episode 0      OVA   \n11755     21663                                        Last Orders  Special   \n11785     17811                        Kyoto Animation: Hassou-hen  Special   \n11809      2512                Detective Conan OVA 02: 16 Suspects      OVA   \n11813     34719                                      the FLY BanD!  Special   \n11912     25599                            Vampiyan Kids Promotion  Special   \n12190     17791            Kyoto Animation: Ikitaku Naru Omise-hen  Special   \n12649      8815                                            Domo TV       TV   \n12900     10520        Nurse Witch Komugi-chan Magikarte Z Special  Special   \n13048     13375                          Kyoto Animation: Sora-hen  Special   \n13067      3684                                     Dimension Loop      OVA   \n13287     25979                                Sheep in the Island  Special   \n13428     37019                           Komaneko: Hajime no Ippo  Special   \n13651     34187                       Shima no Kuregata no Hanashi      OVA   \n13773      2514  Detective Conan OVA 04: Conan and Kid and Crys...      OVA   \n13869     36579                     Fettu to Ccine to Gummi Seijin      ONA   \n13945     37133                     Tenkousei wa Kounin Kaikeishi!      OVA   \n14368     37493                              Watashitachi no Mirai      OVA   \n14380     37494                             Chikyuu to no Yakusoku      OVA   \n14466     36315  Mushi Mushi Mura no Nakama-tachi: Minna Ii Tok...      OVA   \n\n             source           status  \\\n199           Manga  Finished Airing   \n217           Manga  Finished Airing   \n248           Manga  Finished Airing   \n289           Other  Finished Airing   \n435        Original  Finished Airing   \n577           Other  Finished Airing   \n657        Original  Finished Airing   \n794    Picture book  Finished Airing   \n1044           Book  Finished Airing   \n1084          Manga  Finished Airing   \n1228       Original  Finished Airing   \n1382          Novel  Finished Airing   \n1440          Other  Finished Airing   \n1465          Other  Finished Airing   \n1582       Original  Finished Airing   \n1688       Original  Finished Airing   \n1721       Original  Finished Airing   \n1783          Music  Finished Airing   \n1928          Manga  Finished Airing   \n1935          Manga  Finished Airing   \n2104       Original  Finished Airing   \n2324       Original  Finished Airing   \n2643       Original  Finished Airing   \n3178       Original  Finished Airing   \n3192       Original  Finished Airing   \n3307       Original  Finished Airing   \n3315    Light novel  Finished Airing   \n3451          Manga  Finished Airing   \n3718          Manga  Finished Airing   \n4051       Original  Finished Airing   \n...             ...              ...   \n10638      Original  Finished Airing   \n10796         Manga  Finished Airing   \n10844         Manga  Finished Airing   \n10975         Manga  Finished Airing   \n11095      Original  Finished Airing   \n11232      Original  Finished Airing   \n11294      Original  Finished Airing   \n11296         Other  Finished Airing   \n11434         Novel  Finished Airing   \n11493      Original  Finished Airing   \n11662         Manga  Finished Airing   \n11755      Original  Finished Airing   \n11785      Original  Finished Airing   \n11809         Manga  Finished Airing   \n11813      Original  Finished Airing   \n11912      Original  Finished Airing   \n12190      Original  Finished Airing   \n12649      Original  Finished Airing   \n12900      Original  Finished Airing   \n13048      Original  Finished Airing   \n13067      Original  Finished Airing   \n13287      Original  Finished Airing   \n13428      Original  Finished Airing   \n13651      Original  Finished Airing   \n13773         Manga  Finished Airing   \n13869      Original  Finished Airing   \n13945      Original  Finished Airing   \n14368      Original  Finished Airing   \n14380      Original  Finished Airing   \n14466      Original  Finished Airing   \n\n                                                   genre aired_string  \\\n199                               Comedy, Parody, School    Sep, 2008   \n217                 Action, Horror, Demons, Supernatural         1999   \n248    Psychological, Supernatural, Music, Horror, My...         1987   \n289                                           Historical         1988   \n435                                        Slice of Life    Jun, 2010   \n577                                  Fantasy, Historical         1967   \n657                                      Music, Dementia    May, 2016   \n794                                                 Kids    Nov, 1992   \n1044                                         Drama, Kids    Jan, 1999   \n1084                     Action, Comedy, Shounen, Sports         2005   \n1228                                            Dementia         1999   \n1382         Adventure, Drama, Historical, Slice of Life         2001   \n1440                            Action, Historical, Kids         1963   \n1465                     Dementia, Horror, Psychological         2000   \n1582                                     Sci-Fi, Fantasy         2007   \n1688                                              Comedy    Jan, 2009   \n1721                                          Historical         2002   \n1783                                Slice of Life, Music    Apr, 2008   \n1928                 Game, Comedy, Supernatural, Shounen         2002   \n1935         Adventure, Mystery, Comedy, Police, Shounen         2005   \n2104                                             Fantasy         2014   \n2324                                             Fantasy    Jun, 2012   \n2643                                        Kids, Comedy         2003   \n3178             Action, Comedy, Magic, Ecchi, Shoujo Ai         2004   \n3192                                       Kids, Fantasy         1961   \n3307                                       Comedy, Mecha    Nov, 2014   \n3315               Romance, Supernatural, Comedy, School    Jun, 2010   \n3451   Action, Adventure, Comedy, Super Power, Martia...    Jul, 1992   \n3718                                               Space         2012   \n4051                                              Comedy         2001   \n...                                                  ...          ...   \n10638                                     Fantasy, Music         2006   \n10796                        Comedy, Romance, Shounen Ai         2008   \n10844                Adventure, Mystery, Comedy, Shounen         2000   \n10975            Action, Adventure, Shounen, Super Power         1998   \n11095                                        Kids, Space         2017   \n11232                                     Sci-Fi, Seinen         1985   \n11294                                       Comedy, Kids         2013   \n11296                           Historical, Martial Arts         2007   \n11434        Slice of Life, Adventure, Historical, Drama         2001   \n11493                               Comedy, Kids, Sports         2009   \n11662  Action, Adventure, Comedy, Fantasy, Shounen, S...    Apr, 2010   \n11755                            Action, Samurai, Sci-Fi    Oct, 1997   \n11785                                            Fantasy    Apr, 2012   \n11809        Adventure, Mystery, Comedy, Police, Shounen         2002   \n11813                                              Music         1998   \n11912                              Comedy, Fantasy, Kids         1999   \n12190                                             Sci-Fi    Jul, 2012   \n12649                                             Comedy         2008   \n12900                                     Comedy, Parody         2005   \n13048                                      Slice of Life    Jul, 2010   \n13067                                             Sci-Fi         2001   \n13287                                             Comedy         2004   \n13428                                             Comedy         2003   \n13651                                      Fantasy, Kids         2010   \n13773                Adventure, Mystery, Police, Shounen         2004   \n13869                                             Comedy    Mar, 2015   \n13945                              Slice of Life, School    Mar, 2013   \n14368                                               Kids    Apr, 2018   \n14380                                               Kids    Apr, 2018   \n14466                                               Kids         2017   \n\n                            aired  aired_from_year  popularity  \\\n199    {'from': None, 'to': None}              NaN        4616   \n217    {'from': None, 'to': None}              NaN        9179   \n248    {'from': None, 'to': None}              NaN        8760   \n289    {'from': None, 'to': None}              NaN       11021   \n435    {'from': None, 'to': None}              NaN        5950   \n577    {'from': None, 'to': None}              NaN       13898   \n657    {'from': None, 'to': None}              NaN       13793   \n794    {'from': None, 'to': None}              NaN        6406   \n1044   {'from': None, 'to': None}              NaN       13110   \n1084   {'from': None, 'to': None}              NaN        4971   \n1228   {'from': None, 'to': None}              NaN       12005   \n1382   {'from': None, 'to': None}              NaN        9688   \n1440   {'from': None, 'to': None}              NaN       13510   \n1465   {'from': None, 'to': None}              NaN        8528   \n1582   {'from': None, 'to': None}              NaN        7577   \n1688   {'from': None, 'to': None}              NaN        2535   \n1721   {'from': None, 'to': None}              NaN        8328   \n1783   {'from': None, 'to': None}              NaN        6839   \n1928   {'from': None, 'to': None}              NaN        4848   \n1935   {'from': None, 'to': None}              NaN        3803   \n2104   {'from': None, 'to': None}              NaN        9932   \n2324   {'from': None, 'to': None}              NaN        6079   \n2643   {'from': None, 'to': None}              NaN       11370   \n3178   {'from': None, 'to': None}              NaN        9489   \n3192   {'from': None, 'to': None}              NaN       12052   \n3307   {'from': None, 'to': None}              NaN        8425   \n3315   {'from': None, 'to': None}              NaN        5070   \n3451   {'from': None, 'to': None}              NaN        4409   \n3718   {'from': None, 'to': None}              NaN        7982   \n4051   {'from': None, 'to': None}              NaN        7589   \n...                           ...              ...         ...   \n10638  {'from': None, 'to': None}              NaN        8684   \n10796  {'from': None, 'to': None}              NaN        2557   \n10844  {'from': None, 'to': None}              NaN        3361   \n10975  {'from': None, 'to': None}              NaN        3245   \n11095  {'from': None, 'to': None}              NaN       14119   \n11232  {'from': None, 'to': None}              NaN        8304   \n11294  {'from': None, 'to': None}              NaN       11289   \n11296  {'from': None, 'to': None}              NaN       13044   \n11434  {'from': None, 'to': None}              NaN       11982   \n11493  {'from': None, 'to': None}              NaN       10597   \n11662  {'from': None, 'to': None}              NaN        1647   \n11755  {'from': None, 'to': None}              NaN        8876   \n11785  {'from': None, 'to': None}              NaN        6156   \n11809  {'from': None, 'to': None}              NaN        3616   \n11813  {'from': None, 'to': None}              NaN       13694   \n11912  {'from': None, 'to': None}              NaN       12739   \n12190  {'from': None, 'to': None}              NaN        5661   \n12649  {'from': None, 'to': None}              NaN        8283   \n12900  {'from': None, 'to': None}              NaN        7512   \n13048  {'from': None, 'to': None}              NaN        6118   \n13067  {'from': None, 'to': None}              NaN        6732   \n13287  {'from': None, 'to': None}              NaN       12712   \n13428  {'from': None, 'to': None}              NaN       13159   \n13651  {'from': None, 'to': None}              NaN       14113   \n13773  {'from': None, 'to': None}              NaN        3535   \n13869  {'from': None, 'to': None}              NaN       13979   \n13945  {'from': None, 'to': None}              NaN       13845   \n14368  {'from': None, 'to': None}              NaN       14466   \n14380  {'from': None, 'to': None}              NaN       14468   \n14466  {'from': None, 'to': None}              NaN       14191   \n\n                               rating     rank  \n199         PG-13 - Teens 13 or older   2904.0  \n217    R - 17+ (violence & profanity)   7412.0  \n248         PG-13 - Teens 13 or older   9046.0  \n289                      G - All Ages   7909.0  \n435                      G - All Ages   7803.0  \n577                      G - All Ages  10900.0  \n657                      G - All Ages   9536.0  \n794                     PG - Children   7487.0  \n1044                     G - All Ages  11001.0  \n1084        PG-13 - Teens 13 or older   3988.0  \n1228                     G - All Ages   9900.0  \n1382                     G - All Ages   4601.0  \n1440                     G - All Ages  12106.0  \n1465   R - 17+ (violence & profanity)   6710.0  \n1582                     G - All Ages   7946.0  \n1688        PG-13 - Teens 13 or older   1954.0  \n1721                     G - All Ages   6471.0  \n1783                     G - All Ages   7860.0  \n1928                     G - All Ages   1523.0  \n1935        PG-13 - Teens 13 or older   2177.0  \n2104                     G - All Ages   6585.0  \n2324                     G - All Ages   6870.0  \n2643                     G - All Ages   8452.0  \n3178        PG-13 - Teens 13 or older   9344.0  \n3192                     G - All Ages  11453.0  \n3307                             None   9885.0  \n3315        PG-13 - Teens 13 or older   4549.0  \n3451        PG-13 - Teens 13 or older   3907.0  \n3718                     G - All Ages   3769.0  \n4051        PG-13 - Teens 13 or older   7425.0  \n...                               ...      ...  \n10638                    G - All Ages   8171.0  \n10796       PG-13 - Teens 13 or older   1220.0  \n10844       PG-13 - Teens 13 or older   2272.0  \n10975       PG-13 - Teens 13 or older   2307.0  \n11095                    G - All Ages   9867.0  \n11232       PG-13 - Teens 13 or older   7215.0  \n11294                    G - All Ages   8166.0  \n11296                    G - All Ages  12770.0  \n11434                    G - All Ages  10806.0  \n11493                    G - All Ages   7273.0  \n11662       PG-13 - Teens 13 or older    415.0  \n11755       PG-13 - Teens 13 or older   7949.0  \n11785                    G - All Ages   8125.0  \n11809       PG-13 - Teens 13 or older   1923.0  \n11813                    G - All Ages  12415.0  \n11912                    G - All Ages  12608.0  \n12190                    G - All Ages   6355.0  \n12649                    G - All Ages   5911.0  \n12900                   PG - Children   7932.0  \n13048                    G - All Ages   8216.0  \n13067       PG-13 - Teens 13 or older   8060.0  \n13287                    G - All Ages  12024.0  \n13428                    G - All Ages  10952.0  \n13651                    G - All Ages  12048.0  \n13773       PG-13 - Teens 13 or older   1320.0  \n13869                   PG - Children  10084.0  \n13945       PG-13 - Teens 13 or older  12395.0  \n14368                    G - All Ages  12704.0  \n14380                    G - All Ages   9913.0  \n14466                    G - All Ages  11396.0  \n\n[115 rows x 12 columns]",
      "text/html": "<div>\n<style scoped>\n    .dataframe tbody tr th:only-of-type {\n        vertical-align: middle;\n    }\n\n    .dataframe tbody tr th {\n        vertical-align: top;\n    }\n\n    .dataframe thead th {\n        text-align: right;\n    }\n</style>\n<table border=\"1\" class=\"dataframe\">\n  <thead>\n    <tr style=\"text-align: right;\">\n      <th></th>\n      <th>anime_id</th>\n      <th>title</th>\n      <th>type</th>\n      <th>source</th>\n      <th>status</th>\n      <th>genre</th>\n      <th>aired_string</th>\n      <th>aired</th>\n      <th>aired_from_year</th>\n      <th>popularity</th>\n      <th>rating</th>\n      <th>rank</th>\n    </tr>\n  </thead>\n  <tbody>\n    <tr>\n      <th>199</th>\n      <td>5199</td>\n      <td>Seto no Hanayome Fan Disc</td>\n      <td>Special</td>\n      <td>Manga</td>\n      <td>Finished Airing</td>\n      <td>Comedy, Parody, School</td>\n      <td>Sep, 2008</td>\n      <td>{'from': None, 'to': None}</td>\n      <td>NaN</td>\n      <td>4616</td>\n      <td>PG-13 - Teens 13 or older</td>\n      <td>2904.0</td>\n    </tr>\n    <tr>\n      <th>217</th>\n      <td>35952</td>\n      <td>Devilman Memorial</td>\n      <td>OVA</td>\n      <td>Manga</td>\n      <td>Finished Airing</td>\n      <td>Action, Horror, Demons, Supernatural</td>\n      <td>1999</td>\n      <td>{'from': None, 'to': None}</td>\n      <td>NaN</td>\n      <td>9179</td>\n      <td>R - 17+ (violence &amp; profanity)</td>\n      <td>7412.0</td>\n    </tr>\n    <tr>\n      <th>248</th>\n      <td>9509</td>\n      <td>Yami no Purple Eye</td>\n      <td>Music</td>\n      <td>Manga</td>\n      <td>Finished Airing</td>\n      <td>Psychological, Supernatural, Music, Horror, My...</td>\n      <td>1987</td>\n      <td>{'from': None, 'to': None}</td>\n      <td>NaN</td>\n      <td>8760</td>\n      <td>PG-13 - Teens 13 or older</td>\n      <td>9046.0</td>\n    </tr>\n    <tr>\n      <th>289</th>\n      <td>31972</td>\n      <td>Tang Lang Bu Chan</td>\n      <td>Movie</td>\n      <td>Other</td>\n      <td>Finished Airing</td>\n      <td>Historical</td>\n      <td>1988</td>\n      <td>{'from': None, 'to': None}</td>\n      <td>NaN</td>\n      <td>11021</td>\n      <td>G - All Ages</td>\n      <td>7909.0</td>\n    </tr>\n    <tr>\n      <th>435</th>\n      <td>13373</td>\n      <td>Kyoto Animation: Hana-hen</td>\n      <td>Special</td>\n      <td>Original</td>\n      <td>Finished Airing</td>\n      <td>Slice of Life</td>\n      <td>Jun, 2010</td>\n      <td>{'from': None, 'to': None}</td>\n      <td>NaN</td>\n      <td>5950</td>\n      <td>G - All Ages</td>\n      <td>7803.0</td>\n    </tr>\n    <tr>\n      <th>577</th>\n      <td>34037</td>\n      <td>Kitakaze no Kureta Table-kake</td>\n      <td>Movie</td>\n      <td>Other</td>\n      <td>Finished Airing</td>\n      <td>Fantasy, Historical</td>\n      <td>1967</td>\n      <td>{'from': None, 'to': None}</td>\n      <td>NaN</td>\n      <td>13898</td>\n      <td>G - All Ages</td>\n      <td>10900.0</td>\n    </tr>\n    <tr>\n      <th>657</th>\n      <td>34595</td>\n      <td>\"Parade\" de Satie</td>\n      <td>Movie</td>\n      <td>Original</td>\n      <td>Finished Airing</td>\n      <td>Music, Dementia</td>\n      <td>May, 2016</td>\n      <td>{'from': None, 'to': None}</td>\n      <td>NaN</td>\n      <td>13793</td>\n      <td>G - All Ages</td>\n      <td>9536.0</td>\n    </tr>\n    <tr>\n      <th>794</th>\n      <td>2616</td>\n      <td>Sora Iro no Tane</td>\n      <td>Special</td>\n      <td>Picture book</td>\n      <td>Finished Airing</td>\n      <td>Kids</td>\n      <td>Nov, 1992</td>\n      <td>{'from': None, 'to': None}</td>\n      <td>NaN</td>\n      <td>6406</td>\n      <td>PG - Children</td>\n      <td>7487.0</td>\n    </tr>\n    <tr>\n      <th>1044</th>\n      <td>28119</td>\n      <td>Kuma no Minakuro to Kouhei Jiisan</td>\n      <td>OVA</td>\n      <td>Book</td>\n      <td>Finished Airing</td>\n      <td>Drama, Kids</td>\n      <td>Jan, 1999</td>\n      <td>{'from': None, 'to': None}</td>\n      <td>NaN</td>\n      <td>13110</td>\n      <td>G - All Ages</td>\n      <td>11001.0</td>\n    </tr>\n    <tr>\n      <th>1084</th>\n      <td>6418</td>\n      <td>Eyeshield 21: Jump Festa 2005 Special</td>\n      <td>Special</td>\n      <td>Manga</td>\n      <td>Finished Airing</td>\n      <td>Action, Comedy, Shounen, Sports</td>\n      <td>2005</td>\n      <td>{'from': None, 'to': None}</td>\n      <td>NaN</td>\n      <td>4971</td>\n      <td>PG-13 - Teens 13 or older</td>\n      <td>3988.0</td>\n    </tr>\n    <tr>\n      <th>1228</th>\n      <td>25969</td>\n      <td>Clock</td>\n      <td>Special</td>\n      <td>Original</td>\n      <td>Finished Airing</td>\n      <td>Dementia</td>\n      <td>1999</td>\n      <td>{'from': None, 'to': None}</td>\n      <td>NaN</td>\n      <td>12005</td>\n      <td>G - All Ages</td>\n      <td>9900.0</td>\n    </tr>\n    <tr>\n      <th>1382</th>\n      <td>23581</td>\n      <td>Romeo no Aoi Sora Specials</td>\n      <td>Special</td>\n      <td>Novel</td>\n      <td>Finished Airing</td>\n      <td>Adventure, Drama, Historical, Slice of Life</td>\n      <td>2001</td>\n      <td>{'from': None, 'to': None}</td>\n      <td>NaN</td>\n      <td>9688</td>\n      <td>G - All Ages</td>\n      <td>4601.0</td>\n    </tr>\n    <tr>\n      <th>1440</th>\n      <td>33484</td>\n      <td>Shiroi Zou</td>\n      <td>Movie</td>\n      <td>Other</td>\n      <td>Finished Airing</td>\n      <td>Action, Historical, Kids</td>\n      <td>1963</td>\n      <td>{'from': None, 'to': None}</td>\n      <td>NaN</td>\n      <td>13510</td>\n      <td>G - All Ages</td>\n      <td>12106.0</td>\n    </tr>\n    <tr>\n      <th>1465</th>\n      <td>4085</td>\n      <td>Yonimo Osoroshii Grimm Douwa</td>\n      <td>OVA</td>\n      <td>Other</td>\n      <td>Finished Airing</td>\n      <td>Dementia, Horror, Psychological</td>\n      <td>2000</td>\n      <td>{'from': None, 'to': None}</td>\n      <td>NaN</td>\n      <td>8528</td>\n      <td>R - 17+ (violence &amp; profanity)</td>\n      <td>6710.0</td>\n    </tr>\n    <tr>\n      <th>1582</th>\n      <td>11735</td>\n      <td>Coluboccoro</td>\n      <td>OVA</td>\n      <td>Original</td>\n      <td>Finished Airing</td>\n      <td>Sci-Fi, Fantasy</td>\n      <td>2007</td>\n      <td>{'from': None, 'to': None}</td>\n      <td>NaN</td>\n      <td>7577</td>\n      <td>G - All Ages</td>\n      <td>7946.0</td>\n    </tr>\n    <tr>\n      <th>1688</th>\n      <td>5947</td>\n      <td>Tengen Toppa Gurren Lagann Movie: Lagann-hen S...</td>\n      <td>OVA</td>\n      <td>Original</td>\n      <td>Finished Airing</td>\n      <td>Comedy</td>\n      <td>Jan, 2009</td>\n      <td>{'from': None, 'to': None}</td>\n      <td>NaN</td>\n      <td>2535</td>\n      <td>PG-13 - Teens 13 or older</td>\n      <td>1954.0</td>\n    </tr>\n    <tr>\n      <th>1721</th>\n      <td>19401</td>\n      <td>Kuusou no Sora Tobu Kikaitachi</td>\n      <td>Movie</td>\n      <td>Original</td>\n      <td>Finished Airing</td>\n      <td>Historical</td>\n      <td>2002</td>\n      <td>{'from': None, 'to': None}</td>\n      <td>NaN</td>\n      <td>8328</td>\n      <td>G - All Ages</td>\n      <td>6471.0</td>\n    </tr>\n    <tr>\n      <th>1783</th>\n      <td>8626</td>\n      <td>Good Morning</td>\n      <td>Music</td>\n      <td>Music</td>\n      <td>Finished Airing</td>\n      <td>Slice of Life, Music</td>\n      <td>Apr, 2008</td>\n      <td>{'from': None, 'to': None}</td>\n      <td>NaN</td>\n      <td>6839</td>\n      <td>G - All Ages</td>\n      <td>7860.0</td>\n    </tr>\n    <tr>\n      <th>1928</th>\n      <td>10765</td>\n      <td>Hikaru no Go: Tokubetsu-hen - Sabaki no Ichiky...</td>\n      <td>OVA</td>\n      <td>Manga</td>\n      <td>Finished Airing</td>\n      <td>Game, Comedy, Supernatural, Shounen</td>\n      <td>2002</td>\n      <td>{'from': None, 'to': None}</td>\n      <td>NaN</td>\n      <td>4848</td>\n      <td>G - All Ages</td>\n      <td>1523.0</td>\n    </tr>\n    <tr>\n      <th>1935</th>\n      <td>2515</td>\n      <td>Detective Conan OVA 05: The Target is Kogoro! ...</td>\n      <td>OVA</td>\n      <td>Manga</td>\n      <td>Finished Airing</td>\n      <td>Adventure, Mystery, Comedy, Police, Shounen</td>\n      <td>2005</td>\n      <td>{'from': None, 'to': None}</td>\n      <td>NaN</td>\n      <td>3803</td>\n      <td>PG-13 - Teens 13 or older</td>\n      <td>2177.0</td>\n    </tr>\n    <tr>\n      <th>2104</th>\n      <td>32041</td>\n      <td>Mori no Densetsu: Dai Ni Gakushou</td>\n      <td>Movie</td>\n      <td>Original</td>\n      <td>Finished Airing</td>\n      <td>Fantasy</td>\n      <td>2014</td>\n      <td>{'from': None, 'to': None}</td>\n      <td>NaN</td>\n      <td>9932</td>\n      <td>G - All Ages</td>\n      <td>6585.0</td>\n    </tr>\n    <tr>\n      <th>2324</th>\n      <td>17815</td>\n      <td>Kyoto Animation: Kasa-hen</td>\n      <td>Special</td>\n      <td>Original</td>\n      <td>Finished Airing</td>\n      <td>Fantasy</td>\n      <td>Jun, 2012</td>\n      <td>{'from': None, 'to': None}</td>\n      <td>NaN</td>\n      <td>6079</td>\n      <td>G - All Ages</td>\n      <td>6870.0</td>\n    </tr>\n    <tr>\n      <th>2643</th>\n      <td>25973</td>\n      <td>I Love Picnic</td>\n      <td>Special</td>\n      <td>Original</td>\n      <td>Finished Airing</td>\n      <td>Kids, Comedy</td>\n      <td>2003</td>\n      <td>{'from': None, 'to': None}</td>\n      <td>NaN</td>\n      <td>11370</td>\n      <td>G - All Ages</td>\n      <td>8452.0</td>\n    </tr>\n    <tr>\n      <th>3178</th>\n      <td>30663</td>\n      <td>Docchi mo Maid</td>\n      <td>ONA</td>\n      <td>Original</td>\n      <td>Finished Airing</td>\n      <td>Action, Comedy, Magic, Ecchi, Shoujo Ai</td>\n      <td>2004</td>\n      <td>{'from': None, 'to': None}</td>\n      <td>NaN</td>\n      <td>9489</td>\n      <td>PG-13 - Teens 13 or older</td>\n      <td>9344.0</td>\n    </tr>\n    <tr>\n      <th>3192</th>\n      <td>23643</td>\n      <td>Nezumi no Yomeiri</td>\n      <td>Movie</td>\n      <td>Original</td>\n      <td>Finished Airing</td>\n      <td>Kids, Fantasy</td>\n      <td>1961</td>\n      <td>{'from': None, 'to': None}</td>\n      <td>NaN</td>\n      <td>12052</td>\n      <td>G - All Ages</td>\n      <td>11453.0</td>\n    </tr>\n    <tr>\n      <th>3307</th>\n      <td>28377</td>\n      <td>Choujikuu Robo Meguru</td>\n      <td>OVA</td>\n      <td>Original</td>\n      <td>Finished Airing</td>\n      <td>Comedy, Mecha</td>\n      <td>Nov, 2014</td>\n      <td>{'from': None, 'to': None}</td>\n      <td>NaN</td>\n      <td>8425</td>\n      <td>None</td>\n      <td>9885.0</td>\n    </tr>\n    <tr>\n      <th>3315</th>\n      <td>26019</td>\n      <td>Rokujouma no Shinryakusha!?</td>\n      <td>Special</td>\n      <td>Light novel</td>\n      <td>Finished Airing</td>\n      <td>Romance, Supernatural, Comedy, School</td>\n      <td>Jun, 2010</td>\n      <td>{'from': None, 'to': None}</td>\n      <td>NaN</td>\n      <td>5070</td>\n      <td>PG-13 - Teens 13 or older</td>\n      <td>4549.0</td>\n    </tr>\n    <tr>\n      <th>3451</th>\n      <td>22695</td>\n      <td>Dragon Ball Z: Summer Vacation Special</td>\n      <td>Special</td>\n      <td>Manga</td>\n      <td>Finished Airing</td>\n      <td>Action, Adventure, Comedy, Super Power, Martia...</td>\n      <td>Jul, 1992</td>\n      <td>{'from': None, 'to': None}</td>\n      <td>NaN</td>\n      <td>4409</td>\n      <td>PG-13 - Teens 13 or older</td>\n      <td>3907.0</td>\n    </tr>\n    <tr>\n      <th>3718</th>\n      <td>36760</td>\n      <td>Detective Conan: The Magician of Starlight</td>\n      <td>Movie</td>\n      <td>Manga</td>\n      <td>Finished Airing</td>\n      <td>Space</td>\n      <td>2012</td>\n      <td>{'from': None, 'to': None}</td>\n      <td>NaN</td>\n      <td>7982</td>\n      <td>G - All Ages</td>\n      <td>3769.0</td>\n    </tr>\n    <tr>\n      <th>4051</th>\n      <td>3849</td>\n      <td>The SoulTaker: Tamashii-gari - Komugi Daisakusen</td>\n      <td>Special</td>\n      <td>Original</td>\n      <td>Finished Airing</td>\n      <td>Comedy</td>\n      <td>2001</td>\n      <td>{'from': None, 'to': None}</td>\n      <td>NaN</td>\n      <td>7589</td>\n      <td>PG-13 - Teens 13 or older</td>\n      <td>7425.0</td>\n    </tr>\n    <tr>\n      <th>...</th>\n      <td>...</td>\n      <td>...</td>\n      <td>...</td>\n      <td>...</td>\n      <td>...</td>\n      <td>...</td>\n      <td>...</td>\n      <td>...</td>\n      <td>...</td>\n      <td>...</td>\n      <td>...</td>\n      <td>...</td>\n    </tr>\n    <tr>\n      <th>10638</th>\n      <td>8628</td>\n      <td>Chains &amp; Rings</td>\n      <td>Music</td>\n      <td>Original</td>\n      <td>Finished Airing</td>\n      <td>Fantasy, Music</td>\n      <td>2006</td>\n      <td>{'from': None, 'to': None}</td>\n      <td>NaN</td>\n      <td>8684</td>\n      <td>G - All Ages</td>\n      <td>8171.0</td>\n    </tr>\n    <tr>\n      <th>10796</th>\n      <td>6553</td>\n      <td>Junjou Romantica Special</td>\n      <td>Special</td>\n      <td>Manga</td>\n      <td>Finished Airing</td>\n      <td>Comedy, Romance, Shounen Ai</td>\n      <td>2008</td>\n      <td>{'from': None, 'to': None}</td>\n      <td>NaN</td>\n      <td>2557</td>\n      <td>PG-13 - Teens 13 or older</td>\n      <td>1220.0</td>\n    </tr>\n    <tr>\n      <th>10844</th>\n      <td>1369</td>\n      <td>Detective Conan OVA 01: Conan vs. Kid vs. Yaiba</td>\n      <td>OVA</td>\n      <td>Manga</td>\n      <td>Finished Airing</td>\n      <td>Adventure, Mystery, Comedy, Shounen</td>\n      <td>2000</td>\n      <td>{'from': None, 'to': None}</td>\n      <td>NaN</td>\n      <td>3361</td>\n      <td>PG-13 - Teens 13 or older</td>\n      <td>2272.0</td>\n    </tr>\n    <tr>\n      <th>10975</th>\n      <td>10189</td>\n      <td>Hunter x Hunter Pilot</td>\n      <td>OVA</td>\n      <td>Manga</td>\n      <td>Finished Airing</td>\n      <td>Action, Adventure, Shounen, Super Power</td>\n      <td>1998</td>\n      <td>{'from': None, 'to': None}</td>\n      <td>NaN</td>\n      <td>3245</td>\n      <td>PG-13 - Teens 13 or older</td>\n      <td>2307.0</td>\n    </tr>\n    <tr>\n      <th>11095</th>\n      <td>36818</td>\n      <td>Chikyuu wa Guruguru Merry-Go-Round</td>\n      <td>Movie</td>\n      <td>Original</td>\n      <td>Finished Airing</td>\n      <td>Kids, Space</td>\n      <td>2017</td>\n      <td>{'from': None, 'to': None}</td>\n      <td>NaN</td>\n      <td>14119</td>\n      <td>G - All Ages</td>\n      <td>9867.0</td>\n    </tr>\n    <tr>\n      <th>11232</th>\n      <td>17787</td>\n      <td>Ouritsu Uchuugun: Honneamise no Tsubasa - Pilo...</td>\n      <td>Special</td>\n      <td>Original</td>\n      <td>Finished Airing</td>\n      <td>Sci-Fi, Seinen</td>\n      <td>1985</td>\n      <td>{'from': None, 'to': None}</td>\n      <td>NaN</td>\n      <td>8304</td>\n      <td>PG-13 - Teens 13 or older</td>\n      <td>7215.0</td>\n    </tr>\n    <tr>\n      <th>11294</th>\n      <td>26015</td>\n      <td>Backkom: Jung-gug Gijeogwi</td>\n      <td>Special</td>\n      <td>Original</td>\n      <td>Finished Airing</td>\n      <td>Comedy, Kids</td>\n      <td>2013</td>\n      <td>{'from': None, 'to': None}</td>\n      <td>NaN</td>\n      <td>11289</td>\n      <td>G - All Ages</td>\n      <td>8166.0</td>\n    </tr>\n    <tr>\n      <th>11296</th>\n      <td>32920</td>\n      <td>Yongshi</td>\n      <td>Movie</td>\n      <td>Other</td>\n      <td>Finished Airing</td>\n      <td>Historical, Martial Arts</td>\n      <td>2007</td>\n      <td>{'from': None, 'to': None}</td>\n      <td>NaN</td>\n      <td>13044</td>\n      <td>G - All Ages</td>\n      <td>12770.0</td>\n    </tr>\n    <tr>\n      <th>11434</th>\n      <td>24681</td>\n      <td>Kazoku Robinson Hyouryuuki: Fushigi na Shima n...</td>\n      <td>Special</td>\n      <td>Novel</td>\n      <td>Finished Airing</td>\n      <td>Slice of Life, Adventure, Historical, Drama</td>\n      <td>2001</td>\n      <td>{'from': None, 'to': None}</td>\n      <td>NaN</td>\n      <td>11982</td>\n      <td>G - All Ages</td>\n      <td>10806.0</td>\n    </tr>\n    <tr>\n      <th>11493</th>\n      <td>25967</td>\n      <td>Backkom Sports</td>\n      <td>TV</td>\n      <td>Original</td>\n      <td>Finished Airing</td>\n      <td>Comedy, Kids, Sports</td>\n      <td>2009</td>\n      <td>{'from': None, 'to': None}</td>\n      <td>NaN</td>\n      <td>10597</td>\n      <td>G - All Ages</td>\n      <td>7273.0</td>\n    </tr>\n    <tr>\n      <th>11662</th>\n      <td>8740</td>\n      <td>One Piece Film: Strong World Episode 0</td>\n      <td>OVA</td>\n      <td>Manga</td>\n      <td>Finished Airing</td>\n      <td>Action, Adventure, Comedy, Fantasy, Shounen, S...</td>\n      <td>Apr, 2010</td>\n      <td>{'from': None, 'to': None}</td>\n      <td>NaN</td>\n      <td>1647</td>\n      <td>PG-13 - Teens 13 or older</td>\n      <td>415.0</td>\n    </tr>\n    <tr>\n      <th>11755</th>\n      <td>21663</td>\n      <td>Last Orders</td>\n      <td>Special</td>\n      <td>Original</td>\n      <td>Finished Airing</td>\n      <td>Action, Samurai, Sci-Fi</td>\n      <td>Oct, 1997</td>\n      <td>{'from': None, 'to': None}</td>\n      <td>NaN</td>\n      <td>8876</td>\n      <td>PG-13 - Teens 13 or older</td>\n      <td>7949.0</td>\n    </tr>\n    <tr>\n      <th>11785</th>\n      <td>17811</td>\n      <td>Kyoto Animation: Hassou-hen</td>\n      <td>Special</td>\n      <td>Original</td>\n      <td>Finished Airing</td>\n      <td>Fantasy</td>\n      <td>Apr, 2012</td>\n      <td>{'from': None, 'to': None}</td>\n      <td>NaN</td>\n      <td>6156</td>\n      <td>G - All Ages</td>\n      <td>8125.0</td>\n    </tr>\n    <tr>\n      <th>11809</th>\n      <td>2512</td>\n      <td>Detective Conan OVA 02: 16 Suspects</td>\n      <td>OVA</td>\n      <td>Manga</td>\n      <td>Finished Airing</td>\n      <td>Adventure, Mystery, Comedy, Police, Shounen</td>\n      <td>2002</td>\n      <td>{'from': None, 'to': None}</td>\n      <td>NaN</td>\n      <td>3616</td>\n      <td>PG-13 - Teens 13 or older</td>\n      <td>1923.0</td>\n    </tr>\n    <tr>\n      <th>11813</th>\n      <td>34719</td>\n      <td>the FLY BanD!</td>\n      <td>Special</td>\n      <td>Original</td>\n      <td>Finished Airing</td>\n      <td>Music</td>\n      <td>1998</td>\n      <td>{'from': None, 'to': None}</td>\n      <td>NaN</td>\n      <td>13694</td>\n      <td>G - All Ages</td>\n      <td>12415.0</td>\n    </tr>\n    <tr>\n      <th>11912</th>\n      <td>25599</td>\n      <td>Vampiyan Kids Promotion</td>\n      <td>Special</td>\n      <td>Original</td>\n      <td>Finished Airing</td>\n      <td>Comedy, Fantasy, Kids</td>\n      <td>1999</td>\n      <td>{'from': None, 'to': None}</td>\n      <td>NaN</td>\n      <td>12739</td>\n      <td>G - All Ages</td>\n      <td>12608.0</td>\n    </tr>\n    <tr>\n      <th>12190</th>\n      <td>17791</td>\n      <td>Kyoto Animation: Ikitaku Naru Omise-hen</td>\n      <td>Special</td>\n      <td>Original</td>\n      <td>Finished Airing</td>\n      <td>Sci-Fi</td>\n      <td>Jul, 2012</td>\n      <td>{'from': None, 'to': None}</td>\n      <td>NaN</td>\n      <td>5661</td>\n      <td>G - All Ages</td>\n      <td>6355.0</td>\n    </tr>\n    <tr>\n      <th>12649</th>\n      <td>8815</td>\n      <td>Domo TV</td>\n      <td>TV</td>\n      <td>Original</td>\n      <td>Finished Airing</td>\n      <td>Comedy</td>\n      <td>2008</td>\n      <td>{'from': None, 'to': None}</td>\n      <td>NaN</td>\n      <td>8283</td>\n      <td>G - All Ages</td>\n      <td>5911.0</td>\n    </tr>\n    <tr>\n      <th>12900</th>\n      <td>10520</td>\n      <td>Nurse Witch Komugi-chan Magikarte Z Special</td>\n      <td>Special</td>\n      <td>Original</td>\n      <td>Finished Airing</td>\n      <td>Comedy, Parody</td>\n      <td>2005</td>\n      <td>{'from': None, 'to': None}</td>\n      <td>NaN</td>\n      <td>7512</td>\n      <td>PG - Children</td>\n      <td>7932.0</td>\n    </tr>\n    <tr>\n      <th>13048</th>\n      <td>13375</td>\n      <td>Kyoto Animation: Sora-hen</td>\n      <td>Special</td>\n      <td>Original</td>\n      <td>Finished Airing</td>\n      <td>Slice of Life</td>\n      <td>Jul, 2010</td>\n      <td>{'from': None, 'to': None}</td>\n      <td>NaN</td>\n      <td>6118</td>\n      <td>G - All Ages</td>\n      <td>8216.0</td>\n    </tr>\n    <tr>\n      <th>13067</th>\n      <td>3684</td>\n      <td>Dimension Loop</td>\n      <td>OVA</td>\n      <td>Original</td>\n      <td>Finished Airing</td>\n      <td>Sci-Fi</td>\n      <td>2001</td>\n      <td>{'from': None, 'to': None}</td>\n      <td>NaN</td>\n      <td>6732</td>\n      <td>PG-13 - Teens 13 or older</td>\n      <td>8060.0</td>\n    </tr>\n    <tr>\n      <th>13287</th>\n      <td>25979</td>\n      <td>Sheep in the Island</td>\n      <td>Special</td>\n      <td>Original</td>\n      <td>Finished Airing</td>\n      <td>Comedy</td>\n      <td>2004</td>\n      <td>{'from': None, 'to': None}</td>\n      <td>NaN</td>\n      <td>12712</td>\n      <td>G - All Ages</td>\n      <td>12024.0</td>\n    </tr>\n    <tr>\n      <th>13428</th>\n      <td>37019</td>\n      <td>Komaneko: Hajime no Ippo</td>\n      <td>Special</td>\n      <td>Original</td>\n      <td>Finished Airing</td>\n      <td>Comedy</td>\n      <td>2003</td>\n      <td>{'from': None, 'to': None}</td>\n      <td>NaN</td>\n      <td>13159</td>\n      <td>G - All Ages</td>\n      <td>10952.0</td>\n    </tr>\n    <tr>\n      <th>13651</th>\n      <td>34187</td>\n      <td>Shima no Kuregata no Hanashi</td>\n      <td>OVA</td>\n      <td>Original</td>\n      <td>Finished Airing</td>\n      <td>Fantasy, Kids</td>\n      <td>2010</td>\n      <td>{'from': None, 'to': None}</td>\n      <td>NaN</td>\n      <td>14113</td>\n      <td>G - All Ages</td>\n      <td>12048.0</td>\n    </tr>\n    <tr>\n      <th>13773</th>\n      <td>2514</td>\n      <td>Detective Conan OVA 04: Conan and Kid and Crys...</td>\n      <td>OVA</td>\n      <td>Manga</td>\n      <td>Finished Airing</td>\n      <td>Adventure, Mystery, Police, Shounen</td>\n      <td>2004</td>\n      <td>{'from': None, 'to': None}</td>\n      <td>NaN</td>\n      <td>3535</td>\n      <td>PG-13 - Teens 13 or older</td>\n      <td>1320.0</td>\n    </tr>\n    <tr>\n      <th>13869</th>\n      <td>36579</td>\n      <td>Fettu to Ccine to Gummi Seijin</td>\n      <td>ONA</td>\n      <td>Original</td>\n      <td>Finished Airing</td>\n      <td>Comedy</td>\n      <td>Mar, 2015</td>\n      <td>{'from': None, 'to': None}</td>\n      <td>NaN</td>\n      <td>13979</td>\n      <td>PG - Children</td>\n      <td>10084.0</td>\n    </tr>\n    <tr>\n      <th>13945</th>\n      <td>37133</td>\n      <td>Tenkousei wa Kounin Kaikeishi!</td>\n      <td>OVA</td>\n      <td>Original</td>\n      <td>Finished Airing</td>\n      <td>Slice of Life, School</td>\n      <td>Mar, 2013</td>\n      <td>{'from': None, 'to': None}</td>\n      <td>NaN</td>\n      <td>13845</td>\n      <td>PG-13 - Teens 13 or older</td>\n      <td>12395.0</td>\n    </tr>\n    <tr>\n      <th>14368</th>\n      <td>37493</td>\n      <td>Watashitachi no Mirai</td>\n      <td>OVA</td>\n      <td>Original</td>\n      <td>Finished Airing</td>\n      <td>Kids</td>\n      <td>Apr, 2018</td>\n      <td>{'from': None, 'to': None}</td>\n      <td>NaN</td>\n      <td>14466</td>\n      <td>G - All Ages</td>\n      <td>12704.0</td>\n    </tr>\n    <tr>\n      <th>14380</th>\n      <td>37494</td>\n      <td>Chikyuu to no Yakusoku</td>\n      <td>OVA</td>\n      <td>Original</td>\n      <td>Finished Airing</td>\n      <td>Kids</td>\n      <td>Apr, 2018</td>\n      <td>{'from': None, 'to': None}</td>\n      <td>NaN</td>\n      <td>14468</td>\n      <td>G - All Ages</td>\n      <td>9913.0</td>\n    </tr>\n    <tr>\n      <th>14466</th>\n      <td>36315</td>\n      <td>Mushi Mushi Mura no Nakama-tachi: Minna Ii Tok...</td>\n      <td>OVA</td>\n      <td>Original</td>\n      <td>Finished Airing</td>\n      <td>Kids</td>\n      <td>2017</td>\n      <td>{'from': None, 'to': None}</td>\n      <td>NaN</td>\n      <td>14191</td>\n      <td>G - All Ages</td>\n      <td>11396.0</td>\n    </tr>\n  </tbody>\n</table>\n<p>115 rows × 12 columns</p>\n</div>"
     },
     "metadata": {},
     "output_type": "execute_result",
     "execution_count": 201
    }
   ],
   "source": [
    "animes[~(delete_filter) & animes['aired_from_year'].isnull()][['anime_id', 'title', 'type', 'source', 'status', 'genre', 'aired_string', 'aired', 'aired_from_year', 'popularity', 'rating', 'rank']]"
   ]
  },
  {
   "cell_type": "code",
   "execution_count": 202,
   "metadata": {
    "pycharm": {
     "is_executing": false
    }
   },
   "outputs": [
    {
     "data": {
      "text/plain": "Index(['anime_id', 'title', 'title_english', 'title_japanese',\n       'title_synonyms', 'image_url', 'type', 'source', 'episodes', 'status',\n       'airing', 'aired_string', 'aired', 'duration', 'rating', 'score',\n       'scored_by', 'rank', 'popularity', 'members', 'favorites', 'background',\n       'premiered', 'broadcast', 'related', 'producer', 'licensor', 'studio',\n       'genre', 'opening_theme', 'ending_theme', 'duration_min',\n       'aired_from_year'],\n      dtype='object')"
     },
     "metadata": {},
     "output_type": "execute_result",
     "execution_count": 202
    }
   ],
   "source": [
    "animes.columns"
   ]
  },
  {
   "cell_type": "code",
   "execution_count": 203,
   "metadata": {
    "pycharm": {
     "is_executing": false
    }
   },
   "outputs": [
    {
     "data": {
      "text/plain": "anime_id                                                       37447\ntitle                                                Karakuri Circus\ntitle_english                                  Le Cirque de Karakuri\ntitle_japanese                                              からくりサーカス\ntitle_synonyms                                                   NaN\nimage_url          https://myanimelist.cdn-dena.com/images/anime/...\ntype                                                              TV\nsource                                                         Manga\nepisodes                                                          36\nstatus                                                 Not yet aired\nairing                                                         False\naired_string                                           Not available\naired                                     {'from': None, 'to': None}\nduration                                                     Unknown\nrating                                                          None\nscore                                                              0\nscored_by                                                          0\nrank                                                             NaN\npopularity                                                      8300\nmembers                                                          986\nfavorites                                                          0\nbackground                                                       NaN\npremiered                                                        NaN\nbroadcast                                                    Unknown\nrelated            {'Adaptation': [{'mal_id': 868, 'type': 'manga...\nproducer                                     Shogakukan, Twin Engine\nlicensor                                                         NaN\nstudio                                                   Studio VOLN\ngenre                                    Adventure, Mystery, Shounen\nopening_theme                                                     []\nending_theme                                                      []\nduration_min                                                       0\naired_from_year                                                  NaN\nName: 76, dtype: object"
     },
     "metadata": {},
     "output_type": "execute_result",
     "execution_count": 203
    }
   ],
   "source": [
    "animes.loc[76]"
   ]
  },
  {
   "cell_type": "code",
   "execution_count": 204,
   "metadata": {
    "pycharm": {
     "is_executing": false
    }
   },
   "outputs": [
    {
     "data": {
      "text/plain": "Not available                   208\n2005                             45\n2004                             43\nJul, 2018 to ?                   41\n2008                             38\n2006                             38\n2000                             38\n2003                             38\n2011                             32\n2009                             31\n2018 to ?                        31\n2002                             31\n2001                             28\n2010                             27\n2012                             27\n1999                             27\n2013                             27\n2007                             26\n1998                             24\nOct, 2018 to ?                   23\n2014                             19\n1997                             17\n1985                             17\n1992                             16\n1989                             16\n2019 to ?                        16\n1982                             15\n1931                             15\n1990                             15\n2018                             14\n                               ... \nApr 4, 1975 to Dec 26, 1975       1\nJun 12, 2004 to Dec 25, 2004      1\nJul 2, 1999 to Jun 30, 2000       1\nApr 4, 2017 to Feb 13, 2018       1\nMay 15, 2015                      1\nJan 6, 2004 to Mar 30, 2004       1\nFeb 3, 1980                       1\nDec 5, 1977                       1\nOct, 1994                         1\nApr 3, 1961                       1\nFeb 22, 2013 to Sep 27, 2013      1\nDec, 1962                         1\nMar 17, 1989 to Apr 21, 1996      1\nJan 4, 2008 to Mar 21, 2008       1\nApr 20, 1989 to Feb 25, 1990      1\nOct, 1977                         1\nJul 28, 2006 to Nov 24, 2006      1\nMar 21, 1992 to Oct 21, 1992      1\nMay 9, 2014 to Jul 8, 2015        1\nFeb 24, 2006 to May 25, 2007      1\nOct 9, 1985 to Oct 17, 1985       1\nNov 14, 2018                      1\nJan 21, 2000 to Mar 21, 2003      1\nAug 13, 2001 to Feb 11, 2002      1\nJun, 1949                         1\nJul 21, 2016 to Oct 6, 2016       1\nJan 7, 2011 to Apr 1, 2011        1\nJul 6, 2016 to Sep 28, 2016       1\nOct 12, 1990 to Sep 21, 1991      1\nApr 19, 1996                      1\nName: aired_string, Length: 10003, dtype: int64"
     },
     "metadata": {},
     "output_type": "execute_result",
     "execution_count": 204
    }
   ],
   "source": [
    "animes['aired_string'].value_counts()"
   ]
  },
  {
   "cell_type": "code",
   "execution_count": 205,
   "metadata": {
    "pycharm": {
     "is_executing": false
    }
   },
   "outputs": [
    {
     "data": {
      "text/plain": "<matplotlib.axes._subplots.AxesSubplot at 0x112e17aba90>"
     },
     "metadata": {},
     "output_type": "execute_result",
     "execution_count": 205
    }
   ],
   "source": [
    "animes_to_remain['rating'].value_counts().sort_index().plot.bar(figsize=(16, 10), title='anime ranks', color='blue', alpha=0.5)\n",
    "animes_to_delete['rating'].value_counts().sort_index().plot.bar(figsize=(16, 10), title='anime ranks', color='red', alpha=0.5, secondary_y=True)\n"
   ]
  },
  {
   "cell_type": "code",
   "execution_count": 206,
   "metadata": {
    "pycharm": {
     "is_executing": false
    }
   },
   "outputs": [
    {
     "name": "stderr",
     "text": [
      "C:\\ProgramData\\Anaconda3\\lib\\site-packages\\pandas\\core\\generic.py:6130: SettingWithCopyWarning: \nA value is trying to be set on a copy of a slice from a DataFrame\n\nSee the caveats in the documentation: http://pandas.pydata.org/pandas-docs/stable/indexing.html#indexing-view-versus-copy\n  self._update_inplace(new_data)\n",
      "C:\\ProgramData\\Anaconda3\\lib\\site-packages\\pandas\\core\\generic.py:6130: SettingWithCopyWarning: \nA value is trying to be set on a copy of a slice from a DataFrame\n\nSee the caveats in the documentation: http://pandas.pydata.org/pandas-docs/stable/indexing.html#indexing-view-versus-copy\n  self._update_inplace(new_data)\n"
     ],
     "output_type": "stream"
    },
    {
     "data": {
      "text/plain": "<matplotlib.axes._subplots.AxesSubplot at 0x112e17aba90>"
     },
     "metadata": {},
     "output_type": "execute_result",
     "execution_count": 206
    }
   ],
   "source": [
    "animes_to_remain['genre'].fillna('', inplace=True)\n",
    "animes_genres_to_remain = animes_to_remain['genre'].apply(lambda x: x.replace(' ', ''))\n",
    "genres_to_remain = animes_to_remain['genre'].apply(lambda x: x.replace(' ', '').split(','))\n",
    "genres_to_remain = pd.Series([y for x in genres_to_remain for y in x if y != '']).value_counts()\n",
    "genres_occurence_to_remain = pd.Series({genre: (animes_genres_to_remain.str.contains(genre)).sum() for genre in genres_to_remain.index})\n",
    "genres_occurence_to_remain.plot(kind='bar', figsize=(16, 10), color='blue', alpha=0.5)\n",
    "\n",
    "animes_to_delete['genre'].fillna('', inplace=True)\n",
    "animes_genres_to_delete = animes_to_delete['genre'].apply(lambda x: x.replace(' ', ''))\n",
    "genres_to_delete = animes_to_delete['genre'].apply(lambda x: x.replace(' ', '').split(','))\n",
    "genres_to_delete = pd.Series([y for x in genres_to_delete for y in x if y != '']).value_counts()\n",
    "genres_occurence_to_delete = pd.Series({genre: (animes_genres_to_delete.str.contains(genre)).sum() for genre in genres_to_delete.index})\n",
    "genres_occurence_to_delete.plot(kind='bar', figsize=(16, 10), color='red', alpha=0.5, secondary_y=True)"
   ]
  },
  {
   "cell_type": "code",
   "execution_count": 210,
   "metadata": {
    "pycharm": {
     "is_executing": false
    }
   },
   "outputs": [],
   "source": [
    "animes = animes_to_remain\n",
    "animes[['anime_id']].to_csv('cache_anime_ids_after_cleaning.csv', sep=',', index=False, encoding='utf-8')"
   ]
  },
  {
   "cell_type": "code",
   "execution_count": 211,
   "metadata": {
    "pycharm": {
     "is_executing": false
    }
   },
   "outputs": [
    {
     "data": {
      "text/plain": "           anime_id     episodes        score     scored_by          rank  \\\ncount   6668.000000  6668.000000  6668.000000  6.668000e+03   6312.000000   \nmean   15064.977804    14.276395     6.848998  2.403501e+04   4327.645120   \nstd    13161.364001    40.906929     0.927448  6.112103e+04   3170.699074   \nmin        1.000000     0.000000     0.000000  0.000000e+00      1.000000   \n25%     2592.000000     1.000000     6.350000  6.812500e+02   1710.750000   \n50%    10401.500000     6.000000     6.930000  3.966000e+03   3754.500000   \n75%    30301.250000    13.000000     7.460000  1.976075e+04   6338.500000   \nmax    37896.000000  1818.000000     9.520000  1.009477e+06  12856.000000   \n\n         popularity       members      favorites  duration_min  \\\ncount   6668.000000  6.668000e+03    6668.000000   6668.000000   \nmean    4479.515897  4.749037e+04     670.365627     28.442167   \nstd     3453.338080  1.051211e+05    3823.072834     25.365980   \nmin        1.000000  1.800000e+01       0.000000      0.000000   \n25%     1691.750000  2.222750e+03       3.000000     17.000000   \n50%     3629.500000  1.033650e+04      21.000000     24.000000   \n75%     6630.250000  4.336000e+04     142.000000     27.000000   \nmax    14468.000000  1.456378e+06  106895.000000    163.000000   \n\n       aired_from_year  \ncount      6553.000000  \nmean       2007.028231  \nstd          10.283658  \nmin        1942.000000  \n25%        2003.000000  \n50%        2010.000000  \n75%        2015.000000  \nmax        2018.000000  ",
      "text/html": "<div>\n<style scoped>\n    .dataframe tbody tr th:only-of-type {\n        vertical-align: middle;\n    }\n\n    .dataframe tbody tr th {\n        vertical-align: top;\n    }\n\n    .dataframe thead th {\n        text-align: right;\n    }\n</style>\n<table border=\"1\" class=\"dataframe\">\n  <thead>\n    <tr style=\"text-align: right;\">\n      <th></th>\n      <th>anime_id</th>\n      <th>episodes</th>\n      <th>score</th>\n      <th>scored_by</th>\n      <th>rank</th>\n      <th>popularity</th>\n      <th>members</th>\n      <th>favorites</th>\n      <th>duration_min</th>\n      <th>aired_from_year</th>\n    </tr>\n  </thead>\n  <tbody>\n    <tr>\n      <th>count</th>\n      <td>6668.000000</td>\n      <td>6668.000000</td>\n      <td>6668.000000</td>\n      <td>6.668000e+03</td>\n      <td>6312.000000</td>\n      <td>6668.000000</td>\n      <td>6.668000e+03</td>\n      <td>6668.000000</td>\n      <td>6668.000000</td>\n      <td>6553.000000</td>\n    </tr>\n    <tr>\n      <th>mean</th>\n      <td>15064.977804</td>\n      <td>14.276395</td>\n      <td>6.848998</td>\n      <td>2.403501e+04</td>\n      <td>4327.645120</td>\n      <td>4479.515897</td>\n      <td>4.749037e+04</td>\n      <td>670.365627</td>\n      <td>28.442167</td>\n      <td>2007.028231</td>\n    </tr>\n    <tr>\n      <th>std</th>\n      <td>13161.364001</td>\n      <td>40.906929</td>\n      <td>0.927448</td>\n      <td>6.112103e+04</td>\n      <td>3170.699074</td>\n      <td>3453.338080</td>\n      <td>1.051211e+05</td>\n      <td>3823.072834</td>\n      <td>25.365980</td>\n      <td>10.283658</td>\n    </tr>\n    <tr>\n      <th>min</th>\n      <td>1.000000</td>\n      <td>0.000000</td>\n      <td>0.000000</td>\n      <td>0.000000e+00</td>\n      <td>1.000000</td>\n      <td>1.000000</td>\n      <td>1.800000e+01</td>\n      <td>0.000000</td>\n      <td>0.000000</td>\n      <td>1942.000000</td>\n    </tr>\n    <tr>\n      <th>25%</th>\n      <td>2592.000000</td>\n      <td>1.000000</td>\n      <td>6.350000</td>\n      <td>6.812500e+02</td>\n      <td>1710.750000</td>\n      <td>1691.750000</td>\n      <td>2.222750e+03</td>\n      <td>3.000000</td>\n      <td>17.000000</td>\n      <td>2003.000000</td>\n    </tr>\n    <tr>\n      <th>50%</th>\n      <td>10401.500000</td>\n      <td>6.000000</td>\n      <td>6.930000</td>\n      <td>3.966000e+03</td>\n      <td>3754.500000</td>\n      <td>3629.500000</td>\n      <td>1.033650e+04</td>\n      <td>21.000000</td>\n      <td>24.000000</td>\n      <td>2010.000000</td>\n    </tr>\n    <tr>\n      <th>75%</th>\n      <td>30301.250000</td>\n      <td>13.000000</td>\n      <td>7.460000</td>\n      <td>1.976075e+04</td>\n      <td>6338.500000</td>\n      <td>6630.250000</td>\n      <td>4.336000e+04</td>\n      <td>142.000000</td>\n      <td>27.000000</td>\n      <td>2015.000000</td>\n    </tr>\n    <tr>\n      <th>max</th>\n      <td>37896.000000</td>\n      <td>1818.000000</td>\n      <td>9.520000</td>\n      <td>1.009477e+06</td>\n      <td>12856.000000</td>\n      <td>14468.000000</td>\n      <td>1.456378e+06</td>\n      <td>106895.000000</td>\n      <td>163.000000</td>\n      <td>2018.000000</td>\n    </tr>\n  </tbody>\n</table>\n</div>"
     },
     "metadata": {},
     "output_type": "execute_result",
     "execution_count": 211
    }
   ],
   "source": [
    "animes.describe()"
   ]
  },
  {
   "cell_type": "code",
   "execution_count": 212,
   "metadata": {
    "pycharm": {
     "is_executing": false
    }
   },
   "outputs": [
    {
     "data": {
      "text/plain": "      aired_string  aired_from_year\n199      Sep, 2008              NaN\n217           1999              NaN\n248           1987              NaN\n289           1988              NaN\n435      Jun, 2010              NaN\n577           1967              NaN\n657      May, 2016              NaN\n794      Nov, 1992              NaN\n1044     Jan, 1999              NaN\n1084          2005              NaN\n1228          1999              NaN\n1382          2001              NaN\n1440          1963              NaN\n1465          2000              NaN\n1582          2007              NaN\n1688     Jan, 2009              NaN\n1721          2002              NaN\n1783     Apr, 2008              NaN\n1928          2002              NaN\n1935          2005              NaN\n2104          2014              NaN\n2324     Jun, 2012              NaN\n2643          2003              NaN\n3178          2004              NaN\n3192          1961              NaN\n3307     Nov, 2014              NaN\n3315     Jun, 2010              NaN\n3451     Jul, 1992              NaN\n3718          2012              NaN\n4051          2001              NaN\n...            ...              ...\n10638         2006              NaN\n10796         2008              NaN\n10844         2000              NaN\n10975         1998              NaN\n11095         2017              NaN\n11232         1985              NaN\n11294         2013              NaN\n11296         2007              NaN\n11434         2001              NaN\n11493         2009              NaN\n11662    Apr, 2010              NaN\n11755    Oct, 1997              NaN\n11785    Apr, 2012              NaN\n11809         2002              NaN\n11813         1998              NaN\n11912         1999              NaN\n12190    Jul, 2012              NaN\n12649         2008              NaN\n12900         2005              NaN\n13048    Jul, 2010              NaN\n13067         2001              NaN\n13287         2004              NaN\n13428         2003              NaN\n13651         2010              NaN\n13773         2004              NaN\n13869    Mar, 2015              NaN\n13945    Mar, 2013              NaN\n14368    Apr, 2018              NaN\n14380    Apr, 2018              NaN\n14466         2017              NaN\n\n[115 rows x 2 columns]",
      "text/html": "<div>\n<style scoped>\n    .dataframe tbody tr th:only-of-type {\n        vertical-align: middle;\n    }\n\n    .dataframe tbody tr th {\n        vertical-align: top;\n    }\n\n    .dataframe thead th {\n        text-align: right;\n    }\n</style>\n<table border=\"1\" class=\"dataframe\">\n  <thead>\n    <tr style=\"text-align: right;\">\n      <th></th>\n      <th>aired_string</th>\n      <th>aired_from_year</th>\n    </tr>\n  </thead>\n  <tbody>\n    <tr>\n      <th>199</th>\n      <td>Sep, 2008</td>\n      <td>NaN</td>\n    </tr>\n    <tr>\n      <th>217</th>\n      <td>1999</td>\n      <td>NaN</td>\n    </tr>\n    <tr>\n      <th>248</th>\n      <td>1987</td>\n      <td>NaN</td>\n    </tr>\n    <tr>\n      <th>289</th>\n      <td>1988</td>\n      <td>NaN</td>\n    </tr>\n    <tr>\n      <th>435</th>\n      <td>Jun, 2010</td>\n      <td>NaN</td>\n    </tr>\n    <tr>\n      <th>577</th>\n      <td>1967</td>\n      <td>NaN</td>\n    </tr>\n    <tr>\n      <th>657</th>\n      <td>May, 2016</td>\n      <td>NaN</td>\n    </tr>\n    <tr>\n      <th>794</th>\n      <td>Nov, 1992</td>\n      <td>NaN</td>\n    </tr>\n    <tr>\n      <th>1044</th>\n      <td>Jan, 1999</td>\n      <td>NaN</td>\n    </tr>\n    <tr>\n      <th>1084</th>\n      <td>2005</td>\n      <td>NaN</td>\n    </tr>\n    <tr>\n      <th>1228</th>\n      <td>1999</td>\n      <td>NaN</td>\n    </tr>\n    <tr>\n      <th>1382</th>\n      <td>2001</td>\n      <td>NaN</td>\n    </tr>\n    <tr>\n      <th>1440</th>\n      <td>1963</td>\n      <td>NaN</td>\n    </tr>\n    <tr>\n      <th>1465</th>\n      <td>2000</td>\n      <td>NaN</td>\n    </tr>\n    <tr>\n      <th>1582</th>\n      <td>2007</td>\n      <td>NaN</td>\n    </tr>\n    <tr>\n      <th>1688</th>\n      <td>Jan, 2009</td>\n      <td>NaN</td>\n    </tr>\n    <tr>\n      <th>1721</th>\n      <td>2002</td>\n      <td>NaN</td>\n    </tr>\n    <tr>\n      <th>1783</th>\n      <td>Apr, 2008</td>\n      <td>NaN</td>\n    </tr>\n    <tr>\n      <th>1928</th>\n      <td>2002</td>\n      <td>NaN</td>\n    </tr>\n    <tr>\n      <th>1935</th>\n      <td>2005</td>\n      <td>NaN</td>\n    </tr>\n    <tr>\n      <th>2104</th>\n      <td>2014</td>\n      <td>NaN</td>\n    </tr>\n    <tr>\n      <th>2324</th>\n      <td>Jun, 2012</td>\n      <td>NaN</td>\n    </tr>\n    <tr>\n      <th>2643</th>\n      <td>2003</td>\n      <td>NaN</td>\n    </tr>\n    <tr>\n      <th>3178</th>\n      <td>2004</td>\n      <td>NaN</td>\n    </tr>\n    <tr>\n      <th>3192</th>\n      <td>1961</td>\n      <td>NaN</td>\n    </tr>\n    <tr>\n      <th>3307</th>\n      <td>Nov, 2014</td>\n      <td>NaN</td>\n    </tr>\n    <tr>\n      <th>3315</th>\n      <td>Jun, 2010</td>\n      <td>NaN</td>\n    </tr>\n    <tr>\n      <th>3451</th>\n      <td>Jul, 1992</td>\n      <td>NaN</td>\n    </tr>\n    <tr>\n      <th>3718</th>\n      <td>2012</td>\n      <td>NaN</td>\n    </tr>\n    <tr>\n      <th>4051</th>\n      <td>2001</td>\n      <td>NaN</td>\n    </tr>\n    <tr>\n      <th>...</th>\n      <td>...</td>\n      <td>...</td>\n    </tr>\n    <tr>\n      <th>10638</th>\n      <td>2006</td>\n      <td>NaN</td>\n    </tr>\n    <tr>\n      <th>10796</th>\n      <td>2008</td>\n      <td>NaN</td>\n    </tr>\n    <tr>\n      <th>10844</th>\n      <td>2000</td>\n      <td>NaN</td>\n    </tr>\n    <tr>\n      <th>10975</th>\n      <td>1998</td>\n      <td>NaN</td>\n    </tr>\n    <tr>\n      <th>11095</th>\n      <td>2017</td>\n      <td>NaN</td>\n    </tr>\n    <tr>\n      <th>11232</th>\n      <td>1985</td>\n      <td>NaN</td>\n    </tr>\n    <tr>\n      <th>11294</th>\n      <td>2013</td>\n      <td>NaN</td>\n    </tr>\n    <tr>\n      <th>11296</th>\n      <td>2007</td>\n      <td>NaN</td>\n    </tr>\n    <tr>\n      <th>11434</th>\n      <td>2001</td>\n      <td>NaN</td>\n    </tr>\n    <tr>\n      <th>11493</th>\n      <td>2009</td>\n      <td>NaN</td>\n    </tr>\n    <tr>\n      <th>11662</th>\n      <td>Apr, 2010</td>\n      <td>NaN</td>\n    </tr>\n    <tr>\n      <th>11755</th>\n      <td>Oct, 1997</td>\n      <td>NaN</td>\n    </tr>\n    <tr>\n      <th>11785</th>\n      <td>Apr, 2012</td>\n      <td>NaN</td>\n    </tr>\n    <tr>\n      <th>11809</th>\n      <td>2002</td>\n      <td>NaN</td>\n    </tr>\n    <tr>\n      <th>11813</th>\n      <td>1998</td>\n      <td>NaN</td>\n    </tr>\n    <tr>\n      <th>11912</th>\n      <td>1999</td>\n      <td>NaN</td>\n    </tr>\n    <tr>\n      <th>12190</th>\n      <td>Jul, 2012</td>\n      <td>NaN</td>\n    </tr>\n    <tr>\n      <th>12649</th>\n      <td>2008</td>\n      <td>NaN</td>\n    </tr>\n    <tr>\n      <th>12900</th>\n      <td>2005</td>\n      <td>NaN</td>\n    </tr>\n    <tr>\n      <th>13048</th>\n      <td>Jul, 2010</td>\n      <td>NaN</td>\n    </tr>\n    <tr>\n      <th>13067</th>\n      <td>2001</td>\n      <td>NaN</td>\n    </tr>\n    <tr>\n      <th>13287</th>\n      <td>2004</td>\n      <td>NaN</td>\n    </tr>\n    <tr>\n      <th>13428</th>\n      <td>2003</td>\n      <td>NaN</td>\n    </tr>\n    <tr>\n      <th>13651</th>\n      <td>2010</td>\n      <td>NaN</td>\n    </tr>\n    <tr>\n      <th>13773</th>\n      <td>2004</td>\n      <td>NaN</td>\n    </tr>\n    <tr>\n      <th>13869</th>\n      <td>Mar, 2015</td>\n      <td>NaN</td>\n    </tr>\n    <tr>\n      <th>13945</th>\n      <td>Mar, 2013</td>\n      <td>NaN</td>\n    </tr>\n    <tr>\n      <th>14368</th>\n      <td>Apr, 2018</td>\n      <td>NaN</td>\n    </tr>\n    <tr>\n      <th>14380</th>\n      <td>Apr, 2018</td>\n      <td>NaN</td>\n    </tr>\n    <tr>\n      <th>14466</th>\n      <td>2017</td>\n      <td>NaN</td>\n    </tr>\n  </tbody>\n</table>\n<p>115 rows × 2 columns</p>\n</div>"
     },
     "metadata": {},
     "output_type": "execute_result",
     "execution_count": 212
    }
   ],
   "source": [
    "animes[animes['aired_from_year'].isnull()][['aired_string', 'aired_from_year']]"
   ]
  },
  {
   "cell_type": "code",
   "execution_count": 213,
   "metadata": {
    "pycharm": {
     "is_executing": false
    }
   },
   "outputs": [],
   "source": [
    "animes.to_csv('anime_cleaned_2.csv', index=False, sep=',', encoding='utf-8')\n",
    "users.to_csv('users_cleaned_2.csv', index=False, sep=',', encoding='utf-8')"
   ]
  },
  {
   "cell_type": "code",
   "execution_count": null,
   "metadata": {},
   "outputs": [],
   "source": []
  }
 ],
 "metadata": {
  "kernelspec": {
   "display_name": "Python 3",
   "language": "python",
   "name": "python3"
  },
  "language_info": {
   "codemirror_mode": {
    "name": "ipython",
    "version": 3
   },
   "file_extension": ".py",
   "mimetype": "text/x-python",
   "name": "python",
   "nbconvert_exporter": "python",
   "pygments_lexer": "ipython3",
   "version": "3.6.8"
  },
  "pycharm": {
   "stem_cell": {
    "cell_type": "raw",
    "source": [],
    "metadata": {
     "collapsed": false
    }
   }
  },
  "varInspector": {
   "cols": {
    "lenName": 16,
    "lenType": 16,
    "lenVar": 40
   },
   "kernels_config": {
    "python": {
     "delete_cmd_postfix": "",
     "delete_cmd_prefix": "del ",
     "library": "var_list.py",
     "varRefreshCmd": "print(var_dic_list())"
    },
    "r": {
     "delete_cmd_postfix": ") ",
     "delete_cmd_prefix": "rm(",
     "library": "var_list.r",
     "varRefreshCmd": "cat(var_dic_list()) "
    }
   },
   "oldHeight": 419,
   "position": {
    "height": "441px",
    "left": "2029px",
    "right": "20px",
    "top": "119px",
    "width": "507px"
   },
   "types_to_exclude": [
    "module",
    "function",
    "builtin_function_or_method",
    "instance",
    "_Feature"
   ],
   "varInspector_section_display": "block",
   "window_display": true
  }
 },
 "nbformat": 4,
 "nbformat_minor": 2
}