{
 "cells": [
  {
   "cell_type": "code",
   "execution_count": 94,
   "metadata": {
    "pycharm": {
     "is_executing": false
    }
   },
   "outputs": [],
   "source": [
    "import pandas as pd\n",
    "import numpy as np\n",
    "import matplotlib as mpl\n",
    "import matplotlib.pyplot as plt\n",
    "import seaborn as sns\n",
    "import re\n",
    "import ast\n",
    "from cleaning import *"
   ]
  },
  {
   "cell_type": "code",
   "execution_count": 2,
   "metadata": {
    "pycharm": {
     "is_executing": false
    }
   },
   "outputs": [
    {
     "data": {
      "text/html": [
       "<style>.container { width:70% !important; }</style>"
      ],
      "text/plain": [
       "<IPython.core.display.HTML object>"
      ]
     },
     "metadata": {},
     "output_type": "display_data"
    }
   ],
   "source": [
    "# use this to keep the cells wider, very nice on wide screens, set the percentage as you like it\n",
    "from IPython.core.display import display, HTML\n",
    "display(HTML(\"<style>.container { width:70% !important; }</style>\"))"
   ]
  },
  {
   "cell_type": "code",
   "execution_count": 93,
   "metadata": {},
   "outputs": [
    {
     "name": "stdout",
     "output_type": "stream",
     "text": [
      "The autoreload extension is already loaded. To reload it, use:\n",
      "  %reload_ext autoreload\n"
     ]
    }
   ],
   "source": [
    "%load_ext autoreload\n",
    "\n",
    "%autoreload 2"
   ]
  },
  {
   "cell_type": "code",
   "execution_count": 3,
   "metadata": {
    "pycharm": {
     "is_executing": false
    }
   },
   "outputs": [],
   "source": [
    "from pandas.io.common import _NA_VALUES\n",
    "na_values = _NA_VALUES - {'NULL', 'null', 'nan', 'NaN'}\n",
    "\n",
    "animes = pd.read_csv('anime_filtered.csv')\n",
    "users = pd.read_csv('users_filtered.csv', na_values=na_values, keep_default_na=False)"
   ]
  },
  {
   "cell_type": "code",
   "execution_count": 4,
   "metadata": {
    "pycharm": {
     "is_executing": false
    }
   },
   "outputs": [],
   "source": [
    "plt.rcParams.update(mpl.rcParamsDefault)  # for recovering from xkcd\n",
    "\n",
    "# taken from https://github.com/ctokheim/matplotlibrc\n",
    "#plt.style.use('seaborn')\n",
    "plt.style.use('seaborn-talk')\n",
    "#plt.style.use('ggplot')\n",
    "#plt.xkcd()\n",
    "\n",
    "conf = {\n",
    "    'font.size': 14.0,\n",
    "    'axes.grid': True,\n",
    "    'axes.axisbelow': True,\n",
    "    'axes.edgecolor': 'black',\n",
    "#    'axes.facecolor': '#E5E5EF',\n",
    "#    'axes.facecolor': '#E0E0EF',\n",
    "    'axes.labelcolor': 'black',\n",
    "    'axes.titlesize': 15.6,\n",
    "    'axes.labelsize': 'large',    \n",
    "    'figure.figsize': (12, 7),\n",
    "    'figure.titlesize': 'x-large',\n",
    "    'grid.linewidth': 1.3,\n",
    "    'xtick.labelsize': 'large',\n",
    "    'ytick.labelsize': 'large',\n",
    "    'xtick.color': 'black',\n",
    "    'ytick.color': 'black',\n",
    "    'legend.fontsize': 'large',\n",
    "}\n",
    "\n",
    "plt.rcParams.update(conf)\n"
   ]
  },
  {
   "cell_type": "code",
   "execution_count": 5,
   "metadata": {
    "pycharm": {
     "is_executing": false
    },
    "scrolled": true
   },
   "outputs": [
    {
     "name": "stderr",
     "output_type": "stream",
     "text": [
      "C:\\ProgramData\\Anaconda3\\lib\\site-packages\\matplotlib\\__init__.py:886: MatplotlibDeprecationWarning: \n",
      "examples.directory is deprecated; in the future, examples will be found relative to the 'datapath' directory.\n",
      "  \"found relative to the 'datapath' directory.\".format(key))\n"
     ]
    },
    {
     "data": {
      "text/plain": [
       "RcParams({'_internal.classic_mode': False,\n",
       "          'agg.path.chunksize': 0,\n",
       "          'animation.avconv_args': [],\n",
       "          'animation.avconv_path': 'avconv',\n",
       "          'animation.bitrate': -1,\n",
       "          'animation.codec': 'h264',\n",
       "          'animation.convert_args': [],\n",
       "          'animation.convert_path': 'convert',\n",
       "          'animation.embed_limit': 20.0,\n",
       "          'animation.ffmpeg_args': [],\n",
       "          'animation.ffmpeg_path': 'ffmpeg',\n",
       "          'animation.frame_format': 'png',\n",
       "          'animation.html': 'none',\n",
       "          'animation.html_args': [],\n",
       "          'animation.writer': 'ffmpeg',\n",
       "          'axes.autolimit_mode': 'data',\n",
       "          'axes.axisbelow': True,\n",
       "          'axes.edgecolor': 'black',\n",
       "          'axes.facecolor': 'white',\n",
       "          'axes.formatter.limits': [-7, 7],\n",
       "          'axes.formatter.min_exponent': 0,\n",
       "          'axes.formatter.offset_threshold': 4,\n",
       "          'axes.formatter.use_locale': False,\n",
       "          'axes.formatter.use_mathtext': False,\n",
       "          'axes.formatter.useoffset': True,\n",
       "          'axes.grid': True,\n",
       "          'axes.grid.axis': 'both',\n",
       "          'axes.grid.which': 'major',\n",
       "          'axes.labelcolor': 'black',\n",
       "          'axes.labelpad': 4.0,\n",
       "          'axes.labelsize': 'large',\n",
       "          'axes.labelweight': 'normal',\n",
       "          'axes.linewidth': 0.8,\n",
       "          'axes.prop_cycle': cycler('color', ['#1f77b4', '#ff7f0e', '#2ca02c', '#d62728', '#9467bd', '#8c564b', '#e377c2', '#7f7f7f', '#bcbd22', '#17becf']),\n",
       "          'axes.spines.bottom': True,\n",
       "          'axes.spines.left': True,\n",
       "          'axes.spines.right': True,\n",
       "          'axes.spines.top': True,\n",
       "          'axes.titlepad': 6.0,\n",
       "          'axes.titlesize': 15.6,\n",
       "          'axes.titleweight': 'normal',\n",
       "          'axes.unicode_minus': True,\n",
       "          'axes.xmargin': 0.05,\n",
       "          'axes.ymargin': 0.05,\n",
       "          'axes3d.grid': True,\n",
       "          'backend': 'module://ipykernel.pylab.backend_inline',\n",
       "          'backend.qt4': None,\n",
       "          'backend.qt5': None,\n",
       "          'backend_fallback': True,\n",
       "          'boxplot.bootstrap': None,\n",
       "          'boxplot.boxprops.color': 'black',\n",
       "          'boxplot.boxprops.linestyle': '-',\n",
       "          'boxplot.boxprops.linewidth': 1.0,\n",
       "          'boxplot.capprops.color': 'black',\n",
       "          'boxplot.capprops.linestyle': '-',\n",
       "          'boxplot.capprops.linewidth': 1.0,\n",
       "          'boxplot.flierprops.color': 'black',\n",
       "          'boxplot.flierprops.linestyle': 'none',\n",
       "          'boxplot.flierprops.linewidth': 1.0,\n",
       "          'boxplot.flierprops.marker': 'o',\n",
       "          'boxplot.flierprops.markeredgecolor': 'black',\n",
       "          'boxplot.flierprops.markerfacecolor': 'none',\n",
       "          'boxplot.flierprops.markersize': 6.0,\n",
       "          'boxplot.meanline': False,\n",
       "          'boxplot.meanprops.color': 'C2',\n",
       "          'boxplot.meanprops.linestyle': '--',\n",
       "          'boxplot.meanprops.linewidth': 1.0,\n",
       "          'boxplot.meanprops.marker': '^',\n",
       "          'boxplot.meanprops.markeredgecolor': 'C2',\n",
       "          'boxplot.meanprops.markerfacecolor': 'C2',\n",
       "          'boxplot.meanprops.markersize': 6.0,\n",
       "          'boxplot.medianprops.color': 'C1',\n",
       "          'boxplot.medianprops.linestyle': '-',\n",
       "          'boxplot.medianprops.linewidth': 1.0,\n",
       "          'boxplot.notch': False,\n",
       "          'boxplot.patchartist': False,\n",
       "          'boxplot.showbox': True,\n",
       "          'boxplot.showcaps': True,\n",
       "          'boxplot.showfliers': True,\n",
       "          'boxplot.showmeans': False,\n",
       "          'boxplot.vertical': True,\n",
       "          'boxplot.whiskerprops.color': 'black',\n",
       "          'boxplot.whiskerprops.linestyle': '-',\n",
       "          'boxplot.whiskerprops.linewidth': 1.0,\n",
       "          'boxplot.whiskers': 1.5,\n",
       "          'contour.corner_mask': True,\n",
       "          'contour.negative_linestyle': 'dashed',\n",
       "          'datapath': 'C:\\\\ProgramData\\\\Anaconda3\\\\lib\\\\site-packages\\\\matplotlib\\\\mpl-data',\n",
       "          'date.autoformatter.day': '%Y-%m-%d',\n",
       "          'date.autoformatter.hour': '%m-%d %H',\n",
       "          'date.autoformatter.microsecond': '%M:%S.%f',\n",
       "          'date.autoformatter.minute': '%d %H:%M',\n",
       "          'date.autoformatter.month': '%Y-%m',\n",
       "          'date.autoformatter.second': '%H:%M:%S',\n",
       "          'date.autoformatter.year': '%Y',\n",
       "          'docstring.hardcopy': False,\n",
       "          'errorbar.capsize': 0.0,\n",
       "          'examples.directory': '',\n",
       "          'figure.autolayout': False,\n",
       "          'figure.constrained_layout.h_pad': 0.04167,\n",
       "          'figure.constrained_layout.hspace': 0.02,\n",
       "          'figure.constrained_layout.use': False,\n",
       "          'figure.constrained_layout.w_pad': 0.04167,\n",
       "          'figure.constrained_layout.wspace': 0.02,\n",
       "          'figure.dpi': 100.0,\n",
       "          'figure.edgecolor': 'white',\n",
       "          'figure.facecolor': 'white',\n",
       "          'figure.figsize': [12.0, 7.0],\n",
       "          'figure.frameon': True,\n",
       "          'figure.max_open_warning': 20,\n",
       "          'figure.subplot.bottom': 0.11,\n",
       "          'figure.subplot.hspace': 0.2,\n",
       "          'figure.subplot.left': 0.125,\n",
       "          'figure.subplot.right': 0.9,\n",
       "          'figure.subplot.top': 0.88,\n",
       "          'figure.subplot.wspace': 0.2,\n",
       "          'figure.titlesize': 'x-large',\n",
       "          'figure.titleweight': 'normal',\n",
       "          'font.cursive': ['Apple Chancery',\n",
       "                           'Textile',\n",
       "                           'Zapf Chancery',\n",
       "                           'Sand',\n",
       "                           'Script MT',\n",
       "                           'Felipa',\n",
       "                           'cursive'],\n",
       "          'font.family': ['sans-serif'],\n",
       "          'font.fantasy': ['Comic Sans MS',\n",
       "                           'Chicago',\n",
       "                           'Charcoal',\n",
       "                           'Impact',\n",
       "                           'Western',\n",
       "                           'Humor Sans',\n",
       "                           'xkcd',\n",
       "                           'fantasy'],\n",
       "          'font.monospace': ['DejaVu Sans Mono',\n",
       "                             'Bitstream Vera Sans Mono',\n",
       "                             'Computer Modern Typewriter',\n",
       "                             'Andale Mono',\n",
       "                             'Nimbus Mono L',\n",
       "                             'Courier New',\n",
       "                             'Courier',\n",
       "                             'Fixed',\n",
       "                             'Terminal',\n",
       "                             'monospace'],\n",
       "          'font.sans-serif': ['DejaVu Sans',\n",
       "                              'Bitstream Vera Sans',\n",
       "                              'Computer Modern Sans Serif',\n",
       "                              'Lucida Grande',\n",
       "                              'Verdana',\n",
       "                              'Geneva',\n",
       "                              'Lucid',\n",
       "                              'Arial',\n",
       "                              'Helvetica',\n",
       "                              'Avant Garde',\n",
       "                              'sans-serif'],\n",
       "          'font.serif': ['DejaVu Serif',\n",
       "                         'Bitstream Vera Serif',\n",
       "                         'Computer Modern Roman',\n",
       "                         'New Century Schoolbook',\n",
       "                         'Century Schoolbook L',\n",
       "                         'Utopia',\n",
       "                         'ITC Bookman',\n",
       "                         'Bookman',\n",
       "                         'Nimbus Roman No9 L',\n",
       "                         'Times New Roman',\n",
       "                         'Times',\n",
       "                         'Palatino',\n",
       "                         'Charter',\n",
       "                         'serif'],\n",
       "          'font.size': 14.0,\n",
       "          'font.stretch': 'normal',\n",
       "          'font.style': 'normal',\n",
       "          'font.variant': 'normal',\n",
       "          'font.weight': 'normal',\n",
       "          'grid.alpha': 1.0,\n",
       "          'grid.color': '#b0b0b0',\n",
       "          'grid.linestyle': '-',\n",
       "          'grid.linewidth': 1.3,\n",
       "          'hatch.color': 'black',\n",
       "          'hatch.linewidth': 1.0,\n",
       "          'hist.bins': 10,\n",
       "          'image.aspect': 'equal',\n",
       "          'image.cmap': 'viridis',\n",
       "          'image.composite_image': True,\n",
       "          'image.interpolation': 'nearest',\n",
       "          'image.lut': 256,\n",
       "          'image.origin': 'upper',\n",
       "          'image.resample': True,\n",
       "          'interactive': False,\n",
       "          'keymap.all_axes': ['a'],\n",
       "          'keymap.back': ['left', 'c', 'backspace'],\n",
       "          'keymap.copy': ['ctrl+c', 'cmd+c'],\n",
       "          'keymap.forward': ['right', 'v'],\n",
       "          'keymap.fullscreen': ['f', 'ctrl+f'],\n",
       "          'keymap.grid': ['g'],\n",
       "          'keymap.grid_minor': ['G'],\n",
       "          'keymap.help': ['f1'],\n",
       "          'keymap.home': ['h', 'r', 'home'],\n",
       "          'keymap.pan': ['p'],\n",
       "          'keymap.quit': ['ctrl+w', 'cmd+w', 'q'],\n",
       "          'keymap.quit_all': ['W', 'cmd+W', 'Q'],\n",
       "          'keymap.save': ['s', 'ctrl+s'],\n",
       "          'keymap.xscale': ['k', 'L'],\n",
       "          'keymap.yscale': ['l'],\n",
       "          'keymap.zoom': ['o'],\n",
       "          'legend.borderaxespad': 0.5,\n",
       "          'legend.borderpad': 0.4,\n",
       "          'legend.columnspacing': 2.0,\n",
       "          'legend.edgecolor': '0.8',\n",
       "          'legend.facecolor': 'inherit',\n",
       "          'legend.fancybox': True,\n",
       "          'legend.fontsize': 'large',\n",
       "          'legend.framealpha': 0.8,\n",
       "          'legend.frameon': True,\n",
       "          'legend.handleheight': 0.7,\n",
       "          'legend.handlelength': 2.0,\n",
       "          'legend.handletextpad': 0.8,\n",
       "          'legend.labelspacing': 0.5,\n",
       "          'legend.loc': 'best',\n",
       "          'legend.markerscale': 1.0,\n",
       "          'legend.numpoints': 1,\n",
       "          'legend.scatterpoints': 1,\n",
       "          'legend.shadow': False,\n",
       "          'legend.title_fontsize': None,\n",
       "          'lines.antialiased': True,\n",
       "          'lines.color': 'C0',\n",
       "          'lines.dash_capstyle': 'butt',\n",
       "          'lines.dash_joinstyle': 'round',\n",
       "          'lines.dashdot_pattern': [6.4, 1.6, 1.0, 1.6],\n",
       "          'lines.dashed_pattern': [3.7, 1.6],\n",
       "          'lines.dotted_pattern': [1.0, 1.65],\n",
       "          'lines.linestyle': '-',\n",
       "          'lines.linewidth': 2.275,\n",
       "          'lines.marker': 'None',\n",
       "          'lines.markeredgecolor': 'auto',\n",
       "          'lines.markeredgewidth': 0.0,\n",
       "          'lines.markerfacecolor': 'auto',\n",
       "          'lines.markersize': 9.1,\n",
       "          'lines.scale_dashes': True,\n",
       "          'lines.solid_capstyle': 'projecting',\n",
       "          'lines.solid_joinstyle': 'round',\n",
       "          'markers.fillstyle': 'full',\n",
       "          'mathtext.bf': 'sans:bold',\n",
       "          'mathtext.cal': 'cursive',\n",
       "          'mathtext.default': 'it',\n",
       "          'mathtext.fallback_to_cm': True,\n",
       "          'mathtext.fontset': 'dejavusans',\n",
       "          'mathtext.it': 'sans:italic',\n",
       "          'mathtext.rm': 'sans',\n",
       "          'mathtext.sf': 'sans',\n",
       "          'mathtext.tt': 'monospace',\n",
       "          'patch.antialiased': True,\n",
       "          'patch.edgecolor': 'black',\n",
       "          'patch.facecolor': 'C0',\n",
       "          'patch.force_edgecolor': False,\n",
       "          'patch.linewidth': 0.39,\n",
       "          'path.effects': [],\n",
       "          'path.simplify': True,\n",
       "          'path.simplify_threshold': 0.1111111111111111,\n",
       "          'path.sketch': None,\n",
       "          'path.snap': True,\n",
       "          'pdf.compression': 6,\n",
       "          'pdf.fonttype': 3,\n",
       "          'pdf.inheritcolor': False,\n",
       "          'pdf.use14corefonts': False,\n",
       "          'pgf.preamble': [],\n",
       "          'pgf.rcfonts': True,\n",
       "          'pgf.texsystem': 'xelatex',\n",
       "          'polaraxes.grid': True,\n",
       "          'ps.distiller.res': 6000,\n",
       "          'ps.fonttype': 3,\n",
       "          'ps.papersize': 'letter',\n",
       "          'ps.useafm': False,\n",
       "          'ps.usedistiller': False,\n",
       "          'savefig.bbox': None,\n",
       "          'savefig.directory': '~',\n",
       "          'savefig.dpi': 'figure',\n",
       "          'savefig.edgecolor': 'white',\n",
       "          'savefig.facecolor': 'white',\n",
       "          'savefig.format': 'png',\n",
       "          'savefig.frameon': True,\n",
       "          'savefig.jpeg_quality': 95,\n",
       "          'savefig.orientation': 'portrait',\n",
       "          'savefig.pad_inches': 0.1,\n",
       "          'savefig.transparent': False,\n",
       "          'scatter.marker': 'o',\n",
       "          'svg.fonttype': 'path',\n",
       "          'svg.hashsalt': None,\n",
       "          'svg.image_inline': True,\n",
       "          'text.antialiased': True,\n",
       "          'text.color': 'black',\n",
       "          'text.hinting': 'auto',\n",
       "          'text.hinting_factor': 8,\n",
       "          'text.latex.preamble': [],\n",
       "          'text.latex.preview': False,\n",
       "          'text.latex.unicode': True,\n",
       "          'text.usetex': False,\n",
       "          'timezone': 'UTC',\n",
       "          'tk.window_focus': False,\n",
       "          'toolbar': 'toolbar2',\n",
       "          'verbose.fileo': 'sys.stdout',\n",
       "          'verbose.level': 'silent',\n",
       "          'webagg.address': '127.0.0.1',\n",
       "          'webagg.open_in_browser': True,\n",
       "          'webagg.port': 8988,\n",
       "          'webagg.port_retries': 50,\n",
       "          'xtick.alignment': 'center',\n",
       "          'xtick.bottom': True,\n",
       "          'xtick.color': 'black',\n",
       "          'xtick.direction': 'out',\n",
       "          'xtick.labelbottom': True,\n",
       "          'xtick.labelsize': 'large',\n",
       "          'xtick.labeltop': False,\n",
       "          'xtick.major.bottom': True,\n",
       "          'xtick.major.pad': 9.1,\n",
       "          'xtick.major.size': 3.5,\n",
       "          'xtick.major.top': True,\n",
       "          'xtick.major.width': 1.3,\n",
       "          'xtick.minor.bottom': True,\n",
       "          'xtick.minor.pad': 3.4,\n",
       "          'xtick.minor.size': 2.0,\n",
       "          'xtick.minor.top': True,\n",
       "          'xtick.minor.visible': False,\n",
       "          'xtick.minor.width': 0.65,\n",
       "          'xtick.top': False,\n",
       "          'ytick.alignment': 'center_baseline',\n",
       "          'ytick.color': 'black',\n",
       "          'ytick.direction': 'out',\n",
       "          'ytick.labelleft': True,\n",
       "          'ytick.labelright': False,\n",
       "          'ytick.labelsize': 'large',\n",
       "          'ytick.left': True,\n",
       "          'ytick.major.left': True,\n",
       "          'ytick.major.pad': 9.1,\n",
       "          'ytick.major.right': True,\n",
       "          'ytick.major.size': 3.5,\n",
       "          'ytick.major.width': 1.3,\n",
       "          'ytick.minor.left': True,\n",
       "          'ytick.minor.pad': 3.4,\n",
       "          'ytick.minor.right': True,\n",
       "          'ytick.minor.size': 2.0,\n",
       "          'ytick.minor.visible': False,\n",
       "          'ytick.minor.width': 0.65,\n",
       "          'ytick.right': False})"
      ]
     },
     "execution_count": 5,
     "metadata": {},
     "output_type": "execute_result"
    }
   ],
   "source": [
    "plt.rcParams"
   ]
  },
  {
   "cell_type": "code",
   "execution_count": 6,
   "metadata": {
    "pycharm": {
     "is_executing": false
    }
   },
   "outputs": [
    {
     "data": {
      "text/plain": [
       "['bmh',\n",
       " 'classic',\n",
       " 'dark_background',\n",
       " 'fast',\n",
       " 'fivethirtyeight',\n",
       " 'ggplot',\n",
       " 'grayscale',\n",
       " 'seaborn-bright',\n",
       " 'seaborn-colorblind',\n",
       " 'seaborn-dark-palette',\n",
       " 'seaborn-dark',\n",
       " 'seaborn-darkgrid',\n",
       " 'seaborn-deep',\n",
       " 'seaborn-muted',\n",
       " 'seaborn-notebook',\n",
       " 'seaborn-paper',\n",
       " 'seaborn-pastel',\n",
       " 'seaborn-poster',\n",
       " 'seaborn-talk',\n",
       " 'seaborn-ticks',\n",
       " 'seaborn-white',\n",
       " 'seaborn-whitegrid',\n",
       " 'seaborn',\n",
       " 'Solarize_Light2',\n",
       " 'tableau-colorblind10',\n",
       " '_classic_test']"
      ]
     },
     "execution_count": 6,
     "metadata": {},
     "output_type": "execute_result"
    }
   ],
   "source": [
    "plt.style.available"
   ]
  },
  {
   "cell_type": "code",
   "execution_count": 7,
   "metadata": {
    "pycharm": {
     "is_executing": false
    }
   },
   "outputs": [
    {
     "data": {
      "text/html": [
       "<div>\n",
       "<style scoped>\n",
       "    .dataframe tbody tr th:only-of-type {\n",
       "        vertical-align: middle;\n",
       "    }\n",
       "\n",
       "    .dataframe tbody tr th {\n",
       "        vertical-align: top;\n",
       "    }\n",
       "\n",
       "    .dataframe thead th {\n",
       "        text-align: right;\n",
       "    }\n",
       "</style>\n",
       "<table border=\"1\" class=\"dataframe\">\n",
       "  <thead>\n",
       "    <tr style=\"text-align: right;\">\n",
       "      <th></th>\n",
       "      <th>user_id</th>\n",
       "      <th>user_watching</th>\n",
       "      <th>user_completed</th>\n",
       "      <th>user_onhold</th>\n",
       "      <th>user_dropped</th>\n",
       "      <th>user_plantowatch</th>\n",
       "      <th>user_days_spent_watching</th>\n",
       "      <th>access_rank</th>\n",
       "      <th>stats_mean_score</th>\n",
       "      <th>stats_rewatched</th>\n",
       "      <th>stats_episodes</th>\n",
       "    </tr>\n",
       "  </thead>\n",
       "  <tbody>\n",
       "    <tr>\n",
       "      <th>count</th>\n",
       "      <td>1.161330e+05</td>\n",
       "      <td>116133.000000</td>\n",
       "      <td>116133.000000</td>\n",
       "      <td>116133.000000</td>\n",
       "      <td>116133.000000</td>\n",
       "      <td>116133.000000</td>\n",
       "      <td>1.161330e+05</td>\n",
       "      <td>0.0</td>\n",
       "      <td>116133.000000</td>\n",
       "      <td>116133.000000</td>\n",
       "      <td>1.161330e+05</td>\n",
       "    </tr>\n",
       "    <tr>\n",
       "      <th>mean</th>\n",
       "      <td>1.810832e+06</td>\n",
       "      <td>14.610283</td>\n",
       "      <td>195.498807</td>\n",
       "      <td>11.338018</td>\n",
       "      <td>11.818518</td>\n",
       "      <td>74.936332</td>\n",
       "      <td>9.329691e+01</td>\n",
       "      <td>NaN</td>\n",
       "      <td>7.713389</td>\n",
       "      <td>13.991079</td>\n",
       "      <td>6.611762e+03</td>\n",
       "    </tr>\n",
       "    <tr>\n",
       "      <th>std</th>\n",
       "      <td>1.996139e+06</td>\n",
       "      <td>32.459424</td>\n",
       "      <td>256.533148</td>\n",
       "      <td>31.622640</td>\n",
       "      <td>31.117077</td>\n",
       "      <td>177.889249</td>\n",
       "      <td>7.636053e+03</td>\n",
       "      <td>NaN</td>\n",
       "      <td>1.538595</td>\n",
       "      <td>54.731186</td>\n",
       "      <td>7.155270e+05</td>\n",
       "    </tr>\n",
       "    <tr>\n",
       "      <th>min</th>\n",
       "      <td>1.000000e+00</td>\n",
       "      <td>0.000000</td>\n",
       "      <td>0.000000</td>\n",
       "      <td>0.000000</td>\n",
       "      <td>0.000000</td>\n",
       "      <td>0.000000</td>\n",
       "      <td>0.000000e+00</td>\n",
       "      <td>NaN</td>\n",
       "      <td>0.000000</td>\n",
       "      <td>0.000000</td>\n",
       "      <td>0.000000e+00</td>\n",
       "    </tr>\n",
       "    <tr>\n",
       "      <th>25%</th>\n",
       "      <td>1.990980e+05</td>\n",
       "      <td>3.000000</td>\n",
       "      <td>47.000000</td>\n",
       "      <td>0.000000</td>\n",
       "      <td>0.000000</td>\n",
       "      <td>5.000000</td>\n",
       "      <td>2.246000e+01</td>\n",
       "      <td>NaN</td>\n",
       "      <td>7.310000</td>\n",
       "      <td>0.000000</td>\n",
       "      <td>1.349000e+03</td>\n",
       "    </tr>\n",
       "    <tr>\n",
       "      <th>50%</th>\n",
       "      <td>5.615770e+05</td>\n",
       "      <td>7.000000</td>\n",
       "      <td>121.000000</td>\n",
       "      <td>4.000000</td>\n",
       "      <td>3.000000</td>\n",
       "      <td>27.000000</td>\n",
       "      <td>4.990000e+01</td>\n",
       "      <td>NaN</td>\n",
       "      <td>7.880000</td>\n",
       "      <td>1.000000</td>\n",
       "      <td>3.017000e+03</td>\n",
       "    </tr>\n",
       "    <tr>\n",
       "      <th>75%</th>\n",
       "      <td>3.464591e+06</td>\n",
       "      <td>16.000000</td>\n",
       "      <td>253.000000</td>\n",
       "      <td>12.000000</td>\n",
       "      <td>12.000000</td>\n",
       "      <td>80.000000</td>\n",
       "      <td>9.277000e+01</td>\n",
       "      <td>NaN</td>\n",
       "      <td>8.460000</td>\n",
       "      <td>10.000000</td>\n",
       "      <td>5.642000e+03</td>\n",
       "    </tr>\n",
       "    <tr>\n",
       "      <th>max</th>\n",
       "      <td>7.251737e+06</td>\n",
       "      <td>2934.000000</td>\n",
       "      <td>11536.000000</td>\n",
       "      <td>2562.000000</td>\n",
       "      <td>2457.000000</td>\n",
       "      <td>12051.000000</td>\n",
       "      <td>2.601351e+06</td>\n",
       "      <td>NaN</td>\n",
       "      <td>10.000000</td>\n",
       "      <td>9404.000000</td>\n",
       "      <td>2.437949e+08</td>\n",
       "    </tr>\n",
       "  </tbody>\n",
       "</table>\n",
       "</div>"
      ],
      "text/plain": [
       "            user_id  user_watching  user_completed    user_onhold  \\\n",
       "count  1.161330e+05  116133.000000   116133.000000  116133.000000   \n",
       "mean   1.810832e+06      14.610283      195.498807      11.338018   \n",
       "std    1.996139e+06      32.459424      256.533148      31.622640   \n",
       "min    1.000000e+00       0.000000        0.000000       0.000000   \n",
       "25%    1.990980e+05       3.000000       47.000000       0.000000   \n",
       "50%    5.615770e+05       7.000000      121.000000       4.000000   \n",
       "75%    3.464591e+06      16.000000      253.000000      12.000000   \n",
       "max    7.251737e+06    2934.000000    11536.000000    2562.000000   \n",
       "\n",
       "        user_dropped  user_plantowatch  user_days_spent_watching  access_rank  \\\n",
       "count  116133.000000     116133.000000              1.161330e+05          0.0   \n",
       "mean       11.818518         74.936332              9.329691e+01          NaN   \n",
       "std        31.117077        177.889249              7.636053e+03          NaN   \n",
       "min         0.000000          0.000000              0.000000e+00          NaN   \n",
       "25%         0.000000          5.000000              2.246000e+01          NaN   \n",
       "50%         3.000000         27.000000              4.990000e+01          NaN   \n",
       "75%        12.000000         80.000000              9.277000e+01          NaN   \n",
       "max      2457.000000      12051.000000              2.601351e+06          NaN   \n",
       "\n",
       "       stats_mean_score  stats_rewatched  stats_episodes  \n",
       "count     116133.000000    116133.000000    1.161330e+05  \n",
       "mean           7.713389        13.991079    6.611762e+03  \n",
       "std            1.538595        54.731186    7.155270e+05  \n",
       "min            0.000000         0.000000    0.000000e+00  \n",
       "25%            7.310000         0.000000    1.349000e+03  \n",
       "50%            7.880000         1.000000    3.017000e+03  \n",
       "75%            8.460000        10.000000    5.642000e+03  \n",
       "max           10.000000      9404.000000    2.437949e+08  "
      ]
     },
     "execution_count": 7,
     "metadata": {},
     "output_type": "execute_result"
    }
   ],
   "source": [
    "users.describe()"
   ]
  },
  {
   "cell_type": "code",
   "execution_count": 8,
   "metadata": {
    "pycharm": {
     "is_executing": false
    }
   },
   "outputs": [],
   "source": [
    "# dropping users with invalid and obviously incorrect dates\n",
    "users['birth_date'] = pd.to_datetime(users['birth_date'], errors='coerce')\n",
    "users['last_online'] = pd.to_datetime(users['last_online'], errors='coerce')\n",
    "users['join_date'] = pd.to_datetime(users['join_date'], errors='coerce')\n",
    "users = users.dropna(subset=['birth_date', 'last_online', 'join_date'])\n",
    "#users = users[users['last_online'].dt.year > 1950]"
   ]
  },
  {
   "cell_type": "code",
   "execution_count": 9,
   "metadata": {
    "pycharm": {
     "is_executing": false
    }
   },
   "outputs": [
    {
     "data": {
      "text/html": [
       "<div>\n",
       "<style scoped>\n",
       "    .dataframe tbody tr th:only-of-type {\n",
       "        vertical-align: middle;\n",
       "    }\n",
       "\n",
       "    .dataframe tbody tr th {\n",
       "        vertical-align: top;\n",
       "    }\n",
       "\n",
       "    .dataframe thead th {\n",
       "        text-align: right;\n",
       "    }\n",
       "</style>\n",
       "<table border=\"1\" class=\"dataframe\">\n",
       "  <thead>\n",
       "    <tr style=\"text-align: right;\">\n",
       "      <th></th>\n",
       "      <th>user_id</th>\n",
       "      <th>user_watching</th>\n",
       "      <th>user_completed</th>\n",
       "      <th>user_onhold</th>\n",
       "      <th>user_dropped</th>\n",
       "      <th>user_plantowatch</th>\n",
       "      <th>user_days_spent_watching</th>\n",
       "      <th>access_rank</th>\n",
       "      <th>stats_mean_score</th>\n",
       "      <th>stats_rewatched</th>\n",
       "      <th>stats_episodes</th>\n",
       "    </tr>\n",
       "  </thead>\n",
       "  <tbody>\n",
       "    <tr>\n",
       "      <th>count</th>\n",
       "      <td>1.161310e+05</td>\n",
       "      <td>116131.000000</td>\n",
       "      <td>116131.00000</td>\n",
       "      <td>116131.000000</td>\n",
       "      <td>116131.000000</td>\n",
       "      <td>116131.000000</td>\n",
       "      <td>1.161310e+05</td>\n",
       "      <td>0.0</td>\n",
       "      <td>116131.000000</td>\n",
       "      <td>116131.000000</td>\n",
       "      <td>1.161310e+05</td>\n",
       "    </tr>\n",
       "    <tr>\n",
       "      <th>mean</th>\n",
       "      <td>1.810839e+06</td>\n",
       "      <td>14.610259</td>\n",
       "      <td>195.49259</td>\n",
       "      <td>11.338084</td>\n",
       "      <td>11.818429</td>\n",
       "      <td>74.935771</td>\n",
       "      <td>9.329698e+01</td>\n",
       "      <td>NaN</td>\n",
       "      <td>7.713378</td>\n",
       "      <td>13.991286</td>\n",
       "      <td>6.611773e+03</td>\n",
       "    </tr>\n",
       "    <tr>\n",
       "      <th>std</th>\n",
       "      <td>1.996147e+06</td>\n",
       "      <td>32.459676</td>\n",
       "      <td>256.52762</td>\n",
       "      <td>31.622901</td>\n",
       "      <td>31.117304</td>\n",
       "      <td>177.890713</td>\n",
       "      <td>7.636119e+03</td>\n",
       "      <td>NaN</td>\n",
       "      <td>1.538603</td>\n",
       "      <td>54.731634</td>\n",
       "      <td>7.155332e+05</td>\n",
       "    </tr>\n",
       "    <tr>\n",
       "      <th>min</th>\n",
       "      <td>1.000000e+00</td>\n",
       "      <td>0.000000</td>\n",
       "      <td>0.00000</td>\n",
       "      <td>0.000000</td>\n",
       "      <td>0.000000</td>\n",
       "      <td>0.000000</td>\n",
       "      <td>0.000000e+00</td>\n",
       "      <td>NaN</td>\n",
       "      <td>0.000000</td>\n",
       "      <td>0.000000</td>\n",
       "      <td>0.000000e+00</td>\n",
       "    </tr>\n",
       "    <tr>\n",
       "      <th>25%</th>\n",
       "      <td>1.991000e+05</td>\n",
       "      <td>3.000000</td>\n",
       "      <td>47.00000</td>\n",
       "      <td>0.000000</td>\n",
       "      <td>0.000000</td>\n",
       "      <td>5.000000</td>\n",
       "      <td>2.246000e+01</td>\n",
       "      <td>NaN</td>\n",
       "      <td>7.310000</td>\n",
       "      <td>0.000000</td>\n",
       "      <td>1.349000e+03</td>\n",
       "    </tr>\n",
       "    <tr>\n",
       "      <th>50%</th>\n",
       "      <td>5.615770e+05</td>\n",
       "      <td>7.000000</td>\n",
       "      <td>121.00000</td>\n",
       "      <td>4.000000</td>\n",
       "      <td>3.000000</td>\n",
       "      <td>27.000000</td>\n",
       "      <td>4.990000e+01</td>\n",
       "      <td>NaN</td>\n",
       "      <td>7.880000</td>\n",
       "      <td>1.000000</td>\n",
       "      <td>3.017000e+03</td>\n",
       "    </tr>\n",
       "    <tr>\n",
       "      <th>75%</th>\n",
       "      <td>3.464671e+06</td>\n",
       "      <td>16.000000</td>\n",
       "      <td>253.00000</td>\n",
       "      <td>12.000000</td>\n",
       "      <td>12.000000</td>\n",
       "      <td>80.000000</td>\n",
       "      <td>9.277000e+01</td>\n",
       "      <td>NaN</td>\n",
       "      <td>8.460000</td>\n",
       "      <td>10.000000</td>\n",
       "      <td>5.642000e+03</td>\n",
       "    </tr>\n",
       "    <tr>\n",
       "      <th>max</th>\n",
       "      <td>7.251737e+06</td>\n",
       "      <td>2934.000000</td>\n",
       "      <td>11536.00000</td>\n",
       "      <td>2562.000000</td>\n",
       "      <td>2457.000000</td>\n",
       "      <td>12051.000000</td>\n",
       "      <td>2.601351e+06</td>\n",
       "      <td>NaN</td>\n",
       "      <td>10.000000</td>\n",
       "      <td>9404.000000</td>\n",
       "      <td>2.437949e+08</td>\n",
       "    </tr>\n",
       "  </tbody>\n",
       "</table>\n",
       "</div>"
      ],
      "text/plain": [
       "            user_id  user_watching  user_completed    user_onhold  \\\n",
       "count  1.161310e+05  116131.000000    116131.00000  116131.000000   \n",
       "mean   1.810839e+06      14.610259       195.49259      11.338084   \n",
       "std    1.996147e+06      32.459676       256.52762      31.622901   \n",
       "min    1.000000e+00       0.000000         0.00000       0.000000   \n",
       "25%    1.991000e+05       3.000000        47.00000       0.000000   \n",
       "50%    5.615770e+05       7.000000       121.00000       4.000000   \n",
       "75%    3.464671e+06      16.000000       253.00000      12.000000   \n",
       "max    7.251737e+06    2934.000000     11536.00000    2562.000000   \n",
       "\n",
       "        user_dropped  user_plantowatch  user_days_spent_watching  access_rank  \\\n",
       "count  116131.000000     116131.000000              1.161310e+05          0.0   \n",
       "mean       11.818429         74.935771              9.329698e+01          NaN   \n",
       "std        31.117304        177.890713              7.636119e+03          NaN   \n",
       "min         0.000000          0.000000              0.000000e+00          NaN   \n",
       "25%         0.000000          5.000000              2.246000e+01          NaN   \n",
       "50%         3.000000         27.000000              4.990000e+01          NaN   \n",
       "75%        12.000000         80.000000              9.277000e+01          NaN   \n",
       "max      2457.000000      12051.000000              2.601351e+06          NaN   \n",
       "\n",
       "       stats_mean_score  stats_rewatched  stats_episodes  \n",
       "count     116131.000000    116131.000000    1.161310e+05  \n",
       "mean           7.713378        13.991286    6.611773e+03  \n",
       "std            1.538603        54.731634    7.155332e+05  \n",
       "min            0.000000         0.000000    0.000000e+00  \n",
       "25%            7.310000         0.000000    1.349000e+03  \n",
       "50%            7.880000         1.000000    3.017000e+03  \n",
       "75%            8.460000        10.000000    5.642000e+03  \n",
       "max           10.000000      9404.000000    2.437949e+08  "
      ]
     },
     "execution_count": 9,
     "metadata": {},
     "output_type": "execute_result"
    }
   ],
   "source": [
    "users.describe()"
   ]
  },
  {
   "cell_type": "code",
   "execution_count": 10,
   "metadata": {
    "pycharm": {
     "is_executing": false
    }
   },
   "outputs": [
    {
     "data": {
      "text/html": [
       "<div>\n",
       "<style scoped>\n",
       "    .dataframe tbody tr th:only-of-type {\n",
       "        vertical-align: middle;\n",
       "    }\n",
       "\n",
       "    .dataframe tbody tr th {\n",
       "        vertical-align: top;\n",
       "    }\n",
       "\n",
       "    .dataframe thead th {\n",
       "        text-align: right;\n",
       "    }\n",
       "</style>\n",
       "<table border=\"1\" class=\"dataframe\">\n",
       "  <thead>\n",
       "    <tr style=\"text-align: right;\">\n",
       "      <th></th>\n",
       "      <th>username</th>\n",
       "      <th>user_id</th>\n",
       "      <th>user_watching</th>\n",
       "      <th>user_completed</th>\n",
       "      <th>user_onhold</th>\n",
       "      <th>user_dropped</th>\n",
       "      <th>user_plantowatch</th>\n",
       "      <th>user_days_spent_watching</th>\n",
       "      <th>gender</th>\n",
       "      <th>location</th>\n",
       "      <th>birth_date</th>\n",
       "      <th>access_rank</th>\n",
       "      <th>join_date</th>\n",
       "      <th>last_online</th>\n",
       "      <th>stats_mean_score</th>\n",
       "      <th>stats_rewatched</th>\n",
       "      <th>stats_episodes</th>\n",
       "    </tr>\n",
       "  </thead>\n",
       "  <tbody>\n",
       "    <tr>\n",
       "      <th>0</th>\n",
       "      <td>karthiga</td>\n",
       "      <td>2255153</td>\n",
       "      <td>3</td>\n",
       "      <td>49</td>\n",
       "      <td>1</td>\n",
       "      <td>0</td>\n",
       "      <td>0</td>\n",
       "      <td>55.31</td>\n",
       "      <td>Female</td>\n",
       "      <td>Chennai, India</td>\n",
       "      <td>1990-04-29</td>\n",
       "      <td>NaN</td>\n",
       "      <td>2013-03-03</td>\n",
       "      <td>2014-02-04 01:32:00</td>\n",
       "      <td>7.43</td>\n",
       "      <td>0.0</td>\n",
       "      <td>3391.0</td>\n",
       "    </tr>\n",
       "    <tr>\n",
       "      <th>1</th>\n",
       "      <td>RedvelvetDaisuki</td>\n",
       "      <td>1897606</td>\n",
       "      <td>61</td>\n",
       "      <td>396</td>\n",
       "      <td>39</td>\n",
       "      <td>0</td>\n",
       "      <td>206</td>\n",
       "      <td>118.07</td>\n",
       "      <td>Female</td>\n",
       "      <td>Manila</td>\n",
       "      <td>1995-01-01</td>\n",
       "      <td>NaN</td>\n",
       "      <td>2012-12-13</td>\n",
       "      <td>1900-05-13 02:47:00</td>\n",
       "      <td>6.78</td>\n",
       "      <td>80.0</td>\n",
       "      <td>7094.0</td>\n",
       "    </tr>\n",
       "    <tr>\n",
       "      <th>2</th>\n",
       "      <td>Damonashu</td>\n",
       "      <td>37326</td>\n",
       "      <td>45</td>\n",
       "      <td>195</td>\n",
       "      <td>27</td>\n",
       "      <td>25</td>\n",
       "      <td>59</td>\n",
       "      <td>83.70</td>\n",
       "      <td>Male</td>\n",
       "      <td>Detroit,Michigan</td>\n",
       "      <td>1991-08-01</td>\n",
       "      <td>NaN</td>\n",
       "      <td>2008-02-13</td>\n",
       "      <td>1900-03-24 12:48:00</td>\n",
       "      <td>6.15</td>\n",
       "      <td>6.0</td>\n",
       "      <td>4936.0</td>\n",
       "    </tr>\n",
       "    <tr>\n",
       "      <th>3</th>\n",
       "      <td>bskai</td>\n",
       "      <td>228342</td>\n",
       "      <td>25</td>\n",
       "      <td>414</td>\n",
       "      <td>2</td>\n",
       "      <td>5</td>\n",
       "      <td>11</td>\n",
       "      <td>167.16</td>\n",
       "      <td>Male</td>\n",
       "      <td>Nayarit, Mexico</td>\n",
       "      <td>1990-12-14</td>\n",
       "      <td>NaN</td>\n",
       "      <td>2009-08-31</td>\n",
       "      <td>2014-05-12 16:35:00</td>\n",
       "      <td>8.27</td>\n",
       "      <td>1.0</td>\n",
       "      <td>10081.0</td>\n",
       "    </tr>\n",
       "    <tr>\n",
       "      <th>4</th>\n",
       "      <td>terune_uzumaki</td>\n",
       "      <td>327311</td>\n",
       "      <td>5</td>\n",
       "      <td>5</td>\n",
       "      <td>0</td>\n",
       "      <td>0</td>\n",
       "      <td>0</td>\n",
       "      <td>15.20</td>\n",
       "      <td>Female</td>\n",
       "      <td>Malaysia, Kuantan</td>\n",
       "      <td>1998-08-24</td>\n",
       "      <td>NaN</td>\n",
       "      <td>2010-05-10</td>\n",
       "      <td>2012-10-18 19:06:00</td>\n",
       "      <td>9.70</td>\n",
       "      <td>6.0</td>\n",
       "      <td>920.0</td>\n",
       "    </tr>\n",
       "  </tbody>\n",
       "</table>\n",
       "</div>"
      ],
      "text/plain": [
       "           username  user_id  user_watching  user_completed  user_onhold  \\\n",
       "0          karthiga  2255153              3              49            1   \n",
       "1  RedvelvetDaisuki  1897606             61             396           39   \n",
       "2         Damonashu    37326             45             195           27   \n",
       "3             bskai   228342             25             414            2   \n",
       "4    terune_uzumaki   327311              5               5            0   \n",
       "\n",
       "   user_dropped  user_plantowatch  user_days_spent_watching  gender  \\\n",
       "0             0                 0                     55.31  Female   \n",
       "1             0               206                    118.07  Female   \n",
       "2            25                59                     83.70    Male   \n",
       "3             5                11                    167.16    Male   \n",
       "4             0                 0                     15.20  Female   \n",
       "\n",
       "            location birth_date  access_rank  join_date         last_online  \\\n",
       "0    Chennai, India  1990-04-29          NaN 2013-03-03 2014-02-04 01:32:00   \n",
       "1             Manila 1995-01-01          NaN 2012-12-13 1900-05-13 02:47:00   \n",
       "2   Detroit,Michigan 1991-08-01          NaN 2008-02-13 1900-03-24 12:48:00   \n",
       "3    Nayarit, Mexico 1990-12-14          NaN 2009-08-31 2014-05-12 16:35:00   \n",
       "4  Malaysia, Kuantan 1998-08-24          NaN 2010-05-10 2012-10-18 19:06:00   \n",
       "\n",
       "   stats_mean_score  stats_rewatched  stats_episodes  \n",
       "0              7.43              0.0          3391.0  \n",
       "1              6.78             80.0          7094.0  \n",
       "2              6.15              6.0          4936.0  \n",
       "3              8.27              1.0         10081.0  \n",
       "4              9.70              6.0           920.0  "
      ]
     },
     "execution_count": 10,
     "metadata": {},
     "output_type": "execute_result"
    }
   ],
   "source": [
    "users.head()"
   ]
  },
  {
   "cell_type": "code",
   "execution_count": 11,
   "metadata": {
    "pycharm": {
     "is_executing": false
    }
   },
   "outputs": [
    {
     "data": {
      "text/plain": [
       "<matplotlib.axes._subplots.AxesSubplot at 0x1129f3146a0>"
      ]
     },
     "execution_count": 11,
     "metadata": {},
     "output_type": "execute_result"
    }
   ],
   "source": [
    "users['gender'].value_counts().plot.bar()"
   ]
  },
  {
   "cell_type": "code",
   "execution_count": 12,
   "metadata": {
    "pycharm": {
     "is_executing": false
    }
   },
   "outputs": [
    {
     "data": {
      "text/plain": [
       "<matplotlib.axes._subplots.AxesSubplot at 0x1129f3146a0>"
      ]
     },
     "execution_count": 12,
     "metadata": {},
     "output_type": "execute_result"
    }
   ],
   "source": [
    "users['gender'].value_counts().plot.pie()"
   ]
  },
  {
   "cell_type": "code",
   "execution_count": 13,
   "metadata": {
    "pycharm": {
     "is_executing": false
    }
   },
   "outputs": [
    {
     "data": {
      "text/plain": [
       "username                            object\n",
       "user_id                              int64\n",
       "user_watching                        int64\n",
       "user_completed                       int64\n",
       "user_onhold                          int64\n",
       "user_dropped                         int64\n",
       "user_plantowatch                     int64\n",
       "user_days_spent_watching           float64\n",
       "gender                              object\n",
       "location                            object\n",
       "birth_date                  datetime64[ns]\n",
       "access_rank                        float64\n",
       "join_date                   datetime64[ns]\n",
       "last_online                 datetime64[ns]\n",
       "stats_mean_score                   float64\n",
       "stats_rewatched                    float64\n",
       "stats_episodes                     float64\n",
       "dtype: object"
      ]
     },
     "execution_count": 13,
     "metadata": {},
     "output_type": "execute_result"
    }
   ],
   "source": [
    "users.dtypes"
   ]
  },
  {
   "cell_type": "code",
   "execution_count": 14,
   "metadata": {
    "pycharm": {
     "is_executing": false
    }
   },
   "outputs": [
    {
     "data": {
      "text/plain": [
       "<matplotlib.axes._subplots.AxesSubplot at 0x1129f3146a0>"
      ]
     },
     "execution_count": 14,
     "metadata": {},
     "output_type": "execute_result"
    }
   ],
   "source": [
    "users['birth_date'].dt.year.hist(bins=50, figsize=(16, 8))"
   ]
  },
  {
   "cell_type": "code",
   "execution_count": 15,
   "metadata": {
    "pycharm": {
     "is_executing": false
    }
   },
   "outputs": [
    {
     "data": {
      "text/plain": [
       "<matplotlib.axes._subplots.AxesSubplot at 0x1129f3146a0>"
      ]
     },
     "execution_count": 15,
     "metadata": {},
     "output_type": "execute_result"
    }
   ],
   "source": [
    "users['last_online'].dt.year.hist(bins=50, figsize=(16, 8))"
   ]
  },
  {
   "cell_type": "code",
   "execution_count": 16,
   "metadata": {
    "pycharm": {
     "is_executing": false
    },
    "scrolled": true
   },
   "outputs": [
    {
     "data": {
      "text/plain": [
       "1993-01-01    365\n",
       "1991-01-01    362\n",
       "1990-01-01    352\n",
       "1992-01-01    352\n",
       "1994-01-01    335\n",
       "1995-01-01    307\n",
       "1989-01-01    307\n",
       "1996-01-01    242\n",
       "1988-01-01    209\n",
       "1997-01-01    204\n",
       "1987-01-01    173\n",
       "1998-01-01    133\n",
       "1986-01-01    130\n",
       "1985-01-01    107\n",
       "1999-01-01     98\n",
       "1930-01-01     81\n",
       "1983-01-01     79\n",
       "1984-01-01     78\n",
       "1993-09-01     53\n",
       "1994-09-01     51\n",
       "1994-03-01     48\n",
       "1996-10-10     47\n",
       "1994-06-01     47\n",
       "1991-11-01     47\n",
       "1995-09-01     46\n",
       "1993-05-05     45\n",
       "1993-03-01     45\n",
       "1995-11-01     44\n",
       "1994-05-20     43\n",
       "1993-09-10     43\n",
       "             ... \n",
       "1977-12-05      1\n",
       "1980-03-18      1\n",
       "1977-06-26      1\n",
       "1972-10-09      1\n",
       "2013-11-15      1\n",
       "2013-10-18      1\n",
       "1980-11-15      1\n",
       "1980-04-13      1\n",
       "1973-06-07      1\n",
       "1930-01-18      1\n",
       "1971-03-22      1\n",
       "1978-01-26      1\n",
       "1981-12-24      1\n",
       "1979-09-12      1\n",
       "1963-09-18      1\n",
       "1961-06-06      1\n",
       "1982-01-18      1\n",
       "1982-06-12      1\n",
       "1983-09-29      1\n",
       "2013-06-05      1\n",
       "2017-12-29      1\n",
       "1974-01-08      1\n",
       "1976-04-21      1\n",
       "1932-05-02      1\n",
       "1930-01-19      1\n",
       "2003-08-19      1\n",
       "2003-09-15      1\n",
       "2010-07-22      1\n",
       "2019-09-10      1\n",
       "1944-11-19      1\n",
       "Name: birth_date, Length: 10310, dtype: int64"
      ]
     },
     "execution_count": 16,
     "metadata": {},
     "output_type": "execute_result"
    }
   ],
   "source": [
    "users['birth_date'].value_counts()"
   ]
  },
  {
   "cell_type": "code",
   "execution_count": 17,
   "metadata": {
    "pycharm": {
     "is_executing": false
    }
   },
   "outputs": [
    {
     "data": {
      "text/html": [
       "<div>\n",
       "<style scoped>\n",
       "    .dataframe tbody tr th:only-of-type {\n",
       "        vertical-align: middle;\n",
       "    }\n",
       "\n",
       "    .dataframe tbody tr th {\n",
       "        vertical-align: top;\n",
       "    }\n",
       "\n",
       "    .dataframe thead th {\n",
       "        text-align: right;\n",
       "    }\n",
       "</style>\n",
       "<table border=\"1\" class=\"dataframe\">\n",
       "  <thead>\n",
       "    <tr style=\"text-align: right;\">\n",
       "      <th></th>\n",
       "      <th>username</th>\n",
       "      <th>user_id</th>\n",
       "      <th>user_watching</th>\n",
       "      <th>user_completed</th>\n",
       "      <th>user_onhold</th>\n",
       "      <th>user_dropped</th>\n",
       "      <th>user_plantowatch</th>\n",
       "      <th>user_days_spent_watching</th>\n",
       "      <th>gender</th>\n",
       "      <th>location</th>\n",
       "      <th>birth_date</th>\n",
       "      <th>access_rank</th>\n",
       "      <th>join_date</th>\n",
       "      <th>last_online</th>\n",
       "      <th>stats_mean_score</th>\n",
       "      <th>stats_rewatched</th>\n",
       "      <th>stats_episodes</th>\n",
       "    </tr>\n",
       "  </thead>\n",
       "  <tbody>\n",
       "    <tr>\n",
       "      <th>27130</th>\n",
       "      <td>LulyPie</td>\n",
       "      <td>231964</td>\n",
       "      <td>88</td>\n",
       "      <td>219</td>\n",
       "      <td>1</td>\n",
       "      <td>7</td>\n",
       "      <td>181</td>\n",
       "      <td>138.56</td>\n",
       "      <td>Female</td>\n",
       "      <td>SinSendGoodMe</td>\n",
       "      <td>1944-11-19</td>\n",
       "      <td>NaN</td>\n",
       "      <td>2009-09-09</td>\n",
       "      <td>1900-01-13 01:01:00</td>\n",
       "      <td>7.54</td>\n",
       "      <td>23.0</td>\n",
       "      <td>8319.0</td>\n",
       "    </tr>\n",
       "  </tbody>\n",
       "</table>\n",
       "</div>"
      ],
      "text/plain": [
       "      username  user_id  user_watching  user_completed  user_onhold  \\\n",
       "27130  LulyPie   231964             88             219            1   \n",
       "\n",
       "       user_dropped  user_plantowatch  user_days_spent_watching  gender  \\\n",
       "27130             7               181                    138.56  Female   \n",
       "\n",
       "            location birth_date  access_rank  join_date         last_online  \\\n",
       "27130  SinSendGoodMe 1944-11-19          NaN 2009-09-09 1900-01-13 01:01:00   \n",
       "\n",
       "       stats_mean_score  stats_rewatched  stats_episodes  \n",
       "27130              7.54             23.0          8319.0  "
      ]
     },
     "execution_count": 17,
     "metadata": {},
     "output_type": "execute_result"
    }
   ],
   "source": [
    "users[users['birth_date'] == '1944-11-19']"
   ]
  },
  {
   "cell_type": "code",
   "execution_count": 18,
   "metadata": {
    "pycharm": {
     "is_executing": false
    },
    "scrolled": true
   },
   "outputs": [
    {
     "data": {
      "text/plain": [
       "1900-05-13 14:11:00    7\n",
       "1900-05-13 16:19:00    7\n",
       "2013-09-13 08:34:00    6\n",
       "1900-05-11 11:43:00    6\n",
       "2018-05-15 12:58:00    6\n",
       "2013-09-13 08:29:00    6\n",
       "2018-05-14 12:44:00    6\n",
       "1900-05-12 10:21:00    5\n",
       "1900-05-12 13:21:00    5\n",
       "1900-05-13 12:04:00    5\n",
       "1900-01-18 13:37:00    5\n",
       "2013-09-13 13:00:00    5\n",
       "1900-05-09 15:48:00    5\n",
       "1900-05-14 12:06:00    5\n",
       "1900-05-14 08:57:00    5\n",
       "1900-05-12 20:22:00    5\n",
       "1900-05-14 08:24:00    5\n",
       "1900-05-11 12:52:00    5\n",
       "1900-05-13 09:19:00    5\n",
       "1900-05-13 17:14:00    5\n",
       "1900-05-13 14:01:00    5\n",
       "1900-05-13 13:55:00    5\n",
       "2013-09-13 08:16:00    5\n",
       "1900-05-11 16:30:00    5\n",
       "1900-05-16 19:55:00    5\n",
       "1900-05-12 17:29:00    5\n",
       "1900-05-12 12:10:00    5\n",
       "1900-05-13 12:55:00    5\n",
       "2018-05-16 12:58:00    5\n",
       "1900-05-13 13:31:00    5\n",
       "                      ..\n",
       "2013-10-26 16:28:00    1\n",
       "1900-02-28 10:36:00    1\n",
       "1900-01-20 23:01:00    1\n",
       "1900-03-27 17:26:00    1\n",
       "2016-04-20 17:02:00    1\n",
       "2017-01-14 18:32:00    1\n",
       "2016-11-02 21:23:00    1\n",
       "2009-11-17 23:43:00    1\n",
       "2015-08-11 07:31:00    1\n",
       "2013-10-02 06:45:00    1\n",
       "2015-09-27 13:15:00    1\n",
       "2018-05-22 00:29:34    1\n",
       "2018-05-23 00:55:46    1\n",
       "2018-05-17 09:19:43    1\n",
       "2018-05-23 18:02:28    1\n",
       "1900-04-24 14:41:00    1\n",
       "2015-11-12 23:27:00    1\n",
       "2014-05-30 08:14:00    1\n",
       "1900-01-22 18:48:00    1\n",
       "1900-04-03 20:54:00    1\n",
       "2017-12-20 19:43:00    1\n",
       "2010-05-18 09:44:00    1\n",
       "2011-09-23 13:22:00    1\n",
       "1900-04-05 21:09:00    1\n",
       "1900-04-29 10:23:00    1\n",
       "1900-02-06 10:40:00    1\n",
       "1900-05-08 06:10:00    1\n",
       "2015-02-25 08:31:00    1\n",
       "2018-05-21 18:18:05    1\n",
       "2017-09-22 07:58:00    1\n",
       "Name: last_online, Length: 107611, dtype: int64"
      ]
     },
     "execution_count": 18,
     "metadata": {},
     "output_type": "execute_result"
    }
   ],
   "source": [
    "users['last_online'].value_counts()"
   ]
  },
  {
   "cell_type": "code",
   "execution_count": 19,
   "metadata": {
    "pycharm": {
     "is_executing": false
    }
   },
   "outputs": [
    {
     "data": {
      "text/html": [
       "<div>\n",
       "<style scoped>\n",
       "    .dataframe tbody tr th:only-of-type {\n",
       "        vertical-align: middle;\n",
       "    }\n",
       "\n",
       "    .dataframe tbody tr th {\n",
       "        vertical-align: top;\n",
       "    }\n",
       "\n",
       "    .dataframe thead th {\n",
       "        text-align: right;\n",
       "    }\n",
       "</style>\n",
       "<table border=\"1\" class=\"dataframe\">\n",
       "  <thead>\n",
       "    <tr style=\"text-align: right;\">\n",
       "      <th></th>\n",
       "      <th>username</th>\n",
       "      <th>user_id</th>\n",
       "      <th>user_watching</th>\n",
       "      <th>user_completed</th>\n",
       "      <th>user_onhold</th>\n",
       "      <th>user_dropped</th>\n",
       "      <th>user_plantowatch</th>\n",
       "      <th>user_days_spent_watching</th>\n",
       "      <th>gender</th>\n",
       "      <th>location</th>\n",
       "      <th>birth_date</th>\n",
       "      <th>access_rank</th>\n",
       "      <th>join_date</th>\n",
       "      <th>last_online</th>\n",
       "      <th>stats_mean_score</th>\n",
       "      <th>stats_rewatched</th>\n",
       "      <th>stats_episodes</th>\n",
       "    </tr>\n",
       "  </thead>\n",
       "  <tbody>\n",
       "    <tr>\n",
       "      <th>1</th>\n",
       "      <td>RedvelvetDaisuki</td>\n",
       "      <td>1897606</td>\n",
       "      <td>61</td>\n",
       "      <td>396</td>\n",
       "      <td>39</td>\n",
       "      <td>0</td>\n",
       "      <td>206</td>\n",
       "      <td>118.07</td>\n",
       "      <td>Female</td>\n",
       "      <td>Manila</td>\n",
       "      <td>1995-01-01</td>\n",
       "      <td>NaN</td>\n",
       "      <td>2012-12-13</td>\n",
       "      <td>1900-05-13 02:47:00</td>\n",
       "      <td>6.78</td>\n",
       "      <td>80.0</td>\n",
       "      <td>7094.0</td>\n",
       "    </tr>\n",
       "    <tr>\n",
       "      <th>2</th>\n",
       "      <td>Damonashu</td>\n",
       "      <td>37326</td>\n",
       "      <td>45</td>\n",
       "      <td>195</td>\n",
       "      <td>27</td>\n",
       "      <td>25</td>\n",
       "      <td>59</td>\n",
       "      <td>83.70</td>\n",
       "      <td>Male</td>\n",
       "      <td>Detroit,Michigan</td>\n",
       "      <td>1991-08-01</td>\n",
       "      <td>NaN</td>\n",
       "      <td>2008-02-13</td>\n",
       "      <td>1900-03-24 12:48:00</td>\n",
       "      <td>6.15</td>\n",
       "      <td>6.0</td>\n",
       "      <td>4936.0</td>\n",
       "    </tr>\n",
       "    <tr>\n",
       "      <th>5</th>\n",
       "      <td>Bas_G</td>\n",
       "      <td>5015094</td>\n",
       "      <td>35</td>\n",
       "      <td>114</td>\n",
       "      <td>6</td>\n",
       "      <td>20</td>\n",
       "      <td>175</td>\n",
       "      <td>30.81</td>\n",
       "      <td>Male</td>\n",
       "      <td>Nijmegen, Nederland</td>\n",
       "      <td>1999-10-24</td>\n",
       "      <td>NaN</td>\n",
       "      <td>2015-11-26</td>\n",
       "      <td>1900-05-10 13:53:00</td>\n",
       "      <td>7.86</td>\n",
       "      <td>0.0</td>\n",
       "      <td>1847.0</td>\n",
       "    </tr>\n",
       "    <tr>\n",
       "      <th>6</th>\n",
       "      <td>HimeAria</td>\n",
       "      <td>3129315</td>\n",
       "      <td>2</td>\n",
       "      <td>87</td>\n",
       "      <td>2</td>\n",
       "      <td>0</td>\n",
       "      <td>28</td>\n",
       "      <td>20.12</td>\n",
       "      <td>Female</td>\n",
       "      <td>Poland</td>\n",
       "      <td>1996-09-26</td>\n",
       "      <td>NaN</td>\n",
       "      <td>2013-09-08</td>\n",
       "      <td>1900-04-27 10:52:00</td>\n",
       "      <td>8.23</td>\n",
       "      <td>0.0</td>\n",
       "      <td>1314.0</td>\n",
       "    </tr>\n",
       "    <tr>\n",
       "      <th>8</th>\n",
       "      <td>Slimak</td>\n",
       "      <td>61677</td>\n",
       "      <td>79</td>\n",
       "      <td>224</td>\n",
       "      <td>0</td>\n",
       "      <td>3</td>\n",
       "      <td>84</td>\n",
       "      <td>126.17</td>\n",
       "      <td>Male</td>\n",
       "      <td>Poland</td>\n",
       "      <td>1988-02-21</td>\n",
       "      <td>NaN</td>\n",
       "      <td>2008-05-18</td>\n",
       "      <td>1900-05-01 05:04:00</td>\n",
       "      <td>7.77</td>\n",
       "      <td>2.0</td>\n",
       "      <td>7472.0</td>\n",
       "    </tr>\n",
       "  </tbody>\n",
       "</table>\n",
       "</div>"
      ],
      "text/plain": [
       "           username  user_id  user_watching  user_completed  user_onhold  \\\n",
       "1  RedvelvetDaisuki  1897606             61             396           39   \n",
       "2         Damonashu    37326             45             195           27   \n",
       "5             Bas_G  5015094             35             114            6   \n",
       "6          HimeAria  3129315              2              87            2   \n",
       "8            Slimak    61677             79             224            0   \n",
       "\n",
       "   user_dropped  user_plantowatch  user_days_spent_watching  gender  \\\n",
       "1             0               206                    118.07  Female   \n",
       "2            25                59                     83.70    Male   \n",
       "5            20               175                     30.81    Male   \n",
       "6             0                28                     20.12  Female   \n",
       "8             3                84                    126.17    Male   \n",
       "\n",
       "              location birth_date  access_rank  join_date         last_online  \\\n",
       "1               Manila 1995-01-01          NaN 2012-12-13 1900-05-13 02:47:00   \n",
       "2     Detroit,Michigan 1991-08-01          NaN 2008-02-13 1900-03-24 12:48:00   \n",
       "5  Nijmegen, Nederland 1999-10-24          NaN 2015-11-26 1900-05-10 13:53:00   \n",
       "6               Poland 1996-09-26          NaN 2013-09-08 1900-04-27 10:52:00   \n",
       "8               Poland 1988-02-21          NaN 2008-05-18 1900-05-01 05:04:00   \n",
       "\n",
       "   stats_mean_score  stats_rewatched  stats_episodes  \n",
       "1              6.78             80.0          7094.0  \n",
       "2              6.15              6.0          4936.0  \n",
       "5              7.86              0.0          1847.0  \n",
       "6              8.23              0.0          1314.0  \n",
       "8              7.77              2.0          7472.0  "
      ]
     },
     "execution_count": 19,
     "metadata": {},
     "output_type": "execute_result"
    }
   ],
   "source": [
    "users[users['last_online'].dt.year == 1900].head()"
   ]
  },
  {
   "cell_type": "code",
   "execution_count": 20,
   "metadata": {
    "pycharm": {
     "is_executing": false
    }
   },
   "outputs": [
    {
     "data": {
      "text/plain": [
       "<matplotlib.axes._subplots.AxesSubplot at 0x1129f3146a0>"
      ]
     },
     "execution_count": 20,
     "metadata": {},
     "output_type": "execute_result"
    }
   ],
   "source": [
    "users['join_date'].dt.year.hist(bins=14, figsize=(16, 8))"
   ]
  },
  {
   "cell_type": "code",
   "execution_count": 21,
   "metadata": {
    "pycharm": {
     "is_executing": false
    }
   },
   "outputs": [
    {
     "name": "stderr",
     "output_type": "stream",
     "text": [
      "C:\\ProgramData\\Anaconda3\\lib\\site-packages\\matplotlib\\cbook\\__init__.py:424: MatplotlibDeprecationWarning: \n",
      "Passing one of 'on', 'true', 'off', 'false' as a boolean is deprecated; use an actual boolean (True/False) instead.\n",
      "  warn_deprecated(\"2.2\", \"Passing one of 'on', 'true', 'off', 'false' as a \"\n"
     ]
    }
   ],
   "source": [
    "(2018 - users['birth_date'].dt.year).plot(kind='hist', bins=80, figsize=(16, 8), title='age')\n",
    "plt.gca().grid('on')"
   ]
  },
  {
   "cell_type": "code",
   "execution_count": 61,
   "metadata": {
    "pycharm": {
     "is_executing": false
    }
   },
   "outputs": [
    {
     "name": "stderr",
     "output_type": "stream",
     "text": [
      "C:\\ProgramData\\Anaconda3\\lib\\site-packages\\ipykernel_launcher.py:5: UserWarning: Boolean Series key will be reindexed to match DataFrame index.\n",
      "  \"\"\"\n"
     ]
    }
   ],
   "source": [
    "#now really inferring the best estimation of last online\n",
    "users_last_list_update = get_users_last_list_update_cached()\n",
    "users_last_list_update['last_list_update'] = pd.to_datetime(users_last_list_update['last_list_update'])\n",
    "users_merged = pd.merge(users[['username', 'last_online']], users_last_list_update, left_on='username', right_index=True)\n",
    "users.loc[users['last_online'].dt.year == 1900, 'last_online'] = users_merged[users['last_online'].dt.year == 1900]['last_list_update']"
   ]
  },
  {
   "cell_type": "code",
   "execution_count": 64,
   "metadata": {},
   "outputs": [
    {
     "data": {
      "text/html": [
       "<div>\n",
       "<style scoped>\n",
       "    .dataframe tbody tr th:only-of-type {\n",
       "        vertical-align: middle;\n",
       "    }\n",
       "\n",
       "    .dataframe tbody tr th {\n",
       "        vertical-align: top;\n",
       "    }\n",
       "\n",
       "    .dataframe thead th {\n",
       "        text-align: right;\n",
       "    }\n",
       "</style>\n",
       "<table border=\"1\" class=\"dataframe\">\n",
       "  <thead>\n",
       "    <tr style=\"text-align: right;\">\n",
       "      <th></th>\n",
       "      <th>username</th>\n",
       "      <th>last_online</th>\n",
       "    </tr>\n",
       "  </thead>\n",
       "  <tbody>\n",
       "    <tr>\n",
       "      <th>1</th>\n",
       "      <td>RedvelvetDaisuki</td>\n",
       "      <td>2018-05-04 14:59:17</td>\n",
       "    </tr>\n",
       "    <tr>\n",
       "      <th>2</th>\n",
       "      <td>Damonashu</td>\n",
       "      <td>2017-07-10 06:52:54</td>\n",
       "    </tr>\n",
       "    <tr>\n",
       "      <th>5</th>\n",
       "      <td>Bas_G</td>\n",
       "      <td>2018-05-10 20:53:37</td>\n",
       "    </tr>\n",
       "  </tbody>\n",
       "</table>\n",
       "</div>"
      ],
      "text/plain": [
       "           username         last_online\n",
       "1  RedvelvetDaisuki 2018-05-04 14:59:17\n",
       "2         Damonashu 2017-07-10 06:52:54\n",
       "5             Bas_G 2018-05-10 20:53:37"
      ]
     },
     "execution_count": 64,
     "metadata": {},
     "output_type": "execute_result"
    }
   ],
   "source": [
    "users[users['username'].isin(['RedvelvetDaisuki', 'Damonashu', 'Bas_G'])][['username', 'last_online']].head()"
   ]
  },
  {
   "cell_type": "code",
   "execution_count": 65,
   "metadata": {},
   "outputs": [
    {
     "data": {
      "text/plain": [
       "<matplotlib.axes._subplots.AxesSubplot at 0x1129f3146a0>"
      ]
     },
     "execution_count": 65,
     "metadata": {},
     "output_type": "execute_result"
    }
   ],
   "source": [
    "users['last_online'].dt.year.hist(bins=11, figsize=(16, 8))"
   ]
  },
  {
   "cell_type": "code",
   "execution_count": 66,
   "metadata": {},
   "outputs": [
    {
     "data": {
      "text/html": [
       "<div>\n",
       "<style scoped>\n",
       "    .dataframe tbody tr th:only-of-type {\n",
       "        vertical-align: middle;\n",
       "    }\n",
       "\n",
       "    .dataframe tbody tr th {\n",
       "        vertical-align: top;\n",
       "    }\n",
       "\n",
       "    .dataframe thead th {\n",
       "        text-align: right;\n",
       "    }\n",
       "</style>\n",
       "<table border=\"1\" class=\"dataframe\">\n",
       "  <thead>\n",
       "    <tr style=\"text-align: right;\">\n",
       "      <th></th>\n",
       "      <th>anime_id</th>\n",
       "      <th>title</th>\n",
       "      <th>title_english</th>\n",
       "      <th>title_japanese</th>\n",
       "      <th>title_synonyms</th>\n",
       "      <th>image_url</th>\n",
       "      <th>type</th>\n",
       "      <th>source</th>\n",
       "      <th>episodes</th>\n",
       "      <th>status</th>\n",
       "      <th>...</th>\n",
       "      <th>background</th>\n",
       "      <th>premiered</th>\n",
       "      <th>broadcast</th>\n",
       "      <th>related</th>\n",
       "      <th>producer</th>\n",
       "      <th>licensor</th>\n",
       "      <th>studio</th>\n",
       "      <th>genre</th>\n",
       "      <th>opening_theme</th>\n",
       "      <th>ending_theme</th>\n",
       "    </tr>\n",
       "  </thead>\n",
       "  <tbody>\n",
       "    <tr>\n",
       "      <th>0</th>\n",
       "      <td>11013</td>\n",
       "      <td>Inu x Boku SS</td>\n",
       "      <td>Inu X Boku Secret Service</td>\n",
       "      <td>妖狐×僕SS</td>\n",
       "      <td>Youko x Boku SS</td>\n",
       "      <td>https://myanimelist.cdn-dena.com/images/anime/...</td>\n",
       "      <td>TV</td>\n",
       "      <td>Manga</td>\n",
       "      <td>12</td>\n",
       "      <td>Finished Airing</td>\n",
       "      <td>...</td>\n",
       "      <td>Inu x Boku SS was licensed by Sentai Filmworks...</td>\n",
       "      <td>Winter 2012</td>\n",
       "      <td>Fridays at Unknown</td>\n",
       "      <td>{'Adaptation': [{'mal_id': 17207, 'type': 'man...</td>\n",
       "      <td>Aniplex, Square Enix, Mainichi Broadcasting Sy...</td>\n",
       "      <td>Sentai Filmworks</td>\n",
       "      <td>David Production</td>\n",
       "      <td>Comedy, Supernatural, Romance, Shounen</td>\n",
       "      <td>['\"Nirvana\" by MUCC']</td>\n",
       "      <td>['#1: \"Nirvana\" by MUCC (eps 1, 11-12)', '#2: ...</td>\n",
       "    </tr>\n",
       "    <tr>\n",
       "      <th>1</th>\n",
       "      <td>2104</td>\n",
       "      <td>Seto no Hanayome</td>\n",
       "      <td>My Bride is a Mermaid</td>\n",
       "      <td>瀬戸の花嫁</td>\n",
       "      <td>The Inland Sea Bride</td>\n",
       "      <td>https://myanimelist.cdn-dena.com/images/anime/...</td>\n",
       "      <td>TV</td>\n",
       "      <td>Manga</td>\n",
       "      <td>26</td>\n",
       "      <td>Finished Airing</td>\n",
       "      <td>...</td>\n",
       "      <td>NaN</td>\n",
       "      <td>Spring 2007</td>\n",
       "      <td>Unknown</td>\n",
       "      <td>{'Adaptation': [{'mal_id': 759, 'type': 'manga...</td>\n",
       "      <td>TV Tokyo, AIC, Square Enix, Sotsu</td>\n",
       "      <td>Funimation</td>\n",
       "      <td>Gonzo</td>\n",
       "      <td>Comedy, Parody, Romance, School, Shounen</td>\n",
       "      <td>['\"Romantic summer\" by SUN&amp;LUNAR']</td>\n",
       "      <td>['#1: \"Ashita e no Hikari (明日への光)\" by Asuka Hi...</td>\n",
       "    </tr>\n",
       "    <tr>\n",
       "      <th>2</th>\n",
       "      <td>5262</td>\n",
       "      <td>Shugo Chara!! Doki</td>\n",
       "      <td>Shugo Chara!! Doki</td>\n",
       "      <td>しゅごキャラ！！どきっ</td>\n",
       "      <td>Shugo Chara Ninenme, Shugo Chara! Second Year</td>\n",
       "      <td>https://myanimelist.cdn-dena.com/images/anime/...</td>\n",
       "      <td>TV</td>\n",
       "      <td>Manga</td>\n",
       "      <td>51</td>\n",
       "      <td>Finished Airing</td>\n",
       "      <td>...</td>\n",
       "      <td>NaN</td>\n",
       "      <td>Fall 2008</td>\n",
       "      <td>Unknown</td>\n",
       "      <td>{'Adaptation': [{'mal_id': 101, 'type': 'manga...</td>\n",
       "      <td>TV Tokyo, Sotsu</td>\n",
       "      <td>NaN</td>\n",
       "      <td>Satelight</td>\n",
       "      <td>Comedy, Magic, School, Shoujo</td>\n",
       "      <td>['#1: \"Minna no Tamago (みんなのたまご)\" by Shugo Cha...</td>\n",
       "      <td>['#1: \"Rottara Rottara (ロッタラ ロッタラ)\" by Buono! ...</td>\n",
       "    </tr>\n",
       "    <tr>\n",
       "      <th>3</th>\n",
       "      <td>721</td>\n",
       "      <td>Princess Tutu</td>\n",
       "      <td>Princess Tutu</td>\n",
       "      <td>プリンセスチュチュ</td>\n",
       "      <td>NaN</td>\n",
       "      <td>https://myanimelist.cdn-dena.com/images/anime/...</td>\n",
       "      <td>TV</td>\n",
       "      <td>Original</td>\n",
       "      <td>38</td>\n",
       "      <td>Finished Airing</td>\n",
       "      <td>...</td>\n",
       "      <td>Princess Tutu aired in two parts. The first pa...</td>\n",
       "      <td>Summer 2002</td>\n",
       "      <td>Fridays at Unknown</td>\n",
       "      <td>{'Adaptation': [{'mal_id': 1581, 'type': 'mang...</td>\n",
       "      <td>Memory-Tech, GANSIS, Marvelous AQL</td>\n",
       "      <td>ADV Films</td>\n",
       "      <td>Hal Film Maker</td>\n",
       "      <td>Comedy, Drama, Magic, Romance, Fantasy</td>\n",
       "      <td>['\"Morning Grace\" by Ritsuko Okazaki']</td>\n",
       "      <td>['\"Watashi No Ai Wa Chiisaikeredo\" by Ritsuko ...</td>\n",
       "    </tr>\n",
       "    <tr>\n",
       "      <th>4</th>\n",
       "      <td>12365</td>\n",
       "      <td>Bakuman. 3rd Season</td>\n",
       "      <td>Bakuman.</td>\n",
       "      <td>バクマン。</td>\n",
       "      <td>Bakuman Season 3</td>\n",
       "      <td>https://myanimelist.cdn-dena.com/images/anime/...</td>\n",
       "      <td>TV</td>\n",
       "      <td>Manga</td>\n",
       "      <td>25</td>\n",
       "      <td>Finished Airing</td>\n",
       "      <td>...</td>\n",
       "      <td>NaN</td>\n",
       "      <td>Fall 2012</td>\n",
       "      <td>Unknown</td>\n",
       "      <td>{'Adaptation': [{'mal_id': 9711, 'type': 'mang...</td>\n",
       "      <td>NHK, Shueisha</td>\n",
       "      <td>NaN</td>\n",
       "      <td>J.C.Staff</td>\n",
       "      <td>Comedy, Drama, Romance, Shounen</td>\n",
       "      <td>['#1: \"Moshimo no Hanashi (もしもの話)\" by nano.RIP...</td>\n",
       "      <td>['#1: \"Pride on Everyday\" by Sphere (eps 1-13)...</td>\n",
       "    </tr>\n",
       "  </tbody>\n",
       "</table>\n",
       "<p>5 rows × 31 columns</p>\n",
       "</div>"
      ],
      "text/plain": [
       "   anime_id                title              title_english title_japanese  \\\n",
       "0     11013        Inu x Boku SS  Inu X Boku Secret Service         妖狐×僕SS   \n",
       "1      2104     Seto no Hanayome      My Bride is a Mermaid          瀬戸の花嫁   \n",
       "2      5262   Shugo Chara!! Doki         Shugo Chara!! Doki    しゅごキャラ！！どきっ   \n",
       "3       721        Princess Tutu              Princess Tutu      プリンセスチュチュ   \n",
       "4     12365  Bakuman. 3rd Season                   Bakuman.          バクマン。   \n",
       "\n",
       "                                  title_synonyms  \\\n",
       "0                                Youko x Boku SS   \n",
       "1                           The Inland Sea Bride   \n",
       "2  Shugo Chara Ninenme, Shugo Chara! Second Year   \n",
       "3                                            NaN   \n",
       "4                               Bakuman Season 3   \n",
       "\n",
       "                                           image_url type    source  episodes  \\\n",
       "0  https://myanimelist.cdn-dena.com/images/anime/...   TV     Manga        12   \n",
       "1  https://myanimelist.cdn-dena.com/images/anime/...   TV     Manga        26   \n",
       "2  https://myanimelist.cdn-dena.com/images/anime/...   TV     Manga        51   \n",
       "3  https://myanimelist.cdn-dena.com/images/anime/...   TV  Original        38   \n",
       "4  https://myanimelist.cdn-dena.com/images/anime/...   TV     Manga        25   \n",
       "\n",
       "            status  ...                                         background  \\\n",
       "0  Finished Airing  ...  Inu x Boku SS was licensed by Sentai Filmworks...   \n",
       "1  Finished Airing  ...                                                NaN   \n",
       "2  Finished Airing  ...                                                NaN   \n",
       "3  Finished Airing  ...  Princess Tutu aired in two parts. The first pa...   \n",
       "4  Finished Airing  ...                                                NaN   \n",
       "\n",
       "     premiered           broadcast  \\\n",
       "0  Winter 2012  Fridays at Unknown   \n",
       "1  Spring 2007             Unknown   \n",
       "2    Fall 2008             Unknown   \n",
       "3  Summer 2002  Fridays at Unknown   \n",
       "4    Fall 2012             Unknown   \n",
       "\n",
       "                                             related  \\\n",
       "0  {'Adaptation': [{'mal_id': 17207, 'type': 'man...   \n",
       "1  {'Adaptation': [{'mal_id': 759, 'type': 'manga...   \n",
       "2  {'Adaptation': [{'mal_id': 101, 'type': 'manga...   \n",
       "3  {'Adaptation': [{'mal_id': 1581, 'type': 'mang...   \n",
       "4  {'Adaptation': [{'mal_id': 9711, 'type': 'mang...   \n",
       "\n",
       "                                            producer          licensor  \\\n",
       "0  Aniplex, Square Enix, Mainichi Broadcasting Sy...  Sentai Filmworks   \n",
       "1                  TV Tokyo, AIC, Square Enix, Sotsu        Funimation   \n",
       "2                                    TV Tokyo, Sotsu               NaN   \n",
       "3                 Memory-Tech, GANSIS, Marvelous AQL         ADV Films   \n",
       "4                                      NHK, Shueisha               NaN   \n",
       "\n",
       "             studio                                     genre  \\\n",
       "0  David Production    Comedy, Supernatural, Romance, Shounen   \n",
       "1             Gonzo  Comedy, Parody, Romance, School, Shounen   \n",
       "2         Satelight             Comedy, Magic, School, Shoujo   \n",
       "3    Hal Film Maker    Comedy, Drama, Magic, Romance, Fantasy   \n",
       "4         J.C.Staff           Comedy, Drama, Romance, Shounen   \n",
       "\n",
       "                                       opening_theme  \\\n",
       "0                              ['\"Nirvana\" by MUCC']   \n",
       "1                 ['\"Romantic summer\" by SUN&LUNAR']   \n",
       "2  ['#1: \"Minna no Tamago (みんなのたまご)\" by Shugo Cha...   \n",
       "3             ['\"Morning Grace\" by Ritsuko Okazaki']   \n",
       "4  ['#1: \"Moshimo no Hanashi (もしもの話)\" by nano.RIP...   \n",
       "\n",
       "                                        ending_theme  \n",
       "0  ['#1: \"Nirvana\" by MUCC (eps 1, 11-12)', '#2: ...  \n",
       "1  ['#1: \"Ashita e no Hikari (明日への光)\" by Asuka Hi...  \n",
       "2  ['#1: \"Rottara Rottara (ロッタラ ロッタラ)\" by Buono! ...  \n",
       "3  ['\"Watashi No Ai Wa Chiisaikeredo\" by Ritsuko ...  \n",
       "4  ['#1: \"Pride on Everyday\" by Sphere (eps 1-13)...  \n",
       "\n",
       "[5 rows x 31 columns]"
      ]
     },
     "execution_count": 66,
     "metadata": {},
     "output_type": "execute_result"
    }
   ],
   "source": [
    "animes.head()"
   ]
  },
  {
   "cell_type": "code",
   "execution_count": 67,
   "metadata": {
    "scrolled": true
   },
   "outputs": [
    {
     "data": {
      "text/plain": [
       "1       6855\n",
       "2       1187\n",
       "12      1034\n",
       "13       637\n",
       "3        558\n",
       "26       542\n",
       "0        503\n",
       "4        373\n",
       "6        303\n",
       "24       214\n",
       "52       199\n",
       "25       176\n",
       "10       152\n",
       "5        144\n",
       "51       111\n",
       "50        92\n",
       "7         86\n",
       "11        86\n",
       "39        85\n",
       "8         66\n",
       "9         48\n",
       "22        47\n",
       "20        46\n",
       "23        37\n",
       "16        34\n",
       "48        34\n",
       "14        33\n",
       "49        33\n",
       "47        29\n",
       "15        27\n",
       "        ... \n",
       "726        1\n",
       "1006       1\n",
       "220        1\n",
       "172        1\n",
       "132        1\n",
       "124        1\n",
       "122        1\n",
       "154        1\n",
       "162        1\n",
       "258        1\n",
       "330        1\n",
       "1274       1\n",
       "1306       1\n",
       "1818       1\n",
       "67         1\n",
       "83         1\n",
       "131        1\n",
       "147        1\n",
       "155        1\n",
       "203        1\n",
       "283        1\n",
       "291        1\n",
       "331        1\n",
       "475        1\n",
       "1787       1\n",
       "87         1\n",
       "431        1\n",
       "79         1\n",
       "92         1\n",
       "1471       1\n",
       "Name: episodes, Length: 196, dtype: int64"
      ]
     },
     "execution_count": 67,
     "metadata": {},
     "output_type": "execute_result"
    }
   ],
   "source": [
    "animes['episodes'].value_counts()"
   ]
  },
  {
   "cell_type": "code",
   "execution_count": 68,
   "metadata": {},
   "outputs": [
    {
     "name": "stdout",
     "output_type": "stream",
     "text": [
      "cache not found, loading and calculating, may take quite long\n"
     ]
    },
    {
     "name": "stderr",
     "output_type": "stream",
     "text": [
      "E:\\Projects\\mal-analysis\\analysis-and-notes\\cleaning.py:22: FutureWarning: The signature of `Series.to_csv` was aligned to that of `DataFrame.to_csv`, and argument 'header' will change its default value from False to True: please pass an explicit value to suppress this warning.\n",
      "  users_for_ban.to_csv(cache_name, index=False, sep=',', encoding='utf-8')\n"
     ]
    },
    {
     "name": "stdout",
     "output_type": "stream",
     "text": [
      "0        Gothicbabe26\n",
      "1         LeoAnimeMan\n",
      "2         narutofan69\n",
      "3             Angel_D\n",
      "4      dheiin_society\n",
      "5             heizwei\n",
      "6             warrose\n",
      "7     Takehara_Minami\n",
      "8             ozieboy\n",
      "9          YoruNoMajo\n",
      "10               Xiet\n",
      "11         Kihara-Kun\n",
      "12            donakos\n",
      "13          Amaru-kun\n",
      "14       Archeologist\n",
      "15    konan_akatsuki_\n",
      "16             MoiZzZ\n",
      "17     TheDerpyMuffin\n",
      "18              ajkla\n",
      "19        zaturama007\n",
      "20           thomasrm\n",
      "21         The-Marker\n",
      "22             Taizai\n",
      "23         Koska-chan\n",
      "24      asswithnolife\n",
      "dtype: object\n",
      "num of users for ban: 25\n"
     ]
    }
   ],
   "source": [
    "# banning users with 65535 episodes of single anime in their list -> not trustworthy\n",
    "users_for_ban = get_users_for_episode_count_ban_cached()\n",
    "print(users_for_ban)\n",
    "print('num of users for ban:', len(users_for_ban))"
   ]
  },
  {
   "cell_type": "code",
   "execution_count": 69,
   "metadata": {},
   "outputs": [],
   "source": [
    "users = users[~users['username'].isin(users_for_ban)]"
   ]
  },
  {
   "cell_type": "code",
   "execution_count": 70,
   "metadata": {},
   "outputs": [
    {
     "data": {
      "text/plain": [
       "Index(['anime_id', 'title', 'title_english', 'title_japanese',\n",
       "       'title_synonyms', 'image_url', 'type', 'source', 'episodes', 'status',\n",
       "       'airing', 'aired_string', 'aired', 'duration', 'rating', 'score',\n",
       "       'scored_by', 'rank', 'popularity', 'members', 'favorites', 'background',\n",
       "       'premiered', 'broadcast', 'related', 'producer', 'licensor', 'studio',\n",
       "       'genre', 'opening_theme', 'ending_theme'],\n",
       "      dtype='object')"
      ]
     },
     "execution_count": 70,
     "metadata": {},
     "output_type": "execute_result"
    }
   ],
   "source": [
    "animes.columns"
   ]
  },
  {
   "cell_type": "code",
   "execution_count": 71,
   "metadata": {},
   "outputs": [
    {
     "data": {
      "text/html": [
       "<div>\n",
       "<style scoped>\n",
       "    .dataframe tbody tr th:only-of-type {\n",
       "        vertical-align: middle;\n",
       "    }\n",
       "\n",
       "    .dataframe tbody tr th {\n",
       "        vertical-align: top;\n",
       "    }\n",
       "\n",
       "    .dataframe thead th {\n",
       "        text-align: right;\n",
       "    }\n",
       "</style>\n",
       "<table border=\"1\" class=\"dataframe\">\n",
       "  <thead>\n",
       "    <tr style=\"text-align: right;\">\n",
       "      <th></th>\n",
       "      <th>anime_id</th>\n",
       "      <th>title</th>\n",
       "      <th>episodes</th>\n",
       "      <th>duration</th>\n",
       "    </tr>\n",
       "  </thead>\n",
       "  <tbody>\n",
       "    <tr>\n",
       "      <th>0</th>\n",
       "      <td>11013</td>\n",
       "      <td>Inu x Boku SS</td>\n",
       "      <td>12</td>\n",
       "      <td>24 min. per ep.</td>\n",
       "    </tr>\n",
       "    <tr>\n",
       "      <th>1</th>\n",
       "      <td>2104</td>\n",
       "      <td>Seto no Hanayome</td>\n",
       "      <td>26</td>\n",
       "      <td>24 min. per ep.</td>\n",
       "    </tr>\n",
       "    <tr>\n",
       "      <th>2</th>\n",
       "      <td>5262</td>\n",
       "      <td>Shugo Chara!! Doki</td>\n",
       "      <td>51</td>\n",
       "      <td>24 min. per ep.</td>\n",
       "    </tr>\n",
       "    <tr>\n",
       "      <th>3</th>\n",
       "      <td>721</td>\n",
       "      <td>Princess Tutu</td>\n",
       "      <td>38</td>\n",
       "      <td>16 min. per ep.</td>\n",
       "    </tr>\n",
       "    <tr>\n",
       "      <th>4</th>\n",
       "      <td>12365</td>\n",
       "      <td>Bakuman. 3rd Season</td>\n",
       "      <td>25</td>\n",
       "      <td>24 min. per ep.</td>\n",
       "    </tr>\n",
       "  </tbody>\n",
       "</table>\n",
       "</div>"
      ],
      "text/plain": [
       "   anime_id                title  episodes         duration\n",
       "0     11013        Inu x Boku SS        12  24 min. per ep.\n",
       "1      2104     Seto no Hanayome        26  24 min. per ep.\n",
       "2      5262   Shugo Chara!! Doki        51  24 min. per ep.\n",
       "3       721        Princess Tutu        38  16 min. per ep.\n",
       "4     12365  Bakuman. 3rd Season        25  24 min. per ep."
      ]
     },
     "execution_count": 71,
     "metadata": {},
     "output_type": "execute_result"
    }
   ],
   "source": [
    "animes[['anime_id', 'title', 'episodes', 'duration']].head()"
   ]
  },
  {
   "cell_type": "code",
   "execution_count": 72,
   "metadata": {
    "scrolled": true
   },
   "outputs": [],
   "source": [
    "#animes['duration'].value_counts()"
   ]
  },
  {
   "cell_type": "code",
   "execution_count": 73,
   "metadata": {},
   "outputs": [],
   "source": [
    "# calculating watch time in minutes and adding it to new column for anime\n",
    "def str_to_minutes(string):\n",
    "    m = re.search('((\\d+) hr\\.)?( ?(\\d+) min\\.)?( ?(\\d+) sec\\.)?( per ep\\.)?', string)\n",
    "    hours = 0 if m.group(2) is None else int(m.group(2))\n",
    "    minutes = 0 if m.group(4) is None else int(m.group(4))\n",
    "    seconds = 0 if m.group(6) is None else int(m.group(6))\n",
    "    return hours * 60 + minutes + seconds / 60\n",
    "\n",
    "animes['duration_min'] = animes['duration'].apply(str_to_minutes)"
   ]
  },
  {
   "cell_type": "code",
   "execution_count": 74,
   "metadata": {},
   "outputs": [
    {
     "data": {
      "text/html": [
       "<div>\n",
       "<style scoped>\n",
       "    .dataframe tbody tr th:only-of-type {\n",
       "        vertical-align: middle;\n",
       "    }\n",
       "\n",
       "    .dataframe tbody tr th {\n",
       "        vertical-align: top;\n",
       "    }\n",
       "\n",
       "    .dataframe thead th {\n",
       "        text-align: right;\n",
       "    }\n",
       "</style>\n",
       "<table border=\"1\" class=\"dataframe\">\n",
       "  <thead>\n",
       "    <tr style=\"text-align: right;\">\n",
       "      <th></th>\n",
       "      <th>anime_id</th>\n",
       "      <th>title</th>\n",
       "      <th>episodes</th>\n",
       "      <th>duration</th>\n",
       "      <th>duration_min</th>\n",
       "    </tr>\n",
       "  </thead>\n",
       "  <tbody>\n",
       "    <tr>\n",
       "      <th>0</th>\n",
       "      <td>11013</td>\n",
       "      <td>Inu x Boku SS</td>\n",
       "      <td>12</td>\n",
       "      <td>24 min. per ep.</td>\n",
       "      <td>24.0</td>\n",
       "    </tr>\n",
       "    <tr>\n",
       "      <th>1</th>\n",
       "      <td>2104</td>\n",
       "      <td>Seto no Hanayome</td>\n",
       "      <td>26</td>\n",
       "      <td>24 min. per ep.</td>\n",
       "      <td>24.0</td>\n",
       "    </tr>\n",
       "    <tr>\n",
       "      <th>2</th>\n",
       "      <td>5262</td>\n",
       "      <td>Shugo Chara!! Doki</td>\n",
       "      <td>51</td>\n",
       "      <td>24 min. per ep.</td>\n",
       "      <td>24.0</td>\n",
       "    </tr>\n",
       "    <tr>\n",
       "      <th>3</th>\n",
       "      <td>721</td>\n",
       "      <td>Princess Tutu</td>\n",
       "      <td>38</td>\n",
       "      <td>16 min. per ep.</td>\n",
       "      <td>16.0</td>\n",
       "    </tr>\n",
       "    <tr>\n",
       "      <th>4</th>\n",
       "      <td>12365</td>\n",
       "      <td>Bakuman. 3rd Season</td>\n",
       "      <td>25</td>\n",
       "      <td>24 min. per ep.</td>\n",
       "      <td>24.0</td>\n",
       "    </tr>\n",
       "  </tbody>\n",
       "</table>\n",
       "</div>"
      ],
      "text/plain": [
       "   anime_id                title  episodes         duration  duration_min\n",
       "0     11013        Inu x Boku SS        12  24 min. per ep.          24.0\n",
       "1      2104     Seto no Hanayome        26  24 min. per ep.          24.0\n",
       "2      5262   Shugo Chara!! Doki        51  24 min. per ep.          24.0\n",
       "3       721        Princess Tutu        38  16 min. per ep.          16.0\n",
       "4     12365  Bakuman. 3rd Season        25  24 min. per ep.          24.0"
      ]
     },
     "execution_count": 74,
     "metadata": {},
     "output_type": "execute_result"
    }
   ],
   "source": [
    "animes[['anime_id', 'title', 'episodes', 'duration', 'duration_min']].head()"
   ]
  },
  {
   "cell_type": "code",
   "execution_count": 75,
   "metadata": {},
   "outputs": [
    {
     "data": {
      "text/html": [
       "<div>\n",
       "<style scoped>\n",
       "    .dataframe tbody tr th:only-of-type {\n",
       "        vertical-align: middle;\n",
       "    }\n",
       "\n",
       "    .dataframe tbody tr th {\n",
       "        vertical-align: top;\n",
       "    }\n",
       "\n",
       "    .dataframe thead th {\n",
       "        text-align: right;\n",
       "    }\n",
       "</style>\n",
       "<table border=\"1\" class=\"dataframe\">\n",
       "  <thead>\n",
       "    <tr style=\"text-align: right;\">\n",
       "      <th></th>\n",
       "      <th>username</th>\n",
       "      <th>user_id</th>\n",
       "      <th>user_watching</th>\n",
       "      <th>user_completed</th>\n",
       "      <th>user_onhold</th>\n",
       "      <th>user_dropped</th>\n",
       "      <th>user_plantowatch</th>\n",
       "      <th>user_days_spent_watching</th>\n",
       "      <th>gender</th>\n",
       "      <th>location</th>\n",
       "      <th>birth_date</th>\n",
       "      <th>access_rank</th>\n",
       "      <th>join_date</th>\n",
       "      <th>last_online</th>\n",
       "      <th>stats_mean_score</th>\n",
       "      <th>stats_rewatched</th>\n",
       "      <th>stats_episodes</th>\n",
       "    </tr>\n",
       "  </thead>\n",
       "  <tbody>\n",
       "    <tr>\n",
       "      <th>7528</th>\n",
       "      <td>heeroYuy</td>\n",
       "      <td>20638</td>\n",
       "      <td>18</td>\n",
       "      <td>69</td>\n",
       "      <td>3</td>\n",
       "      <td>4</td>\n",
       "      <td>32</td>\n",
       "      <td>38.51</td>\n",
       "      <td>Male</td>\n",
       "      <td>Philippines, digos city</td>\n",
       "      <td>1990-12-29</td>\n",
       "      <td>NaN</td>\n",
       "      <td>2007-11-07</td>\n",
       "      <td>2008-02-16 03:46:00</td>\n",
       "      <td>9.51</td>\n",
       "      <td>0.0</td>\n",
       "      <td>2297.0</td>\n",
       "    </tr>\n",
       "  </tbody>\n",
       "</table>\n",
       "</div>"
      ],
      "text/plain": [
       "      username  user_id  user_watching  user_completed  user_onhold  \\\n",
       "7528  heeroYuy    20638             18              69            3   \n",
       "\n",
       "      user_dropped  user_plantowatch  user_days_spent_watching gender  \\\n",
       "7528             4                32                     38.51   Male   \n",
       "\n",
       "                     location birth_date  access_rank  join_date  \\\n",
       "7528  Philippines, digos city 1990-12-29          NaN 2007-11-07   \n",
       "\n",
       "             last_online  stats_mean_score  stats_rewatched  stats_episodes  \n",
       "7528 2008-02-16 03:46:00              9.51              0.0          2297.0  "
      ]
     },
     "execution_count": 75,
     "metadata": {},
     "output_type": "execute_result"
    }
   ],
   "source": [
    "users[users['username'] == 'heeroYuy']"
   ]
  },
  {
   "cell_type": "code",
   "execution_count": 76,
   "metadata": {},
   "outputs": [
    {
     "data": {
      "text/html": [
       "<div>\n",
       "<style scoped>\n",
       "    .dataframe tbody tr th:only-of-type {\n",
       "        vertical-align: middle;\n",
       "    }\n",
       "\n",
       "    .dataframe tbody tr th {\n",
       "        vertical-align: top;\n",
       "    }\n",
       "\n",
       "    .dataframe thead th {\n",
       "        text-align: right;\n",
       "    }\n",
       "</style>\n",
       "<table border=\"1\" class=\"dataframe\">\n",
       "  <thead>\n",
       "    <tr style=\"text-align: right;\">\n",
       "      <th></th>\n",
       "      <th>username</th>\n",
       "      <th>user_id</th>\n",
       "      <th>user_watching</th>\n",
       "      <th>user_completed</th>\n",
       "      <th>user_onhold</th>\n",
       "      <th>user_dropped</th>\n",
       "      <th>user_plantowatch</th>\n",
       "      <th>user_days_spent_watching</th>\n",
       "      <th>gender</th>\n",
       "      <th>location</th>\n",
       "      <th>birth_date</th>\n",
       "      <th>access_rank</th>\n",
       "      <th>join_date</th>\n",
       "      <th>last_online</th>\n",
       "      <th>stats_mean_score</th>\n",
       "      <th>stats_rewatched</th>\n",
       "      <th>stats_episodes</th>\n",
       "    </tr>\n",
       "  </thead>\n",
       "  <tbody>\n",
       "    <tr>\n",
       "      <th>20197</th>\n",
       "      <td>abystoma2</td>\n",
       "      <td>3336425</td>\n",
       "      <td>180</td>\n",
       "      <td>5121</td>\n",
       "      <td>296</td>\n",
       "      <td>0</td>\n",
       "      <td>969</td>\n",
       "      <td>629.24</td>\n",
       "      <td>Male</td>\n",
       "      <td>Czech Republic</td>\n",
       "      <td>1997-06-02</td>\n",
       "      <td>NaN</td>\n",
       "      <td>2013-11-14</td>\n",
       "      <td>2018-05-18 01:22:00</td>\n",
       "      <td>4.74</td>\n",
       "      <td>147.0</td>\n",
       "      <td>44151.0</td>\n",
       "    </tr>\n",
       "  </tbody>\n",
       "</table>\n",
       "</div>"
      ],
      "text/plain": [
       "        username  user_id  user_watching  user_completed  user_onhold  \\\n",
       "20197  abystoma2  3336425            180            5121          296   \n",
       "\n",
       "       user_dropped  user_plantowatch  user_days_spent_watching gender  \\\n",
       "20197             0               969                    629.24   Male   \n",
       "\n",
       "             location birth_date  access_rank  join_date         last_online  \\\n",
       "20197  Czech Republic 1997-06-02          NaN 2013-11-14 2018-05-18 01:22:00   \n",
       "\n",
       "       stats_mean_score  stats_rewatched  stats_episodes  \n",
       "20197              4.74            147.0         44151.0  "
      ]
     },
     "execution_count": 76,
     "metadata": {},
     "output_type": "execute_result"
    }
   ],
   "source": [
    "users[users['username'] == 'abystoma2']"
   ]
  },
  {
   "cell_type": "code",
   "execution_count": 77,
   "metadata": {},
   "outputs": [],
   "source": [
    "# one weird user with 2601351.02 days watches ruins the plot, ommiting him by xlim\n",
    "users['user_days_spent_watching'].hist(bins=5000, figsize=(16, 8))\n",
    "plt.gca().set_yscale('log')\n"
   ]
  },
  {
   "cell_type": "code",
   "execution_count": 78,
   "metadata": {},
   "outputs": [
    {
     "data": {
      "text/plain": [
       "9070.35"
      ]
     },
     "execution_count": 78,
     "metadata": {},
     "output_type": "execute_result"
    }
   ],
   "source": [
    "users['user_days_spent_watching'].max()"
   ]
  },
  {
   "cell_type": "code",
   "execution_count": 79,
   "metadata": {},
   "outputs": [
    {
     "data": {
      "text/html": [
       "<div>\n",
       "<style scoped>\n",
       "    .dataframe tbody tr th:only-of-type {\n",
       "        vertical-align: middle;\n",
       "    }\n",
       "\n",
       "    .dataframe tbody tr th {\n",
       "        vertical-align: top;\n",
       "    }\n",
       "\n",
       "    .dataframe thead th {\n",
       "        text-align: right;\n",
       "    }\n",
       "</style>\n",
       "<table border=\"1\" class=\"dataframe\">\n",
       "  <thead>\n",
       "    <tr style=\"text-align: right;\">\n",
       "      <th></th>\n",
       "      <th>username</th>\n",
       "      <th>user_id</th>\n",
       "      <th>user_watching</th>\n",
       "      <th>user_completed</th>\n",
       "      <th>user_onhold</th>\n",
       "      <th>user_dropped</th>\n",
       "      <th>user_plantowatch</th>\n",
       "      <th>user_days_spent_watching</th>\n",
       "      <th>gender</th>\n",
       "      <th>location</th>\n",
       "      <th>birth_date</th>\n",
       "      <th>access_rank</th>\n",
       "      <th>join_date</th>\n",
       "      <th>last_online</th>\n",
       "      <th>stats_mean_score</th>\n",
       "      <th>stats_rewatched</th>\n",
       "      <th>stats_episodes</th>\n",
       "    </tr>\n",
       "  </thead>\n",
       "  <tbody>\n",
       "  </tbody>\n",
       "</table>\n",
       "</div>"
      ],
      "text/plain": [
       "Empty DataFrame\n",
       "Columns: [username, user_id, user_watching, user_completed, user_onhold, user_dropped, user_plantowatch, user_days_spent_watching, gender, location, birth_date, access_rank, join_date, last_online, stats_mean_score, stats_rewatched, stats_episodes]\n",
       "Index: []"
      ]
     },
     "execution_count": 79,
     "metadata": {},
     "output_type": "execute_result"
    }
   ],
   "source": [
    "users[users['user_days_spent_watching'] == 2601351.02]"
   ]
  },
  {
   "cell_type": "code",
   "execution_count": 87,
   "metadata": {},
   "outputs": [],
   "source": [
    "# now finally fixing days watch times\n",
    "user_days_spent_watching = get_user_days_spent_watching_cached()\n",
    "#users['user_days_spent_watching'] = user_days_spent_watching\n",
    "users_merged = pd.merge(users[['username']], user_days_spent_watching, left_on='username', right_index=True)\n",
    "users['user_days_spent_watching'] = users_merged['days_spent_watching']"
   ]
  },
  {
   "cell_type": "code",
   "execution_count": 90,
   "metadata": {},
   "outputs": [],
   "source": [
    "users['user_days_spent_watching'].hist(bins=1000, figsize=(16, 8))\n",
    "plt.gca().set_yscale('log')\n"
   ]
  },
  {
   "cell_type": "code",
   "execution_count": 66,
   "metadata": {},
   "outputs": [
    {
     "data": {
      "text/plain": [
       "Index(['username', 'user_id', 'user_watching', 'user_completed', 'user_onhold',\n",
       "       'user_dropped', 'user_plantowatch', 'user_days_spent_watching',\n",
       "       'gender', 'location', 'birth_date', 'access_rank', 'join_date',\n",
       "       'last_online', 'stats_mean_score', 'stats_rewatched', 'stats_episodes'],\n",
       "      dtype='object')"
      ]
     },
     "execution_count": 66,
     "metadata": {},
     "output_type": "execute_result"
    }
   ],
   "source": [
    "users.columns"
   ]
  },
  {
   "cell_type": "code",
   "execution_count": 67,
   "metadata": {},
   "outputs": [
    {
     "data": {
      "image/png": "[encoded data removed]",
      "text/plain": [
       "<Figure size 1152x576 with 1 Axes>"
      ]
     },
     "metadata": {},
     "output_type": "display_data"
    }
   ],
   "source": [
    "# so we need also to check number of watched episodes and fix them\n",
    "users['stats_episodes'].hist(bins=5000, figsize=(16, 8))\n",
    "plt.gca().set_yscale('log')\n"
   ]
  },
  {
   "cell_type": "code",
   "execution_count": 98,
   "metadata": {},
   "outputs": [],
   "source": [
    "# actually fixing number of episodes\n",
    "user_episodes_cached = get_users_stats_episodes_cached()\n",
    "#users['user_days_spent_watching'] = user_days_spent_watching\n",
    "users_merged = pd.merge(users[['username']], user_episodes_cached, left_on='username', right_index=True)\n",
    "users['stats_episodes'] = users_merged['stats_episodes']"
   ]
  },
  {
   "cell_type": "code",
   "execution_count": 100,
   "metadata": {},
   "outputs": [],
   "source": [
    "users['stats_episodes'].hist(bins=500, figsize=(16, 8))\n",
    "plt.gca().set_yscale('log')\n"
   ]
  },
  {
   "cell_type": "code",
   "execution_count": 70,
   "metadata": {},
   "outputs": [
    {
     "data": {
      "text/html": [
       "<div>\n",
       "<style scoped>\n",
       "    .dataframe tbody tr th:only-of-type {\n",
       "        vertical-align: middle;\n",
       "    }\n",
       "\n",
       "    .dataframe tbody tr th {\n",
       "        vertical-align: top;\n",
       "    }\n",
       "\n",
       "    .dataframe thead th {\n",
       "        text-align: right;\n",
       "    }\n",
       "</style>\n",
       "<table border=\"1\" class=\"dataframe\">\n",
       "  <thead>\n",
       "    <tr style=\"text-align: right;\">\n",
       "      <th></th>\n",
       "      <th>username</th>\n",
       "      <th>stats_episodes</th>\n",
       "    </tr>\n",
       "  </thead>\n",
       "  <tbody>\n",
       "    <tr>\n",
       "      <th>47808</th>\n",
       "      <td>ComfyLoli</td>\n",
       "      <td>120652</td>\n",
       "    </tr>\n",
       "    <tr>\n",
       "      <th>101868</th>\n",
       "      <td>Tsutaee</td>\n",
       "      <td>118093</td>\n",
       "    </tr>\n",
       "    <tr>\n",
       "      <th>41507</th>\n",
       "      <td>TsukasaKei</td>\n",
       "      <td>100333</td>\n",
       "    </tr>\n",
       "    <tr>\n",
       "      <th>30447</th>\n",
       "      <td>spacecowboy</td>\n",
       "      <td>93622</td>\n",
       "    </tr>\n",
       "    <tr>\n",
       "      <th>20966</th>\n",
       "      <td>Dedzapadlo</td>\n",
       "      <td>82260</td>\n",
       "    </tr>\n",
       "    <tr>\n",
       "      <th>74907</th>\n",
       "      <td>De_Baer</td>\n",
       "      <td>76422</td>\n",
       "    </tr>\n",
       "    <tr>\n",
       "      <th>62254</th>\n",
       "      <td>VincentHarkonnen</td>\n",
       "      <td>74422</td>\n",
       "    </tr>\n",
       "    <tr>\n",
       "      <th>74013</th>\n",
       "      <td>xbhrjd</td>\n",
       "      <td>74347</td>\n",
       "    </tr>\n",
       "    <tr>\n",
       "      <th>8728</th>\n",
       "      <td>dumnorix98</td>\n",
       "      <td>62347</td>\n",
       "    </tr>\n",
       "    <tr>\n",
       "      <th>17366</th>\n",
       "      <td>Loomir</td>\n",
       "      <td>61370</td>\n",
       "    </tr>\n",
       "  </tbody>\n",
       "</table>\n",
       "</div>"
      ],
      "text/plain": [
       "                username  stats_episodes\n",
       "47808          ComfyLoli          120652\n",
       "101868           Tsutaee          118093\n",
       "41507         TsukasaKei          100333\n",
       "30447        spacecowboy           93622\n",
       "20966         Dedzapadlo           82260\n",
       "74907            De_Baer           76422\n",
       "62254   VincentHarkonnen           74422\n",
       "74013             xbhrjd           74347\n",
       "8728          dumnorix98           62347\n",
       "17366             Loomir           61370"
      ]
     },
     "execution_count": 70,
     "metadata": {},
     "output_type": "execute_result"
    }
   ],
   "source": [
    "users.loc[users['stats_episodes'].nlargest(10).index][['username', 'stats_episodes']]"
   ]
  },
  {
   "cell_type": "code",
   "execution_count": 71,
   "metadata": {},
   "outputs": [
    {
     "data": {
      "text/html": [
       "<div>\n",
       "<style scoped>\n",
       "    .dataframe tbody tr th:only-of-type {\n",
       "        vertical-align: middle;\n",
       "    }\n",
       "\n",
       "    .dataframe tbody tr th {\n",
       "        vertical-align: top;\n",
       "    }\n",
       "\n",
       "    .dataframe thead th {\n",
       "        text-align: right;\n",
       "    }\n",
       "</style>\n",
       "<table border=\"1\" class=\"dataframe\">\n",
       "  <thead>\n",
       "    <tr style=\"text-align: right;\">\n",
       "      <th></th>\n",
       "      <th>username</th>\n",
       "      <th>user_id</th>\n",
       "      <th>user_watching</th>\n",
       "      <th>user_completed</th>\n",
       "      <th>user_onhold</th>\n",
       "      <th>user_dropped</th>\n",
       "      <th>user_plantowatch</th>\n",
       "      <th>user_days_spent_watching</th>\n",
       "      <th>gender</th>\n",
       "      <th>location</th>\n",
       "      <th>birth_date</th>\n",
       "      <th>access_rank</th>\n",
       "      <th>join_date</th>\n",
       "      <th>last_online</th>\n",
       "      <th>stats_mean_score</th>\n",
       "      <th>stats_rewatched</th>\n",
       "      <th>stats_episodes</th>\n",
       "    </tr>\n",
       "  </thead>\n",
       "  <tbody>\n",
       "  </tbody>\n",
       "</table>\n",
       "</div>"
      ],
      "text/plain": [
       "Empty DataFrame\n",
       "Columns: [username, user_id, user_watching, user_completed, user_onhold, user_dropped, user_plantowatch, user_days_spent_watching, gender, location, birth_date, access_rank, join_date, last_online, stats_mean_score, stats_rewatched, stats_episodes]\n",
       "Index: []"
      ]
     },
     "execution_count": 71,
     "metadata": {},
     "output_type": "execute_result"
    }
   ],
   "source": [
    "users[users['stats_episodes'] == 133457]"
   ]
  },
  {
   "cell_type": "markdown",
   "metadata": {},
   "source": [
    "## Now I have some basic filtering done and data is fixed, inspecting birth date and age"
   ]
  },
  {
   "cell_type": "code",
   "execution_count": 75,
   "metadata": {},
   "outputs": [],
   "source": [
    "users['age'] = 2018 - users['birth_date'].dt.year"
   ]
  },
  {
   "cell_type": "code",
   "execution_count": 76,
   "metadata": {},
   "outputs": [
    {
     "data": {
      "text/plain": [
       "<matplotlib.axes._subplots.AxesSubplot at 0x1c4d180e208>"
      ]
     },
     "execution_count": 76,
     "metadata": {},
     "output_type": "execute_result"
    },
    {
     "data": {
      "image/png": "[encoded data removed]",
      "text/plain": [
       "<Figure size 1152x720 with 1 Axes>"
      ]
     },
     "metadata": {},
     "output_type": "display_data"
    }
   ],
   "source": [
    "users['age'].value_counts().sort_index().plot.bar(figsize=(16, 10), title='users age')"
   ]
  },
  {
   "cell_type": "code",
   "execution_count": 77,
   "metadata": {},
   "outputs": [
    {
     "data": {
      "text/plain": [
       "<matplotlib.axes._subplots.AxesSubplot at 0x1c4d3e20f98>"
      ]
     },
     "execution_count": 77,
     "metadata": {},
     "output_type": "execute_result"
    },
    {
     "data": {
      "image/png": "[encoded data removed]",
      "text/plain": [
       "<Figure size 1152x720 with 1 Axes>"
      ]
     },
     "metadata": {},
     "output_type": "display_data"
    }
   ],
   "source": [
    "users['age'].value_counts().sort_index().plot.bar(figsize=(16, 10), title='users age', logy=True)"
   ]
  },
  {
   "cell_type": "code",
   "execution_count": 78,
   "metadata": {},
   "outputs": [
    {
     "data": {
      "text/plain": [
       "<matplotlib.axes._subplots.AxesSubplot at 0x1c4d41d6a58>"
      ]
     },
     "execution_count": 78,
     "metadata": {},
     "output_type": "execute_result"
    },
    {
     "data": {
      "image/png": "[encoded data removed]",
      "text/plain": [
       "<Figure size 1152x720 with 1 Axes>"
      ]
     },
     "metadata": {},
     "output_type": "display_data"
    }
   ],
   "source": [
    "users['birth_date'].dt.dayofyear.value_counts().sort_index().plot.bar(figsize=(16, 10), title='day of year')"
   ]
  },
  {
   "cell_type": "code",
   "execution_count": 79,
   "metadata": {},
   "outputs": [
    {
     "data": {
      "image/png": "[encoded data removed]",
      "text/plain": [
       "<Figure size 1152x720 with 2 Axes>"
      ]
     },
     "metadata": {},
     "output_type": "display_data"
    }
   ],
   "source": [
    "# this shows how people born in 1.1. are biased and thus can not be trusted\n",
    "total_count = users['age'].count()\n",
    "first_jan_count = users[users['birth_date'].dt.dayofyear == 1]['age'].count()\n",
    "plt.figure(figsize=(16, 10))\n",
    "ax = plt.gca()\n",
    "\n",
    "users_in_first_jan = users[users['birth_date'].dt.dayofyear == 1]['age'].value_counts()\n",
    "users_in_first_jan = users_in_first_jan.reindex(users['age'].value_counts().index)\n",
    "users['age'].value_counts().sort_index().plot.bar(ax=ax, title='users age all vs 1.1.', color='blue', alpha=0.5)\n",
    "users_in_first_jan.sort_index().plot.bar(ax=ax, color='red', alpha=0.5, secondary_y=True)\n",
    "#ax.set_xlim(users['age'].min(), users['age'].max())\n",
    "#plt.xticks(users['age'].value_counts().index)\n",
    "plt.show()"
   ]
  },
  {
   "cell_type": "code",
   "execution_count": 80,
   "metadata": {},
   "outputs": [],
   "source": [
    "import zodiac_sign\n",
    "import matplotlib.dates as mdates\n",
    "import matplotlib as mpl\n",
    "import datetime"
   ]
  },
  {
   "cell_type": "code",
   "execution_count": 81,
   "metadata": {},
   "outputs": [],
   "source": [
    "users['zodiac_sign'] = users['birth_date'].apply(zodiac_sign.get_zodiac_sign)"
   ]
  },
  {
   "cell_type": "code",
   "execution_count": 82,
   "metadata": {},
   "outputs": [
    {
     "data": {
      "text/plain": [
       "(array([ 0,  1,  2,  3,  4,  5,  6,  7,  8,  9, 10, 11]),\n",
       " <a list of 12 Text xticklabel objects>)"
      ]
     },
     "execution_count": 82,
     "metadata": {},
     "output_type": "execute_result"
    },
    {
     "data": {
      "image/png": "[encoded data removed]",
      "text/plain": [
       "<Figure size 1152x720 with 1 Axes>"
      ]
     },
     "metadata": {},
     "output_type": "display_data"
    }
   ],
   "source": [
    "users['zodiac_sign'].value_counts().sort_index().plot.bar(figsize=(16, 10), title='Zodiac sign')\n",
    "plt.xticks(rotation=0)"
   ]
  },
  {
   "cell_type": "code",
   "execution_count": 128,
   "metadata": {},
   "outputs": [
    {
     "data": {
      "image/png": "[encoded data removed]",
      "text/plain": [
       "<Figure size 1600x1000 with 1 Axes>"
      ]
     },
     "metadata": {},
     "output_type": "display_data"
    }
   ],
   "source": [
    "# česky:\n",
    "en_cz_zodiac = {\n",
    "    'Aries': 'Beran',\n",
    "    'Taurus': 'Býk',\n",
    "    'Gemini': 'Blíženci',\n",
    "    'Cancer': 'Rak',\n",
    "    'Leo': 'Lev',\n",
    "    'Virgo': 'Panna',\n",
    "    'Libra': 'Váhy',\n",
    "    'Scorpio': 'Štír',\n",
    "    'Sagittarius': 'Střelec',\n",
    "    'Capricorn': 'Kozoroh',\n",
    "    'Aquarius': 'Vodnář',\n",
    "    'Pisces': 'Ryby',\n",
    "}\n",
    "\n",
    "time_ordered_zodiac = ['Kozoroh', 'Vodnář', 'Ryby', 'Beran', 'Býk', 'Blíženci', 'Rak', 'Lev', 'Panna', 'Váhy', 'Štír', 'Střelec']\n",
    "users['zodiac_sign'].apply(lambda x: en_cz_zodiac[x]).value_counts().reindex(time_ordered_zodiac).plot.bar(figsize=(16, 10), title='Znamení zvěrokruhu')\n",
    "plt.xticks(rotation=0)\n",
    "plt.savefig('graphs/znameni-zverokruhu-2.png', bbox_inches=\"tight\")\n",
    "# todo: seřadit zvěrokruh podle data, ne podle abecedy\n",
    "# todo 2: dodat ke všem grafům grid"
   ]
  },
  {
   "cell_type": "code",
   "execution_count": 129,
   "metadata": {},
   "outputs": [
    {
     "data": {
      "text/plain": [
       "<matplotlib.axes._subplots.AxesSubplot at 0x1c4d213f208>"
      ]
     },
     "execution_count": 129,
     "metadata": {},
     "output_type": "execute_result"
    },
    {
     "data": {
      "image/png": "[encoded data removed]",
      "text/plain": [
       "<Figure size 1600x1000 with 1 Axes>"
      ]
     },
     "metadata": {},
     "output_type": "display_data"
    }
   ],
   "source": [
    "users['zodiac_sign'].value_counts().sort_index().plot.pie(figsize=(16, 10), title='Zodiac sign') "
   ]
  },
  {
   "cell_type": "code",
   "execution_count": 118,
   "metadata": {},
   "outputs": [
    {
     "data": {
      "text/plain": [
       "((22, 12), (19, 1))"
      ]
     },
     "execution_count": 118,
     "metadata": {},
     "output_type": "execute_result"
    }
   ],
   "source": [
    "capricorn_idx = [(index, name) for index, name in zodiac_sign.en_dict if name == 'Capricorn'][0][0]\n",
    "capri_r = zodiac_sign.sign_dates[capricorn_idx]\n",
    "capri_r"
   ]
  },
  {
   "cell_type": "code",
   "execution_count": 119,
   "metadata": {},
   "outputs": [
    {
     "data": {
      "image/png": "[encoded data removed]",
      "text/plain": [
       "<Figure size 1600x1000 with 1 Axes>"
      ]
     },
     "metadata": {},
     "output_type": "display_data"
    }
   ],
   "source": [
    "capri_range_condition = ((users['birth_date'].dt.day >= capri_r[0][0]) & (users['birth_date'].dt.month >= capri_r[0][1])) | ((users['birth_date'].dt.day <=capri_r[1][0]) & (users['birth_date'].dt.month <=capri_r[1][1]))\n",
    "plt.figure(figsize=(16, 10))\n",
    "#capri_days = users[capri_range_condition]['birth_date'].dt.dayofyear.value_counts()\n",
    "capri_days = users[capri_range_condition].groupby([(users['birth_date'].dt.month),(users['birth_date'].dt.day)]).agg('count') ['birth_date']\n",
    "capri_days_2 = capri_days.rename(index={12: 0}, level=0).sort_index()\n",
    "capri_days_2.plot.bar(ax=plt.gca(), title='day of year')\n",
    "#plt.gca().xaxis.set_major_formatter(mdates.DateFormatter('%m-%d'))\n",
    "plt.gca().get_xaxis().set_major_formatter(\n",
    "    mpl.ticker.FuncFormatter(lambda x, p: '{}.{}.'.format(capri_days_2.index[x][0] if capri_days_2.index[x][0] == 1 else 12, capri_days_2.index[x][1])))\n",
    "plt.show()"
   ]
  },
  {
   "cell_type": "code",
   "execution_count": 130,
   "metadata": {},
   "outputs": [
    {
     "data": {
      "image/png": "[encoded data removed]",
      "text/plain": [
       "<Figure size 1600x1000 with 1 Axes>"
      ]
     },
     "metadata": {},
     "output_type": "display_data"
    }
   ],
   "source": [
    "plt.figure(figsize=(16, 10))\n",
    "capri_days_2.plot.bar(ax=plt.gca(), title='Kozoroh-den v roce')\n",
    "plt.gca().get_xaxis().set_major_formatter(\n",
    "    mpl.ticker.FuncFormatter(lambda x, p: '{}.{}.'.format(capri_days_2.index[x][0] if capri_days_2.index[x][0] == 1 else 12, capri_days_2.index[x][1])))\n",
    "plt.xlabel('datum narození')\n",
    "plt.savefig('graphs/zverokruh-dny', bbox_inches=\"tight\")"
   ]
  },
  {
   "cell_type": "code",
   "execution_count": null,
   "metadata": {},
   "outputs": [],
   "source": [
    "# nyní bez 1.1.\n",
    "users[users['birth_date'].dt.dayofyear != 1]['zodiac_sign'].apply(lambda x: en_cz_zodiac[x]).value_counts().sort_index().plot.bar(figsize=(16, 10), title='Znamení zvěrokruhu')\n",
    "plt.xticks(rotation=0)"
   ]
  },
  {
   "cell_type": "markdown",
   "metadata": {},
   "source": [
    "## now I'll be filtering out all people with too litle watch time"
   ]
  },
  {
   "cell_type": "code",
   "execution_count": null,
   "metadata": {},
   "outputs": [],
   "source": [
    "print('users with less than hour watching: ', (users['user_days_spent_watching'] <= 1/2).sum())  # 4 hours"
   ]
  },
  {
   "cell_type": "code",
   "execution_count": null,
   "metadata": {},
   "outputs": [],
   "source": [
    "users['birth_date'].dt.dayofyear.value_counts().sort_index().plot.bar(figsize=(16, 10), title='day of year', color='blue', alpha=0.5)\n",
    "users[users['user_days_spent_watching'] > 1/6]['birth_date'].dt.dayofyear.value_counts().sort_index().plot.bar(figsize=(16, 10), color='red', alpha=0.5)\n"
   ]
  },
  {
   "cell_type": "code",
   "execution_count": null,
   "metadata": {},
   "outputs": [],
   "source": [
    "users[users['user_days_spent_watching'] <= 1/2]['birth_date'].dt.dayofyear.value_counts().sort_index().plot.bar(figsize=(16, 10))"
   ]
  },
  {
   "cell_type": "code",
   "execution_count": null,
   "metadata": {},
   "outputs": [],
   "source": [
    "users_too_few_watch = users[users['user_days_spent_watching'] <= 1/2]['age'].value_counts()\n",
    "users_too_few_watch = users_too_few_watch.reindex(users['age'].value_counts().index)\n",
    "users['age'].value_counts().sort_index().plot.bar(figsize=(16, 10), color='blue', alpha=0.5)\n",
    "users_too_few_watch.sort_index().plot.bar(figsize=(16, 10), color='red', alpha=0.5, secondary_y=True)"
   ]
  },
  {
   "cell_type": "code",
   "execution_count": null,
   "metadata": {},
   "outputs": [],
   "source": [
    "users['user_days_spent_watching'].hist(bins=1000, figsize=(16, 8))\n",
    "plt.gca().set_yscale('log')"
   ]
  },
  {
   "cell_type": "code",
   "execution_count": null,
   "metadata": {},
   "outputs": [],
   "source": [
    "users['stats_episodes'].hist(bins=500, figsize=(16, 8))\n",
    "plt.gca().set_yscale('log')"
   ]
  },
  {
   "cell_type": "code",
   "execution_count": null,
   "metadata": {},
   "outputs": [],
   "source": [
    "# filtering\n",
    "users = users[users['user_days_spent_watching'] > 1/2]"
   ]
  },
  {
   "cell_type": "code",
   "execution_count": null,
   "metadata": {},
   "outputs": [],
   "source": [
    "users['user_days_spent_watching'].hist(bins=1000, figsize=(16, 8))\n",
    "plt.gca().set_yscale('log')"
   ]
  },
  {
   "cell_type": "code",
   "execution_count": null,
   "metadata": {},
   "outputs": [],
   "source": [
    "users['stats_episodes'].hist(bins=500, figsize=(16, 8))\n",
    "plt.gca().set_yscale('log')"
   ]
  },
  {
   "cell_type": "markdown",
   "metadata": {},
   "source": [
    "## filtering by age"
   ]
  },
  {
   "cell_type": "code",
   "execution_count": null,
   "metadata": {},
   "outputs": [],
   "source": [
    "users['age'].value_counts().sort_index().plot.bar(figsize=(16, 10))"
   ]
  },
  {
   "cell_type": "code",
   "execution_count": null,
   "metadata": {},
   "outputs": [],
   "source": [
    "users = users[(users['age'] > 9) & (users['age'] < 50)]"
   ]
  },
  {
   "cell_type": "code",
   "execution_count": null,
   "metadata": {},
   "outputs": [],
   "source": [
    "users['age'].value_counts().sort_index().plot.bar(figsize=(16, 10))"
   ]
  },
  {
   "cell_type": "code",
   "execution_count": null,
   "metadata": {},
   "outputs": [],
   "source": [
    "users['user_days_spent_watching'].hist(bins=1000, figsize=(16, 8))\n",
    "plt.gca().set_yscale('log')"
   ]
  },
  {
   "cell_type": "code",
   "execution_count": null,
   "metadata": {},
   "outputs": [],
   "source": [
    "users['stats_episodes'].hist(bins=500, figsize=(16, 8))\n",
    "plt.gca().set_yscale('log')"
   ]
  },
  {
   "cell_type": "code",
   "execution_count": null,
   "metadata": {},
   "outputs": [],
   "source": [
    "users['birth_date'].dt.dayofyear.value_counts().sort_index().plot.bar(figsize=(16, 10), title='day of year')"
   ]
  },
  {
   "cell_type": "code",
   "execution_count": null,
   "metadata": {},
   "outputs": [],
   "source": [
    "# filtering users born in 1.1., too many false people here\n",
    "users = users[users['birth_date'].dt.dayofyear != 1]"
   ]
  },
  {
   "cell_type": "code",
   "execution_count": null,
   "metadata": {},
   "outputs": [],
   "source": [
    "users['birth_date'].dt.dayofyear.value_counts().sort_index().plot.bar(figsize=(16, 10), title='day of year')"
   ]
  },
  {
   "cell_type": "code",
   "execution_count": null,
   "metadata": {},
   "outputs": [],
   "source": [
    "users['age'].value_counts().sort_index().plot.bar(figsize=(16, 10))"
   ]
  },
  {
   "cell_type": "code",
   "execution_count": null,
   "metadata": {},
   "outputs": [],
   "source": [
    "users['user_days_spent_watching'].hist(bins=1000, figsize=(16, 8))\n",
    "plt.gca().set_yscale('log')"
   ]
  },
  {
   "cell_type": "code",
   "execution_count": null,
   "metadata": {},
   "outputs": [],
   "source": [
    "users['stats_episodes'].hist(bins=500, figsize=(16, 8))\n",
    "plt.gca().set_yscale('log')"
   ]
  },
  {
   "cell_type": "code",
   "execution_count": null,
   "metadata": {},
   "outputs": [],
   "source": [
    "users.head()"
   ]
  },
  {
   "cell_type": "code",
   "execution_count": null,
   "metadata": {},
   "outputs": [],
   "source": [
    "users = users.drop(['zodiac_sign'], axis=1)\n",
    "users = users.drop(['age'], axis=1)  # everyone can easily calculate this column, so there is no need to keep it"
   ]
  },
  {
   "cell_type": "code",
   "execution_count": null,
   "metadata": {},
   "outputs": [],
   "source": [
    "# showing scatterplot before and after dropping few users with very large animelists\n",
    "sns.pairplot(users[['user_days_spent_watching',\n",
    "       'gender', 'birth_date', 'join_date',\n",
    "       'last_online', 'stats_episodes']], hue='gender')"
   ]
  },
  {
   "cell_type": "code",
   "execution_count": null,
   "metadata": {},
   "outputs": [],
   "source": [
    "print('going to delete {} users with 70k episodes or more, there is too few of them and they mess with graphs'.format((users['stats_episodes'] >= 70000).sum()))\n",
    "users_small = users[users['stats_episodes'] < 70000]"
   ]
  },
  {
   "cell_type": "code",
   "execution_count": null,
   "metadata": {},
   "outputs": [],
   "source": [
    "# showing scatterplot after and after dropping few users with very large animelists\n",
    "sns.pairplot(users_small[['user_days_spent_watching',\n",
    "       'gender', 'birth_date', 'join_date',\n",
    "       'last_online', 'stats_episodes']], hue='gender')"
   ]
  },
  {
   "cell_type": "code",
   "execution_count": null,
   "metadata": {},
   "outputs": [],
   "source": [
    "users = users_small"
   ]
  },
  {
   "cell_type": "code",
   "execution_count": null,
   "metadata": {},
   "outputs": [],
   "source": [
    "users.head()"
   ]
  },
  {
   "cell_type": "code",
   "execution_count": null,
   "metadata": {},
   "outputs": [],
   "source": [
    "users.describe()"
   ]
  },
  {
   "cell_type": "code",
   "execution_count": null,
   "metadata": {},
   "outputs": [],
   "source": [
    "# clearing animelists according to dropped users\n",
    "animelists_smaller = pd.merge(animelists, users, on='username', how='right')\n",
    "animelists_smaller.describe()"
   ]
  },
  {
   "cell_type": "code",
   "execution_count": null,
   "metadata": {},
   "outputs": [],
   "source": [
    "animelists.describe()"
   ]
  },
  {
   "cell_type": "code",
   "execution_count": null,
   "metadata": {},
   "outputs": [],
   "source": [
    "animelists.head()"
   ]
  },
  {
   "cell_type": "code",
   "execution_count": null,
   "metadata": {},
   "outputs": [],
   "source": [
    "print('unique anime before filtering: ', animelists['anime_id'].unique().shape)\n",
    "print('unique anime after filtering: ', animelists_smaller['anime_id'].unique().shape)"
   ]
  },
  {
   "cell_type": "code",
   "execution_count": null,
   "metadata": {},
   "outputs": [],
   "source": [
    "# now replacing data with cleaned animelists, using only columns before merge\n",
    "animelists = animelists_smaller[animelists.columns]"
   ]
  },
  {
   "cell_type": "code",
   "execution_count": null,
   "metadata": {},
   "outputs": [],
   "source": [
    "animes = animes[animes['anime_id'].isin(animelists_smaller['anime_id'].unique())]"
   ]
  },
  {
   "cell_type": "code",
   "execution_count": null,
   "metadata": {},
   "outputs": [],
   "source": [
    "animes.describe()"
   ]
  },
  {
   "cell_type": "markdown",
   "metadata": {},
   "source": [
    "### Filtering anime with lots of missing info"
   ]
  },
  {
   "cell_type": "code",
   "execution_count": null,
   "metadata": {},
   "outputs": [],
   "source": [
    "animes['source'].value_counts().sort_index().plot.bar(figsize=(16, 10), title='anime sources')"
   ]
  },
  {
   "cell_type": "code",
   "execution_count": null,
   "metadata": {},
   "outputs": [],
   "source": [
    "# now dropping anime with unknown studio and unkown source\n",
    "delete_filter = (animes['source'] == 'Unknown')\n",
    "animes_to_delete = animes[delete_filter]\n",
    "animes_to_remain = animes[~(delete_filter)]\n",
    "anime_ids_to_delete = animes_to_delete['anime_id']\n",
    "print('anime to delete: ', animes_to_delete.shape)"
   ]
  },
  {
   "cell_type": "code",
   "execution_count": null,
   "metadata": {},
   "outputs": [],
   "source": [
    "# now with unkown source\n",
    "delete_filter = (animes['source'] == 'Unknown') | (animes['studio'].isnull())\n",
    "animes_to_delete = animes[delete_filter]\n",
    "animes_to_remain = animes[~(delete_filter)]\n",
    "anime_ids_to_delete = animes_to_delete['anime_id']\n",
    "print('anime to delete: ', animes_to_delete.shape)"
   ]
  },
  {
   "cell_type": "code",
   "execution_count": null,
   "metadata": {},
   "outputs": [],
   "source": [
    "# now not aired anime, because I don't care about them\n",
    "delete_filter = delete_filter | ((animes['status'] == 'Not yet aired'))\n",
    "animes_to_delete = animes[delete_filter]\n",
    "animes_to_remain = animes[~(delete_filter)]\n",
    "anime_ids_to_delete = animes_to_delete['anime_id']\n",
    "print('anime to delete: ', animes_to_delete.shape)"
   ]
  },
  {
   "cell_type": "code",
   "execution_count": null,
   "metadata": {},
   "outputs": [],
   "source": [
    "# I need year of airing start, so I will be filtering all anime without that\n",
    "animes['aired_from_year'] = pd.to_datetime(animes['aired'].apply(lambda x: ast.literal_eval(x.replace('\\'', '\"'))['from']), errors='coerce').dt.year\n",
    "print('animes without aired json info', animes[~(delete_filter) & animes['aired_from_year'].isnull()].shape)"
   ]
  },
  {
   "cell_type": "code",
   "execution_count": null,
   "metadata": {},
   "outputs": [],
   "source": [
    "animes[~(delete_filter) & animes['aired_from_year'].isnull()][['anime_id', 'title', 'type', 'source', 'status', 'genre', 'aired_string', 'aired', 'aired_from_year', 'popularity', 'rating', 'rank']]"
   ]
  },
  {
   "cell_type": "code",
   "execution_count": null,
   "metadata": {},
   "outputs": [],
   "source": [
    "# now, for anime with airing year in aired_string column, I use that year to fill aired_from_year\n",
    "years_from_string = animes['aired_string'].str.extract(r'(\\d{4})')\n",
    "animes.loc[animes['aired_from_year'].isnull(), 'aired_from_year'] = years_from_string[animes['aired_from_year'].isnull()]\n",
    "# after that, I have finally airing year of all anime which were not filtered out"
   ]
  },
  {
   "cell_type": "code",
   "execution_count": null,
   "metadata": {},
   "outputs": [],
   "source": [
    "delete_filter = delete_filter | ((animes['aired_string'] == 'Not available'))\n",
    "animes_to_delete = animes[delete_filter]\n",
    "animes_to_remain = animes[~(delete_filter)]\n",
    "anime_ids_to_delete = animes_to_delete['anime_id']\n",
    "print('anime to delete: ', animes_to_delete.shape)"
   ]
  },
  {
   "cell_type": "code",
   "execution_count": null,
   "metadata": {},
   "outputs": [],
   "source": [
    "animes[~(delete_filter) & animes['aired_from_year'].isnull()][['anime_id', 'title', 'type', 'source', 'status', 'genre', 'aired_string', 'aired', 'aired_from_year', 'popularity', 'rating', 'rank']]"
   ]
  },
  {
   "cell_type": "code",
   "execution_count": null,
   "metadata": {},
   "outputs": [],
   "source": [
    "animes.columns"
   ]
  },
  {
   "cell_type": "code",
   "execution_count": null,
   "metadata": {},
   "outputs": [],
   "source": [
    "animes.loc[76]"
   ]
  },
  {
   "cell_type": "code",
   "execution_count": null,
   "metadata": {},
   "outputs": [],
   "source": [
    "animes['aired_string'].value_counts()"
   ]
  },
  {
   "cell_type": "code",
   "execution_count": null,
   "metadata": {},
   "outputs": [],
   "source": [
    "animes_to_remain['rating'].value_counts().sort_index().plot.bar(figsize=(16, 10), title='anime ranks', color='blue', alpha=0.5)\n",
    "animes_to_delete['rating'].value_counts().sort_index().plot.bar(figsize=(16, 10), title='anime ranks', color='red', alpha=0.5, secondary_y=True)\n"
   ]
  },
  {
   "cell_type": "code",
   "execution_count": null,
   "metadata": {},
   "outputs": [],
   "source": [
    "animes_to_remain['genre'].fillna('', inplace=True)\n",
    "animes_genres_to_remain = animes_to_remain['genre'].apply(lambda x: x.replace(' ', ''))\n",
    "genres_to_remain = animes_to_remain['genre'].apply(lambda x: x.replace(' ', '').split(','))\n",
    "genres_to_remain = pd.Series([y for x in genres_to_remain for y in x if y != '']).value_counts()\n",
    "genres_occurence_to_remain = pd.Series({genre: (animes_genres_to_remain.str.contains(genre)).sum() for genre in genres_to_remain.index})\n",
    "genres_occurence_to_remain.plot(kind='bar', figsize=(16, 10), color='blue', alpha=0.5)\n",
    "\n",
    "animes_to_delete['genre'].fillna('', inplace=True)\n",
    "animes_genres_to_delete = animes_to_delete['genre'].apply(lambda x: x.replace(' ', ''))\n",
    "genres_to_delete = animes_to_delete['genre'].apply(lambda x: x.replace(' ', '').split(','))\n",
    "genres_to_delete = pd.Series([y for x in genres_to_delete for y in x if y != '']).value_counts()\n",
    "genres_occurence_to_delete = pd.Series({genre: (animes_genres_to_delete.str.contains(genre)).sum() for genre in genres_to_delete.index})\n",
    "genres_occurence_to_delete.plot(kind='bar', figsize=(16, 10), color='red', alpha=0.5, secondary_y=True)\n"
   ]
  },
  {
   "cell_type": "code",
   "execution_count": null,
   "metadata": {},
   "outputs": [],
   "source": [
    "animes = animes_to_remain"
   ]
  },
  {
   "cell_type": "code",
   "execution_count": null,
   "metadata": {},
   "outputs": [],
   "source": [
    "animelists[animelists['anime_id'].isin(anime_ids_to_delete)].shape"
   ]
  },
  {
   "cell_type": "code",
   "execution_count": null,
   "metadata": {},
   "outputs": [],
   "source": [
    "animelists = animelists[~animelists['anime_id'].isin(anime_ids_to_delete)]"
   ]
  },
  {
   "cell_type": "code",
   "execution_count": null,
   "metadata": {},
   "outputs": [],
   "source": [
    "animelists.shape"
   ]
  },
  {
   "cell_type": "code",
   "execution_count": null,
   "metadata": {},
   "outputs": [],
   "source": [
    "animelists.describe()"
   ]
  },
  {
   "cell_type": "code",
   "execution_count": null,
   "metadata": {},
   "outputs": [],
   "source": [
    "animes.describe()"
   ]
  },
  {
   "cell_type": "code",
   "execution_count": null,
   "metadata": {},
   "outputs": [],
   "source": [
    "animelists['username'].unique().shape\n",
    "# no users rated only these truncated anime, so no need to clear users now"
   ]
  },
  {
   "cell_type": "code",
   "execution_count": null,
   "metadata": {},
   "outputs": [],
   "source": [
    "animes[animes['aired_from_year'].isnull()][['aired_string', 'aired_from_year']]"
   ]
  },
  {
   "cell_type": "code",
   "execution_count": null,
   "metadata": {},
   "outputs": [],
   "source": [
    "#animes.to_csv('anime_cleaned.csv', index=False, sep=',', encoding='utf-8')\n",
    "#users.to_csv('users_cleaned.csv', index=False, sep=',', encoding='utf-8')\n",
    "#animelists.to_csv('animelists_cleaned.csv', index=False, sep=',', encoding='utf-8')"
   ]
  },
  {
   "cell_type": "code",
   "execution_count": null,
   "metadata": {},
   "outputs": [],
   "source": []
  }
 ],
 "metadata": {
  "kernelspec": {
   "display_name": "Python 3",
   "language": "python",
   "name": "python3"
  },
  "language_info": {
   "codemirror_mode": {
    "name": "ipython",
    "version": 3
   },
   "file_extension": ".py",
   "mimetype": "text/x-python",
   "name": "python",
   "nbconvert_exporter": "python",
   "pygments_lexer": "ipython3",
   "version": "3.6.8"
  },
  "pycharm": {
   "stem_cell": {
    "cell_type": "raw",
    "metadata": {
     "collapsed": false
    },
    "source": []
   }
  },
  "varInspector": {
   "cols": {
    "lenName": 16,
    "lenType": 16,
    "lenVar": 40
   },
   "kernels_config": {
    "python": {
     "delete_cmd_postfix": "",
     "delete_cmd_prefix": "del ",
     "library": "var_list.py",
     "varRefreshCmd": "print(var_dic_list())"
    },
    "r": {
     "delete_cmd_postfix": ") ",
     "delete_cmd_prefix": "rm(",
     "library": "var_list.r",
     "varRefreshCmd": "cat(var_dic_list()) "
    }
   },
   "oldHeight": 419,
   "position": {
    "height": "441px",
    "left": "2029px",
    "right": "20px",
    "top": "119px",
    "width": "507px"
   },
   "types_to_exclude": [
    "module",
    "function",
    "builtin_function_or_method",
    "instance",
    "_Feature"
   ],
   "varInspector_section_display": "block",
   "window_display": true
  }
 },
 "nbformat": 4,
 "nbformat_minor": 2
}
